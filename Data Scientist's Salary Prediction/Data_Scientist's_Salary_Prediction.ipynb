{
  "nbformat": 4,
  "nbformat_minor": 0,
  "metadata": {
    "colab": {
      "name": "Data Scientist's Salary Prediction.ipynb",
      "provenance": []
    },
    "kernelspec": {
      "name": "python3",
      "display_name": "Python 3"
    }
  },
  "cells": [
    {
      "cell_type": "code",
      "metadata": {
        "id": "GQ_q8hMGC8Sn",
        "colab_type": "code",
        "colab": {
          "base_uri": "https://localhost:8080/",
          "height": 74
        },
        "outputId": "9621349d-e594-40bc-d388-ab9e41bb5d10"
      },
      "source": [
        "#import essential library\n",
        "import pandas as pd\n",
        "import numpy as np\n",
        "import seaborn as sns\n",
        "import sklearn\n",
        "import matplotlib.pyplot as plt"
      ],
      "execution_count": 1,
      "outputs": [
        {
          "output_type": "stream",
          "text": [
            "/usr/local/lib/python3.6/dist-packages/statsmodels/tools/_testing.py:19: FutureWarning: pandas.util.testing is deprecated. Use the functions in the public API at pandas.testing instead.\n",
            "  import pandas.util.testing as tm\n"
          ],
          "name": "stderr"
        }
      ]
    },
    {
      "cell_type": "markdown",
      "metadata": {
        "id": "2RnWyKXzEXHn",
        "colab_type": "text"
      },
      "source": [
        "#Exploring the Data set"
      ]
    },
    {
      "cell_type": "code",
      "metadata": {
        "id": "ed7TZLIYDfck",
        "colab_type": "code",
        "colab": {}
      },
      "source": [
        "df = pd.read_csv(\"/content/drive/My Drive/glassdoor_jobs.csv\")"
      ],
      "execution_count": 2,
      "outputs": []
    },
    {
      "cell_type": "code",
      "metadata": {
        "id": "E_imvFwdDoGT",
        "colab_type": "code",
        "colab": {
          "base_uri": "https://localhost:8080/",
          "height": 521
        },
        "outputId": "87054082-b551-455f-e3b0-835502c1fca0"
      },
      "source": [
        "df.head()"
      ],
      "execution_count": 3,
      "outputs": [
        {
          "output_type": "execute_result",
          "data": {
            "text/html": [
              "<div>\n",
              "<style scoped>\n",
              "    .dataframe tbody tr th:only-of-type {\n",
              "        vertical-align: middle;\n",
              "    }\n",
              "\n",
              "    .dataframe tbody tr th {\n",
              "        vertical-align: top;\n",
              "    }\n",
              "\n",
              "    .dataframe thead th {\n",
              "        text-align: right;\n",
              "    }\n",
              "</style>\n",
              "<table border=\"1\" class=\"dataframe\">\n",
              "  <thead>\n",
              "    <tr style=\"text-align: right;\">\n",
              "      <th></th>\n",
              "      <th>Unnamed: 0</th>\n",
              "      <th>Job Title</th>\n",
              "      <th>Salary Estimate</th>\n",
              "      <th>Job Description</th>\n",
              "      <th>Rating</th>\n",
              "      <th>Company Name</th>\n",
              "      <th>Location</th>\n",
              "      <th>Headquarters</th>\n",
              "      <th>Size</th>\n",
              "      <th>Founded</th>\n",
              "      <th>Type of ownership</th>\n",
              "      <th>Industry</th>\n",
              "      <th>Sector</th>\n",
              "      <th>Revenue</th>\n",
              "      <th>Competitors</th>\n",
              "    </tr>\n",
              "  </thead>\n",
              "  <tbody>\n",
              "    <tr>\n",
              "      <th>0</th>\n",
              "      <td>0</td>\n",
              "      <td>Data Scientist</td>\n",
              "      <td>$53K-$91K (Glassdoor est.)</td>\n",
              "      <td>Data Scientist\\nLocation: Albuquerque, NM\\nEdu...</td>\n",
              "      <td>3.8</td>\n",
              "      <td>Tecolote Research\\n3.8</td>\n",
              "      <td>Albuquerque, NM</td>\n",
              "      <td>Goleta, CA</td>\n",
              "      <td>501 to 1000 employees</td>\n",
              "      <td>1973</td>\n",
              "      <td>Company - Private</td>\n",
              "      <td>Aerospace &amp; Defense</td>\n",
              "      <td>Aerospace &amp; Defense</td>\n",
              "      <td>$50 to $100 million (USD)</td>\n",
              "      <td>-1</td>\n",
              "    </tr>\n",
              "    <tr>\n",
              "      <th>1</th>\n",
              "      <td>1</td>\n",
              "      <td>Healthcare Data Scientist</td>\n",
              "      <td>$63K-$112K (Glassdoor est.)</td>\n",
              "      <td>What You Will Do:\\n\\nI. General Summary\\n\\nThe...</td>\n",
              "      <td>3.4</td>\n",
              "      <td>University of Maryland Medical System\\n3.4</td>\n",
              "      <td>Linthicum, MD</td>\n",
              "      <td>Baltimore, MD</td>\n",
              "      <td>10000+ employees</td>\n",
              "      <td>1984</td>\n",
              "      <td>Other Organization</td>\n",
              "      <td>Health Care Services &amp; Hospitals</td>\n",
              "      <td>Health Care</td>\n",
              "      <td>$2 to $5 billion (USD)</td>\n",
              "      <td>-1</td>\n",
              "    </tr>\n",
              "    <tr>\n",
              "      <th>2</th>\n",
              "      <td>2</td>\n",
              "      <td>Data Scientist</td>\n",
              "      <td>$80K-$90K (Glassdoor est.)</td>\n",
              "      <td>KnowBe4, Inc. is a high growth information sec...</td>\n",
              "      <td>4.8</td>\n",
              "      <td>KnowBe4\\n4.8</td>\n",
              "      <td>Clearwater, FL</td>\n",
              "      <td>Clearwater, FL</td>\n",
              "      <td>501 to 1000 employees</td>\n",
              "      <td>2010</td>\n",
              "      <td>Company - Private</td>\n",
              "      <td>Security Services</td>\n",
              "      <td>Business Services</td>\n",
              "      <td>$100 to $500 million (USD)</td>\n",
              "      <td>-1</td>\n",
              "    </tr>\n",
              "    <tr>\n",
              "      <th>3</th>\n",
              "      <td>3</td>\n",
              "      <td>Data Scientist</td>\n",
              "      <td>$56K-$97K (Glassdoor est.)</td>\n",
              "      <td>*Organization and Job ID**\\nJob ID: 310709\\n\\n...</td>\n",
              "      <td>3.8</td>\n",
              "      <td>PNNL\\n3.8</td>\n",
              "      <td>Richland, WA</td>\n",
              "      <td>Richland, WA</td>\n",
              "      <td>1001 to 5000 employees</td>\n",
              "      <td>1965</td>\n",
              "      <td>Government</td>\n",
              "      <td>Energy</td>\n",
              "      <td>Oil, Gas, Energy &amp; Utilities</td>\n",
              "      <td>$500 million to $1 billion (USD)</td>\n",
              "      <td>Oak Ridge National Laboratory, National Renewa...</td>\n",
              "    </tr>\n",
              "    <tr>\n",
              "      <th>4</th>\n",
              "      <td>4</td>\n",
              "      <td>Data Scientist</td>\n",
              "      <td>$86K-$143K (Glassdoor est.)</td>\n",
              "      <td>Data Scientist\\nAffinity Solutions / Marketing...</td>\n",
              "      <td>2.9</td>\n",
              "      <td>Affinity Solutions\\n2.9</td>\n",
              "      <td>New York, NY</td>\n",
              "      <td>New York, NY</td>\n",
              "      <td>51 to 200 employees</td>\n",
              "      <td>1998</td>\n",
              "      <td>Company - Private</td>\n",
              "      <td>Advertising &amp; Marketing</td>\n",
              "      <td>Business Services</td>\n",
              "      <td>Unknown / Non-Applicable</td>\n",
              "      <td>Commerce Signals, Cardlytics, Yodlee</td>\n",
              "    </tr>\n",
              "  </tbody>\n",
              "</table>\n",
              "</div>"
            ],
            "text/plain": [
              "   Unnamed: 0  ...                                        Competitors\n",
              "0           0  ...                                                 -1\n",
              "1           1  ...                                                 -1\n",
              "2           2  ...                                                 -1\n",
              "3           3  ...  Oak Ridge National Laboratory, National Renewa...\n",
              "4           4  ...               Commerce Signals, Cardlytics, Yodlee\n",
              "\n",
              "[5 rows x 15 columns]"
            ]
          },
          "metadata": {
            "tags": []
          },
          "execution_count": 3
        }
      ]
    },
    {
      "cell_type": "code",
      "metadata": {
        "id": "jrDJsyLhDxa4",
        "colab_type": "code",
        "colab": {
          "base_uri": "https://localhost:8080/",
          "height": 556
        },
        "outputId": "3434216e-2ed2-40fa-deb6-2674b6e45b5c"
      },
      "source": [
        "df.tail()"
      ],
      "execution_count": 4,
      "outputs": [
        {
          "output_type": "execute_result",
          "data": {
            "text/html": [
              "<div>\n",
              "<style scoped>\n",
              "    .dataframe tbody tr th:only-of-type {\n",
              "        vertical-align: middle;\n",
              "    }\n",
              "\n",
              "    .dataframe tbody tr th {\n",
              "        vertical-align: top;\n",
              "    }\n",
              "\n",
              "    .dataframe thead th {\n",
              "        text-align: right;\n",
              "    }\n",
              "</style>\n",
              "<table border=\"1\" class=\"dataframe\">\n",
              "  <thead>\n",
              "    <tr style=\"text-align: right;\">\n",
              "      <th></th>\n",
              "      <th>Unnamed: 0</th>\n",
              "      <th>Job Title</th>\n",
              "      <th>Salary Estimate</th>\n",
              "      <th>Job Description</th>\n",
              "      <th>Rating</th>\n",
              "      <th>Company Name</th>\n",
              "      <th>Location</th>\n",
              "      <th>Headquarters</th>\n",
              "      <th>Size</th>\n",
              "      <th>Founded</th>\n",
              "      <th>Type of ownership</th>\n",
              "      <th>Industry</th>\n",
              "      <th>Sector</th>\n",
              "      <th>Revenue</th>\n",
              "      <th>Competitors</th>\n",
              "    </tr>\n",
              "  </thead>\n",
              "  <tbody>\n",
              "    <tr>\n",
              "      <th>951</th>\n",
              "      <td>951</td>\n",
              "      <td>Senior Data Engineer</td>\n",
              "      <td>$72K-$133K (Glassdoor est.)</td>\n",
              "      <td>THE CHALLENGE\\nEventbrite has a world-class da...</td>\n",
              "      <td>4.4</td>\n",
              "      <td>Eventbrite\\n4.4</td>\n",
              "      <td>Nashville, TN</td>\n",
              "      <td>San Francisco, CA</td>\n",
              "      <td>1001 to 5000 employees</td>\n",
              "      <td>2006</td>\n",
              "      <td>Company - Public</td>\n",
              "      <td>Internet</td>\n",
              "      <td>Information Technology</td>\n",
              "      <td>$100 to $500 million (USD)</td>\n",
              "      <td>See Tickets, TicketWeb, Vendini</td>\n",
              "    </tr>\n",
              "    <tr>\n",
              "      <th>952</th>\n",
              "      <td>952</td>\n",
              "      <td>Project Scientist - Auton Lab, Robotics Institute</td>\n",
              "      <td>$56K-$91K (Glassdoor est.)</td>\n",
              "      <td>The Auton Lab at Carnegie Mellon University is...</td>\n",
              "      <td>2.6</td>\n",
              "      <td>Software Engineering Institute\\n2.6</td>\n",
              "      <td>Pittsburgh, PA</td>\n",
              "      <td>Pittsburgh, PA</td>\n",
              "      <td>501 to 1000 employees</td>\n",
              "      <td>1984</td>\n",
              "      <td>College / University</td>\n",
              "      <td>Colleges &amp; Universities</td>\n",
              "      <td>Education</td>\n",
              "      <td>Unknown / Non-Applicable</td>\n",
              "      <td>-1</td>\n",
              "    </tr>\n",
              "    <tr>\n",
              "      <th>953</th>\n",
              "      <td>953</td>\n",
              "      <td>Data Science Manager</td>\n",
              "      <td>$95K-$160K (Glassdoor est.)</td>\n",
              "      <td>Data Science ManagerResponsibilities:\\n\\nOvers...</td>\n",
              "      <td>3.2</td>\n",
              "      <td>Numeric, LLC\\n3.2</td>\n",
              "      <td>Allentown, PA</td>\n",
              "      <td>Chadds Ford, PA</td>\n",
              "      <td>1 to 50 employees</td>\n",
              "      <td>-1</td>\n",
              "      <td>Company - Private</td>\n",
              "      <td>Staffing &amp; Outsourcing</td>\n",
              "      <td>Business Services</td>\n",
              "      <td>$5 to $10 million (USD)</td>\n",
              "      <td>-1</td>\n",
              "    </tr>\n",
              "    <tr>\n",
              "      <th>954</th>\n",
              "      <td>954</td>\n",
              "      <td>Data Engineer</td>\n",
              "      <td>-1</td>\n",
              "      <td>Loading...\\n\\nTitle: Data Engineer\\n\\nLocation...</td>\n",
              "      <td>4.8</td>\n",
              "      <td>IGNW\\n4.8</td>\n",
              "      <td>Austin, TX</td>\n",
              "      <td>Portland, OR</td>\n",
              "      <td>201 to 500 employees</td>\n",
              "      <td>2015</td>\n",
              "      <td>Company - Private</td>\n",
              "      <td>IT Services</td>\n",
              "      <td>Information Technology</td>\n",
              "      <td>$25 to $50 million (USD)</td>\n",
              "      <td>Slalom</td>\n",
              "    </tr>\n",
              "    <tr>\n",
              "      <th>955</th>\n",
              "      <td>955</td>\n",
              "      <td>Research Scientist – Security and Privacy</td>\n",
              "      <td>$61K-$126K (Glassdoor est.)</td>\n",
              "      <td>Returning Candidate? Log back in to the Career...</td>\n",
              "      <td>3.6</td>\n",
              "      <td>Riverside Research Institute\\n3.6</td>\n",
              "      <td>Beavercreek, OH</td>\n",
              "      <td>Arlington, VA</td>\n",
              "      <td>501 to 1000 employees</td>\n",
              "      <td>1967</td>\n",
              "      <td>Nonprofit Organization</td>\n",
              "      <td>Federal Agencies</td>\n",
              "      <td>Government</td>\n",
              "      <td>$50 to $100 million (USD)</td>\n",
              "      <td>-1</td>\n",
              "    </tr>\n",
              "  </tbody>\n",
              "</table>\n",
              "</div>"
            ],
            "text/plain": [
              "     Unnamed: 0  ...                      Competitors\n",
              "951         951  ...  See Tickets, TicketWeb, Vendini\n",
              "952         952  ...                               -1\n",
              "953         953  ...                               -1\n",
              "954         954  ...                           Slalom\n",
              "955         955  ...                               -1\n",
              "\n",
              "[5 rows x 15 columns]"
            ]
          },
          "metadata": {
            "tags": []
          },
          "execution_count": 4
        }
      ]
    },
    {
      "cell_type": "code",
      "metadata": {
        "id": "ihT_eoS4EhyA",
        "colab_type": "code",
        "colab": {
          "base_uri": "https://localhost:8080/",
          "height": 36
        },
        "outputId": "6aa7e8d7-7944-4228-9877-ab0a41d707b4"
      },
      "source": [
        "df.shape"
      ],
      "execution_count": 5,
      "outputs": [
        {
          "output_type": "execute_result",
          "data": {
            "text/plain": [
              "(956, 15)"
            ]
          },
          "metadata": {
            "tags": []
          },
          "execution_count": 5
        }
      ]
    },
    {
      "cell_type": "code",
      "metadata": {
        "id": "_XWEMVoFEpiQ",
        "colab_type": "code",
        "colab": {
          "base_uri": "https://localhost:8080/",
          "height": 92
        },
        "outputId": "cfd8f38e-b2ea-4a31-a26e-1a5fa94b7307"
      },
      "source": [
        "df.columns"
      ],
      "execution_count": 6,
      "outputs": [
        {
          "output_type": "execute_result",
          "data": {
            "text/plain": [
              "Index(['Unnamed: 0', 'Job Title', 'Salary Estimate', 'Job Description',\n",
              "       'Rating', 'Company Name', 'Location', 'Headquarters', 'Size', 'Founded',\n",
              "       'Type of ownership', 'Industry', 'Sector', 'Revenue', 'Competitors'],\n",
              "      dtype='object')"
            ]
          },
          "metadata": {
            "tags": []
          },
          "execution_count": 6
        }
      ]
    },
    {
      "cell_type": "code",
      "metadata": {
        "id": "L38p73XPEvL6",
        "colab_type": "code",
        "colab": {
          "base_uri": "https://localhost:8080/",
          "height": 317
        },
        "outputId": "04a88465-1979-4942-d60b-6c0f4e335170"
      },
      "source": [
        "df.dtypes"
      ],
      "execution_count": 7,
      "outputs": [
        {
          "output_type": "execute_result",
          "data": {
            "text/plain": [
              "Unnamed: 0             int64\n",
              "Job Title             object\n",
              "Salary Estimate       object\n",
              "Job Description       object\n",
              "Rating               float64\n",
              "Company Name          object\n",
              "Location              object\n",
              "Headquarters          object\n",
              "Size                  object\n",
              "Founded                int64\n",
              "Type of ownership     object\n",
              "Industry              object\n",
              "Sector                object\n",
              "Revenue               object\n",
              "Competitors           object\n",
              "dtype: object"
            ]
          },
          "metadata": {
            "tags": []
          },
          "execution_count": 7
        }
      ]
    },
    {
      "cell_type": "code",
      "metadata": {
        "id": "Ao0brEZPE0uU",
        "colab_type": "code",
        "colab": {
          "base_uri": "https://localhost:8080/",
          "height": 429
        },
        "outputId": "4fa4d967-c3e7-4b63-cd26-52ce2b2f9d2a"
      },
      "source": [
        "#information all columns\n",
        "df.info()"
      ],
      "execution_count": 8,
      "outputs": [
        {
          "output_type": "stream",
          "text": [
            "<class 'pandas.core.frame.DataFrame'>\n",
            "RangeIndex: 956 entries, 0 to 955\n",
            "Data columns (total 15 columns):\n",
            " #   Column             Non-Null Count  Dtype  \n",
            "---  ------             --------------  -----  \n",
            " 0   Unnamed: 0         956 non-null    int64  \n",
            " 1   Job Title          956 non-null    object \n",
            " 2   Salary Estimate    956 non-null    object \n",
            " 3   Job Description    956 non-null    object \n",
            " 4   Rating             956 non-null    float64\n",
            " 5   Company Name       956 non-null    object \n",
            " 6   Location           956 non-null    object \n",
            " 7   Headquarters       956 non-null    object \n",
            " 8   Size               956 non-null    object \n",
            " 9   Founded            956 non-null    int64  \n",
            " 10  Type of ownership  956 non-null    object \n",
            " 11  Industry           956 non-null    object \n",
            " 12  Sector             956 non-null    object \n",
            " 13  Revenue            956 non-null    object \n",
            " 14  Competitors        956 non-null    object \n",
            "dtypes: float64(1), int64(2), object(12)\n",
            "memory usage: 112.2+ KB\n"
          ],
          "name": "stdout"
        }
      ]
    },
    {
      "cell_type": "code",
      "metadata": {
        "id": "x1bf5_pZFFqR",
        "colab_type": "code",
        "colab": {
          "base_uri": "https://localhost:8080/",
          "height": 300
        },
        "outputId": "8b2ff0f5-cf6b-4713-fde0-a58e87e20ab1"
      },
      "source": [
        "#Statical description\n",
        "df.describe()"
      ],
      "execution_count": 9,
      "outputs": [
        {
          "output_type": "execute_result",
          "data": {
            "text/html": [
              "<div>\n",
              "<style scoped>\n",
              "    .dataframe tbody tr th:only-of-type {\n",
              "        vertical-align: middle;\n",
              "    }\n",
              "\n",
              "    .dataframe tbody tr th {\n",
              "        vertical-align: top;\n",
              "    }\n",
              "\n",
              "    .dataframe thead th {\n",
              "        text-align: right;\n",
              "    }\n",
              "</style>\n",
              "<table border=\"1\" class=\"dataframe\">\n",
              "  <thead>\n",
              "    <tr style=\"text-align: right;\">\n",
              "      <th></th>\n",
              "      <th>Unnamed: 0</th>\n",
              "      <th>Rating</th>\n",
              "      <th>Founded</th>\n",
              "    </tr>\n",
              "  </thead>\n",
              "  <tbody>\n",
              "    <tr>\n",
              "      <th>count</th>\n",
              "      <td>956.000000</td>\n",
              "      <td>956.000000</td>\n",
              "      <td>956.000000</td>\n",
              "    </tr>\n",
              "    <tr>\n",
              "      <th>mean</th>\n",
              "      <td>477.500000</td>\n",
              "      <td>3.601255</td>\n",
              "      <td>1774.605649</td>\n",
              "    </tr>\n",
              "    <tr>\n",
              "      <th>std</th>\n",
              "      <td>276.117729</td>\n",
              "      <td>1.067619</td>\n",
              "      <td>598.942517</td>\n",
              "    </tr>\n",
              "    <tr>\n",
              "      <th>min</th>\n",
              "      <td>0.000000</td>\n",
              "      <td>-1.000000</td>\n",
              "      <td>-1.000000</td>\n",
              "    </tr>\n",
              "    <tr>\n",
              "      <th>25%</th>\n",
              "      <td>238.750000</td>\n",
              "      <td>3.300000</td>\n",
              "      <td>1937.000000</td>\n",
              "    </tr>\n",
              "    <tr>\n",
              "      <th>50%</th>\n",
              "      <td>477.500000</td>\n",
              "      <td>3.800000</td>\n",
              "      <td>1992.000000</td>\n",
              "    </tr>\n",
              "    <tr>\n",
              "      <th>75%</th>\n",
              "      <td>716.250000</td>\n",
              "      <td>4.200000</td>\n",
              "      <td>2008.000000</td>\n",
              "    </tr>\n",
              "    <tr>\n",
              "      <th>max</th>\n",
              "      <td>955.000000</td>\n",
              "      <td>5.000000</td>\n",
              "      <td>2019.000000</td>\n",
              "    </tr>\n",
              "  </tbody>\n",
              "</table>\n",
              "</div>"
            ],
            "text/plain": [
              "       Unnamed: 0      Rating      Founded\n",
              "count  956.000000  956.000000   956.000000\n",
              "mean   477.500000    3.601255  1774.605649\n",
              "std    276.117729    1.067619   598.942517\n",
              "min      0.000000   -1.000000    -1.000000\n",
              "25%    238.750000    3.300000  1937.000000\n",
              "50%    477.500000    3.800000  1992.000000\n",
              "75%    716.250000    4.200000  2008.000000\n",
              "max    955.000000    5.000000  2019.000000"
            ]
          },
          "metadata": {
            "tags": []
          },
          "execution_count": 9
        }
      ]
    },
    {
      "cell_type": "code",
      "metadata": {
        "id": "R9-VRW8oFcBq",
        "colab_type": "code",
        "colab": {
          "base_uri": "https://localhost:8080/",
          "height": 317
        },
        "outputId": "06f521b4-a223-4337-98da-7bb10f6cf7f6"
      },
      "source": [
        "#how to cheack null values\n",
        "df.isnull().sum()"
      ],
      "execution_count": 10,
      "outputs": [
        {
          "output_type": "execute_result",
          "data": {
            "text/plain": [
              "Unnamed: 0           0\n",
              "Job Title            0\n",
              "Salary Estimate      0\n",
              "Job Description      0\n",
              "Rating               0\n",
              "Company Name         0\n",
              "Location             0\n",
              "Headquarters         0\n",
              "Size                 0\n",
              "Founded              0\n",
              "Type of ownership    0\n",
              "Industry             0\n",
              "Sector               0\n",
              "Revenue              0\n",
              "Competitors          0\n",
              "dtype: int64"
            ]
          },
          "metadata": {
            "tags": []
          },
          "execution_count": 10
        }
      ]
    },
    {
      "cell_type": "code",
      "metadata": {
        "id": "JZSKDikYFnps",
        "colab_type": "code",
        "colab": {
          "base_uri": "https://localhost:8080/",
          "height": 317
        },
        "outputId": "c75178e8-0cdd-4521-c68e-732e9b35445b"
      },
      "source": [
        "df.isnull().any()"
      ],
      "execution_count": 11,
      "outputs": [
        {
          "output_type": "execute_result",
          "data": {
            "text/plain": [
              "Unnamed: 0           False\n",
              "Job Title            False\n",
              "Salary Estimate      False\n",
              "Job Description      False\n",
              "Rating               False\n",
              "Company Name         False\n",
              "Location             False\n",
              "Headquarters         False\n",
              "Size                 False\n",
              "Founded              False\n",
              "Type of ownership    False\n",
              "Industry             False\n",
              "Sector               False\n",
              "Revenue              False\n",
              "Competitors          False\n",
              "dtype: bool"
            ]
          },
          "metadata": {
            "tags": []
          },
          "execution_count": 11
        }
      ]
    },
    {
      "cell_type": "markdown",
      "metadata": {
        "id": "nizMQX8SFxX1",
        "colab_type": "text"
      },
      "source": [
        "#Data Cleaning"
      ]
    },
    {
      "cell_type": "code",
      "metadata": {
        "id": "bj4gd3INFtDd",
        "colab_type": "code",
        "colab": {}
      },
      "source": [
        "#Removing unnamed column\n",
        "df.drop('Unnamed: 0',axis=1,inplace=True)"
      ],
      "execution_count": 12,
      "outputs": []
    },
    {
      "cell_type": "code",
      "metadata": {
        "id": "rZGczuHyGMSt",
        "colab_type": "code",
        "colab": {
          "base_uri": "https://localhost:8080/",
          "height": 521
        },
        "outputId": "98da3714-1ba4-4cc1-befb-b3c8c4df3731"
      },
      "source": [
        "df.head()"
      ],
      "execution_count": 13,
      "outputs": [
        {
          "output_type": "execute_result",
          "data": {
            "text/html": [
              "<div>\n",
              "<style scoped>\n",
              "    .dataframe tbody tr th:only-of-type {\n",
              "        vertical-align: middle;\n",
              "    }\n",
              "\n",
              "    .dataframe tbody tr th {\n",
              "        vertical-align: top;\n",
              "    }\n",
              "\n",
              "    .dataframe thead th {\n",
              "        text-align: right;\n",
              "    }\n",
              "</style>\n",
              "<table border=\"1\" class=\"dataframe\">\n",
              "  <thead>\n",
              "    <tr style=\"text-align: right;\">\n",
              "      <th></th>\n",
              "      <th>Job Title</th>\n",
              "      <th>Salary Estimate</th>\n",
              "      <th>Job Description</th>\n",
              "      <th>Rating</th>\n",
              "      <th>Company Name</th>\n",
              "      <th>Location</th>\n",
              "      <th>Headquarters</th>\n",
              "      <th>Size</th>\n",
              "      <th>Founded</th>\n",
              "      <th>Type of ownership</th>\n",
              "      <th>Industry</th>\n",
              "      <th>Sector</th>\n",
              "      <th>Revenue</th>\n",
              "      <th>Competitors</th>\n",
              "    </tr>\n",
              "  </thead>\n",
              "  <tbody>\n",
              "    <tr>\n",
              "      <th>0</th>\n",
              "      <td>Data Scientist</td>\n",
              "      <td>$53K-$91K (Glassdoor est.)</td>\n",
              "      <td>Data Scientist\\nLocation: Albuquerque, NM\\nEdu...</td>\n",
              "      <td>3.8</td>\n",
              "      <td>Tecolote Research\\n3.8</td>\n",
              "      <td>Albuquerque, NM</td>\n",
              "      <td>Goleta, CA</td>\n",
              "      <td>501 to 1000 employees</td>\n",
              "      <td>1973</td>\n",
              "      <td>Company - Private</td>\n",
              "      <td>Aerospace &amp; Defense</td>\n",
              "      <td>Aerospace &amp; Defense</td>\n",
              "      <td>$50 to $100 million (USD)</td>\n",
              "      <td>-1</td>\n",
              "    </tr>\n",
              "    <tr>\n",
              "      <th>1</th>\n",
              "      <td>Healthcare Data Scientist</td>\n",
              "      <td>$63K-$112K (Glassdoor est.)</td>\n",
              "      <td>What You Will Do:\\n\\nI. General Summary\\n\\nThe...</td>\n",
              "      <td>3.4</td>\n",
              "      <td>University of Maryland Medical System\\n3.4</td>\n",
              "      <td>Linthicum, MD</td>\n",
              "      <td>Baltimore, MD</td>\n",
              "      <td>10000+ employees</td>\n",
              "      <td>1984</td>\n",
              "      <td>Other Organization</td>\n",
              "      <td>Health Care Services &amp; Hospitals</td>\n",
              "      <td>Health Care</td>\n",
              "      <td>$2 to $5 billion (USD)</td>\n",
              "      <td>-1</td>\n",
              "    </tr>\n",
              "    <tr>\n",
              "      <th>2</th>\n",
              "      <td>Data Scientist</td>\n",
              "      <td>$80K-$90K (Glassdoor est.)</td>\n",
              "      <td>KnowBe4, Inc. is a high growth information sec...</td>\n",
              "      <td>4.8</td>\n",
              "      <td>KnowBe4\\n4.8</td>\n",
              "      <td>Clearwater, FL</td>\n",
              "      <td>Clearwater, FL</td>\n",
              "      <td>501 to 1000 employees</td>\n",
              "      <td>2010</td>\n",
              "      <td>Company - Private</td>\n",
              "      <td>Security Services</td>\n",
              "      <td>Business Services</td>\n",
              "      <td>$100 to $500 million (USD)</td>\n",
              "      <td>-1</td>\n",
              "    </tr>\n",
              "    <tr>\n",
              "      <th>3</th>\n",
              "      <td>Data Scientist</td>\n",
              "      <td>$56K-$97K (Glassdoor est.)</td>\n",
              "      <td>*Organization and Job ID**\\nJob ID: 310709\\n\\n...</td>\n",
              "      <td>3.8</td>\n",
              "      <td>PNNL\\n3.8</td>\n",
              "      <td>Richland, WA</td>\n",
              "      <td>Richland, WA</td>\n",
              "      <td>1001 to 5000 employees</td>\n",
              "      <td>1965</td>\n",
              "      <td>Government</td>\n",
              "      <td>Energy</td>\n",
              "      <td>Oil, Gas, Energy &amp; Utilities</td>\n",
              "      <td>$500 million to $1 billion (USD)</td>\n",
              "      <td>Oak Ridge National Laboratory, National Renewa...</td>\n",
              "    </tr>\n",
              "    <tr>\n",
              "      <th>4</th>\n",
              "      <td>Data Scientist</td>\n",
              "      <td>$86K-$143K (Glassdoor est.)</td>\n",
              "      <td>Data Scientist\\nAffinity Solutions / Marketing...</td>\n",
              "      <td>2.9</td>\n",
              "      <td>Affinity Solutions\\n2.9</td>\n",
              "      <td>New York, NY</td>\n",
              "      <td>New York, NY</td>\n",
              "      <td>51 to 200 employees</td>\n",
              "      <td>1998</td>\n",
              "      <td>Company - Private</td>\n",
              "      <td>Advertising &amp; Marketing</td>\n",
              "      <td>Business Services</td>\n",
              "      <td>Unknown / Non-Applicable</td>\n",
              "      <td>Commerce Signals, Cardlytics, Yodlee</td>\n",
              "    </tr>\n",
              "  </tbody>\n",
              "</table>\n",
              "</div>"
            ],
            "text/plain": [
              "                   Job Title  ...                                        Competitors\n",
              "0             Data Scientist  ...                                                 -1\n",
              "1  Healthcare Data Scientist  ...                                                 -1\n",
              "2             Data Scientist  ...                                                 -1\n",
              "3             Data Scientist  ...  Oak Ridge National Laboratory, National Renewa...\n",
              "4             Data Scientist  ...               Commerce Signals, Cardlytics, Yodlee\n",
              "\n",
              "[5 rows x 14 columns]"
            ]
          },
          "metadata": {
            "tags": []
          },
          "execution_count": 13
        }
      ]
    },
    {
      "cell_type": "code",
      "metadata": {
        "id": "LNMsPCdVGVoK",
        "colab_type": "code",
        "colab": {
          "base_uri": "https://localhost:8080/",
          "height": 92
        },
        "outputId": "2f2c6400-1418-4edb-d853-ef61eb7b5889"
      },
      "source": [
        "df.columns"
      ],
      "execution_count": 14,
      "outputs": [
        {
          "output_type": "execute_result",
          "data": {
            "text/plain": [
              "Index(['Job Title', 'Salary Estimate', 'Job Description', 'Rating',\n",
              "       'Company Name', 'Location', 'Headquarters', 'Size', 'Founded',\n",
              "       'Type of ownership', 'Industry', 'Sector', 'Revenue', 'Competitors'],\n",
              "      dtype='object')"
            ]
          },
          "metadata": {
            "tags": []
          },
          "execution_count": 14
        }
      ]
    },
    {
      "cell_type": "code",
      "metadata": {
        "id": "TJz3GbvPGglf",
        "colab_type": "code",
        "colab": {
          "base_uri": "https://localhost:8080/",
          "height": 54
        },
        "outputId": "f53cf2c6-1dfa-443e-de67-fe1de90516bc"
      },
      "source": [
        "# Removing the rows having '-1' as Salary Estimate value\n",
        "print('Before',df.shape)\n",
        "df = df[df['Salary Estimate'] !='-1']\n",
        "print(\"After\",df.shape)"
      ],
      "execution_count": 15,
      "outputs": [
        {
          "output_type": "stream",
          "text": [
            "Before (956, 14)\n",
            "After (742, 14)\n"
          ],
          "name": "stdout"
        }
      ]
    },
    {
      "cell_type": "code",
      "metadata": {
        "id": "Xp_QwL2GIB1X",
        "colab_type": "code",
        "colab": {
          "base_uri": "https://localhost:8080/",
          "height": 242
        },
        "outputId": "23a03c82-df28-4de2-cd60-1cb21e88d600"
      },
      "source": [
        "# Removing the text value from 'Salary Estimate' column\n",
        "salary = df['Salary Estimate'].apply(lambda x:x.split(\"(\")[0])\n",
        "salary"
      ],
      "execution_count": 16,
      "outputs": [
        {
          "output_type": "execute_result",
          "data": {
            "text/plain": [
              "0       $53K-$91K \n",
              "1      $63K-$112K \n",
              "2       $80K-$90K \n",
              "3       $56K-$97K \n",
              "4      $86K-$143K \n",
              "          ...     \n",
              "950    $58K-$111K \n",
              "951    $72K-$133K \n",
              "952     $56K-$91K \n",
              "953    $95K-$160K \n",
              "955    $61K-$126K \n",
              "Name: Salary Estimate, Length: 742, dtype: object"
            ]
          },
          "metadata": {
            "tags": []
          },
          "execution_count": 16
        }
      ]
    },
    {
      "cell_type": "code",
      "metadata": {
        "id": "v3oJE6BsIwh6",
        "colab_type": "code",
        "colab": {
          "base_uri": "https://localhost:8080/",
          "height": 242
        },
        "outputId": "2c81ad17-4ca5-4830-f6bf-cb13d1b9f974"
      },
      "source": [
        "#Removing '$' and 'K' from Salary estimate columns\n",
        "salary = salary.apply(lambda x:x.replace('$','').replace('K',''))\n",
        "salary"
      ],
      "execution_count": 17,
      "outputs": [
        {
          "output_type": "execute_result",
          "data": {
            "text/plain": [
              "0       53-91 \n",
              "1      63-112 \n",
              "2       80-90 \n",
              "3       56-97 \n",
              "4      86-143 \n",
              "        ...   \n",
              "950    58-111 \n",
              "951    72-133 \n",
              "952     56-91 \n",
              "953    95-160 \n",
              "955    61-126 \n",
              "Name: Salary Estimate, Length: 742, dtype: object"
            ]
          },
          "metadata": {
            "tags": []
          },
          "execution_count": 17
        }
      ]
    },
    {
      "cell_type": "code",
      "metadata": {
        "id": "lnhlgZMDJuqK",
        "colab_type": "code",
        "colab": {
          "base_uri": "https://localhost:8080/",
          "height": 186
        },
        "outputId": "a94f6ed6-484f-4f37-9891-bcfdb2f41617"
      },
      "source": [
        "# Finding any inconsistencies in the salary\n",
        "print(\"Length of Salary: \",len(salary.unique()))\n",
        "salary.unique()[380:]"
      ],
      "execution_count": 18,
      "outputs": [
        {
          "output_type": "stream",
          "text": [
            "Length of Salary:  416\n"
          ],
          "name": "stdout"
        },
        {
          "output_type": "execute_result",
          "data": {
            "text/plain": [
              "array(['84-153 ', '44-73 ', '40-87 ', '72-142 ', '74-137 ', '57-109 ',\n",
              "       '136-208 ', '171-272 ', '65-126 ', '118-228 ', '113-182 ',\n",
              "       '58-104 ', '58-108 ', '81-161 ', '115-220 ', '71-144 ', '32-57 ',\n",
              "       '79-136 ', '48-113 ', '27-47 Per Hour', '68-125 ', '39-67 ',\n",
              "       '71-135 ', '61-123 ', '87-141 ', '71-121 ', '72-121 ', '51-88 ',\n",
              "       '101-141 ', '79-127 ', '81-132 ',\n",
              "       'Employer Provided Salary:120-140', '65-113 ', '59-125 ',\n",
              "       '80-142 ', '62-113 '], dtype=object)"
            ]
          },
          "metadata": {
            "tags": []
          },
          "execution_count": 18
        }
      ]
    },
    {
      "cell_type": "code",
      "metadata": {
        "id": "3j8CzxTSKPCh",
        "colab_type": "code",
        "colab": {}
      },
      "source": [
        "# Creating column for 'Per Hour'\n",
        "df['salary_per_hour'] = salary.apply(lambda x: 1 if \"per hour\" in x.lower() else 0)"
      ],
      "execution_count": 19,
      "outputs": []
    },
    {
      "cell_type": "code",
      "metadata": {
        "id": "LqPUwACzLr8i",
        "colab_type": "code",
        "colab": {
          "base_uri": "https://localhost:8080/",
          "height": 73
        },
        "outputId": "0c8ee91b-0aa5-4379-e8e1-f6dc14c3aa80"
      },
      "source": [
        "df['salary_per_hour'].value_counts()"
      ],
      "execution_count": 20,
      "outputs": [
        {
          "output_type": "execute_result",
          "data": {
            "text/plain": [
              "0    718\n",
              "1     24\n",
              "Name: salary_per_hour, dtype: int64"
            ]
          },
          "metadata": {
            "tags": []
          },
          "execution_count": 20
        }
      ]
    },
    {
      "cell_type": "code",
      "metadata": {
        "id": "XH-keOj8L1Ut",
        "colab_type": "code",
        "colab": {}
      },
      "source": [
        "# Creating column for 'Employee Provided Salary'\n",
        "df['emp_provided_salary'] = salary.apply(lambda x: 1 if \"employer provided salary\" in x.lower() else 0)"
      ],
      "execution_count": 21,
      "outputs": []
    },
    {
      "cell_type": "code",
      "metadata": {
        "id": "8h6Frba3NCmo",
        "colab_type": "code",
        "colab": {
          "base_uri": "https://localhost:8080/",
          "height": 73
        },
        "outputId": "d4698ce3-06d3-4570-90c3-5beed5810071"
      },
      "source": [
        "df['emp_provided_salary'].value_counts()"
      ],
      "execution_count": 22,
      "outputs": [
        {
          "output_type": "execute_result",
          "data": {
            "text/plain": [
              "0    725\n",
              "1     17\n",
              "Name: emp_provided_salary, dtype: int64"
            ]
          },
          "metadata": {
            "tags": []
          },
          "execution_count": 22
        }
      ]
    },
    {
      "cell_type": "code",
      "metadata": {
        "id": "tbl_1wW0NOce",
        "colab_type": "code",
        "colab": {
          "base_uri": "https://localhost:8080/",
          "height": 129
        },
        "outputId": "d51e1caf-e144-4a33-ec51-8483d8469758"
      },
      "source": [
        "# Removing 'Per Hour' and 'Employer Provided Salary' from 'Salary Estimate' column\n",
        "salary = salary.apply(lambda x: x.lower().replace(\"per hour\", \"\").replace(\"employer provided salary:\", \"\").replace(\" \",\"\"))\n",
        "salary.unique()[380:]"
      ],
      "execution_count": 23,
      "outputs": [
        {
          "output_type": "execute_result",
          "data": {
            "text/plain": [
              "array(['84-153', '44-73', '40-87', '72-142', '74-137', '57-109',\n",
              "       '136-208', '171-272', '65-126', '118-228', '113-182', '58-104',\n",
              "       '58-108', '81-161', '115-220', '71-144', '32-57', '79-136',\n",
              "       '48-113', '27-47', '68-125', '39-67', '71-135', '61-123', '87-141',\n",
              "       '71-121', '72-121', '51-88', '101-141', '79-127', '81-132',\n",
              "       '120-140', '65-113', '59-125', '80-142', '62-113'], dtype=object)"
            ]
          },
          "metadata": {
            "tags": []
          },
          "execution_count": 23
        }
      ]
    },
    {
      "cell_type": "code",
      "metadata": {
        "id": "ubbbtWBhO4LJ",
        "colab_type": "code",
        "colab": {
          "base_uri": "https://localhost:8080/",
          "height": 129
        },
        "outputId": "43a73d5d-940b-4e08-efca-683f754d46ea"
      },
      "source": [
        "# Creating column for min_salary\n",
        "df[\"min_salary\"] = salary.apply(lambda x: int(x.split(\"-\")[0]))\n",
        "df[\"min_salary\"].tail()"
      ],
      "execution_count": 24,
      "outputs": [
        {
          "output_type": "execute_result",
          "data": {
            "text/plain": [
              "950    58\n",
              "951    72\n",
              "952    56\n",
              "953    95\n",
              "955    61\n",
              "Name: min_salary, dtype: int64"
            ]
          },
          "metadata": {
            "tags": []
          },
          "execution_count": 24
        }
      ]
    },
    {
      "cell_type": "code",
      "metadata": {
        "id": "f7wBDzgOR4jF",
        "colab_type": "code",
        "colab": {}
      },
      "source": [
        "#Creating column for max_salary\n",
        "df['max_salary'] = salary.apply(lambda x: int(x.split('-')[1]))"
      ],
      "execution_count": 25,
      "outputs": []
    },
    {
      "cell_type": "code",
      "metadata": {
        "id": "pzJ0D6O_UOFq",
        "colab_type": "code",
        "colab": {
          "base_uri": "https://localhost:8080/",
          "height": 129
        },
        "outputId": "fcea5d5f-6463-4951-f8be-680d497dc1ab"
      },
      "source": [
        "df['max_salary'].head()"
      ],
      "execution_count": 26,
      "outputs": [
        {
          "output_type": "execute_result",
          "data": {
            "text/plain": [
              "0     91\n",
              "1    112\n",
              "2     90\n",
              "3     97\n",
              "4    143\n",
              "Name: max_salary, dtype: int64"
            ]
          },
          "metadata": {
            "tags": []
          },
          "execution_count": 26
        }
      ]
    },
    {
      "cell_type": "code",
      "metadata": {
        "id": "v3xWa8nRUT-E",
        "colab_type": "code",
        "colab": {}
      },
      "source": [
        "#Creating column for average salary\n",
        "df['average_salary'] = (df['min_salary']+df['max_salary'])/2"
      ],
      "execution_count": 27,
      "outputs": []
    },
    {
      "cell_type": "code",
      "metadata": {
        "id": "zzBM6DqwUv5K",
        "colab_type": "code",
        "colab": {
          "base_uri": "https://localhost:8080/",
          "height": 242
        },
        "outputId": "d81dcfd6-fadd-4ce4-b8a4-3852fa73a423"
      },
      "source": [
        "df['average_salary']"
      ],
      "execution_count": 28,
      "outputs": [
        {
          "output_type": "execute_result",
          "data": {
            "text/plain": [
              "0       72.0\n",
              "1       87.5\n",
              "2       85.0\n",
              "3       76.5\n",
              "4      114.5\n",
              "       ...  \n",
              "950     84.5\n",
              "951    102.5\n",
              "952     73.5\n",
              "953    127.5\n",
              "955     93.5\n",
              "Name: average_salary, Length: 742, dtype: float64"
            ]
          },
          "metadata": {
            "tags": []
          },
          "execution_count": 28
        }
      ]
    },
    {
      "cell_type": "code",
      "metadata": {
        "id": "cN_We0rhVHZP",
        "colab_type": "code",
        "colab": {}
      },
      "source": [
        "#Converting the hourly salaries to annual salaries\n",
        "df['min_salary'] = df.apply(lambda x: x['min_salary']*2 if x['salary_per_hour'] == 1 else x['min_salary'],axis=1)"
      ],
      "execution_count": 29,
      "outputs": []
    },
    {
      "cell_type": "code",
      "metadata": {
        "id": "DgvB3f9acr68",
        "colab_type": "code",
        "colab": {
          "base_uri": "https://localhost:8080/",
          "height": 242
        },
        "outputId": "103e38de-62ad-4808-e99d-4628516e0058"
      },
      "source": [
        "df['min_salary']"
      ],
      "execution_count": 30,
      "outputs": [
        {
          "output_type": "execute_result",
          "data": {
            "text/plain": [
              "0      53\n",
              "1      63\n",
              "2      80\n",
              "3      56\n",
              "4      86\n",
              "       ..\n",
              "950    58\n",
              "951    72\n",
              "952    56\n",
              "953    95\n",
              "955    61\n",
              "Name: min_salary, Length: 742, dtype: int64"
            ]
          },
          "metadata": {
            "tags": []
          },
          "execution_count": 30
        }
      ]
    },
    {
      "cell_type": "code",
      "metadata": {
        "id": "o7OI0wmMc2Zh",
        "colab_type": "code",
        "colab": {}
      },
      "source": [
        "df['max_salary'] = df.apply(lambda x: x['max_salary']*2 if x['salary_per_hour']==1 else ['max_salary'],axis=1)"
      ],
      "execution_count": 31,
      "outputs": []
    },
    {
      "cell_type": "code",
      "metadata": {
        "id": "ImBHTmhWdkXT",
        "colab_type": "code",
        "colab": {
          "base_uri": "https://localhost:8080/",
          "height": 802
        },
        "outputId": "0fee416f-7b83-40a2-f2b7-468dec256d29"
      },
      "source": [
        "df[df['salary_per_hour']==1][['salary_per_hour','min_salary','max_salary']]"
      ],
      "execution_count": 32,
      "outputs": [
        {
          "output_type": "execute_result",
          "data": {
            "text/html": [
              "<div>\n",
              "<style scoped>\n",
              "    .dataframe tbody tr th:only-of-type {\n",
              "        vertical-align: middle;\n",
              "    }\n",
              "\n",
              "    .dataframe tbody tr th {\n",
              "        vertical-align: top;\n",
              "    }\n",
              "\n",
              "    .dataframe thead th {\n",
              "        text-align: right;\n",
              "    }\n",
              "</style>\n",
              "<table border=\"1\" class=\"dataframe\">\n",
              "  <thead>\n",
              "    <tr style=\"text-align: right;\">\n",
              "      <th></th>\n",
              "      <th>salary_per_hour</th>\n",
              "      <th>min_salary</th>\n",
              "      <th>max_salary</th>\n",
              "    </tr>\n",
              "  </thead>\n",
              "  <tbody>\n",
              "    <tr>\n",
              "      <th>197</th>\n",
              "      <td>1</td>\n",
              "      <td>34</td>\n",
              "      <td>48</td>\n",
              "    </tr>\n",
              "    <tr>\n",
              "      <th>209</th>\n",
              "      <td>1</td>\n",
              "      <td>42</td>\n",
              "      <td>68</td>\n",
              "    </tr>\n",
              "    <tr>\n",
              "      <th>240</th>\n",
              "      <td>1</td>\n",
              "      <td>36</td>\n",
              "      <td>50</td>\n",
              "    </tr>\n",
              "    <tr>\n",
              "      <th>247</th>\n",
              "      <td>1</td>\n",
              "      <td>42</td>\n",
              "      <td>68</td>\n",
              "    </tr>\n",
              "    <tr>\n",
              "      <th>257</th>\n",
              "      <td>1</td>\n",
              "      <td>30</td>\n",
              "      <td>50</td>\n",
              "    </tr>\n",
              "    <tr>\n",
              "      <th>307</th>\n",
              "      <td>1</td>\n",
              "      <td>34</td>\n",
              "      <td>48</td>\n",
              "    </tr>\n",
              "    <tr>\n",
              "      <th>337</th>\n",
              "      <td>1</td>\n",
              "      <td>42</td>\n",
              "      <td>68</td>\n",
              "    </tr>\n",
              "    <tr>\n",
              "      <th>427</th>\n",
              "      <td>1</td>\n",
              "      <td>36</td>\n",
              "      <td>50</td>\n",
              "    </tr>\n",
              "    <tr>\n",
              "      <th>437</th>\n",
              "      <td>1</td>\n",
              "      <td>48</td>\n",
              "      <td>78</td>\n",
              "    </tr>\n",
              "    <tr>\n",
              "      <th>456</th>\n",
              "      <td>1</td>\n",
              "      <td>42</td>\n",
              "      <td>68</td>\n",
              "    </tr>\n",
              "    <tr>\n",
              "      <th>464</th>\n",
              "      <td>1</td>\n",
              "      <td>50</td>\n",
              "      <td>56</td>\n",
              "    </tr>\n",
              "    <tr>\n",
              "      <th>522</th>\n",
              "      <td>1</td>\n",
              "      <td>42</td>\n",
              "      <td>58</td>\n",
              "    </tr>\n",
              "    <tr>\n",
              "      <th>523</th>\n",
              "      <td>1</td>\n",
              "      <td>20</td>\n",
              "      <td>34</td>\n",
              "    </tr>\n",
              "    <tr>\n",
              "      <th>632</th>\n",
              "      <td>1</td>\n",
              "      <td>36</td>\n",
              "      <td>50</td>\n",
              "    </tr>\n",
              "    <tr>\n",
              "      <th>652</th>\n",
              "      <td>1</td>\n",
              "      <td>48</td>\n",
              "      <td>78</td>\n",
              "    </tr>\n",
              "    <tr>\n",
              "      <th>682</th>\n",
              "      <td>1</td>\n",
              "      <td>42</td>\n",
              "      <td>68</td>\n",
              "    </tr>\n",
              "    <tr>\n",
              "      <th>694</th>\n",
              "      <td>1</td>\n",
              "      <td>50</td>\n",
              "      <td>56</td>\n",
              "    </tr>\n",
              "    <tr>\n",
              "      <th>786</th>\n",
              "      <td>1</td>\n",
              "      <td>42</td>\n",
              "      <td>58</td>\n",
              "    </tr>\n",
              "    <tr>\n",
              "      <th>787</th>\n",
              "      <td>1</td>\n",
              "      <td>20</td>\n",
              "      <td>34</td>\n",
              "    </tr>\n",
              "    <tr>\n",
              "      <th>823</th>\n",
              "      <td>1</td>\n",
              "      <td>54</td>\n",
              "      <td>94</td>\n",
              "    </tr>\n",
              "    <tr>\n",
              "      <th>854</th>\n",
              "      <td>1</td>\n",
              "      <td>36</td>\n",
              "      <td>50</td>\n",
              "    </tr>\n",
              "    <tr>\n",
              "      <th>875</th>\n",
              "      <td>1</td>\n",
              "      <td>48</td>\n",
              "      <td>78</td>\n",
              "    </tr>\n",
              "    <tr>\n",
              "      <th>919</th>\n",
              "      <td>1</td>\n",
              "      <td>42</td>\n",
              "      <td>68</td>\n",
              "    </tr>\n",
              "    <tr>\n",
              "      <th>936</th>\n",
              "      <td>1</td>\n",
              "      <td>50</td>\n",
              "      <td>56</td>\n",
              "    </tr>\n",
              "  </tbody>\n",
              "</table>\n",
              "</div>"
            ],
            "text/plain": [
              "     salary_per_hour  min_salary max_salary\n",
              "197                1          34         48\n",
              "209                1          42         68\n",
              "240                1          36         50\n",
              "247                1          42         68\n",
              "257                1          30         50\n",
              "307                1          34         48\n",
              "337                1          42         68\n",
              "427                1          36         50\n",
              "437                1          48         78\n",
              "456                1          42         68\n",
              "464                1          50         56\n",
              "522                1          42         58\n",
              "523                1          20         34\n",
              "632                1          36         50\n",
              "652                1          48         78\n",
              "682                1          42         68\n",
              "694                1          50         56\n",
              "786                1          42         58\n",
              "787                1          20         34\n",
              "823                1          54         94\n",
              "854                1          36         50\n",
              "875                1          48         78\n",
              "919                1          42         68\n",
              "936                1          50         56"
            ]
          },
          "metadata": {
            "tags": []
          },
          "execution_count": 32
        }
      ]
    },
    {
      "cell_type": "code",
      "metadata": {
        "id": "68l9-QWkeBh3",
        "colab_type": "code",
        "colab": {}
      },
      "source": [
        "#Removing numbers from company name column\n",
        "df['Company Name'] = df['Company Name'].apply(lambda x: x.split(\"\\n\")[0])"
      ],
      "execution_count": 33,
      "outputs": []
    },
    {
      "cell_type": "code",
      "metadata": {
        "id": "9Be6tDRIiYs3",
        "colab_type": "code",
        "colab": {
          "base_uri": "https://localhost:8080/",
          "height": 223
        },
        "outputId": "447e3fe7-e2fb-4ab9-d1f4-86f9fa77ff23"
      },
      "source": [
        "df['Company Name'].head(10)"
      ],
      "execution_count": 34,
      "outputs": [
        {
          "output_type": "execute_result",
          "data": {
            "text/plain": [
              "0                        Tecolote Research\n",
              "1    University of Maryland Medical System\n",
              "2                                  KnowBe4\n",
              "3                                     PNNL\n",
              "4                       Affinity Solutions\n",
              "5                                 CyrusOne\n",
              "6                       ClearOne Advantage\n",
              "7                               Logic20/20\n",
              "8                Rochester Regional Health\n",
              "9                                 <intent>\n",
              "Name: Company Name, dtype: object"
            ]
          },
          "metadata": {
            "tags": []
          },
          "execution_count": 34
        }
      ]
    },
    {
      "cell_type": "code",
      "metadata": {
        "id": "uRofeIO0ie_Y",
        "colab_type": "code",
        "colab": {
          "base_uri": "https://localhost:8080/",
          "height": 242
        },
        "outputId": "3da12c0c-1e86-4fe1-c3d2-ef27872899e4"
      },
      "source": [
        "#Creating a column 'job_state'\n",
        "df['job_state'] = df['Location'].apply(lambda x: x.split(',')[1])\n",
        "df['job_state']"
      ],
      "execution_count": 35,
      "outputs": [
        {
          "output_type": "execute_result",
          "data": {
            "text/plain": [
              "0       NM\n",
              "1       MD\n",
              "2       FL\n",
              "3       WA\n",
              "4       NY\n",
              "      ... \n",
              "950     MA\n",
              "951     TN\n",
              "952     PA\n",
              "953     PA\n",
              "955     OH\n",
              "Name: job_state, Length: 742, dtype: object"
            ]
          },
          "metadata": {
            "tags": []
          },
          "execution_count": 35
        }
      ]
    },
    {
      "cell_type": "code",
      "metadata": {
        "id": "DToz_cTKjQxe",
        "colab_type": "code",
        "colab": {
          "base_uri": "https://localhost:8080/",
          "height": 111
        },
        "outputId": "3639e360-778b-4a4b-b2cb-a693c4409a31"
      },
      "source": [
        "df['job_state'].unique()"
      ],
      "execution_count": 36,
      "outputs": [
        {
          "output_type": "execute_result",
          "data": {
            "text/plain": [
              "array([' NM', ' MD', ' FL', ' WA', ' NY', ' TX', ' CA', ' VA', ' MA',\n",
              "       ' NJ', ' CO', ' IL', ' KY', ' OR', ' CT', ' MI', ' DC', ' OH',\n",
              "       ' AL', ' MO', ' PA', ' GA', ' IN', ' LA', ' WI', ' NC', ' AZ',\n",
              "       ' NE', ' MN', ' Los Angeles', ' UT', ' TN', ' DE', ' ID', ' RI',\n",
              "       ' IA', ' SC', ' KS'], dtype=object)"
            ]
          },
          "metadata": {
            "tags": []
          },
          "execution_count": 36
        }
      ]
    },
    {
      "cell_type": "code",
      "metadata": {
        "id": "09kdJZKSjZ60",
        "colab_type": "code",
        "colab": {}
      },
      "source": [
        "#fixing log analysis to CA\n",
        "df['job_state'] = df['job_state'].apply(lambda x: x.strip() if x.strip().lower() != 'log angles'else'CA')"
      ],
      "execution_count": 37,
      "outputs": []
    },
    {
      "cell_type": "code",
      "metadata": {
        "id": "wkYo6K4kkhVp",
        "colab_type": "code",
        "colab": {
          "base_uri": "https://localhost:8080/",
          "height": 129
        },
        "outputId": "faf9f61f-f14b-470b-fced-649821c63077"
      },
      "source": [
        "df['job_state'].value_counts()[:5]"
      ],
      "execution_count": 38,
      "outputs": [
        {
          "output_type": "execute_result",
          "data": {
            "text/plain": [
              "CA    151\n",
              "MA    103\n",
              "NY     72\n",
              "VA     41\n",
              "IL     40\n",
              "Name: job_state, dtype: int64"
            ]
          },
          "metadata": {
            "tags": []
          },
          "execution_count": 38
        }
      ]
    },
    {
      "cell_type": "code",
      "metadata": {
        "id": "rqOjVeDFkqAS",
        "colab_type": "code",
        "colab": {
          "base_uri": "https://localhost:8080/",
          "height": 129
        },
        "outputId": "dfdc7367-1ce2-4de0-b734-fc73f2c2ff89"
      },
      "source": [
        "#Calculating age of the compnies\n",
        "df['company_age'] = df['Founded'].apply(lambda x: x if x<1 else 2020-x)\n",
        "df['company_age'].head()"
      ],
      "execution_count": 39,
      "outputs": [
        {
          "output_type": "execute_result",
          "data": {
            "text/plain": [
              "0    47\n",
              "1    36\n",
              "2    10\n",
              "3    55\n",
              "4    22\n",
              "Name: company_age, dtype: int64"
            ]
          },
          "metadata": {
            "tags": []
          },
          "execution_count": 39
        }
      ]
    },
    {
      "cell_type": "code",
      "metadata": {
        "id": "HTEYGEB6liGE",
        "colab_type": "code",
        "colab": {}
      },
      "source": [
        "# Cleaning the 'Job Description' column\n",
        "df[\"python_job\"] = df['Job Description'].apply(lambda x: 1 if 'python' in x.lower() else 0)\n",
        "df[\"r_job\"] = df['Job Description'].apply(lambda x: 1 if 'r studio' in x.lower() else 0)\n",
        "df[\"spark_job\"] = df['Job Description'].apply(lambda x: 1 if 'spark' in x.lower() else 0)\n",
        "df[\"aws_job\"] = df['Job Description'].apply(lambda x: 1 if 'aws' in x.lower() else 0)\n",
        "df[\"excel_job\"] = df['Job Description'].apply(lambda x: 1 if 'excel' in x.lower() else 0)"
      ],
      "execution_count": 40,
      "outputs": []
    },
    {
      "cell_type": "code",
      "metadata": {
        "id": "wd4l5rTfmjOp",
        "colab_type": "code",
        "colab": {
          "base_uri": "https://localhost:8080/",
          "height": 73
        },
        "outputId": "2ea455fa-b02d-4c22-c5dc-a1351432049d"
      },
      "source": [
        "#python jobs\n",
        "df.python_job.value_counts()"
      ],
      "execution_count": 41,
      "outputs": [
        {
          "output_type": "execute_result",
          "data": {
            "text/plain": [
              "1    392\n",
              "0    350\n",
              "Name: python_job, dtype: int64"
            ]
          },
          "metadata": {
            "tags": []
          },
          "execution_count": 41
        }
      ]
    },
    {
      "cell_type": "code",
      "metadata": {
        "id": "SEmEU96Gnb7N",
        "colab_type": "code",
        "colab": {
          "base_uri": "https://localhost:8080/",
          "height": 73
        },
        "outputId": "2cb7de24-5497-4a8e-eb10-e69a6c978d2c"
      },
      "source": [
        "#R_Jobs\n",
        "df.r_job.value_counts()"
      ],
      "execution_count": 42,
      "outputs": [
        {
          "output_type": "execute_result",
          "data": {
            "text/plain": [
              "0    741\n",
              "1      1\n",
              "Name: r_job, dtype: int64"
            ]
          },
          "metadata": {
            "tags": []
          },
          "execution_count": 42
        }
      ]
    },
    {
      "cell_type": "code",
      "metadata": {
        "id": "mWSBZ9Gbnmkq",
        "colab_type": "code",
        "colab": {
          "base_uri": "https://localhost:8080/",
          "height": 73
        },
        "outputId": "8601c967-8f58-4f33-a472-04fab0790a8c"
      },
      "source": [
        "#Excel jobs\n",
        "df.excel_job.value_counts()"
      ],
      "execution_count": 43,
      "outputs": [
        {
          "output_type": "execute_result",
          "data": {
            "text/plain": [
              "1    388\n",
              "0    354\n",
              "Name: excel_job, dtype: int64"
            ]
          },
          "metadata": {
            "tags": []
          },
          "execution_count": 43
        }
      ]
    },
    {
      "cell_type": "code",
      "metadata": {
        "id": "1N7ebhpYn2X-",
        "colab_type": "code",
        "colab": {
          "base_uri": "https://localhost:8080/",
          "height": 73
        },
        "outputId": "562e649f-3749-4281-838b-bbb18989c90a"
      },
      "source": [
        "df.aws_job.value_counts()"
      ],
      "execution_count": 44,
      "outputs": [
        {
          "output_type": "execute_result",
          "data": {
            "text/plain": [
              "0    566\n",
              "1    176\n",
              "Name: aws_job, dtype: int64"
            ]
          },
          "metadata": {
            "tags": []
          },
          "execution_count": 44
        }
      ]
    },
    {
      "cell_type": "code",
      "metadata": {
        "id": "5duIzpQFpFJN",
        "colab_type": "code",
        "colab": {
          "base_uri": "https://localhost:8080/",
          "height": 73
        },
        "outputId": "8a7b7061-b292-4685-aa4c-bee0e295fed2"
      },
      "source": [
        "df.spark_job.value_counts()"
      ],
      "execution_count": 45,
      "outputs": [
        {
          "output_type": "execute_result",
          "data": {
            "text/plain": [
              "0    575\n",
              "1    167\n",
              "Name: spark_job, dtype: int64"
            ]
          },
          "metadata": {
            "tags": []
          },
          "execution_count": 45
        }
      ]
    },
    {
      "cell_type": "code",
      "metadata": {
        "id": "Cbh7K3P1pL05",
        "colab_type": "code",
        "colab": {
          "base_uri": "https://localhost:8080/",
          "height": 539
        },
        "outputId": "5c2af8cf-2ff8-4332-db7a-641a46d527b2"
      },
      "source": [
        "#After Data sets\n",
        "df.head()"
      ],
      "execution_count": 46,
      "outputs": [
        {
          "output_type": "execute_result",
          "data": {
            "text/html": [
              "<div>\n",
              "<style scoped>\n",
              "    .dataframe tbody tr th:only-of-type {\n",
              "        vertical-align: middle;\n",
              "    }\n",
              "\n",
              "    .dataframe tbody tr th {\n",
              "        vertical-align: top;\n",
              "    }\n",
              "\n",
              "    .dataframe thead th {\n",
              "        text-align: right;\n",
              "    }\n",
              "</style>\n",
              "<table border=\"1\" class=\"dataframe\">\n",
              "  <thead>\n",
              "    <tr style=\"text-align: right;\">\n",
              "      <th></th>\n",
              "      <th>Job Title</th>\n",
              "      <th>Salary Estimate</th>\n",
              "      <th>Job Description</th>\n",
              "      <th>Rating</th>\n",
              "      <th>Company Name</th>\n",
              "      <th>Location</th>\n",
              "      <th>Headquarters</th>\n",
              "      <th>Size</th>\n",
              "      <th>Founded</th>\n",
              "      <th>Type of ownership</th>\n",
              "      <th>Industry</th>\n",
              "      <th>Sector</th>\n",
              "      <th>Revenue</th>\n",
              "      <th>Competitors</th>\n",
              "      <th>salary_per_hour</th>\n",
              "      <th>emp_provided_salary</th>\n",
              "      <th>min_salary</th>\n",
              "      <th>max_salary</th>\n",
              "      <th>average_salary</th>\n",
              "      <th>job_state</th>\n",
              "      <th>company_age</th>\n",
              "      <th>python_job</th>\n",
              "      <th>r_job</th>\n",
              "      <th>spark_job</th>\n",
              "      <th>aws_job</th>\n",
              "      <th>excel_job</th>\n",
              "    </tr>\n",
              "  </thead>\n",
              "  <tbody>\n",
              "    <tr>\n",
              "      <th>0</th>\n",
              "      <td>Data Scientist</td>\n",
              "      <td>$53K-$91K (Glassdoor est.)</td>\n",
              "      <td>Data Scientist\\nLocation: Albuquerque, NM\\nEdu...</td>\n",
              "      <td>3.8</td>\n",
              "      <td>Tecolote Research</td>\n",
              "      <td>Albuquerque, NM</td>\n",
              "      <td>Goleta, CA</td>\n",
              "      <td>501 to 1000 employees</td>\n",
              "      <td>1973</td>\n",
              "      <td>Company - Private</td>\n",
              "      <td>Aerospace &amp; Defense</td>\n",
              "      <td>Aerospace &amp; Defense</td>\n",
              "      <td>$50 to $100 million (USD)</td>\n",
              "      <td>-1</td>\n",
              "      <td>0</td>\n",
              "      <td>0</td>\n",
              "      <td>53</td>\n",
              "      <td>[max_salary]</td>\n",
              "      <td>72.0</td>\n",
              "      <td>NM</td>\n",
              "      <td>47</td>\n",
              "      <td>1</td>\n",
              "      <td>0</td>\n",
              "      <td>0</td>\n",
              "      <td>0</td>\n",
              "      <td>1</td>\n",
              "    </tr>\n",
              "    <tr>\n",
              "      <th>1</th>\n",
              "      <td>Healthcare Data Scientist</td>\n",
              "      <td>$63K-$112K (Glassdoor est.)</td>\n",
              "      <td>What You Will Do:\\n\\nI. General Summary\\n\\nThe...</td>\n",
              "      <td>3.4</td>\n",
              "      <td>University of Maryland Medical System</td>\n",
              "      <td>Linthicum, MD</td>\n",
              "      <td>Baltimore, MD</td>\n",
              "      <td>10000+ employees</td>\n",
              "      <td>1984</td>\n",
              "      <td>Other Organization</td>\n",
              "      <td>Health Care Services &amp; Hospitals</td>\n",
              "      <td>Health Care</td>\n",
              "      <td>$2 to $5 billion (USD)</td>\n",
              "      <td>-1</td>\n",
              "      <td>0</td>\n",
              "      <td>0</td>\n",
              "      <td>63</td>\n",
              "      <td>[max_salary]</td>\n",
              "      <td>87.5</td>\n",
              "      <td>MD</td>\n",
              "      <td>36</td>\n",
              "      <td>1</td>\n",
              "      <td>0</td>\n",
              "      <td>0</td>\n",
              "      <td>0</td>\n",
              "      <td>0</td>\n",
              "    </tr>\n",
              "    <tr>\n",
              "      <th>2</th>\n",
              "      <td>Data Scientist</td>\n",
              "      <td>$80K-$90K (Glassdoor est.)</td>\n",
              "      <td>KnowBe4, Inc. is a high growth information sec...</td>\n",
              "      <td>4.8</td>\n",
              "      <td>KnowBe4</td>\n",
              "      <td>Clearwater, FL</td>\n",
              "      <td>Clearwater, FL</td>\n",
              "      <td>501 to 1000 employees</td>\n",
              "      <td>2010</td>\n",
              "      <td>Company - Private</td>\n",
              "      <td>Security Services</td>\n",
              "      <td>Business Services</td>\n",
              "      <td>$100 to $500 million (USD)</td>\n",
              "      <td>-1</td>\n",
              "      <td>0</td>\n",
              "      <td>0</td>\n",
              "      <td>80</td>\n",
              "      <td>[max_salary]</td>\n",
              "      <td>85.0</td>\n",
              "      <td>FL</td>\n",
              "      <td>10</td>\n",
              "      <td>1</td>\n",
              "      <td>0</td>\n",
              "      <td>1</td>\n",
              "      <td>0</td>\n",
              "      <td>1</td>\n",
              "    </tr>\n",
              "    <tr>\n",
              "      <th>3</th>\n",
              "      <td>Data Scientist</td>\n",
              "      <td>$56K-$97K (Glassdoor est.)</td>\n",
              "      <td>*Organization and Job ID**\\nJob ID: 310709\\n\\n...</td>\n",
              "      <td>3.8</td>\n",
              "      <td>PNNL</td>\n",
              "      <td>Richland, WA</td>\n",
              "      <td>Richland, WA</td>\n",
              "      <td>1001 to 5000 employees</td>\n",
              "      <td>1965</td>\n",
              "      <td>Government</td>\n",
              "      <td>Energy</td>\n",
              "      <td>Oil, Gas, Energy &amp; Utilities</td>\n",
              "      <td>$500 million to $1 billion (USD)</td>\n",
              "      <td>Oak Ridge National Laboratory, National Renewa...</td>\n",
              "      <td>0</td>\n",
              "      <td>0</td>\n",
              "      <td>56</td>\n",
              "      <td>[max_salary]</td>\n",
              "      <td>76.5</td>\n",
              "      <td>WA</td>\n",
              "      <td>55</td>\n",
              "      <td>1</td>\n",
              "      <td>0</td>\n",
              "      <td>0</td>\n",
              "      <td>0</td>\n",
              "      <td>0</td>\n",
              "    </tr>\n",
              "    <tr>\n",
              "      <th>4</th>\n",
              "      <td>Data Scientist</td>\n",
              "      <td>$86K-$143K (Glassdoor est.)</td>\n",
              "      <td>Data Scientist\\nAffinity Solutions / Marketing...</td>\n",
              "      <td>2.9</td>\n",
              "      <td>Affinity Solutions</td>\n",
              "      <td>New York, NY</td>\n",
              "      <td>New York, NY</td>\n",
              "      <td>51 to 200 employees</td>\n",
              "      <td>1998</td>\n",
              "      <td>Company - Private</td>\n",
              "      <td>Advertising &amp; Marketing</td>\n",
              "      <td>Business Services</td>\n",
              "      <td>Unknown / Non-Applicable</td>\n",
              "      <td>Commerce Signals, Cardlytics, Yodlee</td>\n",
              "      <td>0</td>\n",
              "      <td>0</td>\n",
              "      <td>86</td>\n",
              "      <td>[max_salary]</td>\n",
              "      <td>114.5</td>\n",
              "      <td>NY</td>\n",
              "      <td>22</td>\n",
              "      <td>1</td>\n",
              "      <td>0</td>\n",
              "      <td>0</td>\n",
              "      <td>0</td>\n",
              "      <td>1</td>\n",
              "    </tr>\n",
              "  </tbody>\n",
              "</table>\n",
              "</div>"
            ],
            "text/plain": [
              "                   Job Title              Salary Estimate  ... aws_job  excel_job\n",
              "0             Data Scientist   $53K-$91K (Glassdoor est.)  ...       0          1\n",
              "1  Healthcare Data Scientist  $63K-$112K (Glassdoor est.)  ...       0          0\n",
              "2             Data Scientist   $80K-$90K (Glassdoor est.)  ...       0          1\n",
              "3             Data Scientist   $56K-$97K (Glassdoor est.)  ...       0          0\n",
              "4             Data Scientist  $86K-$143K (Glassdoor est.)  ...       0          1\n",
              "\n",
              "[5 rows x 26 columns]"
            ]
          },
          "metadata": {
            "tags": []
          },
          "execution_count": 46
        }
      ]
    },
    {
      "cell_type": "code",
      "metadata": {
        "id": "sbfmEu9Bpd2p",
        "colab_type": "code",
        "colab": {}
      },
      "source": [
        "#Cleaning the 'Job Title' column\n",
        "def title_simplifier(title):\n",
        "  if 'data scientist' in title.lower():\n",
        "    return 'data scientist'\n",
        "  elif 'data engineer' in title.lower():\n",
        "    return 'data engineer'\n",
        "  elif 'analyst' in title.lower():\n",
        "    return 'analyst'\n",
        "  elif 'machine learning engineer' in title.lower():\n",
        "    return 'machine learning engineer'\n",
        "  elif 'manager' in title.lower():\n",
        "    return 'manager'\n",
        "  elif 'director' in title.lower():\n",
        "    return 'director'\n",
        "  else:\n",
        "    return 'na'"
      ],
      "execution_count": 47,
      "outputs": []
    },
    {
      "cell_type": "code",
      "metadata": {
        "id": "sJiTpK6ir0qB",
        "colab_type": "code",
        "colab": {}
      },
      "source": [
        "df['job_title_simplified'] = df['Job Title'].apply(title_simplifier)"
      ],
      "execution_count": 48,
      "outputs": []
    },
    {
      "cell_type": "code",
      "metadata": {
        "id": "vCyHo5oishhy",
        "colab_type": "code",
        "colab": {
          "base_uri": "https://localhost:8080/",
          "height": 167
        },
        "outputId": "3c891157-4b75-476b-c520-2f91a363c70e"
      },
      "source": [
        "df.job_title_simplified.value_counts()"
      ],
      "execution_count": 49,
      "outputs": [
        {
          "output_type": "execute_result",
          "data": {
            "text/plain": [
              "data scientist               279\n",
              "na                           194\n",
              "data engineer                119\n",
              "analyst                      102\n",
              "manager                       22\n",
              "director                      14\n",
              "machine learning engineer     12\n",
              "Name: job_title_simplified, dtype: int64"
            ]
          },
          "metadata": {
            "tags": []
          },
          "execution_count": 49
        }
      ]
    },
    {
      "cell_type": "code",
      "metadata": {
        "id": "e7idtjUnsqKg",
        "colab_type": "code",
        "colab": {}
      },
      "source": [
        "def seniority(title):\n",
        "  if 'senior' in title.lower() or 'senior' in title.lower() or 'sr' in title.lower() or 'lead' in title.lower() or 'principal' in title.lower():\n",
        "    return 'senior'\n",
        "  elif 'junior' in title.lower() or 'jr' in title.lower():\n",
        "    return 'jr'\n",
        "  else:\n",
        "    return 'na'"
      ],
      "execution_count": 50,
      "outputs": []
    },
    {
      "cell_type": "code",
      "metadata": {
        "id": "jZ_6G-fouh2X",
        "colab_type": "code",
        "colab": {}
      },
      "source": [
        "df['job_seniority'] = df['Job Title'].apply(seniority)"
      ],
      "execution_count": 51,
      "outputs": []
    },
    {
      "cell_type": "code",
      "metadata": {
        "id": "68t3PCZovInr",
        "colab_type": "code",
        "colab": {
          "base_uri": "https://localhost:8080/",
          "height": 92
        },
        "outputId": "8b9c2a31-520d-4d11-f79a-6a13da899fcb"
      },
      "source": [
        "df['job_seniority'].value_counts()"
      ],
      "execution_count": 52,
      "outputs": [
        {
          "output_type": "execute_result",
          "data": {
            "text/plain": [
              "na        519\n",
              "senior    220\n",
              "jr          3\n",
              "Name: job_seniority, dtype: int64"
            ]
          },
          "metadata": {
            "tags": []
          },
          "execution_count": 52
        }
      ]
    },
    {
      "cell_type": "code",
      "metadata": {
        "id": "UkzdGVkKvani",
        "colab_type": "code",
        "colab": {
          "base_uri": "https://localhost:8080/",
          "height": 242
        },
        "outputId": "89e22f7c-2218-4be7-ab7e-dd4e13f272bb"
      },
      "source": [
        "# Cleaning 'Competitors' column\n",
        "df['Competitors'] = df['Competitors'].apply(lambda x: len(x.split(',')) if x != '-1' else 0)\n",
        "df['Competitors']"
      ],
      "execution_count": 53,
      "outputs": [
        {
          "output_type": "execute_result",
          "data": {
            "text/plain": [
              "0      0\n",
              "1      0\n",
              "2      0\n",
              "3      3\n",
              "4      3\n",
              "      ..\n",
              "950    3\n",
              "951    3\n",
              "952    0\n",
              "953    0\n",
              "955    0\n",
              "Name: Competitors, Length: 742, dtype: int64"
            ]
          },
          "metadata": {
            "tags": []
          },
          "execution_count": 53
        }
      ]
    },
    {
      "cell_type": "code",
      "metadata": {
        "id": "1VDd_q9ZvvDr",
        "colab_type": "code",
        "colab": {
          "base_uri": "https://localhost:8080/",
          "height": 242
        },
        "outputId": "25784c36-9778-4a68-ebb2-2286c356b3ef"
      },
      "source": [
        "# Cleaning 'Type of Ownership' column\n",
        "df['Type of ownership'].value_counts()"
      ],
      "execution_count": 54,
      "outputs": [
        {
          "output_type": "execute_result",
          "data": {
            "text/plain": [
              "Company - Private                 410\n",
              "Company - Public                  193\n",
              "Nonprofit Organization             55\n",
              "Subsidiary or Business Segment     34\n",
              "Hospital                           15\n",
              "Government                         15\n",
              "College / University               13\n",
              "Other Organization                  3\n",
              "School / School District            2\n",
              "-1                                  1\n",
              "Unknown                             1\n",
              "Name: Type of ownership, dtype: int64"
            ]
          },
          "metadata": {
            "tags": []
          },
          "execution_count": 54
        }
      ]
    },
    {
      "cell_type": "code",
      "metadata": {
        "id": "LaOqfjHfvzow",
        "colab_type": "code",
        "colab": {}
      },
      "source": [
        "def ownership_simplifier(text):\n",
        "    if 'private' in text.lower():\n",
        "      return 'Private'\n",
        "    elif 'public' in text.lower():\n",
        "      return 'Public'\n",
        "    elif ('-1' in text.lower()) or ('unknown' in text.lower()):\n",
        "      return 'Other Organization'\n",
        "    else:\n",
        "      return text\n",
        "\n",
        "df['Type of ownership'] = df['Type of ownership'].apply(ownership_simplifier)"
      ],
      "execution_count": 55,
      "outputs": []
    },
    {
      "cell_type": "code",
      "metadata": {
        "id": "9Tmd7WY_v7lW",
        "colab_type": "code",
        "colab": {
          "base_uri": "https://localhost:8080/",
          "height": 204
        },
        "outputId": "b076988a-f405-4af9-931a-8569d859f999"
      },
      "source": [
        "df['Type of ownership'].value_counts()"
      ],
      "execution_count": 56,
      "outputs": [
        {
          "output_type": "execute_result",
          "data": {
            "text/plain": [
              "Private                           410\n",
              "Public                            193\n",
              "Nonprofit Organization             55\n",
              "Subsidiary or Business Segment     34\n",
              "Hospital                           15\n",
              "Government                         15\n",
              "College / University               13\n",
              "Other Organization                  5\n",
              "School / School District            2\n",
              "Name: Type of ownership, dtype: int64"
            ]
          },
          "metadata": {
            "tags": []
          },
          "execution_count": 56
        }
      ]
    },
    {
      "cell_type": "code",
      "metadata": {
        "id": "X00ozwZtv-8g",
        "colab_type": "code",
        "colab": {
          "base_uri": "https://localhost:8080/",
          "height": 298
        },
        "outputId": "7750b52b-1074-4ff7-8396-02a05ab20311"
      },
      "source": [
        "# Cleaning 'Revenue' column\n",
        "df['Revenue'].value_counts()"
      ],
      "execution_count": 57,
      "outputs": [
        {
          "output_type": "execute_result",
          "data": {
            "text/plain": [
              "Unknown / Non-Applicable            203\n",
              "$10+ billion (USD)                  124\n",
              "$100 to $500 million (USD)           91\n",
              "$1 to $2 billion (USD)               60\n",
              "$500 million to $1 billion (USD)     57\n",
              "$50 to $100 million (USD)            46\n",
              "$25 to $50 million (USD)             40\n",
              "$2 to $5 billion (USD)               39\n",
              "$10 to $25 million (USD)             32\n",
              "$5 to $10 billion (USD)              19\n",
              "$5 to $10 million (USD)              18\n",
              "$1 to $5 million (USD)                8\n",
              "Less than $1 million (USD)            4\n",
              "-1                                    1\n",
              "Name: Revenue, dtype: int64"
            ]
          },
          "metadata": {
            "tags": []
          },
          "execution_count": 57
        }
      ]
    },
    {
      "cell_type": "code",
      "metadata": {
        "id": "jZ3zlf0iwDeG",
        "colab_type": "code",
        "colab": {}
      },
      "source": [
        "def revenue_simplifier(text):\n",
        "  if '-1' in text.lower():\n",
        "    return 'Unknown / Non-Applicable'\n",
        "  else:\n",
        "    return text\n",
        "\n",
        "df['Revenue'] = df['Revenue'].apply(revenue_simplifier)"
      ],
      "execution_count": 58,
      "outputs": []
    },
    {
      "cell_type": "code",
      "metadata": {
        "id": "BLA69TlYwJsw",
        "colab_type": "code",
        "colab": {
          "base_uri": "https://localhost:8080/",
          "height": 279
        },
        "outputId": "42c781fc-25f4-4dc6-e9d1-1320d183f7ad"
      },
      "source": [
        "df['Revenue'].value_counts()"
      ],
      "execution_count": 59,
      "outputs": [
        {
          "output_type": "execute_result",
          "data": {
            "text/plain": [
              "Unknown / Non-Applicable            204\n",
              "$10+ billion (USD)                  124\n",
              "$100 to $500 million (USD)           91\n",
              "$1 to $2 billion (USD)               60\n",
              "$500 million to $1 billion (USD)     57\n",
              "$50 to $100 million (USD)            46\n",
              "$25 to $50 million (USD)             40\n",
              "$2 to $5 billion (USD)               39\n",
              "$10 to $25 million (USD)             32\n",
              "$5 to $10 billion (USD)              19\n",
              "$5 to $10 million (USD)              18\n",
              "$1 to $5 million (USD)                8\n",
              "Less than $1 million (USD)            4\n",
              "Name: Revenue, dtype: int64"
            ]
          },
          "metadata": {
            "tags": []
          },
          "execution_count": 59
        }
      ]
    },
    {
      "cell_type": "code",
      "metadata": {
        "id": "tyKEU0ZZwNAN",
        "colab_type": "code",
        "colab": {
          "base_uri": "https://localhost:8080/",
          "height": 204
        },
        "outputId": "bd7d2dae-494f-4191-d5c5-e225ca7bbd1b"
      },
      "source": [
        "df['Size'].value_counts()"
      ],
      "execution_count": 60,
      "outputs": [
        {
          "output_type": "execute_result",
          "data": {
            "text/plain": [
              "1001 to 5000 employees     150\n",
              "501 to 1000 employees      134\n",
              "10000+ employees           130\n",
              "201 to 500 employees       117\n",
              "51 to 200 employees         94\n",
              "5001 to 10000 employees     76\n",
              "1 to 50 employees           31\n",
              "Unknown                      9\n",
              "-1                           1\n",
              "Name: Size, dtype: int64"
            ]
          },
          "metadata": {
            "tags": []
          },
          "execution_count": 60
        }
      ]
    },
    {
      "cell_type": "code",
      "metadata": {
        "id": "ZdOenmL9wQpx",
        "colab_type": "code",
        "colab": {}
      },
      "source": [
        "# Cleaning 'Size' column\n",
        "def size_simplifier(text):\n",
        "  if '-1' in text.lower():\n",
        "    return 'Unknown'\n",
        "  else:\n",
        "    return text\n",
        "\n",
        "df['Size'] = df['Size'].apply(size_simplifier)"
      ],
      "execution_count": 61,
      "outputs": []
    },
    {
      "cell_type": "code",
      "metadata": {
        "id": "mVAgZeUzwWVZ",
        "colab_type": "code",
        "colab": {
          "base_uri": "https://localhost:8080/",
          "height": 186
        },
        "outputId": "d541dbeb-a2af-4bdf-936c-cd18b6a1b174"
      },
      "source": [
        "df['Size'].value_counts()"
      ],
      "execution_count": 62,
      "outputs": [
        {
          "output_type": "execute_result",
          "data": {
            "text/plain": [
              "1001 to 5000 employees     150\n",
              "501 to 1000 employees      134\n",
              "10000+ employees           130\n",
              "201 to 500 employees       117\n",
              "51 to 200 employees         94\n",
              "5001 to 10000 employees     76\n",
              "1 to 50 employees           31\n",
              "Unknown                     10\n",
              "Name: Size, dtype: int64"
            ]
          },
          "metadata": {
            "tags": []
          },
          "execution_count": 62
        }
      ]
    },
    {
      "cell_type": "code",
      "metadata": {
        "id": "4c9p1Ksawarc",
        "colab_type": "code",
        "colab": {
          "base_uri": "https://localhost:8080/",
          "height": 521
        },
        "outputId": "12526d74-f9fd-4d60-8a67-c592af4722a8"
      },
      "source": [
        "# Dataset till now\n",
        "df.head()"
      ],
      "execution_count": 63,
      "outputs": [
        {
          "output_type": "execute_result",
          "data": {
            "text/html": [
              "<div>\n",
              "<style scoped>\n",
              "    .dataframe tbody tr th:only-of-type {\n",
              "        vertical-align: middle;\n",
              "    }\n",
              "\n",
              "    .dataframe tbody tr th {\n",
              "        vertical-align: top;\n",
              "    }\n",
              "\n",
              "    .dataframe thead th {\n",
              "        text-align: right;\n",
              "    }\n",
              "</style>\n",
              "<table border=\"1\" class=\"dataframe\">\n",
              "  <thead>\n",
              "    <tr style=\"text-align: right;\">\n",
              "      <th></th>\n",
              "      <th>Job Title</th>\n",
              "      <th>Salary Estimate</th>\n",
              "      <th>Job Description</th>\n",
              "      <th>Rating</th>\n",
              "      <th>Company Name</th>\n",
              "      <th>Location</th>\n",
              "      <th>Headquarters</th>\n",
              "      <th>Size</th>\n",
              "      <th>Founded</th>\n",
              "      <th>Type of ownership</th>\n",
              "      <th>Industry</th>\n",
              "      <th>Sector</th>\n",
              "      <th>Revenue</th>\n",
              "      <th>Competitors</th>\n",
              "      <th>salary_per_hour</th>\n",
              "      <th>emp_provided_salary</th>\n",
              "      <th>min_salary</th>\n",
              "      <th>max_salary</th>\n",
              "      <th>average_salary</th>\n",
              "      <th>job_state</th>\n",
              "      <th>company_age</th>\n",
              "      <th>python_job</th>\n",
              "      <th>r_job</th>\n",
              "      <th>spark_job</th>\n",
              "      <th>aws_job</th>\n",
              "      <th>excel_job</th>\n",
              "      <th>job_title_simplified</th>\n",
              "      <th>job_seniority</th>\n",
              "    </tr>\n",
              "  </thead>\n",
              "  <tbody>\n",
              "    <tr>\n",
              "      <th>0</th>\n",
              "      <td>Data Scientist</td>\n",
              "      <td>$53K-$91K (Glassdoor est.)</td>\n",
              "      <td>Data Scientist\\nLocation: Albuquerque, NM\\nEdu...</td>\n",
              "      <td>3.8</td>\n",
              "      <td>Tecolote Research</td>\n",
              "      <td>Albuquerque, NM</td>\n",
              "      <td>Goleta, CA</td>\n",
              "      <td>501 to 1000 employees</td>\n",
              "      <td>1973</td>\n",
              "      <td>Private</td>\n",
              "      <td>Aerospace &amp; Defense</td>\n",
              "      <td>Aerospace &amp; Defense</td>\n",
              "      <td>$50 to $100 million (USD)</td>\n",
              "      <td>0</td>\n",
              "      <td>0</td>\n",
              "      <td>0</td>\n",
              "      <td>53</td>\n",
              "      <td>[max_salary]</td>\n",
              "      <td>72.0</td>\n",
              "      <td>NM</td>\n",
              "      <td>47</td>\n",
              "      <td>1</td>\n",
              "      <td>0</td>\n",
              "      <td>0</td>\n",
              "      <td>0</td>\n",
              "      <td>1</td>\n",
              "      <td>data scientist</td>\n",
              "      <td>na</td>\n",
              "    </tr>\n",
              "    <tr>\n",
              "      <th>1</th>\n",
              "      <td>Healthcare Data Scientist</td>\n",
              "      <td>$63K-$112K (Glassdoor est.)</td>\n",
              "      <td>What You Will Do:\\n\\nI. General Summary\\n\\nThe...</td>\n",
              "      <td>3.4</td>\n",
              "      <td>University of Maryland Medical System</td>\n",
              "      <td>Linthicum, MD</td>\n",
              "      <td>Baltimore, MD</td>\n",
              "      <td>10000+ employees</td>\n",
              "      <td>1984</td>\n",
              "      <td>Other Organization</td>\n",
              "      <td>Health Care Services &amp; Hospitals</td>\n",
              "      <td>Health Care</td>\n",
              "      <td>$2 to $5 billion (USD)</td>\n",
              "      <td>0</td>\n",
              "      <td>0</td>\n",
              "      <td>0</td>\n",
              "      <td>63</td>\n",
              "      <td>[max_salary]</td>\n",
              "      <td>87.5</td>\n",
              "      <td>MD</td>\n",
              "      <td>36</td>\n",
              "      <td>1</td>\n",
              "      <td>0</td>\n",
              "      <td>0</td>\n",
              "      <td>0</td>\n",
              "      <td>0</td>\n",
              "      <td>data scientist</td>\n",
              "      <td>na</td>\n",
              "    </tr>\n",
              "    <tr>\n",
              "      <th>2</th>\n",
              "      <td>Data Scientist</td>\n",
              "      <td>$80K-$90K (Glassdoor est.)</td>\n",
              "      <td>KnowBe4, Inc. is a high growth information sec...</td>\n",
              "      <td>4.8</td>\n",
              "      <td>KnowBe4</td>\n",
              "      <td>Clearwater, FL</td>\n",
              "      <td>Clearwater, FL</td>\n",
              "      <td>501 to 1000 employees</td>\n",
              "      <td>2010</td>\n",
              "      <td>Private</td>\n",
              "      <td>Security Services</td>\n",
              "      <td>Business Services</td>\n",
              "      <td>$100 to $500 million (USD)</td>\n",
              "      <td>0</td>\n",
              "      <td>0</td>\n",
              "      <td>0</td>\n",
              "      <td>80</td>\n",
              "      <td>[max_salary]</td>\n",
              "      <td>85.0</td>\n",
              "      <td>FL</td>\n",
              "      <td>10</td>\n",
              "      <td>1</td>\n",
              "      <td>0</td>\n",
              "      <td>1</td>\n",
              "      <td>0</td>\n",
              "      <td>1</td>\n",
              "      <td>data scientist</td>\n",
              "      <td>na</td>\n",
              "    </tr>\n",
              "    <tr>\n",
              "      <th>3</th>\n",
              "      <td>Data Scientist</td>\n",
              "      <td>$56K-$97K (Glassdoor est.)</td>\n",
              "      <td>*Organization and Job ID**\\nJob ID: 310709\\n\\n...</td>\n",
              "      <td>3.8</td>\n",
              "      <td>PNNL</td>\n",
              "      <td>Richland, WA</td>\n",
              "      <td>Richland, WA</td>\n",
              "      <td>1001 to 5000 employees</td>\n",
              "      <td>1965</td>\n",
              "      <td>Government</td>\n",
              "      <td>Energy</td>\n",
              "      <td>Oil, Gas, Energy &amp; Utilities</td>\n",
              "      <td>$500 million to $1 billion (USD)</td>\n",
              "      <td>3</td>\n",
              "      <td>0</td>\n",
              "      <td>0</td>\n",
              "      <td>56</td>\n",
              "      <td>[max_salary]</td>\n",
              "      <td>76.5</td>\n",
              "      <td>WA</td>\n",
              "      <td>55</td>\n",
              "      <td>1</td>\n",
              "      <td>0</td>\n",
              "      <td>0</td>\n",
              "      <td>0</td>\n",
              "      <td>0</td>\n",
              "      <td>data scientist</td>\n",
              "      <td>na</td>\n",
              "    </tr>\n",
              "    <tr>\n",
              "      <th>4</th>\n",
              "      <td>Data Scientist</td>\n",
              "      <td>$86K-$143K (Glassdoor est.)</td>\n",
              "      <td>Data Scientist\\nAffinity Solutions / Marketing...</td>\n",
              "      <td>2.9</td>\n",
              "      <td>Affinity Solutions</td>\n",
              "      <td>New York, NY</td>\n",
              "      <td>New York, NY</td>\n",
              "      <td>51 to 200 employees</td>\n",
              "      <td>1998</td>\n",
              "      <td>Private</td>\n",
              "      <td>Advertising &amp; Marketing</td>\n",
              "      <td>Business Services</td>\n",
              "      <td>Unknown / Non-Applicable</td>\n",
              "      <td>3</td>\n",
              "      <td>0</td>\n",
              "      <td>0</td>\n",
              "      <td>86</td>\n",
              "      <td>[max_salary]</td>\n",
              "      <td>114.5</td>\n",
              "      <td>NY</td>\n",
              "      <td>22</td>\n",
              "      <td>1</td>\n",
              "      <td>0</td>\n",
              "      <td>0</td>\n",
              "      <td>0</td>\n",
              "      <td>1</td>\n",
              "      <td>data scientist</td>\n",
              "      <td>na</td>\n",
              "    </tr>\n",
              "  </tbody>\n",
              "</table>\n",
              "</div>"
            ],
            "text/plain": [
              "                   Job Title  ... job_seniority\n",
              "0             Data Scientist  ...            na\n",
              "1  Healthcare Data Scientist  ...            na\n",
              "2             Data Scientist  ...            na\n",
              "3             Data Scientist  ...            na\n",
              "4             Data Scientist  ...            na\n",
              "\n",
              "[5 rows x 28 columns]"
            ]
          },
          "metadata": {
            "tags": []
          },
          "execution_count": 63
        }
      ]
    },
    {
      "cell_type": "markdown",
      "metadata": {
        "id": "j2uu1R_fwkgB",
        "colab_type": "text"
      },
      "source": [
        "#Exploratory Data Analysis (EDA)"
      ]
    },
    {
      "cell_type": "code",
      "metadata": {
        "id": "nXOFHF4vwfKE",
        "colab_type": "code",
        "colab": {
          "base_uri": "https://localhost:8080/",
          "height": 457
        },
        "outputId": "57a42ee2-fc18-4b7c-80f8-46734ffc782f"
      },
      "source": [
        "df.describe().T"
      ],
      "execution_count": 64,
      "outputs": [
        {
          "output_type": "execute_result",
          "data": {
            "text/html": [
              "<div>\n",
              "<style scoped>\n",
              "    .dataframe tbody tr th:only-of-type {\n",
              "        vertical-align: middle;\n",
              "    }\n",
              "\n",
              "    .dataframe tbody tr th {\n",
              "        vertical-align: top;\n",
              "    }\n",
              "\n",
              "    .dataframe thead th {\n",
              "        text-align: right;\n",
              "    }\n",
              "</style>\n",
              "<table border=\"1\" class=\"dataframe\">\n",
              "  <thead>\n",
              "    <tr style=\"text-align: right;\">\n",
              "      <th></th>\n",
              "      <th>count</th>\n",
              "      <th>mean</th>\n",
              "      <th>std</th>\n",
              "      <th>min</th>\n",
              "      <th>25%</th>\n",
              "      <th>50%</th>\n",
              "      <th>75%</th>\n",
              "      <th>max</th>\n",
              "    </tr>\n",
              "  </thead>\n",
              "  <tbody>\n",
              "    <tr>\n",
              "      <th>Rating</th>\n",
              "      <td>742.0</td>\n",
              "      <td>3.618868</td>\n",
              "      <td>0.801210</td>\n",
              "      <td>-1.0</td>\n",
              "      <td>3.3</td>\n",
              "      <td>3.7</td>\n",
              "      <td>4.0</td>\n",
              "      <td>5.0</td>\n",
              "    </tr>\n",
              "    <tr>\n",
              "      <th>Founded</th>\n",
              "      <td>742.0</td>\n",
              "      <td>1837.154987</td>\n",
              "      <td>497.183763</td>\n",
              "      <td>-1.0</td>\n",
              "      <td>1939.0</td>\n",
              "      <td>1988.0</td>\n",
              "      <td>2007.0</td>\n",
              "      <td>2019.0</td>\n",
              "    </tr>\n",
              "    <tr>\n",
              "      <th>Competitors</th>\n",
              "      <td>742.0</td>\n",
              "      <td>1.053908</td>\n",
              "      <td>1.384239</td>\n",
              "      <td>0.0</td>\n",
              "      <td>0.0</td>\n",
              "      <td>0.0</td>\n",
              "      <td>3.0</td>\n",
              "      <td>4.0</td>\n",
              "    </tr>\n",
              "    <tr>\n",
              "      <th>salary_per_hour</th>\n",
              "      <td>742.0</td>\n",
              "      <td>0.032345</td>\n",
              "      <td>0.177034</td>\n",
              "      <td>0.0</td>\n",
              "      <td>0.0</td>\n",
              "      <td>0.0</td>\n",
              "      <td>0.0</td>\n",
              "      <td>1.0</td>\n",
              "    </tr>\n",
              "    <tr>\n",
              "      <th>emp_provided_salary</th>\n",
              "      <td>742.0</td>\n",
              "      <td>0.022911</td>\n",
              "      <td>0.149721</td>\n",
              "      <td>0.0</td>\n",
              "      <td>0.0</td>\n",
              "      <td>0.0</td>\n",
              "      <td>0.0</td>\n",
              "      <td>1.0</td>\n",
              "    </tr>\n",
              "    <tr>\n",
              "      <th>min_salary</th>\n",
              "      <td>742.0</td>\n",
              "      <td>74.719677</td>\n",
              "      <td>30.980593</td>\n",
              "      <td>15.0</td>\n",
              "      <td>52.0</td>\n",
              "      <td>69.5</td>\n",
              "      <td>91.0</td>\n",
              "      <td>202.0</td>\n",
              "    </tr>\n",
              "    <tr>\n",
              "      <th>average_salary</th>\n",
              "      <td>742.0</td>\n",
              "      <td>100.626011</td>\n",
              "      <td>38.855948</td>\n",
              "      <td>13.5</td>\n",
              "      <td>73.5</td>\n",
              "      <td>97.5</td>\n",
              "      <td>122.5</td>\n",
              "      <td>254.0</td>\n",
              "    </tr>\n",
              "    <tr>\n",
              "      <th>company_age</th>\n",
              "      <td>742.0</td>\n",
              "      <td>46.591644</td>\n",
              "      <td>53.778815</td>\n",
              "      <td>-1.0</td>\n",
              "      <td>11.0</td>\n",
              "      <td>24.0</td>\n",
              "      <td>59.0</td>\n",
              "      <td>276.0</td>\n",
              "    </tr>\n",
              "    <tr>\n",
              "      <th>python_job</th>\n",
              "      <td>742.0</td>\n",
              "      <td>0.528302</td>\n",
              "      <td>0.499535</td>\n",
              "      <td>0.0</td>\n",
              "      <td>0.0</td>\n",
              "      <td>1.0</td>\n",
              "      <td>1.0</td>\n",
              "      <td>1.0</td>\n",
              "    </tr>\n",
              "    <tr>\n",
              "      <th>r_job</th>\n",
              "      <td>742.0</td>\n",
              "      <td>0.001348</td>\n",
              "      <td>0.036711</td>\n",
              "      <td>0.0</td>\n",
              "      <td>0.0</td>\n",
              "      <td>0.0</td>\n",
              "      <td>0.0</td>\n",
              "      <td>1.0</td>\n",
              "    </tr>\n",
              "    <tr>\n",
              "      <th>spark_job</th>\n",
              "      <td>742.0</td>\n",
              "      <td>0.225067</td>\n",
              "      <td>0.417908</td>\n",
              "      <td>0.0</td>\n",
              "      <td>0.0</td>\n",
              "      <td>0.0</td>\n",
              "      <td>0.0</td>\n",
              "      <td>1.0</td>\n",
              "    </tr>\n",
              "    <tr>\n",
              "      <th>aws_job</th>\n",
              "      <td>742.0</td>\n",
              "      <td>0.237197</td>\n",
              "      <td>0.425651</td>\n",
              "      <td>0.0</td>\n",
              "      <td>0.0</td>\n",
              "      <td>0.0</td>\n",
              "      <td>0.0</td>\n",
              "      <td>1.0</td>\n",
              "    </tr>\n",
              "    <tr>\n",
              "      <th>excel_job</th>\n",
              "      <td>742.0</td>\n",
              "      <td>0.522911</td>\n",
              "      <td>0.499812</td>\n",
              "      <td>0.0</td>\n",
              "      <td>0.0</td>\n",
              "      <td>1.0</td>\n",
              "      <td>1.0</td>\n",
              "      <td>1.0</td>\n",
              "    </tr>\n",
              "  </tbody>\n",
              "</table>\n",
              "</div>"
            ],
            "text/plain": [
              "                     count         mean         std  ...     50%     75%     max\n",
              "Rating               742.0     3.618868    0.801210  ...     3.7     4.0     5.0\n",
              "Founded              742.0  1837.154987  497.183763  ...  1988.0  2007.0  2019.0\n",
              "Competitors          742.0     1.053908    1.384239  ...     0.0     3.0     4.0\n",
              "salary_per_hour      742.0     0.032345    0.177034  ...     0.0     0.0     1.0\n",
              "emp_provided_salary  742.0     0.022911    0.149721  ...     0.0     0.0     1.0\n",
              "min_salary           742.0    74.719677   30.980593  ...    69.5    91.0   202.0\n",
              "average_salary       742.0   100.626011   38.855948  ...    97.5   122.5   254.0\n",
              "company_age          742.0    46.591644   53.778815  ...    24.0    59.0   276.0\n",
              "python_job           742.0     0.528302    0.499535  ...     1.0     1.0     1.0\n",
              "r_job                742.0     0.001348    0.036711  ...     0.0     0.0     1.0\n",
              "spark_job            742.0     0.225067    0.417908  ...     0.0     0.0     1.0\n",
              "aws_job              742.0     0.237197    0.425651  ...     0.0     0.0     1.0\n",
              "excel_job            742.0     0.522911    0.499812  ...     1.0     1.0     1.0\n",
              "\n",
              "[13 rows x 8 columns]"
            ]
          },
          "metadata": {
            "tags": []
          },
          "execution_count": 64
        }
      ]
    },
    {
      "cell_type": "code",
      "metadata": {
        "id": "WFezfXansRRs",
        "colab_type": "code",
        "colab": {
          "base_uri": "https://localhost:8080/",
          "height": 314
        },
        "outputId": "d2d01b99-fd18-4787-fbe0-e37644a7d1e3"
      },
      "source": [
        "df['Rating'].hist()\n",
        "plt.xlabel(\"Rating\")\n",
        "plt.ylabel(\"Count\")\n",
        "plt.title(\"Comapany Rating Histogram\")"
      ],
      "execution_count": 65,
      "outputs": [
        {
          "output_type": "execute_result",
          "data": {
            "text/plain": [
              "Text(0.5, 1.0, 'Comapany Rating Histogram')"
            ]
          },
          "metadata": {
            "tags": []
          },
          "execution_count": 65
        },
        {
          "output_type": "display_data",
          "data": {
            "image/png": "[encoded data removed]",
            "text/plain": [
              "<Figure size 432x288 with 1 Axes>"
            ]
          },
          "metadata": {
            "tags": [],
            "needs_background": "light"
          }
        }
      ]
    },
    {
      "cell_type": "code",
      "metadata": {
        "id": "sS696bV6s-hB",
        "colab_type": "code",
        "colab": {
          "base_uri": "https://localhost:8080/",
          "height": 315
        },
        "outputId": "2e3e4cb8-d175-4bc1-e6ff-30868bf7f80e"
      },
      "source": [
        "df['company_age'].hist()\n",
        "plt.xlabel(\"Comapany_Age\")\n",
        "plt.ylabel(\"Count\")\n",
        "plt.title(\"Comapny Age Histogram\")"
      ],
      "execution_count": 66,
      "outputs": [
        {
          "output_type": "execute_result",
          "data": {
            "text/plain": [
              "Text(0.5, 1.0, 'Comapny Age Histogram')"
            ]
          },
          "metadata": {
            "tags": []
          },
          "execution_count": 66
        },
        {
          "output_type": "display_data",
          "data": {
            "image/png": "[encoded data removed]",
            "text/plain": [
              "<Figure size 432x288 with 1 Axes>"
            ]
          },
          "metadata": {
            "tags": [],
            "needs_background": "light"
          }
        }
      ]
    },
    {
      "cell_type": "code",
      "metadata": {
        "id": "VPtgZQvQtYvY",
        "colab_type": "code",
        "colab": {
          "base_uri": "https://localhost:8080/",
          "height": 315
        },
        "outputId": "e49d2b97-f9a4-4d15-822e-5adb084dabc5"
      },
      "source": [
        "df['average_salary'].hist()\n",
        "plt.xlabel(\"Avearge_Annual Salary($)\")\n",
        "plt.ylabel(\"Count\")\n",
        "plt.title(\"Average Salary Histogram\")"
      ],
      "execution_count": 67,
      "outputs": [
        {
          "output_type": "execute_result",
          "data": {
            "text/plain": [
              "Text(0.5, 1.0, 'Average Salary Histogram')"
            ]
          },
          "metadata": {
            "tags": []
          },
          "execution_count": 67
        },
        {
          "output_type": "display_data",
          "data": {
            "image/png": "[encoded data removed]",
            "text/plain": [
              "<Figure size 432x288 with 1 Axes>"
            ]
          },
          "metadata": {
            "tags": [],
            "needs_background": "light"
          }
        }
      ]
    },
    {
      "cell_type": "markdown",
      "metadata": {
        "id": "3kEJFZhHyFrc",
        "colab_type": "text"
      },
      "source": [
        "#Box plot"
      ]
    },
    {
      "cell_type": "code",
      "metadata": {
        "id": "-ScuGjJWx3O-",
        "colab_type": "code",
        "colab": {
          "base_uri": "https://localhost:8080/",
          "height": 271
        },
        "outputId": "7eda250e-f8cc-4dd9-8505-337f15ea983f"
      },
      "source": [
        "sns.boxplot(y='Rating',data=df,orient='v',palette='Set1')"
      ],
      "execution_count": 68,
      "outputs": [
        {
          "output_type": "execute_result",
          "data": {
            "text/plain": [
              "<matplotlib.axes._subplots.AxesSubplot at 0x7f1512bb7e80>"
            ]
          },
          "metadata": {
            "tags": []
          },
          "execution_count": 68
        },
        {
          "output_type": "display_data",
          "data": {
            "image/png": "[encoded data removed]",
            "text/plain": [
              "<Figure size 432x288 with 1 Axes>"
            ]
          },
          "metadata": {
            "tags": [],
            "needs_background": "light"
          }
        }
      ]
    },
    {
      "cell_type": "code",
      "metadata": {
        "id": "SusPh7qqyacH",
        "colab_type": "code",
        "colab": {
          "base_uri": "https://localhost:8080/",
          "height": 271
        },
        "outputId": "28a91aa2-69c5-4a1e-fd7c-643663aab209"
      },
      "source": [
        "sns.boxplot(y='company_age',data=df,orient='v',palette='Set1')"
      ],
      "execution_count": 69,
      "outputs": [
        {
          "output_type": "execute_result",
          "data": {
            "text/plain": [
              "<matplotlib.axes._subplots.AxesSubplot at 0x7f1512b7dc50>"
            ]
          },
          "metadata": {
            "tags": []
          },
          "execution_count": 69
        },
        {
          "output_type": "display_data",
          "data": {
            "image/png": "[encoded data removed]",
            "text/plain": [
              "<Figure size 432x288 with 1 Axes>"
            ]
          },
          "metadata": {
            "tags": [],
            "needs_background": "light"
          }
        }
      ]
    },
    {
      "cell_type": "code",
      "metadata": {
        "id": "DXbvsb5uyzlS",
        "colab_type": "code",
        "colab": {
          "base_uri": "https://localhost:8080/",
          "height": 271
        },
        "outputId": "e35bc835-e785-4b6e-eb14-1eee5f048f62"
      },
      "source": [
        "sns.boxplot(y='average_salary',data=df,orient='v',palette='Set1')"
      ],
      "execution_count": 70,
      "outputs": [
        {
          "output_type": "execute_result",
          "data": {
            "text/plain": [
              "<matplotlib.axes._subplots.AxesSubplot at 0x7f1512af9ac8>"
            ]
          },
          "metadata": {
            "tags": []
          },
          "execution_count": 70
        },
        {
          "output_type": "display_data",
          "data": {
            "image/png": "[encoded data removed]",
            "text/plain": [
              "<Figure size 432x288 with 1 Axes>"
            ]
          },
          "metadata": {
            "tags": [],
            "needs_background": "light"
          }
        }
      ]
    },
    {
      "cell_type": "code",
      "metadata": {
        "id": "tRj6UbOEzRKr",
        "colab_type": "code",
        "colab": {
          "base_uri": "https://localhost:8080/",
          "height": 143
        },
        "outputId": "0f85abc9-21fa-4ae0-b649-6795997eec3e"
      },
      "source": [
        "#finding correlation between columns\n",
        "df[['Rating','company_age','average_salary']].corr()"
      ],
      "execution_count": 71,
      "outputs": [
        {
          "output_type": "execute_result",
          "data": {
            "text/html": [
              "<div>\n",
              "<style scoped>\n",
              "    .dataframe tbody tr th:only-of-type {\n",
              "        vertical-align: middle;\n",
              "    }\n",
              "\n",
              "    .dataframe tbody tr th {\n",
              "        vertical-align: top;\n",
              "    }\n",
              "\n",
              "    .dataframe thead th {\n",
              "        text-align: right;\n",
              "    }\n",
              "</style>\n",
              "<table border=\"1\" class=\"dataframe\">\n",
              "  <thead>\n",
              "    <tr style=\"text-align: right;\">\n",
              "      <th></th>\n",
              "      <th>Rating</th>\n",
              "      <th>company_age</th>\n",
              "      <th>average_salary</th>\n",
              "    </tr>\n",
              "  </thead>\n",
              "  <tbody>\n",
              "    <tr>\n",
              "      <th>Rating</th>\n",
              "      <td>1.000000</td>\n",
              "      <td>0.021655</td>\n",
              "      <td>0.013492</td>\n",
              "    </tr>\n",
              "    <tr>\n",
              "      <th>company_age</th>\n",
              "      <td>0.021655</td>\n",
              "      <td>1.000000</td>\n",
              "      <td>0.019655</td>\n",
              "    </tr>\n",
              "    <tr>\n",
              "      <th>average_salary</th>\n",
              "      <td>0.013492</td>\n",
              "      <td>0.019655</td>\n",
              "      <td>1.000000</td>\n",
              "    </tr>\n",
              "  </tbody>\n",
              "</table>\n",
              "</div>"
            ],
            "text/plain": [
              "                  Rating  company_age  average_salary\n",
              "Rating          1.000000     0.021655        0.013492\n",
              "company_age     0.021655     1.000000        0.019655\n",
              "average_salary  0.013492     0.019655        1.000000"
            ]
          },
          "metadata": {
            "tags": []
          },
          "execution_count": 71
        }
      ]
    },
    {
      "cell_type": "code",
      "metadata": {
        "id": "-PjYmL3yz5KC",
        "colab_type": "code",
        "colab": {
          "base_uri": "https://localhost:8080/",
          "height": 351
        },
        "outputId": "c08baabd-d29c-4988-d3b0-ca5b6ce732ce"
      },
      "source": [
        "#Plotting the correlation\n",
        "cmap = sns.diverging_palette(220,10,as_cmap=True)\n",
        "sns.heatmap(df[['Rating','company_age','average_salary']].corr(), vmax=.3, center=0, cmap=cmap, square=True, linewidths=.5, cbar_kws={\"shrink\": .5})"
      ],
      "execution_count": 72,
      "outputs": [
        {
          "output_type": "execute_result",
          "data": {
            "text/plain": [
              "<matplotlib.axes._subplots.AxesSubplot at 0x7f1512ba0e48>"
            ]
          },
          "metadata": {
            "tags": []
          },
          "execution_count": 72
        },
        {
          "output_type": "display_data",
          "data": {
            "image/png": "[encoded data removed]",
            "text/plain": [
              "<Figure size 432x288 with 2 Axes>"
            ]
          },
          "metadata": {
            "tags": [],
            "needs_background": "light"
          }
        }
      ]
    },
    {
      "cell_type": "code",
      "metadata": {
        "id": "GX-24DNv1nQn",
        "colab_type": "code",
        "colab": {
          "base_uri": "https://localhost:8080/",
          "height": 167
        },
        "outputId": "589e7d05-1c72-4020-8a02-2cafd8bb1360"
      },
      "source": [
        "#Exploring Categorical data\n",
        "df.columns"
      ],
      "execution_count": 73,
      "outputs": [
        {
          "output_type": "execute_result",
          "data": {
            "text/plain": [
              "Index(['Job Title', 'Salary Estimate', 'Job Description', 'Rating',\n",
              "       'Company Name', 'Location', 'Headquarters', 'Size', 'Founded',\n",
              "       'Type of ownership', 'Industry', 'Sector', 'Revenue', 'Competitors',\n",
              "       'salary_per_hour', 'emp_provided_salary', 'min_salary', 'max_salary',\n",
              "       'average_salary', 'job_state', 'company_age', 'python_job', 'r_job',\n",
              "       'spark_job', 'aws_job', 'excel_job', 'job_title_simplified',\n",
              "       'job_seniority'],\n",
              "      dtype='object')"
            ]
          },
          "metadata": {
            "tags": []
          },
          "execution_count": 73
        }
      ]
    },
    {
      "cell_type": "code",
      "metadata": {
        "id": "hvQV5-PY2cYn",
        "colab_type": "code",
        "colab": {}
      },
      "source": [
        "df_categorical = df[['Company Name', 'Location', 'Headquarters','Size','Type of ownership', 'Industry', 'Sector', 'Revenue',\n",
        "                     'job_title_simplified','job_seniority']]"
      ],
      "execution_count": 74,
      "outputs": []
    },
    {
      "cell_type": "code",
      "metadata": {
        "id": "8Cm5L9HQ3TNb",
        "colab_type": "code",
        "colab": {
          "base_uri": "https://localhost:8080/",
          "height": 831
        },
        "outputId": "22f77126-4779-446f-c2cd-3b01142681fb"
      },
      "source": [
        "# Plotting the data for 'Location' and 'Headquarters' columns\n",
        "for i in ['Location','Headquarters']:\n",
        "  unique_categories = df_categorical[i].value_counts()[:20]\n",
        "  print(\"Graph {} \\n total records = {}\".format(i,len(unique_categories)))\n",
        "  chart = sns.barplot(x=unique_categories.index,y=unique_categories)\n",
        "  chart.set_xticklabels(chart.get_xticklabels(),rotation=90)\n",
        "  plt.show()"
      ],
      "execution_count": 75,
      "outputs": [
        {
          "output_type": "stream",
          "text": [
            "Graph Location \n",
            " total records = 20\n"
          ],
          "name": "stdout"
        },
        {
          "output_type": "display_data",
          "data": {
            "image/png": "[encoded data removed]",
            "text/plain": [
              "<Figure size 432x288 with 1 Axes>"
            ]
          },
          "metadata": {
            "tags": [],
            "needs_background": "light"
          }
        },
        {
          "output_type": "stream",
          "text": [
            "Graph Headquarters \n",
            " total records = 20\n"
          ],
          "name": "stdout"
        },
        {
          "output_type": "display_data",
          "data": {
            "image/png": "[encoded data removed]",
            "text/plain": [
              "<Figure size 432x288 with 1 Axes>"
            ]
          },
          "metadata": {
            "tags": [],
            "needs_background": "light"
          }
        }
      ]
    },
    {
      "cell_type": "code",
      "metadata": {
        "id": "JAwm2uyB5Vdl",
        "colab_type": "code",
        "colab": {
          "base_uri": "https://localhost:8080/",
          "height": 1000
        },
        "outputId": "da575baf-d593-4fc4-829e-c0600b67150d"
      },
      "source": [
        "# Plotting the data for 'Company Name', 'Size', 'Type of ownership', 'Revenue' columns\n",
        "for i in ['Company Name','Size','Type of ownership', 'Revenue']:\n",
        "  unique_categories =  df_categorical[i].value_counts()[:20]\n",
        "  print(\"Graph for {} \\n total records = {}\".format(i,len(unique_categories)))\n",
        "  chart = sns.barplot(x=unique_categories.index, y=unique_categories)\n",
        "  chart.set_xticklabels(chart.get_xticklabels(), rotation=90)\n",
        "  plt.show()"
      ],
      "execution_count": 76,
      "outputs": [
        {
          "output_type": "stream",
          "text": [
            "Graph for Company Name \n",
            " total records = 20\n"
          ],
          "name": "stdout"
        },
        {
          "output_type": "display_data",
          "data": {
            "image/png": "[encoded data removed]",
            "text/plain": [
              "<Figure size 432x288 with 1 Axes>"
            ]
          },
          "metadata": {
            "tags": [],
            "needs_background": "light"
          }
        },
        {
          "output_type": "stream",
          "text": [
            "Graph for Size \n",
            " total records = 8\n"
          ],
          "name": "stdout"
        },
        {
          "output_type": "display_data",
          "data": {
            "image/png": "[encoded data removed]",
            "text/plain": [
              "<Figure size 432x288 with 1 Axes>"
            ]
          },
          "metadata": {
            "tags": [],
            "needs_background": "light"
          }
        },
        {
          "output_type": "stream",
          "text": [
            "Graph for Type of ownership \n",
            " total records = 9\n"
          ],
          "name": "stdout"
        },
        {
          "output_type": "display_data",
          "data": {
            "image/png": "[encoded data removed]",
            "text/plain": [
              "<Figure size 432x288 with 1 Axes>"
            ]
          },
          "metadata": {
            "tags": [],
            "needs_background": "light"
          }
        },
        {
          "output_type": "stream",
          "text": [
            "Graph for Revenue \n",
            " total records = 13\n"
          ],
          "name": "stdout"
        },
        {
          "output_type": "display_data",
          "data": {
            "image/png": "[encoded data removed]",
            "text/plain": [
              "<Figure size 432x288 with 1 Axes>"
            ]
          },
          "metadata": {
            "tags": [],
            "needs_background": "light"
          }
        }
      ]
    },
    {
      "cell_type": "code",
      "metadata": {
        "id": "XUW63M6Y8Fio",
        "colab_type": "code",
        "colab": {
          "base_uri": "https://localhost:8080/",
          "height": 937
        },
        "outputId": "a2f8ccfc-a58b-46b6-e146-17f651775a82"
      },
      "source": [
        "# Plotting the data for 'Industry', 'Sector' columns\n",
        "for i in ['Industry','Sector']:\n",
        "  unique_categories = df_categorical[i].value_counts()[:20]\n",
        "  print(\"Graph for{} \\n total records {}:\".format(i,len(unique_categories)))\n",
        "  chart = sns.barplot(x=unique_categories.index,y=unique_categories)\n",
        "  chart.set_xticklabels(chart.get_xticklabels(),rotation=90)\n",
        "  plt.show()"
      ],
      "execution_count": 77,
      "outputs": [
        {
          "output_type": "stream",
          "text": [
            "Graph forIndustry \n",
            " total records 20:\n"
          ],
          "name": "stdout"
        },
        {
          "output_type": "display_data",
          "data": {
            "image/png": "[encoded data removed]",
            "text/plain": [
              "<Figure size 432x288 with 1 Axes>"
            ]
          },
          "metadata": {
            "tags": [],
            "needs_background": "light"
          }
        },
        {
          "output_type": "stream",
          "text": [
            "Graph forSector \n",
            " total records 20:\n"
          ],
          "name": "stdout"
        },
        {
          "output_type": "display_data",
          "data": {
            "image/png": "[encoded data removed]",
            "text/plain": [
              "<Figure size 432x288 with 1 Axes>"
            ]
          },
          "metadata": {
            "tags": [],
            "needs_background": "light"
          }
        }
      ]
    },
    {
      "cell_type": "code",
      "metadata": {
        "id": "TkAXfcdO-M7m",
        "colab_type": "code",
        "colab": {
          "base_uri": "https://localhost:8080/",
          "height": 734
        },
        "outputId": "24b8b1b5-be3e-4b73-eff8-e037199aed16"
      },
      "source": [
        "# Plotting the data for 'job_title_simplified', 'job_seniority' columns\n",
        "for i in ['job_title_simplified','job_seniority']:\n",
        "  unique_categories = df_categorical[i].value_counts()[:20]\n",
        "  print(\"Graph for {} \\n Total records {}: \".format(i,len(unique_categories)))\n",
        "  chart = sns.barplot(x=unique_categories.index,y=unique_categories)\n",
        "  chart.set_xticklabels(chart.get_xticklabels(), rotation=90)\n",
        "  plt.show()"
      ],
      "execution_count": 78,
      "outputs": [
        {
          "output_type": "stream",
          "text": [
            "Graph for job_title_simplified \n",
            " Total records 7: \n"
          ],
          "name": "stdout"
        },
        {
          "output_type": "display_data",
          "data": {
            "image/png": "[encoded data removed]",
            "text/plain": [
              "<Figure size 432x288 with 1 Axes>"
            ]
          },
          "metadata": {
            "tags": [],
            "needs_background": "light"
          }
        },
        {
          "output_type": "stream",
          "text": [
            "Graph for job_seniority \n",
            " Total records 3: \n"
          ],
          "name": "stdout"
        },
        {
          "output_type": "display_data",
          "data": {
            "image/png": "[encoded data removed]",
            "text/plain": [
              "<Figure size 432x288 with 1 Axes>"
            ]
          },
          "metadata": {
            "tags": [],
            "needs_background": "light"
          }
        }
      ]
    },
    {
      "cell_type": "code",
      "metadata": {
        "id": "I1Hfli15AN7j",
        "colab_type": "code",
        "colab": {
          "base_uri": "https://localhost:8080/",
          "height": 167
        },
        "outputId": "75649311-b37e-4515-b6d9-e627bfd4898b"
      },
      "source": [
        "df.columns"
      ],
      "execution_count": 79,
      "outputs": [
        {
          "output_type": "execute_result",
          "data": {
            "text/plain": [
              "Index(['Job Title', 'Salary Estimate', 'Job Description', 'Rating',\n",
              "       'Company Name', 'Location', 'Headquarters', 'Size', 'Founded',\n",
              "       'Type of ownership', 'Industry', 'Sector', 'Revenue', 'Competitors',\n",
              "       'salary_per_hour', 'emp_provided_salary', 'min_salary', 'max_salary',\n",
              "       'average_salary', 'job_state', 'company_age', 'python_job', 'r_job',\n",
              "       'spark_job', 'aws_job', 'excel_job', 'job_title_simplified',\n",
              "       'job_seniority'],\n",
              "      dtype='object')"
            ]
          },
          "metadata": {
            "tags": []
          },
          "execution_count": 79
        }
      ]
    },
    {
      "cell_type": "code",
      "metadata": {
        "id": "SNXU6BzoBK3g",
        "colab_type": "code",
        "colab": {
          "base_uri": "https://localhost:8080/",
          "height": 488
        },
        "outputId": "b8fe629e-7c6a-427f-bf1f-5ae9dd2c9fec"
      },
      "source": [
        "pd.pivot_table(df,index=['job_title_simplified','job_seniority'],values='average_salary')"
      ],
      "execution_count": 80,
      "outputs": [
        {
          "output_type": "execute_result",
          "data": {
            "text/html": [
              "<div>\n",
              "<style scoped>\n",
              "    .dataframe tbody tr th:only-of-type {\n",
              "        vertical-align: middle;\n",
              "    }\n",
              "\n",
              "    .dataframe tbody tr th {\n",
              "        vertical-align: top;\n",
              "    }\n",
              "\n",
              "    .dataframe thead th {\n",
              "        text-align: right;\n",
              "    }\n",
              "</style>\n",
              "<table border=\"1\" class=\"dataframe\">\n",
              "  <thead>\n",
              "    <tr style=\"text-align: right;\">\n",
              "      <th></th>\n",
              "      <th></th>\n",
              "      <th>average_salary</th>\n",
              "    </tr>\n",
              "    <tr>\n",
              "      <th>job_title_simplified</th>\n",
              "      <th>job_seniority</th>\n",
              "      <th></th>\n",
              "    </tr>\n",
              "  </thead>\n",
              "  <tbody>\n",
              "    <tr>\n",
              "      <th rowspan=\"3\" valign=\"top\">analyst</th>\n",
              "      <th>jr</th>\n",
              "      <td>53.250000</td>\n",
              "    </tr>\n",
              "    <tr>\n",
              "      <th>na</th>\n",
              "      <td>61.308219</td>\n",
              "    </tr>\n",
              "    <tr>\n",
              "      <th>senior</th>\n",
              "      <td>79.092593</td>\n",
              "    </tr>\n",
              "    <tr>\n",
              "      <th rowspan=\"2\" valign=\"top\">data engineer</th>\n",
              "      <th>na</th>\n",
              "      <td>96.701220</td>\n",
              "    </tr>\n",
              "    <tr>\n",
              "      <th>senior</th>\n",
              "      <td>124.689189</td>\n",
              "    </tr>\n",
              "    <tr>\n",
              "      <th rowspan=\"3\" valign=\"top\">data scientist</th>\n",
              "      <th>jr</th>\n",
              "      <td>106.500000</td>\n",
              "    </tr>\n",
              "    <tr>\n",
              "      <th>na</th>\n",
              "      <td>107.043011</td>\n",
              "    </tr>\n",
              "    <tr>\n",
              "      <th>senior</th>\n",
              "      <td>138.956522</td>\n",
              "    </tr>\n",
              "    <tr>\n",
              "      <th>director</th>\n",
              "      <th>na</th>\n",
              "      <td>168.607143</td>\n",
              "    </tr>\n",
              "    <tr>\n",
              "      <th>machine learning engineer</th>\n",
              "      <th>na</th>\n",
              "      <td>119.958333</td>\n",
              "    </tr>\n",
              "    <tr>\n",
              "      <th>manager</th>\n",
              "      <th>na</th>\n",
              "      <td>84.022727</td>\n",
              "    </tr>\n",
              "    <tr>\n",
              "      <th rowspan=\"2\" valign=\"top\">na</th>\n",
              "      <th>na</th>\n",
              "      <td>74.953846</td>\n",
              "    </tr>\n",
              "    <tr>\n",
              "      <th>senior</th>\n",
              "      <td>112.671875</td>\n",
              "    </tr>\n",
              "  </tbody>\n",
              "</table>\n",
              "</div>"
            ],
            "text/plain": [
              "                                         average_salary\n",
              "job_title_simplified      job_seniority                \n",
              "analyst                   jr                  53.250000\n",
              "                          na                  61.308219\n",
              "                          senior              79.092593\n",
              "data engineer             na                  96.701220\n",
              "                          senior             124.689189\n",
              "data scientist            jr                 106.500000\n",
              "                          na                 107.043011\n",
              "                          senior             138.956522\n",
              "director                  na                 168.607143\n",
              "machine learning engineer na                 119.958333\n",
              "manager                   na                  84.022727\n",
              "na                        na                  74.953846\n",
              "                          senior             112.671875"
            ]
          },
          "metadata": {
            "tags": []
          },
          "execution_count": 80
        }
      ]
    },
    {
      "cell_type": "code",
      "metadata": {
        "id": "qiFP38nJBy-y",
        "colab_type": "code",
        "colab": {
          "base_uri": "https://localhost:8080/",
          "height": 708
        },
        "outputId": "f7c7791a-a7c7-4210-c095-0a429b5cbf01"
      },
      "source": [
        "pd.pivot_table(df,index=['job_state','job_title_simplified'],values='average_salary').sort_values('average_salary',\n",
        "                                                                                                  ascending=False)[:20]"
      ],
      "execution_count": 81,
      "outputs": [
        {
          "output_type": "execute_result",
          "data": {
            "text/html": [
              "<div>\n",
              "<style scoped>\n",
              "    .dataframe tbody tr th:only-of-type {\n",
              "        vertical-align: middle;\n",
              "    }\n",
              "\n",
              "    .dataframe tbody tr th {\n",
              "        vertical-align: top;\n",
              "    }\n",
              "\n",
              "    .dataframe thead th {\n",
              "        text-align: right;\n",
              "    }\n",
              "</style>\n",
              "<table border=\"1\" class=\"dataframe\">\n",
              "  <thead>\n",
              "    <tr style=\"text-align: right;\">\n",
              "      <th></th>\n",
              "      <th></th>\n",
              "      <th>average_salary</th>\n",
              "    </tr>\n",
              "    <tr>\n",
              "      <th>job_state</th>\n",
              "      <th>job_title_simplified</th>\n",
              "      <th></th>\n",
              "    </tr>\n",
              "  </thead>\n",
              "  <tbody>\n",
              "    <tr>\n",
              "      <th>IL</th>\n",
              "      <th>director</th>\n",
              "      <td>221.750000</td>\n",
              "    </tr>\n",
              "    <tr>\n",
              "      <th>CA</th>\n",
              "      <th>machine learning engineer</th>\n",
              "      <td>163.500000</td>\n",
              "    </tr>\n",
              "    <tr>\n",
              "      <th>NJ</th>\n",
              "      <th>director</th>\n",
              "      <td>161.500000</td>\n",
              "    </tr>\n",
              "    <tr>\n",
              "      <th>DC</th>\n",
              "      <th>data scientist</th>\n",
              "      <td>149.000000</td>\n",
              "    </tr>\n",
              "    <tr>\n",
              "      <th>CA</th>\n",
              "      <th>data scientist</th>\n",
              "      <td>143.044776</td>\n",
              "    </tr>\n",
              "    <tr>\n",
              "      <th>UT</th>\n",
              "      <th>data scientist</th>\n",
              "      <td>140.500000</td>\n",
              "    </tr>\n",
              "    <tr>\n",
              "      <th>CA</th>\n",
              "      <th>data engineer</th>\n",
              "      <td>129.540000</td>\n",
              "    </tr>\n",
              "    <tr>\n",
              "      <th>MO</th>\n",
              "      <th>data scientist</th>\n",
              "      <td>127.666667</td>\n",
              "    </tr>\n",
              "    <tr>\n",
              "      <th>NY</th>\n",
              "      <th>machine learning engineer</th>\n",
              "      <td>125.000000</td>\n",
              "    </tr>\n",
              "    <tr>\n",
              "      <th>AZ</th>\n",
              "      <th>na</th>\n",
              "      <td>124.500000</td>\n",
              "    </tr>\n",
              "    <tr>\n",
              "      <th>MA</th>\n",
              "      <th>director</th>\n",
              "      <td>117.833333</td>\n",
              "    </tr>\n",
              "    <tr>\n",
              "      <th>IL</th>\n",
              "      <th>data scientist</th>\n",
              "      <td>117.233333</td>\n",
              "    </tr>\n",
              "    <tr>\n",
              "      <th>NC</th>\n",
              "      <th>data scientist</th>\n",
              "      <td>117.000000</td>\n",
              "    </tr>\n",
              "    <tr>\n",
              "      <th>NY</th>\n",
              "      <th>data scientist</th>\n",
              "      <td>115.250000</td>\n",
              "    </tr>\n",
              "    <tr>\n",
              "      <th>IN</th>\n",
              "      <th>data engineer</th>\n",
              "      <td>114.500000</td>\n",
              "    </tr>\n",
              "    <tr>\n",
              "      <th>MA</th>\n",
              "      <th>data scientist</th>\n",
              "      <td>113.750000</td>\n",
              "    </tr>\n",
              "    <tr>\n",
              "      <th>WI</th>\n",
              "      <th>data scientist</th>\n",
              "      <td>113.500000</td>\n",
              "    </tr>\n",
              "    <tr>\n",
              "      <th>PA</th>\n",
              "      <th>data scientist</th>\n",
              "      <td>113.333333</td>\n",
              "    </tr>\n",
              "    <tr>\n",
              "      <th>TX</th>\n",
              "      <th>data engineer</th>\n",
              "      <td>113.062500</td>\n",
              "    </tr>\n",
              "    <tr>\n",
              "      <th>NJ</th>\n",
              "      <th>data engineer</th>\n",
              "      <td>112.000000</td>\n",
              "    </tr>\n",
              "  </tbody>\n",
              "</table>\n",
              "</div>"
            ],
            "text/plain": [
              "                                     average_salary\n",
              "job_state job_title_simplified                     \n",
              "IL        director                       221.750000\n",
              "CA        machine learning engineer      163.500000\n",
              "NJ        director                       161.500000\n",
              "DC        data scientist                 149.000000\n",
              "CA        data scientist                 143.044776\n",
              "UT        data scientist                 140.500000\n",
              "CA        data engineer                  129.540000\n",
              "MO        data scientist                 127.666667\n",
              "NY        machine learning engineer      125.000000\n",
              "AZ        na                             124.500000\n",
              "MA        director                       117.833333\n",
              "IL        data scientist                 117.233333\n",
              "NC        data scientist                 117.000000\n",
              "NY        data scientist                 115.250000\n",
              "IN        data engineer                  114.500000\n",
              "MA        data scientist                 113.750000\n",
              "WI        data scientist                 113.500000\n",
              "PA        data scientist                 113.333333\n",
              "TX        data engineer                  113.062500\n",
              "NJ        data engineer                  112.000000"
            ]
          },
          "metadata": {
            "tags": []
          },
          "execution_count": 81
        }
      ]
    },
    {
      "cell_type": "code",
      "metadata": {
        "id": "VWCx8DKHDO6H",
        "colab_type": "code",
        "colab": {
          "base_uri": "https://localhost:8080/",
          "height": 708
        },
        "outputId": "a21b2bbf-8863-4657-dbc4-fcde0cd8d1ef"
      },
      "source": [
        "pd.pivot_table(df,index='job_state',values='average_salary').sort_values('average_salary',ascending=False)[:20]"
      ],
      "execution_count": 82,
      "outputs": [
        {
          "output_type": "execute_result",
          "data": {
            "text/html": [
              "<div>\n",
              "<style scoped>\n",
              "    .dataframe tbody tr th:only-of-type {\n",
              "        vertical-align: middle;\n",
              "    }\n",
              "\n",
              "    .dataframe tbody tr th {\n",
              "        vertical-align: top;\n",
              "    }\n",
              "\n",
              "    .dataframe thead th {\n",
              "        text-align: right;\n",
              "    }\n",
              "</style>\n",
              "<table border=\"1\" class=\"dataframe\">\n",
              "  <thead>\n",
              "    <tr style=\"text-align: right;\">\n",
              "      <th></th>\n",
              "      <th>average_salary</th>\n",
              "    </tr>\n",
              "    <tr>\n",
              "      <th>job_state</th>\n",
              "      <th></th>\n",
              "    </tr>\n",
              "  </thead>\n",
              "  <tbody>\n",
              "    <tr>\n",
              "      <th>CA</th>\n",
              "      <td>123.619205</td>\n",
              "    </tr>\n",
              "    <tr>\n",
              "      <th>IL</th>\n",
              "      <td>116.662500</td>\n",
              "    </tr>\n",
              "    <tr>\n",
              "      <th>DC</th>\n",
              "      <td>110.181818</td>\n",
              "    </tr>\n",
              "    <tr>\n",
              "      <th>Los Angeles</th>\n",
              "      <td>107.500000</td>\n",
              "    </tr>\n",
              "    <tr>\n",
              "      <th>MA</th>\n",
              "      <td>106.281553</td>\n",
              "    </tr>\n",
              "    <tr>\n",
              "      <th>NJ</th>\n",
              "      <td>104.558824</td>\n",
              "    </tr>\n",
              "    <tr>\n",
              "      <th>MI</th>\n",
              "      <td>100.250000</td>\n",
              "    </tr>\n",
              "    <tr>\n",
              "      <th>RI</th>\n",
              "      <td>100.000000</td>\n",
              "    </tr>\n",
              "    <tr>\n",
              "      <th>NY</th>\n",
              "      <td>98.652778</td>\n",
              "    </tr>\n",
              "    <tr>\n",
              "      <th>NC</th>\n",
              "      <td>98.452381</td>\n",
              "    </tr>\n",
              "    <tr>\n",
              "      <th>MD</th>\n",
              "      <td>97.357143</td>\n",
              "    </tr>\n",
              "    <tr>\n",
              "      <th>KY</th>\n",
              "      <td>97.000000</td>\n",
              "    </tr>\n",
              "    <tr>\n",
              "      <th>VA</th>\n",
              "      <td>95.621951</td>\n",
              "    </tr>\n",
              "    <tr>\n",
              "      <th>UT</th>\n",
              "      <td>94.150000</td>\n",
              "    </tr>\n",
              "    <tr>\n",
              "      <th>WA</th>\n",
              "      <td>93.190476</td>\n",
              "    </tr>\n",
              "    <tr>\n",
              "      <th>PA</th>\n",
              "      <td>92.560606</td>\n",
              "    </tr>\n",
              "    <tr>\n",
              "      <th>OR</th>\n",
              "      <td>92.125000</td>\n",
              "    </tr>\n",
              "    <tr>\n",
              "      <th>IN</th>\n",
              "      <td>90.300000</td>\n",
              "    </tr>\n",
              "    <tr>\n",
              "      <th>TX</th>\n",
              "      <td>89.392857</td>\n",
              "    </tr>\n",
              "    <tr>\n",
              "      <th>OH</th>\n",
              "      <td>87.571429</td>\n",
              "    </tr>\n",
              "  </tbody>\n",
              "</table>\n",
              "</div>"
            ],
            "text/plain": [
              "             average_salary\n",
              "job_state                  \n",
              "CA               123.619205\n",
              "IL               116.662500\n",
              "DC               110.181818\n",
              "Los Angeles      107.500000\n",
              "MA               106.281553\n",
              "NJ               104.558824\n",
              "MI               100.250000\n",
              "RI               100.000000\n",
              "NY                98.652778\n",
              "NC                98.452381\n",
              "MD                97.357143\n",
              "KY                97.000000\n",
              "VA                95.621951\n",
              "UT                94.150000\n",
              "WA                93.190476\n",
              "PA                92.560606\n",
              "OR                92.125000\n",
              "IN                90.300000\n",
              "TX                89.392857\n",
              "OH                87.571429"
            ]
          },
          "metadata": {
            "tags": []
          },
          "execution_count": 82
        }
      ]
    },
    {
      "cell_type": "code",
      "metadata": {
        "id": "pWpTsP9ID-iD",
        "colab_type": "code",
        "colab": {
          "base_uri": "https://localhost:8080/",
          "height": 551
        },
        "outputId": "2f9dea77-61ae-486c-c0d1-dae459247244"
      },
      "source": [
        "#Top 15 'Industries' for Data scientests\n",
        "pd.pivot_table(df,index='Industry',values='average_salary').sort_values('average_salary',ascending=False)[:15] "
      ],
      "execution_count": 83,
      "outputs": [
        {
          "output_type": "execute_result",
          "data": {
            "text/html": [
              "<div>\n",
              "<style scoped>\n",
              "    .dataframe tbody tr th:only-of-type {\n",
              "        vertical-align: middle;\n",
              "    }\n",
              "\n",
              "    .dataframe tbody tr th {\n",
              "        vertical-align: top;\n",
              "    }\n",
              "\n",
              "    .dataframe thead th {\n",
              "        text-align: right;\n",
              "    }\n",
              "</style>\n",
              "<table border=\"1\" class=\"dataframe\">\n",
              "  <thead>\n",
              "    <tr style=\"text-align: right;\">\n",
              "      <th></th>\n",
              "      <th>average_salary</th>\n",
              "    </tr>\n",
              "    <tr>\n",
              "      <th>Industry</th>\n",
              "      <th></th>\n",
              "    </tr>\n",
              "  </thead>\n",
              "  <tbody>\n",
              "    <tr>\n",
              "      <th>Other Retail Stores</th>\n",
              "      <td>163.500000</td>\n",
              "    </tr>\n",
              "    <tr>\n",
              "      <th>Motion Picture Production &amp; Distribution</th>\n",
              "      <td>146.000000</td>\n",
              "    </tr>\n",
              "    <tr>\n",
              "      <th>Financial Analytics &amp; Research</th>\n",
              "      <td>145.125000</td>\n",
              "    </tr>\n",
              "    <tr>\n",
              "      <th>Health, Beauty, &amp; Fitness</th>\n",
              "      <td>139.500000</td>\n",
              "    </tr>\n",
              "    <tr>\n",
              "      <th>Telecommunications Services</th>\n",
              "      <td>131.500000</td>\n",
              "    </tr>\n",
              "    <tr>\n",
              "      <th>Brokerage Services</th>\n",
              "      <td>129.000000</td>\n",
              "    </tr>\n",
              "    <tr>\n",
              "      <th>Auctions &amp; Galleries</th>\n",
              "      <td>128.000000</td>\n",
              "    </tr>\n",
              "    <tr>\n",
              "      <th>Internet</th>\n",
              "      <td>123.810345</td>\n",
              "    </tr>\n",
              "    <tr>\n",
              "      <th>Investment Banking &amp; Asset Management</th>\n",
              "      <td>118.400000</td>\n",
              "    </tr>\n",
              "    <tr>\n",
              "      <th>TV Broadcast &amp; Cable Networks</th>\n",
              "      <td>117.750000</td>\n",
              "    </tr>\n",
              "    <tr>\n",
              "      <th>Enterprise Software &amp; Network Solutions</th>\n",
              "      <td>115.369048</td>\n",
              "    </tr>\n",
              "    <tr>\n",
              "      <th>Computer Hardware &amp; Software</th>\n",
              "      <td>115.194915</td>\n",
              "    </tr>\n",
              "    <tr>\n",
              "      <th>-1</th>\n",
              "      <td>114.650000</td>\n",
              "    </tr>\n",
              "    <tr>\n",
              "      <th>Accounting</th>\n",
              "      <td>113.500000</td>\n",
              "    </tr>\n",
              "    <tr>\n",
              "      <th>Biotech &amp; Pharmaceuticals</th>\n",
              "      <td>111.767857</td>\n",
              "    </tr>\n",
              "  </tbody>\n",
              "</table>\n",
              "</div>"
            ],
            "text/plain": [
              "                                          average_salary\n",
              "Industry                                                \n",
              "Other Retail Stores                           163.500000\n",
              "Motion Picture Production & Distribution      146.000000\n",
              "Financial Analytics & Research                145.125000\n",
              "Health, Beauty, & Fitness                     139.500000\n",
              "Telecommunications Services                   131.500000\n",
              "Brokerage Services                            129.000000\n",
              "Auctions & Galleries                          128.000000\n",
              "Internet                                      123.810345\n",
              "Investment Banking & Asset Management         118.400000\n",
              "TV Broadcast & Cable Networks                 117.750000\n",
              "Enterprise Software & Network Solutions       115.369048\n",
              "Computer Hardware & Software                  115.194915\n",
              "-1                                            114.650000\n",
              "Accounting                                    113.500000\n",
              "Biotech & Pharmaceuticals                     111.767857"
            ]
          },
          "metadata": {
            "tags": []
          },
          "execution_count": 83
        }
      ]
    },
    {
      "cell_type": "code",
      "metadata": {
        "id": "HrcN3plPE_Xz",
        "colab_type": "code",
        "colab": {
          "base_uri": "https://localhost:8080/",
          "height": 394
        },
        "outputId": "5e874356-a276-46d0-85b7-8352a65aa14c"
      },
      "source": [
        "#Top 10 Sectors for Data scientests\n",
        "pd.pivot_table(df,index='Sector',values='average_salary').sort_values('average_salary',ascending=False)[:10]"
      ],
      "execution_count": 84,
      "outputs": [
        {
          "output_type": "execute_result",
          "data": {
            "text/html": [
              "<div>\n",
              "<style scoped>\n",
              "    .dataframe tbody tr th:only-of-type {\n",
              "        vertical-align: middle;\n",
              "    }\n",
              "\n",
              "    .dataframe tbody tr th {\n",
              "        vertical-align: top;\n",
              "    }\n",
              "\n",
              "    .dataframe thead th {\n",
              "        text-align: right;\n",
              "    }\n",
              "</style>\n",
              "<table border=\"1\" class=\"dataframe\">\n",
              "  <thead>\n",
              "    <tr style=\"text-align: right;\">\n",
              "      <th></th>\n",
              "      <th>average_salary</th>\n",
              "    </tr>\n",
              "    <tr>\n",
              "      <th>Sector</th>\n",
              "      <th></th>\n",
              "    </tr>\n",
              "  </thead>\n",
              "  <tbody>\n",
              "    <tr>\n",
              "      <th>Media</th>\n",
              "      <td>116.666667</td>\n",
              "    </tr>\n",
              "    <tr>\n",
              "      <th>-1</th>\n",
              "      <td>114.650000</td>\n",
              "    </tr>\n",
              "    <tr>\n",
              "      <th>Accounting &amp; Legal</th>\n",
              "      <td>113.500000</td>\n",
              "    </tr>\n",
              "    <tr>\n",
              "      <th>Information Technology</th>\n",
              "      <td>113.191667</td>\n",
              "    </tr>\n",
              "    <tr>\n",
              "      <th>Biotech &amp; Pharmaceuticals</th>\n",
              "      <td>111.767857</td>\n",
              "    </tr>\n",
              "    <tr>\n",
              "      <th>Insurance</th>\n",
              "      <td>105.942029</td>\n",
              "    </tr>\n",
              "    <tr>\n",
              "      <th>Real Estate</th>\n",
              "      <td>104.750000</td>\n",
              "    </tr>\n",
              "    <tr>\n",
              "      <th>Mining &amp; Metals</th>\n",
              "      <td>104.000000</td>\n",
              "    </tr>\n",
              "    <tr>\n",
              "      <th>Telecommunications</th>\n",
              "      <td>102.333333</td>\n",
              "    </tr>\n",
              "    <tr>\n",
              "      <th>Education</th>\n",
              "      <td>100.739130</td>\n",
              "    </tr>\n",
              "  </tbody>\n",
              "</table>\n",
              "</div>"
            ],
            "text/plain": [
              "                           average_salary\n",
              "Sector                                   \n",
              "Media                          116.666667\n",
              "-1                             114.650000\n",
              "Accounting & Legal             113.500000\n",
              "Information Technology         113.191667\n",
              "Biotech & Pharmaceuticals      111.767857\n",
              "Insurance                      105.942029\n",
              "Real Estate                    104.750000\n",
              "Mining & Metals                104.000000\n",
              "Telecommunications             102.333333\n",
              "Education                      100.739130"
            ]
          },
          "metadata": {
            "tags": []
          },
          "execution_count": 84
        }
      ]
    },
    {
      "cell_type": "code",
      "metadata": {
        "id": "cXRZJv0RFh8G",
        "colab_type": "code",
        "colab": {
          "base_uri": "https://localhost:8080/",
          "height": 363
        },
        "outputId": "c9181662-cdec-4b83-d729-89818d292e84"
      },
      "source": [
        "#Top company types that pay for Data Scientest well\n",
        "pd.pivot_table(df,index='Type of ownership',values='average_salary').sort_values('average_salary',ascending=False)[:10]"
      ],
      "execution_count": 85,
      "outputs": [
        {
          "output_type": "execute_result",
          "data": {
            "text/html": [
              "<div>\n",
              "<style scoped>\n",
              "    .dataframe tbody tr th:only-of-type {\n",
              "        vertical-align: middle;\n",
              "    }\n",
              "\n",
              "    .dataframe tbody tr th {\n",
              "        vertical-align: top;\n",
              "    }\n",
              "\n",
              "    .dataframe thead th {\n",
              "        text-align: right;\n",
              "    }\n",
              "</style>\n",
              "<table border=\"1\" class=\"dataframe\">\n",
              "  <thead>\n",
              "    <tr style=\"text-align: right;\">\n",
              "      <th></th>\n",
              "      <th>average_salary</th>\n",
              "    </tr>\n",
              "    <tr>\n",
              "      <th>Type of ownership</th>\n",
              "      <th></th>\n",
              "    </tr>\n",
              "  </thead>\n",
              "  <tbody>\n",
              "    <tr>\n",
              "      <th>Public</th>\n",
              "      <td>110.893782</td>\n",
              "    </tr>\n",
              "    <tr>\n",
              "      <th>Subsidiary or Business Segment</th>\n",
              "      <td>110.573529</td>\n",
              "    </tr>\n",
              "    <tr>\n",
              "      <th>College / University</th>\n",
              "      <td>107.615385</td>\n",
              "    </tr>\n",
              "    <tr>\n",
              "      <th>Private</th>\n",
              "      <td>101.776829</td>\n",
              "    </tr>\n",
              "    <tr>\n",
              "      <th>Government</th>\n",
              "      <td>84.300000</td>\n",
              "    </tr>\n",
              "    <tr>\n",
              "      <th>Other Organization</th>\n",
              "      <td>77.900000</td>\n",
              "    </tr>\n",
              "    <tr>\n",
              "      <th>School / School District</th>\n",
              "      <td>77.750000</td>\n",
              "    </tr>\n",
              "    <tr>\n",
              "      <th>Nonprofit Organization</th>\n",
              "      <td>68.281818</td>\n",
              "    </tr>\n",
              "    <tr>\n",
              "      <th>Hospital</th>\n",
              "      <td>54.000000</td>\n",
              "    </tr>\n",
              "  </tbody>\n",
              "</table>\n",
              "</div>"
            ],
            "text/plain": [
              "                                average_salary\n",
              "Type of ownership                             \n",
              "Public                              110.893782\n",
              "Subsidiary or Business Segment      110.573529\n",
              "College / University                107.615385\n",
              "Private                             101.776829\n",
              "Government                           84.300000\n",
              "Other Organization                   77.900000\n",
              "School / School District             77.750000\n",
              "Nonprofit Organization               68.281818\n",
              "Hospital                             54.000000"
            ]
          },
          "metadata": {
            "tags": []
          },
          "execution_count": 85
        }
      ]
    },
    {
      "cell_type": "code",
      "metadata": {
        "id": "FteD0mc2GX-A",
        "colab_type": "code",
        "colab": {
          "base_uri": "https://localhost:8080/",
          "height": 708
        },
        "outputId": "6ef7c626-4cd1-4152-8783-45b1514f28eb"
      },
      "source": [
        "#Top 20 Company Name pay for data scients job well\n",
        "pd.pivot_table(df,index='Company Name',values='average_salary').sort_values('average_salary',ascending=False)[:20]"
      ],
      "execution_count": 86,
      "outputs": [
        {
          "output_type": "execute_result",
          "data": {
            "text/html": [
              "<div>\n",
              "<style scoped>\n",
              "    .dataframe tbody tr th:only-of-type {\n",
              "        vertical-align: middle;\n",
              "    }\n",
              "\n",
              "    .dataframe tbody tr th {\n",
              "        vertical-align: top;\n",
              "    }\n",
              "\n",
              "    .dataframe thead th {\n",
              "        text-align: right;\n",
              "    }\n",
              "</style>\n",
              "<table border=\"1\" class=\"dataframe\">\n",
              "  <thead>\n",
              "    <tr style=\"text-align: right;\">\n",
              "      <th></th>\n",
              "      <th>average_salary</th>\n",
              "    </tr>\n",
              "    <tr>\n",
              "      <th>Company Name</th>\n",
              "      <th></th>\n",
              "    </tr>\n",
              "  </thead>\n",
              "  <tbody>\n",
              "    <tr>\n",
              "      <th>Gallup</th>\n",
              "      <td>237.5</td>\n",
              "    </tr>\n",
              "    <tr>\n",
              "      <th>Sage Intacct</th>\n",
              "      <td>232.5</td>\n",
              "    </tr>\n",
              "    <tr>\n",
              "      <th>CA-One Tech Cloud</th>\n",
              "      <td>225.0</td>\n",
              "    </tr>\n",
              "    <tr>\n",
              "      <th>Grand Rounds</th>\n",
              "      <td>221.5</td>\n",
              "    </tr>\n",
              "    <tr>\n",
              "      <th>Credit Sesame</th>\n",
              "      <td>205.0</td>\n",
              "    </tr>\n",
              "    <tr>\n",
              "      <th>The Climate Corporation</th>\n",
              "      <td>194.0</td>\n",
              "    </tr>\n",
              "    <tr>\n",
              "      <th>Grainger</th>\n",
              "      <td>179.5</td>\n",
              "    </tr>\n",
              "    <tr>\n",
              "      <th>Samsung Research America</th>\n",
              "      <td>177.0</td>\n",
              "    </tr>\n",
              "    <tr>\n",
              "      <th>Nektar Therapeutics</th>\n",
              "      <td>174.0</td>\n",
              "    </tr>\n",
              "    <tr>\n",
              "      <th>DTCC</th>\n",
              "      <td>173.0</td>\n",
              "    </tr>\n",
              "    <tr>\n",
              "      <th>Two Sigma</th>\n",
              "      <td>172.0</td>\n",
              "    </tr>\n",
              "    <tr>\n",
              "      <th>BioMarin Pharmaceutical</th>\n",
              "      <td>168.0</td>\n",
              "    </tr>\n",
              "    <tr>\n",
              "      <th>Confluent</th>\n",
              "      <td>168.0</td>\n",
              "    </tr>\n",
              "    <tr>\n",
              "      <th>Quartet Health</th>\n",
              "      <td>165.0</td>\n",
              "    </tr>\n",
              "    <tr>\n",
              "      <th>Samba TV</th>\n",
              "      <td>164.5</td>\n",
              "    </tr>\n",
              "    <tr>\n",
              "      <th>Zest AI</th>\n",
              "      <td>164.0</td>\n",
              "    </tr>\n",
              "    <tr>\n",
              "      <th>Wish</th>\n",
              "      <td>163.5</td>\n",
              "    </tr>\n",
              "    <tr>\n",
              "      <th>Adobe</th>\n",
              "      <td>162.0</td>\n",
              "    </tr>\n",
              "    <tr>\n",
              "      <th>Glassdoor</th>\n",
              "      <td>162.0</td>\n",
              "    </tr>\n",
              "    <tr>\n",
              "      <th>Genentech</th>\n",
              "      <td>156.5</td>\n",
              "    </tr>\n",
              "  </tbody>\n",
              "</table>\n",
              "</div>"
            ],
            "text/plain": [
              "                          average_salary\n",
              "Company Name                            \n",
              "Gallup                             237.5\n",
              "Sage Intacct                       232.5\n",
              "CA-One Tech Cloud                  225.0\n",
              "Grand Rounds                       221.5\n",
              "Credit Sesame                      205.0\n",
              "The Climate Corporation            194.0\n",
              "Grainger                           179.5\n",
              "Samsung Research America           177.0\n",
              "Nektar Therapeutics                174.0\n",
              "DTCC                               173.0\n",
              "Two Sigma                          172.0\n",
              "BioMarin Pharmaceutical            168.0\n",
              "Confluent                          168.0\n",
              "Quartet Health                     165.0\n",
              "Samba TV                           164.5\n",
              "Zest AI                            164.0\n",
              "Wish                               163.5\n",
              "Adobe                              162.0\n",
              "Glassdoor                          162.0\n",
              "Genentech                          156.5"
            ]
          },
          "metadata": {
            "tags": []
          },
          "execution_count": 86
        }
      ]
    },
    {
      "cell_type": "markdown",
      "metadata": {
        "id": "EsPUIesDIZbe",
        "colab_type": "text"
      },
      "source": [
        "#Feature Engineering\n",
        "#Trimming the columns"
      ]
    },
    {
      "cell_type": "code",
      "metadata": {
        "id": "dtIjfoaTHUmB",
        "colab_type": "code",
        "colab": {}
      },
      "source": [
        "# Trimming the 'Industry' column\n",
        "# Taking top 11 Industries and replacing others by 'Others'\n",
        "industry_list = ['Biotech & Pharmaceuticals', 'Insurance Carriers', 'Computer Hardware & Software', 'IT Services', 'Health Care Services & Hospitals', \n",
        "                 'Enterprise Software & Network Solutions', 'Consulting', 'Internet', 'Advertising & Marketing', 'Aerospace & Defense', 'Consumer Products Manufacturing']\n",
        "\n",
        "def industry_simplifier(text):\n",
        "  if text not in industry_list:\n",
        "    return 'Others'\n",
        "  else:\n",
        "    return text\n",
        "\n",
        "df['Industry'] = df['Industry'].apply(industry_simplifier)"
      ],
      "execution_count": 87,
      "outputs": []
    },
    {
      "cell_type": "code",
      "metadata": {
        "id": "coxb_dp2xYAs",
        "colab_type": "code",
        "colab": {
          "base_uri": "https://localhost:8080/",
          "height": 129
        },
        "outputId": "19f24688-ec10-4ea6-90a5-0c3a7e71a37c"
      },
      "source": [
        "df['Industry'].tail()"
      ],
      "execution_count": 88,
      "outputs": [
        {
          "output_type": "execute_result",
          "data": {
            "text/plain": [
              "950    Biotech & Pharmaceuticals\n",
              "951                     Internet\n",
              "952                       Others\n",
              "953                       Others\n",
              "955                       Others\n",
              "Name: Industry, dtype: object"
            ]
          },
          "metadata": {
            "tags": []
          },
          "execution_count": 88
        }
      ]
    },
    {
      "cell_type": "code",
      "metadata": {
        "id": "Eo9YZbR8x-NK",
        "colab_type": "code",
        "colab": {}
      },
      "source": [
        "# Trimming the 'job_state' column\n",
        "# Taking top 10 States and replacing others by 'Others'\n",
        "job_state_list = ['CA', 'MA', 'NY', 'VA', 'IL', 'MD', 'PA', 'TX', 'NC', 'WA']\n",
        "\n",
        "def job_state_simplifier(text):\n",
        "  if text not in job_state_list:\n",
        "    return 'Others'\n",
        "  else:\n",
        "    return text\n",
        "\n",
        "df['job_state'] = df['job_state'].apply(job_state_simplifier)"
      ],
      "execution_count": 89,
      "outputs": []
    },
    {
      "cell_type": "code",
      "metadata": {
        "id": "KuUn398hzlYP",
        "colab_type": "code",
        "colab": {
          "base_uri": "https://localhost:8080/",
          "height": 129
        },
        "outputId": "0cc420c2-66c9-4bc6-dcca-b046a6c260fd"
      },
      "source": [
        "df['job_state'].head()"
      ],
      "execution_count": 90,
      "outputs": [
        {
          "output_type": "execute_result",
          "data": {
            "text/plain": [
              "0    Others\n",
              "1        MD\n",
              "2    Others\n",
              "3        WA\n",
              "4        NY\n",
              "Name: job_state, dtype: object"
            ]
          },
          "metadata": {
            "tags": []
          },
          "execution_count": 90
        }
      ]
    },
    {
      "cell_type": "code",
      "metadata": {
        "id": "3Rp5lrJ30JXR",
        "colab_type": "code",
        "colab": {}
      },
      "source": [
        "# Adding column of 'job_in_headquarters'\n",
        "df['job_in_headquarters'] = df.apply(lambda x: 1 if x['Location'] == x['Headquarters'] else 0, axis=1)"
      ],
      "execution_count": 91,
      "outputs": []
    },
    {
      "cell_type": "code",
      "metadata": {
        "id": "zqSFg6Mi096C",
        "colab_type": "code",
        "colab": {
          "base_uri": "https://localhost:8080/",
          "height": 129
        },
        "outputId": "ceffc448-9c44-480c-ddf6-51b3b551c7de"
      },
      "source": [
        "df['job_in_headquarters'].head()"
      ],
      "execution_count": 92,
      "outputs": [
        {
          "output_type": "execute_result",
          "data": {
            "text/plain": [
              "0    0\n",
              "1    0\n",
              "2    1\n",
              "3    1\n",
              "4    1\n",
              "Name: job_in_headquarters, dtype: int64"
            ]
          },
          "metadata": {
            "tags": []
          },
          "execution_count": 92
        }
      ]
    },
    {
      "cell_type": "code",
      "metadata": {
        "id": "iEF14V361WBD",
        "colab_type": "code",
        "colab": {
          "base_uri": "https://localhost:8080/",
          "height": 167
        },
        "outputId": "3f633db7-a04b-4af9-b290-d3b87371afa5"
      },
      "source": [
        "df.columns"
      ],
      "execution_count": 93,
      "outputs": [
        {
          "output_type": "execute_result",
          "data": {
            "text/plain": [
              "Index(['Job Title', 'Salary Estimate', 'Job Description', 'Rating',\n",
              "       'Company Name', 'Location', 'Headquarters', 'Size', 'Founded',\n",
              "       'Type of ownership', 'Industry', 'Sector', 'Revenue', 'Competitors',\n",
              "       'salary_per_hour', 'emp_provided_salary', 'min_salary', 'max_salary',\n",
              "       'average_salary', 'job_state', 'company_age', 'python_job', 'r_job',\n",
              "       'spark_job', 'aws_job', 'excel_job', 'job_title_simplified',\n",
              "       'job_seniority', 'job_in_headquarters'],\n",
              "      dtype='object')"
            ]
          },
          "metadata": {
            "tags": []
          },
          "execution_count": 93
        }
      ]
    },
    {
      "cell_type": "code",
      "metadata": {
        "id": "PRq8ivyj1ZKd",
        "colab_type": "code",
        "colab": {}
      },
      "source": [
        "# Choosing relevant columns\n",
        "df_model = df.copy(deep=True)\n",
        "df_model = df_model[['average_salary', 'Rating', 'company_age', 'Size', 'Type of ownership', 'Industry', 'Revenue', 'Competitors',\n",
        "               'job_title_simplified', 'job_seniority', 'job_state', 'job_in_headquarters', 'python_job', 'spark_job', 'aws_job', 'excel_job', ]]"
      ],
      "execution_count": 94,
      "outputs": []
    },
    {
      "cell_type": "code",
      "metadata": {
        "id": "7AaplP6X2-_L",
        "colab_type": "code",
        "colab": {}
      },
      "source": [
        "# Renaming columns\n",
        "df_model.rename(columns={'Rating':'company_rating', 'Size':'company_size', 'Type of ownership':'type_of_ownership',\n",
        "                         'Industry':'industry', 'Revenue':'revenue', 'Competitors':'competitors'}, inplace=True)"
      ],
      "execution_count": 95,
      "outputs": []
    },
    {
      "cell_type": "code",
      "metadata": {
        "id": "_6oNTDab4W7P",
        "colab_type": "code",
        "colab": {
          "base_uri": "https://localhost:8080/",
          "height": 129
        },
        "outputId": "f3fa09d2-e851-49a7-cf47-f2ce51c6fd7e"
      },
      "source": [
        "df_model.columns"
      ],
      "execution_count": 96,
      "outputs": [
        {
          "output_type": "execute_result",
          "data": {
            "text/plain": [
              "Index(['average_salary', 'company_rating', 'company_age', 'company_size',\n",
              "       'type_of_ownership', 'industry', 'revenue', 'competitors',\n",
              "       'job_title_simplified', 'job_seniority', 'job_state',\n",
              "       'job_in_headquarters', 'python_job', 'spark_job', 'aws_job',\n",
              "       'excel_job'],\n",
              "      dtype='object')"
            ]
          },
          "metadata": {
            "tags": []
          },
          "execution_count": 96
        }
      ]
    },
    {
      "cell_type": "code",
      "metadata": {
        "id": "-4kzzcDc5_yf",
        "colab_type": "code",
        "colab": {
          "base_uri": "https://localhost:8080/",
          "height": 92
        },
        "outputId": "ab60c60f-029f-46de-ca3e-adfe4efd3c70"
      },
      "source": [
        "df_model['company_size'].unique()"
      ],
      "execution_count": 97,
      "outputs": [
        {
          "output_type": "execute_result",
          "data": {
            "text/plain": [
              "array(['501 to 1000 employees', '10000+ employees',\n",
              "       '1001 to 5000 employees', '51 to 200 employees',\n",
              "       '201 to 500 employees', '5001 to 10000 employees',\n",
              "       '1 to 50 employees', 'Unknown'], dtype=object)"
            ]
          },
          "metadata": {
            "tags": []
          },
          "execution_count": 97
        }
      ]
    },
    {
      "cell_type": "markdown",
      "metadata": {
        "id": "eHp3rdAr4nvN",
        "colab_type": "text"
      },
      "source": [
        "#Handling Ordinal Categorical Features"
      ]
    },
    {
      "cell_type": "code",
      "metadata": {
        "id": "6SnEH4Pv4aKR",
        "colab_type": "code",
        "colab": {}
      },
      "source": [
        "# Mapping ranks to 'company_size' columns since it is ordinal categorical feature\n",
        "size_map = {'Unknown': 0, '1 to 50 employees': 1, '51 to 200 employees': 2, '201 to 500 employees': 3,\n",
        "            '501 to 1000 employees': 4, '1001 to 5000 employees': 5, '5001 to 10000 employees': 6, '10000+ employees': 7}\n",
        "\n",
        "df_model['company_size_rank'] = df_model['company_size'].map(size_map)\n",
        "df_model.drop('company_size', axis=True, inplace=True)"
      ],
      "execution_count": 98,
      "outputs": []
    },
    {
      "cell_type": "code",
      "metadata": {
        "id": "zZH38yt98ALq",
        "colab_type": "code",
        "colab": {}
      },
      "source": [
        "# Mapping ranks to 'revenue\t' columns since it is ordinal categorical feature\n",
        "revenue_map = {'Unknown / Non-Applicable': 0, 'Less than $1 million (USD)': 1, '$1 to $5 million (USD)': 2, '$5 to $10 million (USD)': 3,\n",
        "            '$10 to $25 million (USD)': 4, '$25 to $50 million (USD)': 5, '$50 to $100 million (USD)': 6, '$100 to $500 million (USD)': 7,\n",
        "            '$500 million to $1 billion (USD)': 8, '$1 to $2 billion (USD)': 9, '$2 to $5 billion (USD)':10, '$5 to $10 billion (USD)':11, '$10+ billion (USD)':12}\n",
        "\n",
        "df_model['company_revenue_rank'] = df_model['revenue'].map(revenue_map)\n",
        "df_model.drop('revenue', axis=True, inplace=True)"
      ],
      "execution_count": 99,
      "outputs": []
    },
    {
      "cell_type": "code",
      "metadata": {
        "id": "77pylVrl8r0D",
        "colab_type": "code",
        "colab": {
          "base_uri": "https://localhost:8080/",
          "height": 148
        },
        "outputId": "6dbb22cf-9749-4451-933d-1f49b8fdddba"
      },
      "source": [
        "df['Revenue'].unique()"
      ],
      "execution_count": 100,
      "outputs": [
        {
          "output_type": "execute_result",
          "data": {
            "text/plain": [
              "array(['$50 to $100 million (USD)', '$2 to $5 billion (USD)',\n",
              "       '$100 to $500 million (USD)', '$500 million to $1 billion (USD)',\n",
              "       'Unknown / Non-Applicable', '$1 to $2 billion (USD)',\n",
              "       '$25 to $50 million (USD)', '$10+ billion (USD)',\n",
              "       '$1 to $5 million (USD)', '$10 to $25 million (USD)',\n",
              "       '$5 to $10 billion (USD)', 'Less than $1 million (USD)',\n",
              "       '$5 to $10 million (USD)'], dtype=object)"
            ]
          },
          "metadata": {
            "tags": []
          },
          "execution_count": 100
        }
      ]
    },
    {
      "cell_type": "code",
      "metadata": {
        "id": "vvObnaoy8wPO",
        "colab_type": "code",
        "colab": {}
      },
      "source": [
        "# Mapping ranks to 'job_seniority\t' columns since it is ordinal categorical feature\n",
        "job_seniority_map = {'na': 0, 'jr': 1, 'senior': 2}\n",
        "\n",
        "df_model['job_seniority_rank'] = df_model['job_seniority'].map(job_seniority_map)\n",
        "df_model.drop('job_seniority', axis=True, inplace=True)"
      ],
      "execution_count": 101,
      "outputs": []
    },
    {
      "cell_type": "markdown",
      "metadata": {
        "id": "L8R30ubhBQw8",
        "colab_type": "text"
      },
      "source": [
        "#Handling Nomial Categrical features"
      ]
    },
    {
      "cell_type": "code",
      "metadata": {
        "id": "GiaQ4g-tABiy",
        "colab_type": "code",
        "colab": {
          "base_uri": "https://localhost:8080/",
          "height": 36
        },
        "outputId": "5d213641-3615-4c86-f33f-1c4a44daa3b4"
      },
      "source": [
        "# Removing 'type_of_ownership' column using get_dummies()\n",
        "df_model = pd.get_dummies(columns=['type_of_ownership'], data=df_model)\n",
        "df_model.shape"
      ],
      "execution_count": 102,
      "outputs": [
        {
          "output_type": "execute_result",
          "data": {
            "text/plain": [
              "(742, 24)"
            ]
          },
          "metadata": {
            "tags": []
          },
          "execution_count": 102
        }
      ]
    },
    {
      "cell_type": "code",
      "metadata": {
        "id": "RKKtc3zJB07a",
        "colab_type": "code",
        "colab": {
          "base_uri": "https://localhost:8080/",
          "height": 36
        },
        "outputId": "258a0706-efdb-4c8c-9767-c711a47958d1"
      },
      "source": [
        "#Removing 'industry' column using get_dummies\n",
        "df_model = pd.get_dummies(columns=['industry'],data=df_model)\n",
        "df_model.shape"
      ],
      "execution_count": 103,
      "outputs": [
        {
          "output_type": "execute_result",
          "data": {
            "text/plain": [
              "(742, 35)"
            ]
          },
          "metadata": {
            "tags": []
          },
          "execution_count": 103
        }
      ]
    },
    {
      "cell_type": "code",
      "metadata": {
        "id": "YDLLxTdjCLV3",
        "colab_type": "code",
        "colab": {
          "base_uri": "https://localhost:8080/",
          "height": 36
        },
        "outputId": "8b465cec-9208-4801-f6ba-faf8971f1e75"
      },
      "source": [
        "#Removing 'job_title_simplified' column using get_dummies()\n",
        "df_model = pd.get_dummies(columns=['job_title_simplified'],data=df_model)\n",
        "df_model.shape"
      ],
      "execution_count": 104,
      "outputs": [
        {
          "output_type": "execute_result",
          "data": {
            "text/plain": [
              "(742, 41)"
            ]
          },
          "metadata": {
            "tags": []
          },
          "execution_count": 104
        }
      ]
    },
    {
      "cell_type": "code",
      "metadata": {
        "id": "lWtB_PowC7GR",
        "colab_type": "code",
        "colab": {
          "base_uri": "https://localhost:8080/",
          "height": 36
        },
        "outputId": "69380b2e-5249-4d61-aaee-90875e3a4bf4"
      },
      "source": [
        "#Removing 'job_state' column using get_dummies()\n",
        "df_model = pd.get_dummies(columns=['job_state'],data=df_model)\n",
        "df_model.shape"
      ],
      "execution_count": 105,
      "outputs": [
        {
          "output_type": "execute_result",
          "data": {
            "text/plain": [
              "(742, 51)"
            ]
          },
          "metadata": {
            "tags": []
          },
          "execution_count": 105
        }
      ]
    },
    {
      "cell_type": "markdown",
      "metadata": {
        "id": "gxE8hq58D5hp",
        "colab_type": "text"
      },
      "source": [
        "#Feature Scalling using MinMaxScaller"
      ]
    },
    {
      "cell_type": "code",
      "metadata": {
        "id": "MxC-JERTDkHq",
        "colab_type": "code",
        "colab": {
          "base_uri": "https://localhost:8080/",
          "height": 261
        },
        "outputId": "80befabd-2e9a-45c4-9ac2-001e6287dd3d"
      },
      "source": [
        "df_model.head()"
      ],
      "execution_count": 106,
      "outputs": [
        {
          "output_type": "execute_result",
          "data": {
            "text/html": [
              "<div>\n",
              "<style scoped>\n",
              "    .dataframe tbody tr th:only-of-type {\n",
              "        vertical-align: middle;\n",
              "    }\n",
              "\n",
              "    .dataframe tbody tr th {\n",
              "        vertical-align: top;\n",
              "    }\n",
              "\n",
              "    .dataframe thead th {\n",
              "        text-align: right;\n",
              "    }\n",
              "</style>\n",
              "<table border=\"1\" class=\"dataframe\">\n",
              "  <thead>\n",
              "    <tr style=\"text-align: right;\">\n",
              "      <th></th>\n",
              "      <th>average_salary</th>\n",
              "      <th>company_rating</th>\n",
              "      <th>company_age</th>\n",
              "      <th>competitors</th>\n",
              "      <th>job_in_headquarters</th>\n",
              "      <th>python_job</th>\n",
              "      <th>spark_job</th>\n",
              "      <th>aws_job</th>\n",
              "      <th>excel_job</th>\n",
              "      <th>company_size_rank</th>\n",
              "      <th>company_revenue_rank</th>\n",
              "      <th>job_seniority_rank</th>\n",
              "      <th>type_of_ownership_College / University</th>\n",
              "      <th>type_of_ownership_Government</th>\n",
              "      <th>type_of_ownership_Hospital</th>\n",
              "      <th>type_of_ownership_Nonprofit Organization</th>\n",
              "      <th>type_of_ownership_Other Organization</th>\n",
              "      <th>type_of_ownership_Private</th>\n",
              "      <th>type_of_ownership_Public</th>\n",
              "      <th>type_of_ownership_School / School District</th>\n",
              "      <th>type_of_ownership_Subsidiary or Business Segment</th>\n",
              "      <th>industry_Advertising &amp; Marketing</th>\n",
              "      <th>industry_Aerospace &amp; Defense</th>\n",
              "      <th>industry_Biotech &amp; Pharmaceuticals</th>\n",
              "      <th>industry_Computer Hardware &amp; Software</th>\n",
              "      <th>industry_Consulting</th>\n",
              "      <th>industry_Consumer Products Manufacturing</th>\n",
              "      <th>industry_Enterprise Software &amp; Network Solutions</th>\n",
              "      <th>industry_Health Care Services &amp; Hospitals</th>\n",
              "      <th>industry_IT Services</th>\n",
              "      <th>industry_Insurance Carriers</th>\n",
              "      <th>industry_Internet</th>\n",
              "      <th>industry_Others</th>\n",
              "      <th>job_title_simplified_analyst</th>\n",
              "      <th>job_title_simplified_data engineer</th>\n",
              "      <th>job_title_simplified_data scientist</th>\n",
              "      <th>job_title_simplified_director</th>\n",
              "      <th>job_title_simplified_machine learning engineer</th>\n",
              "      <th>job_title_simplified_manager</th>\n",
              "      <th>job_title_simplified_na</th>\n",
              "      <th>job_state_CA</th>\n",
              "      <th>job_state_IL</th>\n",
              "      <th>job_state_MA</th>\n",
              "      <th>job_state_MD</th>\n",
              "      <th>job_state_NC</th>\n",
              "      <th>job_state_NY</th>\n",
              "      <th>job_state_Others</th>\n",
              "      <th>job_state_PA</th>\n",
              "      <th>job_state_TX</th>\n",
              "      <th>job_state_VA</th>\n",
              "      <th>job_state_WA</th>\n",
              "    </tr>\n",
              "  </thead>\n",
              "  <tbody>\n",
              "    <tr>\n",
              "      <th>0</th>\n",
              "      <td>72.0</td>\n",
              "      <td>3.8</td>\n",
              "      <td>47</td>\n",
              "      <td>0</td>\n",
              "      <td>0</td>\n",
              "      <td>1</td>\n",
              "      <td>0</td>\n",
              "      <td>0</td>\n",
              "      <td>1</td>\n",
              "      <td>4</td>\n",
              "      <td>6</td>\n",
              "      <td>0</td>\n",
              "      <td>0</td>\n",
              "      <td>0</td>\n",
              "      <td>0</td>\n",
              "      <td>0</td>\n",
              "      <td>0</td>\n",
              "      <td>1</td>\n",
              "      <td>0</td>\n",
              "      <td>0</td>\n",
              "      <td>0</td>\n",
              "      <td>0</td>\n",
              "      <td>1</td>\n",
              "      <td>0</td>\n",
              "      <td>0</td>\n",
              "      <td>0</td>\n",
              "      <td>0</td>\n",
              "      <td>0</td>\n",
              "      <td>0</td>\n",
              "      <td>0</td>\n",
              "      <td>0</td>\n",
              "      <td>0</td>\n",
              "      <td>0</td>\n",
              "      <td>0</td>\n",
              "      <td>0</td>\n",
              "      <td>1</td>\n",
              "      <td>0</td>\n",
              "      <td>0</td>\n",
              "      <td>0</td>\n",
              "      <td>0</td>\n",
              "      <td>0</td>\n",
              "      <td>0</td>\n",
              "      <td>0</td>\n",
              "      <td>0</td>\n",
              "      <td>0</td>\n",
              "      <td>0</td>\n",
              "      <td>1</td>\n",
              "      <td>0</td>\n",
              "      <td>0</td>\n",
              "      <td>0</td>\n",
              "      <td>0</td>\n",
              "    </tr>\n",
              "    <tr>\n",
              "      <th>1</th>\n",
              "      <td>87.5</td>\n",
              "      <td>3.4</td>\n",
              "      <td>36</td>\n",
              "      <td>0</td>\n",
              "      <td>0</td>\n",
              "      <td>1</td>\n",
              "      <td>0</td>\n",
              "      <td>0</td>\n",
              "      <td>0</td>\n",
              "      <td>7</td>\n",
              "      <td>10</td>\n",
              "      <td>0</td>\n",
              "      <td>0</td>\n",
              "      <td>0</td>\n",
              "      <td>0</td>\n",
              "      <td>0</td>\n",
              "      <td>1</td>\n",
              "      <td>0</td>\n",
              "      <td>0</td>\n",
              "      <td>0</td>\n",
              "      <td>0</td>\n",
              "      <td>0</td>\n",
              "      <td>0</td>\n",
              "      <td>0</td>\n",
              "      <td>0</td>\n",
              "      <td>0</td>\n",
              "      <td>0</td>\n",
              "      <td>0</td>\n",
              "      <td>1</td>\n",
              "      <td>0</td>\n",
              "      <td>0</td>\n",
              "      <td>0</td>\n",
              "      <td>0</td>\n",
              "      <td>0</td>\n",
              "      <td>0</td>\n",
              "      <td>1</td>\n",
              "      <td>0</td>\n",
              "      <td>0</td>\n",
              "      <td>0</td>\n",
              "      <td>0</td>\n",
              "      <td>0</td>\n",
              "      <td>0</td>\n",
              "      <td>0</td>\n",
              "      <td>1</td>\n",
              "      <td>0</td>\n",
              "      <td>0</td>\n",
              "      <td>0</td>\n",
              "      <td>0</td>\n",
              "      <td>0</td>\n",
              "      <td>0</td>\n",
              "      <td>0</td>\n",
              "    </tr>\n",
              "    <tr>\n",
              "      <th>2</th>\n",
              "      <td>85.0</td>\n",
              "      <td>4.8</td>\n",
              "      <td>10</td>\n",
              "      <td>0</td>\n",
              "      <td>1</td>\n",
              "      <td>1</td>\n",
              "      <td>1</td>\n",
              "      <td>0</td>\n",
              "      <td>1</td>\n",
              "      <td>4</td>\n",
              "      <td>7</td>\n",
              "      <td>0</td>\n",
              "      <td>0</td>\n",
              "      <td>0</td>\n",
              "      <td>0</td>\n",
              "      <td>0</td>\n",
              "      <td>0</td>\n",
              "      <td>1</td>\n",
              "      <td>0</td>\n",
              "      <td>0</td>\n",
              "      <td>0</td>\n",
              "      <td>0</td>\n",
              "      <td>0</td>\n",
              "      <td>0</td>\n",
              "      <td>0</td>\n",
              "      <td>0</td>\n",
              "      <td>0</td>\n",
              "      <td>0</td>\n",
              "      <td>0</td>\n",
              "      <td>0</td>\n",
              "      <td>0</td>\n",
              "      <td>0</td>\n",
              "      <td>1</td>\n",
              "      <td>0</td>\n",
              "      <td>0</td>\n",
              "      <td>1</td>\n",
              "      <td>0</td>\n",
              "      <td>0</td>\n",
              "      <td>0</td>\n",
              "      <td>0</td>\n",
              "      <td>0</td>\n",
              "      <td>0</td>\n",
              "      <td>0</td>\n",
              "      <td>0</td>\n",
              "      <td>0</td>\n",
              "      <td>0</td>\n",
              "      <td>1</td>\n",
              "      <td>0</td>\n",
              "      <td>0</td>\n",
              "      <td>0</td>\n",
              "      <td>0</td>\n",
              "    </tr>\n",
              "    <tr>\n",
              "      <th>3</th>\n",
              "      <td>76.5</td>\n",
              "      <td>3.8</td>\n",
              "      <td>55</td>\n",
              "      <td>3</td>\n",
              "      <td>1</td>\n",
              "      <td>1</td>\n",
              "      <td>0</td>\n",
              "      <td>0</td>\n",
              "      <td>0</td>\n",
              "      <td>5</td>\n",
              "      <td>8</td>\n",
              "      <td>0</td>\n",
              "      <td>0</td>\n",
              "      <td>1</td>\n",
              "      <td>0</td>\n",
              "      <td>0</td>\n",
              "      <td>0</td>\n",
              "      <td>0</td>\n",
              "      <td>0</td>\n",
              "      <td>0</td>\n",
              "      <td>0</td>\n",
              "      <td>0</td>\n",
              "      <td>0</td>\n",
              "      <td>0</td>\n",
              "      <td>0</td>\n",
              "      <td>0</td>\n",
              "      <td>0</td>\n",
              "      <td>0</td>\n",
              "      <td>0</td>\n",
              "      <td>0</td>\n",
              "      <td>0</td>\n",
              "      <td>0</td>\n",
              "      <td>1</td>\n",
              "      <td>0</td>\n",
              "      <td>0</td>\n",
              "      <td>1</td>\n",
              "      <td>0</td>\n",
              "      <td>0</td>\n",
              "      <td>0</td>\n",
              "      <td>0</td>\n",
              "      <td>0</td>\n",
              "      <td>0</td>\n",
              "      <td>0</td>\n",
              "      <td>0</td>\n",
              "      <td>0</td>\n",
              "      <td>0</td>\n",
              "      <td>0</td>\n",
              "      <td>0</td>\n",
              "      <td>0</td>\n",
              "      <td>0</td>\n",
              "      <td>1</td>\n",
              "    </tr>\n",
              "    <tr>\n",
              "      <th>4</th>\n",
              "      <td>114.5</td>\n",
              "      <td>2.9</td>\n",
              "      <td>22</td>\n",
              "      <td>3</td>\n",
              "      <td>1</td>\n",
              "      <td>1</td>\n",
              "      <td>0</td>\n",
              "      <td>0</td>\n",
              "      <td>1</td>\n",
              "      <td>2</td>\n",
              "      <td>0</td>\n",
              "      <td>0</td>\n",
              "      <td>0</td>\n",
              "      <td>0</td>\n",
              "      <td>0</td>\n",
              "      <td>0</td>\n",
              "      <td>0</td>\n",
              "      <td>1</td>\n",
              "      <td>0</td>\n",
              "      <td>0</td>\n",
              "      <td>0</td>\n",
              "      <td>1</td>\n",
              "      <td>0</td>\n",
              "      <td>0</td>\n",
              "      <td>0</td>\n",
              "      <td>0</td>\n",
              "      <td>0</td>\n",
              "      <td>0</td>\n",
              "      <td>0</td>\n",
              "      <td>0</td>\n",
              "      <td>0</td>\n",
              "      <td>0</td>\n",
              "      <td>0</td>\n",
              "      <td>0</td>\n",
              "      <td>0</td>\n",
              "      <td>1</td>\n",
              "      <td>0</td>\n",
              "      <td>0</td>\n",
              "      <td>0</td>\n",
              "      <td>0</td>\n",
              "      <td>0</td>\n",
              "      <td>0</td>\n",
              "      <td>0</td>\n",
              "      <td>0</td>\n",
              "      <td>0</td>\n",
              "      <td>1</td>\n",
              "      <td>0</td>\n",
              "      <td>0</td>\n",
              "      <td>0</td>\n",
              "      <td>0</td>\n",
              "      <td>0</td>\n",
              "    </tr>\n",
              "  </tbody>\n",
              "</table>\n",
              "</div>"
            ],
            "text/plain": [
              "   average_salary  company_rating  ...  job_state_VA  job_state_WA\n",
              "0            72.0             3.8  ...             0             0\n",
              "1            87.5             3.4  ...             0             0\n",
              "2            85.0             4.8  ...             0             0\n",
              "3            76.5             3.8  ...             0             1\n",
              "4           114.5             2.9  ...             0             0\n",
              "\n",
              "[5 rows x 51 columns]"
            ]
          },
          "metadata": {
            "tags": []
          },
          "execution_count": 106
        }
      ]
    },
    {
      "cell_type": "code",
      "metadata": {
        "id": "vjcRnCzqD_YX",
        "colab_type": "code",
        "colab": {
          "base_uri": "https://localhost:8080/",
          "height": 36
        },
        "outputId": "f159bce3-a52c-4877-99b5-bbb0c82e3094"
      },
      "source": [
        "df_model.shape"
      ],
      "execution_count": 107,
      "outputs": [
        {
          "output_type": "execute_result",
          "data": {
            "text/plain": [
              "(742, 51)"
            ]
          },
          "metadata": {
            "tags": []
          },
          "execution_count": 107
        }
      ]
    },
    {
      "cell_type": "code",
      "metadata": {
        "id": "s8YawP1FEMLQ",
        "colab_type": "code",
        "colab": {}
      },
      "source": [
        "X = df_model.drop('average_salary',axis=1)\n",
        "y = df_model['average_salary']"
      ],
      "execution_count": 108,
      "outputs": []
    },
    {
      "cell_type": "code",
      "metadata": {
        "id": "-hnqUi5DFl1W",
        "colab_type": "code",
        "colab": {}
      },
      "source": [
        "from sklearn.preprocessing import MinMaxScaler\n",
        "scaler = MinMaxScaler()\n",
        "columns_to_scale = ['company_rating', 'competitors', 'company_age', 'company_size_rank', 'company_revenue_rank']\n",
        "X[columns_to_scale] = scaler.fit_transform(X[columns_to_scale])"
      ],
      "execution_count": 109,
      "outputs": []
    },
    {
      "cell_type": "code",
      "metadata": {
        "id": "Vv1yUkXvGQ4a",
        "colab_type": "code",
        "colab": {
          "base_uri": "https://localhost:8080/",
          "height": 36
        },
        "outputId": "ef7296dc-69ce-4fb6-87b5-265d42e069f3"
      },
      "source": [
        "# Splitting the dataset into train and test set\n",
        "from sklearn.model_selection import train_test_split\n",
        "training_x, test_x, training_y, test_y = train_test_split(X, y, test_size=0.20, random_state=42)\n",
        "print(\"Training set size: {} and Testing set size: {}\".format(training_x.shape, test_x.shape))"
      ],
      "execution_count": 110,
      "outputs": [
        {
          "output_type": "stream",
          "text": [
            "Training set size: (593, 50) and Testing set size: (149, 50)\n"
          ],
          "name": "stdout"
        }
      ]
    },
    {
      "cell_type": "markdown",
      "metadata": {
        "id": "jDIKt8pj5WX9",
        "colab_type": "text"
      },
      "source": [
        "#Linear Regression Model"
      ]
    },
    {
      "cell_type": "code",
      "metadata": {
        "id": "hTR4RcGZHiqI",
        "colab_type": "code",
        "colab": {}
      },
      "source": [
        "# Creating linear regression model\n",
        "from sklearn.linear_model import LinearRegression\n",
        "lr_model = LinearRegression()"
      ],
      "execution_count": 111,
      "outputs": []
    },
    {
      "cell_type": "code",
      "metadata": {
        "id": "3bz95Zs9H-al",
        "colab_type": "code",
        "colab": {
          "base_uri": "https://localhost:8080/",
          "height": 56
        },
        "outputId": "aee81a6f-cc0a-44c6-f40e-16cf8c0dcdf0"
      },
      "source": [
        "# Fitting the dataset to the model\n",
        "lr_model.fit(training_x, training_y)\n",
        "print(\"Accuracy of the Linear Regression Model on Training set is : {}% and on Test set is {}%\".format(round(lr_model.score(training_x, training_y),4)*100, round(lr_model.score(test_x, test_y),4)*100))"
      ],
      "execution_count": 112,
      "outputs": [
        {
          "output_type": "stream",
          "text": [
            "Accuracy of the Linear Regression Model on Training set is : 57.699999999999996% and on Test set is 58.93000000000001%\n"
          ],
          "name": "stdout"
        }
      ]
    },
    {
      "cell_type": "markdown",
      "metadata": {
        "id": "oyz4mzy75hvI",
        "colab_type": "text"
      },
      "source": [
        "#Decision Tree Regression model"
      ]
    },
    {
      "cell_type": "code",
      "metadata": {
        "id": "ySURToTp5GXS",
        "colab_type": "code",
        "colab": {}
      },
      "source": [
        "#Creating Decision Tree Regression\n",
        "from sklearn.tree import DecisionTreeRegressor\n",
        "dt_model = DecisionTreeRegressor()"
      ],
      "execution_count": 113,
      "outputs": []
    },
    {
      "cell_type": "code",
      "metadata": {
        "id": "x5wktdRp58Xl",
        "colab_type": "code",
        "colab": {
          "base_uri": "https://localhost:8080/",
          "height": 56
        },
        "outputId": "5a60c1ea-d967-4513-b5e1-dc05c5006d32"
      },
      "source": [
        "#fitting the dataset into the model\n",
        "dt_model.fit(training_x,training_y)\n",
        "print(\"Accuracy of the Decision Tree Regression model on Training set is: {}% and on Test set is {}%\".format(round(dt_model.score(training_x,training_y),4)*100,round(dt_model.score(test_x,test_y),4)*100))"
      ],
      "execution_count": 114,
      "outputs": [
        {
          "output_type": "stream",
          "text": [
            "Accuracy of the Decision Tree Regression model on Training set is: 99.41% and on Test set is 77.92999999999999%\n"
          ],
          "name": "stdout"
        }
      ]
    },
    {
      "cell_type": "markdown",
      "metadata": {
        "id": "shtHpjvv8Uuq",
        "colab_type": "text"
      },
      "source": [
        "#Random Forest Regression model"
      ]
    },
    {
      "cell_type": "code",
      "metadata": {
        "id": "NbEw4ORA7CNK",
        "colab_type": "code",
        "colab": {}
      },
      "source": [
        "#Creating Random forest Regression \n",
        "from sklearn.ensemble import RandomForestRegressor\n",
        "rfr_model = RandomForestRegressor(n_estimators=100, criterion='mse', random_state=42)"
      ],
      "execution_count": 115,
      "outputs": []
    },
    {
      "cell_type": "code",
      "metadata": {
        "id": "jEQaNJL78vGC",
        "colab_type": "code",
        "colab": {
          "base_uri": "https://localhost:8080/",
          "height": 56
        },
        "outputId": "813d32df-5b0e-4ac4-e8f3-e9170ec28fe9"
      },
      "source": [
        "#Fitting the data set into the model\n",
        "rfr_model.fit(training_x,training_y)\n",
        "print(\"Accuracy of RandomForestRegression model on Training set is: {}% and on Test set is: {}%\".format(round(rfr_model.score(training_x,training_y),4)*100, round(rfr_model.score(test_x,test_y),4)*100))"
      ],
      "execution_count": 116,
      "outputs": [
        {
          "output_type": "stream",
          "text": [
            "Accuracy of RandomForestRegression model on Training set is: 95.26% and on Test set is: 76.44999999999999%\n"
          ],
          "name": "stdout"
        }
      ]
    },
    {
      "cell_type": "code",
      "metadata": {
        "id": "gmJR7g09QNEo",
        "colab_type": "code",
        "colab": {}
      },
      "source": [
        ""
      ],
      "execution_count": 116,
      "outputs": []
    }
  ]
}