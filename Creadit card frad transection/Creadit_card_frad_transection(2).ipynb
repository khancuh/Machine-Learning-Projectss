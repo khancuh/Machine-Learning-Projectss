{
  "nbformat": 4,
  "nbformat_minor": 0,
  "metadata": {
    "colab": {
      "name": "Creadit card frad transection.ipynb",
      "provenance": [],
      "collapsed_sections": [],
      "toc_visible": true
    },
    "kernelspec": {
      "name": "python3",
      "display_name": "Python 3"
    }
  },
  "cells": [
    {
      "cell_type": "code",
      "metadata": {
        "id": "9JDLxzf8rsDi"
      },
      "source": [
        "#Some import Important Libaray\n",
        "import sklearn\n",
        "import pandas as pd\n",
        "import numpy as np\n",
        "import seaborn as sns\n",
        "import matplotlib.pyplot as plt"
      ],
      "execution_count": 1,
      "outputs": []
    },
    {
      "cell_type": "code",
      "metadata": {
        "id": "ier-6d9Rsbhs"
      },
      "source": [
        "#Load the Data set\n",
        "df = pd.read_csv(\"/content/drive/My Drive/creditcard.csv\")"
      ],
      "execution_count": 2,
      "outputs": []
    },
    {
      "cell_type": "markdown",
      "metadata": {
        "id": "wmU7S9yu-C9h"
      },
      "source": [
        "#Exploring the Data set (EDA)"
      ]
    },
    {
      "cell_type": "code",
      "metadata": {
        "id": "fEDx71Yns9K7",
        "outputId": "867d0f61-af2a-4be5-bba2-786df01004cd",
        "colab": {
          "base_uri": "https://localhost:8080/",
          "height": 36
        }
      },
      "source": [
        "df.shape"
      ],
      "execution_count": 3,
      "outputs": [
        {
          "output_type": "execute_result",
          "data": {
            "text/plain": [
              "(284807, 31)"
            ]
          },
          "metadata": {
            "tags": []
          },
          "execution_count": 3
        }
      ]
    },
    {
      "cell_type": "code",
      "metadata": {
        "id": "DhrfXPDfsjz7",
        "outputId": "4404d54b-ebb4-486c-bed1-60e69aff65b3",
        "colab": {
          "base_uri": "https://localhost:8080/",
          "height": 226
        }
      },
      "source": [
        "df.head()"
      ],
      "execution_count": 4,
      "outputs": [
        {
          "output_type": "execute_result",
          "data": {
            "text/html": [
              "<div>\n",
              "<style scoped>\n",
              "    .dataframe tbody tr th:only-of-type {\n",
              "        vertical-align: middle;\n",
              "    }\n",
              "\n",
              "    .dataframe tbody tr th {\n",
              "        vertical-align: top;\n",
              "    }\n",
              "\n",
              "    .dataframe thead th {\n",
              "        text-align: right;\n",
              "    }\n",
              "</style>\n",
              "<table border=\"1\" class=\"dataframe\">\n",
              "  <thead>\n",
              "    <tr style=\"text-align: right;\">\n",
              "      <th></th>\n",
              "      <th>Time</th>\n",
              "      <th>V1</th>\n",
              "      <th>V2</th>\n",
              "      <th>V3</th>\n",
              "      <th>V4</th>\n",
              "      <th>V5</th>\n",
              "      <th>V6</th>\n",
              "      <th>V7</th>\n",
              "      <th>V8</th>\n",
              "      <th>V9</th>\n",
              "      <th>V10</th>\n",
              "      <th>V11</th>\n",
              "      <th>V12</th>\n",
              "      <th>V13</th>\n",
              "      <th>V14</th>\n",
              "      <th>V15</th>\n",
              "      <th>V16</th>\n",
              "      <th>V17</th>\n",
              "      <th>V18</th>\n",
              "      <th>V19</th>\n",
              "      <th>V20</th>\n",
              "      <th>V21</th>\n",
              "      <th>V22</th>\n",
              "      <th>V23</th>\n",
              "      <th>V24</th>\n",
              "      <th>V25</th>\n",
              "      <th>V26</th>\n",
              "      <th>V27</th>\n",
              "      <th>V28</th>\n",
              "      <th>Amount</th>\n",
              "      <th>Class</th>\n",
              "    </tr>\n",
              "  </thead>\n",
              "  <tbody>\n",
              "    <tr>\n",
              "      <th>0</th>\n",
              "      <td>0.0</td>\n",
              "      <td>-1.359807</td>\n",
              "      <td>-0.072781</td>\n",
              "      <td>2.536347</td>\n",
              "      <td>1.378155</td>\n",
              "      <td>-0.338321</td>\n",
              "      <td>0.462388</td>\n",
              "      <td>0.239599</td>\n",
              "      <td>0.098698</td>\n",
              "      <td>0.363787</td>\n",
              "      <td>0.090794</td>\n",
              "      <td>-0.551600</td>\n",
              "      <td>-0.617801</td>\n",
              "      <td>-0.991390</td>\n",
              "      <td>-0.311169</td>\n",
              "      <td>1.468177</td>\n",
              "      <td>-0.470401</td>\n",
              "      <td>0.207971</td>\n",
              "      <td>0.025791</td>\n",
              "      <td>0.403993</td>\n",
              "      <td>0.251412</td>\n",
              "      <td>-0.018307</td>\n",
              "      <td>0.277838</td>\n",
              "      <td>-0.110474</td>\n",
              "      <td>0.066928</td>\n",
              "      <td>0.128539</td>\n",
              "      <td>-0.189115</td>\n",
              "      <td>0.133558</td>\n",
              "      <td>-0.021053</td>\n",
              "      <td>149.62</td>\n",
              "      <td>0</td>\n",
              "    </tr>\n",
              "    <tr>\n",
              "      <th>1</th>\n",
              "      <td>0.0</td>\n",
              "      <td>1.191857</td>\n",
              "      <td>0.266151</td>\n",
              "      <td>0.166480</td>\n",
              "      <td>0.448154</td>\n",
              "      <td>0.060018</td>\n",
              "      <td>-0.082361</td>\n",
              "      <td>-0.078803</td>\n",
              "      <td>0.085102</td>\n",
              "      <td>-0.255425</td>\n",
              "      <td>-0.166974</td>\n",
              "      <td>1.612727</td>\n",
              "      <td>1.065235</td>\n",
              "      <td>0.489095</td>\n",
              "      <td>-0.143772</td>\n",
              "      <td>0.635558</td>\n",
              "      <td>0.463917</td>\n",
              "      <td>-0.114805</td>\n",
              "      <td>-0.183361</td>\n",
              "      <td>-0.145783</td>\n",
              "      <td>-0.069083</td>\n",
              "      <td>-0.225775</td>\n",
              "      <td>-0.638672</td>\n",
              "      <td>0.101288</td>\n",
              "      <td>-0.339846</td>\n",
              "      <td>0.167170</td>\n",
              "      <td>0.125895</td>\n",
              "      <td>-0.008983</td>\n",
              "      <td>0.014724</td>\n",
              "      <td>2.69</td>\n",
              "      <td>0</td>\n",
              "    </tr>\n",
              "    <tr>\n",
              "      <th>2</th>\n",
              "      <td>1.0</td>\n",
              "      <td>-1.358354</td>\n",
              "      <td>-1.340163</td>\n",
              "      <td>1.773209</td>\n",
              "      <td>0.379780</td>\n",
              "      <td>-0.503198</td>\n",
              "      <td>1.800499</td>\n",
              "      <td>0.791461</td>\n",
              "      <td>0.247676</td>\n",
              "      <td>-1.514654</td>\n",
              "      <td>0.207643</td>\n",
              "      <td>0.624501</td>\n",
              "      <td>0.066084</td>\n",
              "      <td>0.717293</td>\n",
              "      <td>-0.165946</td>\n",
              "      <td>2.345865</td>\n",
              "      <td>-2.890083</td>\n",
              "      <td>1.109969</td>\n",
              "      <td>-0.121359</td>\n",
              "      <td>-2.261857</td>\n",
              "      <td>0.524980</td>\n",
              "      <td>0.247998</td>\n",
              "      <td>0.771679</td>\n",
              "      <td>0.909412</td>\n",
              "      <td>-0.689281</td>\n",
              "      <td>-0.327642</td>\n",
              "      <td>-0.139097</td>\n",
              "      <td>-0.055353</td>\n",
              "      <td>-0.059752</td>\n",
              "      <td>378.66</td>\n",
              "      <td>0</td>\n",
              "    </tr>\n",
              "    <tr>\n",
              "      <th>3</th>\n",
              "      <td>1.0</td>\n",
              "      <td>-0.966272</td>\n",
              "      <td>-0.185226</td>\n",
              "      <td>1.792993</td>\n",
              "      <td>-0.863291</td>\n",
              "      <td>-0.010309</td>\n",
              "      <td>1.247203</td>\n",
              "      <td>0.237609</td>\n",
              "      <td>0.377436</td>\n",
              "      <td>-1.387024</td>\n",
              "      <td>-0.054952</td>\n",
              "      <td>-0.226487</td>\n",
              "      <td>0.178228</td>\n",
              "      <td>0.507757</td>\n",
              "      <td>-0.287924</td>\n",
              "      <td>-0.631418</td>\n",
              "      <td>-1.059647</td>\n",
              "      <td>-0.684093</td>\n",
              "      <td>1.965775</td>\n",
              "      <td>-1.232622</td>\n",
              "      <td>-0.208038</td>\n",
              "      <td>-0.108300</td>\n",
              "      <td>0.005274</td>\n",
              "      <td>-0.190321</td>\n",
              "      <td>-1.175575</td>\n",
              "      <td>0.647376</td>\n",
              "      <td>-0.221929</td>\n",
              "      <td>0.062723</td>\n",
              "      <td>0.061458</td>\n",
              "      <td>123.50</td>\n",
              "      <td>0</td>\n",
              "    </tr>\n",
              "    <tr>\n",
              "      <th>4</th>\n",
              "      <td>2.0</td>\n",
              "      <td>-1.158233</td>\n",
              "      <td>0.877737</td>\n",
              "      <td>1.548718</td>\n",
              "      <td>0.403034</td>\n",
              "      <td>-0.407193</td>\n",
              "      <td>0.095921</td>\n",
              "      <td>0.592941</td>\n",
              "      <td>-0.270533</td>\n",
              "      <td>0.817739</td>\n",
              "      <td>0.753074</td>\n",
              "      <td>-0.822843</td>\n",
              "      <td>0.538196</td>\n",
              "      <td>1.345852</td>\n",
              "      <td>-1.119670</td>\n",
              "      <td>0.175121</td>\n",
              "      <td>-0.451449</td>\n",
              "      <td>-0.237033</td>\n",
              "      <td>-0.038195</td>\n",
              "      <td>0.803487</td>\n",
              "      <td>0.408542</td>\n",
              "      <td>-0.009431</td>\n",
              "      <td>0.798278</td>\n",
              "      <td>-0.137458</td>\n",
              "      <td>0.141267</td>\n",
              "      <td>-0.206010</td>\n",
              "      <td>0.502292</td>\n",
              "      <td>0.219422</td>\n",
              "      <td>0.215153</td>\n",
              "      <td>69.99</td>\n",
              "      <td>0</td>\n",
              "    </tr>\n",
              "  </tbody>\n",
              "</table>\n",
              "</div>"
            ],
            "text/plain": [
              "   Time        V1        V2        V3  ...       V27       V28  Amount  Class\n",
              "0   0.0 -1.359807 -0.072781  2.536347  ...  0.133558 -0.021053  149.62      0\n",
              "1   0.0  1.191857  0.266151  0.166480  ... -0.008983  0.014724    2.69      0\n",
              "2   1.0 -1.358354 -1.340163  1.773209  ... -0.055353 -0.059752  378.66      0\n",
              "3   1.0 -0.966272 -0.185226  1.792993  ...  0.062723  0.061458  123.50      0\n",
              "4   2.0 -1.158233  0.877737  1.548718  ...  0.219422  0.215153   69.99      0\n",
              "\n",
              "[5 rows x 31 columns]"
            ]
          },
          "metadata": {
            "tags": []
          },
          "execution_count": 4
        }
      ]
    },
    {
      "cell_type": "code",
      "metadata": {
        "id": "d4nhPLN7s1ME",
        "outputId": "05f8d99b-0e32-4338-8f22-f6a9c73566ab",
        "colab": {
          "base_uri": "https://localhost:8080/",
          "height": 616
        }
      },
      "source": [
        "#Describe the Object type data\n",
        "df.dtypes"
      ],
      "execution_count": 5,
      "outputs": [
        {
          "output_type": "execute_result",
          "data": {
            "text/plain": [
              "Time      float64\n",
              "V1        float64\n",
              "V2        float64\n",
              "V3        float64\n",
              "V4        float64\n",
              "V5        float64\n",
              "V6        float64\n",
              "V7        float64\n",
              "V8        float64\n",
              "V9        float64\n",
              "V10       float64\n",
              "V11       float64\n",
              "V12       float64\n",
              "V13       float64\n",
              "V14       float64\n",
              "V15       float64\n",
              "V16       float64\n",
              "V17       float64\n",
              "V18       float64\n",
              "V19       float64\n",
              "V20       float64\n",
              "V21       float64\n",
              "V22       float64\n",
              "V23       float64\n",
              "V24       float64\n",
              "V25       float64\n",
              "V26       float64\n",
              "V27       float64\n",
              "V28       float64\n",
              "Amount    float64\n",
              "Class       int64\n",
              "dtype: object"
            ]
          },
          "metadata": {
            "tags": []
          },
          "execution_count": 5
        }
      ]
    },
    {
      "cell_type": "code",
      "metadata": {
        "id": "BsaUA6EntRlH",
        "outputId": "a83c8d30-3d14-419e-e875-73d2aea04c3d",
        "colab": {
          "base_uri": "https://localhost:8080/",
          "height": 111
        }
      },
      "source": [
        "#how to check columns\n",
        "df.columns"
      ],
      "execution_count": 6,
      "outputs": [
        {
          "output_type": "execute_result",
          "data": {
            "text/plain": [
              "Index(['Time', 'V1', 'V2', 'V3', 'V4', 'V5', 'V6', 'V7', 'V8', 'V9', 'V10',\n",
              "       'V11', 'V12', 'V13', 'V14', 'V15', 'V16', 'V17', 'V18', 'V19', 'V20',\n",
              "       'V21', 'V22', 'V23', 'V24', 'V25', 'V26', 'V27', 'V28', 'Amount',\n",
              "       'Class'],\n",
              "      dtype='object')"
            ]
          },
          "metadata": {
            "tags": []
          },
          "execution_count": 6
        }
      ]
    },
    {
      "cell_type": "code",
      "metadata": {
        "id": "TzJqF3pytVZv",
        "outputId": "821518c3-3a5a-4b01-ad91-523aacfc2e20",
        "colab": {
          "base_uri": "https://localhost:8080/",
          "height": 36
        }
      },
      "source": [
        "#How to check NaN values\n",
        "df.isnull().sum().sum()"
      ],
      "execution_count": 7,
      "outputs": [
        {
          "output_type": "execute_result",
          "data": {
            "text/plain": [
              "0"
            ]
          },
          "metadata": {
            "tags": []
          },
          "execution_count": 7
        }
      ]
    },
    {
      "cell_type": "code",
      "metadata": {
        "id": "8nhMZFd-tgHi",
        "outputId": "04fff9ba-ff42-465d-dce7-f205099bf2b3",
        "colab": {
          "base_uri": "https://localhost:8080/",
          "height": 92
        }
      },
      "source": [
        "#define groupby data\n",
        "df.groupby('Class').size()"
      ],
      "execution_count": 8,
      "outputs": [
        {
          "output_type": "execute_result",
          "data": {
            "text/plain": [
              "Class\n",
              "0    284315\n",
              "1       492\n",
              "dtype: int64"
            ]
          },
          "metadata": {
            "tags": []
          },
          "execution_count": 8
        }
      ]
    },
    {
      "cell_type": "code",
      "metadata": {
        "id": "aV9RTDc4vgty",
        "outputId": "392a4e55-00f9-4795-914f-b958c90552e2",
        "colab": {
          "base_uri": "https://localhost:8080/",
          "height": 990
        }
      },
      "source": [
        "#Describe pivot table\n",
        "df.pivot_table(columns='Class')"
      ],
      "execution_count": 9,
      "outputs": [
        {
          "output_type": "execute_result",
          "data": {
            "text/html": [
              "<div>\n",
              "<style scoped>\n",
              "    .dataframe tbody tr th:only-of-type {\n",
              "        vertical-align: middle;\n",
              "    }\n",
              "\n",
              "    .dataframe tbody tr th {\n",
              "        vertical-align: top;\n",
              "    }\n",
              "\n",
              "    .dataframe thead th {\n",
              "        text-align: right;\n",
              "    }\n",
              "</style>\n",
              "<table border=\"1\" class=\"dataframe\">\n",
              "  <thead>\n",
              "    <tr style=\"text-align: right;\">\n",
              "      <th>Class</th>\n",
              "      <th>0</th>\n",
              "      <th>1</th>\n",
              "    </tr>\n",
              "  </thead>\n",
              "  <tbody>\n",
              "    <tr>\n",
              "      <th>Amount</th>\n",
              "      <td>88.291022</td>\n",
              "      <td>122.211321</td>\n",
              "    </tr>\n",
              "    <tr>\n",
              "      <th>Time</th>\n",
              "      <td>94838.202258</td>\n",
              "      <td>80746.806911</td>\n",
              "    </tr>\n",
              "    <tr>\n",
              "      <th>V1</th>\n",
              "      <td>0.008258</td>\n",
              "      <td>-4.771948</td>\n",
              "    </tr>\n",
              "    <tr>\n",
              "      <th>V10</th>\n",
              "      <td>0.009824</td>\n",
              "      <td>-5.676883</td>\n",
              "    </tr>\n",
              "    <tr>\n",
              "      <th>V11</th>\n",
              "      <td>-0.006576</td>\n",
              "      <td>3.800173</td>\n",
              "    </tr>\n",
              "    <tr>\n",
              "      <th>V12</th>\n",
              "      <td>0.010832</td>\n",
              "      <td>-6.259393</td>\n",
              "    </tr>\n",
              "    <tr>\n",
              "      <th>V13</th>\n",
              "      <td>0.000189</td>\n",
              "      <td>-0.109334</td>\n",
              "    </tr>\n",
              "    <tr>\n",
              "      <th>V14</th>\n",
              "      <td>0.012064</td>\n",
              "      <td>-6.971723</td>\n",
              "    </tr>\n",
              "    <tr>\n",
              "      <th>V15</th>\n",
              "      <td>0.000161</td>\n",
              "      <td>-0.092929</td>\n",
              "    </tr>\n",
              "    <tr>\n",
              "      <th>V16</th>\n",
              "      <td>0.007164</td>\n",
              "      <td>-4.139946</td>\n",
              "    </tr>\n",
              "    <tr>\n",
              "      <th>V17</th>\n",
              "      <td>0.011535</td>\n",
              "      <td>-6.665836</td>\n",
              "    </tr>\n",
              "    <tr>\n",
              "      <th>V18</th>\n",
              "      <td>0.003887</td>\n",
              "      <td>-2.246308</td>\n",
              "    </tr>\n",
              "    <tr>\n",
              "      <th>V19</th>\n",
              "      <td>-0.001178</td>\n",
              "      <td>0.680659</td>\n",
              "    </tr>\n",
              "    <tr>\n",
              "      <th>V2</th>\n",
              "      <td>-0.006271</td>\n",
              "      <td>3.623778</td>\n",
              "    </tr>\n",
              "    <tr>\n",
              "      <th>V20</th>\n",
              "      <td>-0.000644</td>\n",
              "      <td>0.372319</td>\n",
              "    </tr>\n",
              "    <tr>\n",
              "      <th>V21</th>\n",
              "      <td>-0.001235</td>\n",
              "      <td>0.713588</td>\n",
              "    </tr>\n",
              "    <tr>\n",
              "      <th>V22</th>\n",
              "      <td>-0.000024</td>\n",
              "      <td>0.014049</td>\n",
              "    </tr>\n",
              "    <tr>\n",
              "      <th>V23</th>\n",
              "      <td>0.000070</td>\n",
              "      <td>-0.040308</td>\n",
              "    </tr>\n",
              "    <tr>\n",
              "      <th>V24</th>\n",
              "      <td>0.000182</td>\n",
              "      <td>-0.105130</td>\n",
              "    </tr>\n",
              "    <tr>\n",
              "      <th>V25</th>\n",
              "      <td>-0.000072</td>\n",
              "      <td>0.041449</td>\n",
              "    </tr>\n",
              "    <tr>\n",
              "      <th>V26</th>\n",
              "      <td>-0.000089</td>\n",
              "      <td>0.051648</td>\n",
              "    </tr>\n",
              "    <tr>\n",
              "      <th>V27</th>\n",
              "      <td>-0.000295</td>\n",
              "      <td>0.170575</td>\n",
              "    </tr>\n",
              "    <tr>\n",
              "      <th>V28</th>\n",
              "      <td>-0.000131</td>\n",
              "      <td>0.075667</td>\n",
              "    </tr>\n",
              "    <tr>\n",
              "      <th>V3</th>\n",
              "      <td>0.012171</td>\n",
              "      <td>-7.033281</td>\n",
              "    </tr>\n",
              "    <tr>\n",
              "      <th>V4</th>\n",
              "      <td>-0.007860</td>\n",
              "      <td>4.542029</td>\n",
              "    </tr>\n",
              "    <tr>\n",
              "      <th>V5</th>\n",
              "      <td>0.005453</td>\n",
              "      <td>-3.151225</td>\n",
              "    </tr>\n",
              "    <tr>\n",
              "      <th>V6</th>\n",
              "      <td>0.002419</td>\n",
              "      <td>-1.397737</td>\n",
              "    </tr>\n",
              "    <tr>\n",
              "      <th>V7</th>\n",
              "      <td>0.009637</td>\n",
              "      <td>-5.568731</td>\n",
              "    </tr>\n",
              "    <tr>\n",
              "      <th>V8</th>\n",
              "      <td>-0.000987</td>\n",
              "      <td>0.570636</td>\n",
              "    </tr>\n",
              "    <tr>\n",
              "      <th>V9</th>\n",
              "      <td>0.004467</td>\n",
              "      <td>-2.581123</td>\n",
              "    </tr>\n",
              "  </tbody>\n",
              "</table>\n",
              "</div>"
            ],
            "text/plain": [
              "Class              0             1\n",
              "Amount     88.291022    122.211321\n",
              "Time    94838.202258  80746.806911\n",
              "V1          0.008258     -4.771948\n",
              "V10         0.009824     -5.676883\n",
              "V11        -0.006576      3.800173\n",
              "V12         0.010832     -6.259393\n",
              "V13         0.000189     -0.109334\n",
              "V14         0.012064     -6.971723\n",
              "V15         0.000161     -0.092929\n",
              "V16         0.007164     -4.139946\n",
              "V17         0.011535     -6.665836\n",
              "V18         0.003887     -2.246308\n",
              "V19        -0.001178      0.680659\n",
              "V2         -0.006271      3.623778\n",
              "V20        -0.000644      0.372319\n",
              "V21        -0.001235      0.713588\n",
              "V22        -0.000024      0.014049\n",
              "V23         0.000070     -0.040308\n",
              "V24         0.000182     -0.105130\n",
              "V25        -0.000072      0.041449\n",
              "V26        -0.000089      0.051648\n",
              "V27        -0.000295      0.170575\n",
              "V28        -0.000131      0.075667\n",
              "V3          0.012171     -7.033281\n",
              "V4         -0.007860      4.542029\n",
              "V5          0.005453     -3.151225\n",
              "V6          0.002419     -1.397737\n",
              "V7          0.009637     -5.568731\n",
              "V8         -0.000987      0.570636\n",
              "V9          0.004467     -2.581123"
            ]
          },
          "metadata": {
            "tags": []
          },
          "execution_count": 9
        }
      ]
    },
    {
      "cell_type": "code",
      "metadata": {
        "id": "sAlpXLcjdQef",
        "outputId": "724d5ea0-b272-4d27-9394-c90fb8c97985",
        "colab": {
          "base_uri": "https://localhost:8080/",
          "height": 36
        }
      },
      "source": [
        "#find unique value\n",
        "df['Class'].unique()"
      ],
      "execution_count": 10,
      "outputs": [
        {
          "output_type": "execute_result",
          "data": {
            "text/plain": [
              "array([0, 1])"
            ]
          },
          "metadata": {
            "tags": []
          },
          "execution_count": 10
        }
      ]
    },
    {
      "cell_type": "code",
      "metadata": {
        "id": "NJhyvU8MOfhK",
        "outputId": "bef230a9-9b6c-45b9-81ec-abc4cdda60e6",
        "colab": {
          "base_uri": "https://localhost:8080/",
          "height": 369
        }
      },
      "source": [
        "#Data Visulization\n",
        "plt.figure(figsize=(5,5))\n",
        "sns.countplot(x='Class',data=df)\n",
        "plt.title('Target Visulization Balanced Data set')"
      ],
      "execution_count": 11,
      "outputs": [
        {
          "output_type": "execute_result",
          "data": {
            "text/plain": [
              "Text(0.5, 1.0, 'Target Visulization Balanced Data set')"
            ]
          },
          "metadata": {
            "tags": []
          },
          "execution_count": 11
        },
        {
          "output_type": "display_data",
          "data": {
            "image/png": "[encoded data removed]",
            "text/plain": [
              "<Figure size 360x360 with 1 Axes>"
            ]
          },
          "metadata": {
            "tags": [],
            "needs_background": "light"
          }
        }
      ]
    },
    {
      "cell_type": "markdown",
      "metadata": {
        "id": "KcyZfPJQTvAV"
      },
      "source": [
        "#Note--- 0 is a Normal Transection and 1 is Fraud Transection \n",
        "Normal Transection is more than Fraud Transection repersent by above plot"
      ]
    },
    {
      "cell_type": "markdown",
      "metadata": {
        "id": "MdYPXhss0Jwd"
      },
      "source": [
        "#Slicing the Data set using iloc function"
      ]
    },
    {
      "cell_type": "code",
      "metadata": {
        "id": "1Kxlu_y_zZxt"
      },
      "source": [
        "real_x = df.iloc[:,:-1]\n",
        "real_y = df.iloc[:,-1]"
      ],
      "execution_count": 12,
      "outputs": []
    },
    {
      "cell_type": "code",
      "metadata": {
        "id": "-P10bjgY1K-Q",
        "outputId": "567ed2e6-758e-4a6a-dca9-9aedff587eb7",
        "colab": {
          "base_uri": "https://localhost:8080/",
          "height": 444
        }
      },
      "source": [
        "real_x"
      ],
      "execution_count": 13,
      "outputs": [
        {
          "output_type": "execute_result",
          "data": {
            "text/html": [
              "<div>\n",
              "<style scoped>\n",
              "    .dataframe tbody tr th:only-of-type {\n",
              "        vertical-align: middle;\n",
              "    }\n",
              "\n",
              "    .dataframe tbody tr th {\n",
              "        vertical-align: top;\n",
              "    }\n",
              "\n",
              "    .dataframe thead th {\n",
              "        text-align: right;\n",
              "    }\n",
              "</style>\n",
              "<table border=\"1\" class=\"dataframe\">\n",
              "  <thead>\n",
              "    <tr style=\"text-align: right;\">\n",
              "      <th></th>\n",
              "      <th>Time</th>\n",
              "      <th>V1</th>\n",
              "      <th>V2</th>\n",
              "      <th>V3</th>\n",
              "      <th>V4</th>\n",
              "      <th>V5</th>\n",
              "      <th>V6</th>\n",
              "      <th>V7</th>\n",
              "      <th>V8</th>\n",
              "      <th>V9</th>\n",
              "      <th>V10</th>\n",
              "      <th>V11</th>\n",
              "      <th>V12</th>\n",
              "      <th>V13</th>\n",
              "      <th>V14</th>\n",
              "      <th>V15</th>\n",
              "      <th>V16</th>\n",
              "      <th>V17</th>\n",
              "      <th>V18</th>\n",
              "      <th>V19</th>\n",
              "      <th>V20</th>\n",
              "      <th>V21</th>\n",
              "      <th>V22</th>\n",
              "      <th>V23</th>\n",
              "      <th>V24</th>\n",
              "      <th>V25</th>\n",
              "      <th>V26</th>\n",
              "      <th>V27</th>\n",
              "      <th>V28</th>\n",
              "      <th>Amount</th>\n",
              "    </tr>\n",
              "  </thead>\n",
              "  <tbody>\n",
              "    <tr>\n",
              "      <th>0</th>\n",
              "      <td>0.0</td>\n",
              "      <td>-1.359807</td>\n",
              "      <td>-0.072781</td>\n",
              "      <td>2.536347</td>\n",
              "      <td>1.378155</td>\n",
              "      <td>-0.338321</td>\n",
              "      <td>0.462388</td>\n",
              "      <td>0.239599</td>\n",
              "      <td>0.098698</td>\n",
              "      <td>0.363787</td>\n",
              "      <td>0.090794</td>\n",
              "      <td>-0.551600</td>\n",
              "      <td>-0.617801</td>\n",
              "      <td>-0.991390</td>\n",
              "      <td>-0.311169</td>\n",
              "      <td>1.468177</td>\n",
              "      <td>-0.470401</td>\n",
              "      <td>0.207971</td>\n",
              "      <td>0.025791</td>\n",
              "      <td>0.403993</td>\n",
              "      <td>0.251412</td>\n",
              "      <td>-0.018307</td>\n",
              "      <td>0.277838</td>\n",
              "      <td>-0.110474</td>\n",
              "      <td>0.066928</td>\n",
              "      <td>0.128539</td>\n",
              "      <td>-0.189115</td>\n",
              "      <td>0.133558</td>\n",
              "      <td>-0.021053</td>\n",
              "      <td>149.62</td>\n",
              "    </tr>\n",
              "    <tr>\n",
              "      <th>1</th>\n",
              "      <td>0.0</td>\n",
              "      <td>1.191857</td>\n",
              "      <td>0.266151</td>\n",
              "      <td>0.166480</td>\n",
              "      <td>0.448154</td>\n",
              "      <td>0.060018</td>\n",
              "      <td>-0.082361</td>\n",
              "      <td>-0.078803</td>\n",
              "      <td>0.085102</td>\n",
              "      <td>-0.255425</td>\n",
              "      <td>-0.166974</td>\n",
              "      <td>1.612727</td>\n",
              "      <td>1.065235</td>\n",
              "      <td>0.489095</td>\n",
              "      <td>-0.143772</td>\n",
              "      <td>0.635558</td>\n",
              "      <td>0.463917</td>\n",
              "      <td>-0.114805</td>\n",
              "      <td>-0.183361</td>\n",
              "      <td>-0.145783</td>\n",
              "      <td>-0.069083</td>\n",
              "      <td>-0.225775</td>\n",
              "      <td>-0.638672</td>\n",
              "      <td>0.101288</td>\n",
              "      <td>-0.339846</td>\n",
              "      <td>0.167170</td>\n",
              "      <td>0.125895</td>\n",
              "      <td>-0.008983</td>\n",
              "      <td>0.014724</td>\n",
              "      <td>2.69</td>\n",
              "    </tr>\n",
              "    <tr>\n",
              "      <th>2</th>\n",
              "      <td>1.0</td>\n",
              "      <td>-1.358354</td>\n",
              "      <td>-1.340163</td>\n",
              "      <td>1.773209</td>\n",
              "      <td>0.379780</td>\n",
              "      <td>-0.503198</td>\n",
              "      <td>1.800499</td>\n",
              "      <td>0.791461</td>\n",
              "      <td>0.247676</td>\n",
              "      <td>-1.514654</td>\n",
              "      <td>0.207643</td>\n",
              "      <td>0.624501</td>\n",
              "      <td>0.066084</td>\n",
              "      <td>0.717293</td>\n",
              "      <td>-0.165946</td>\n",
              "      <td>2.345865</td>\n",
              "      <td>-2.890083</td>\n",
              "      <td>1.109969</td>\n",
              "      <td>-0.121359</td>\n",
              "      <td>-2.261857</td>\n",
              "      <td>0.524980</td>\n",
              "      <td>0.247998</td>\n",
              "      <td>0.771679</td>\n",
              "      <td>0.909412</td>\n",
              "      <td>-0.689281</td>\n",
              "      <td>-0.327642</td>\n",
              "      <td>-0.139097</td>\n",
              "      <td>-0.055353</td>\n",
              "      <td>-0.059752</td>\n",
              "      <td>378.66</td>\n",
              "    </tr>\n",
              "    <tr>\n",
              "      <th>3</th>\n",
              "      <td>1.0</td>\n",
              "      <td>-0.966272</td>\n",
              "      <td>-0.185226</td>\n",
              "      <td>1.792993</td>\n",
              "      <td>-0.863291</td>\n",
              "      <td>-0.010309</td>\n",
              "      <td>1.247203</td>\n",
              "      <td>0.237609</td>\n",
              "      <td>0.377436</td>\n",
              "      <td>-1.387024</td>\n",
              "      <td>-0.054952</td>\n",
              "      <td>-0.226487</td>\n",
              "      <td>0.178228</td>\n",
              "      <td>0.507757</td>\n",
              "      <td>-0.287924</td>\n",
              "      <td>-0.631418</td>\n",
              "      <td>-1.059647</td>\n",
              "      <td>-0.684093</td>\n",
              "      <td>1.965775</td>\n",
              "      <td>-1.232622</td>\n",
              "      <td>-0.208038</td>\n",
              "      <td>-0.108300</td>\n",
              "      <td>0.005274</td>\n",
              "      <td>-0.190321</td>\n",
              "      <td>-1.175575</td>\n",
              "      <td>0.647376</td>\n",
              "      <td>-0.221929</td>\n",
              "      <td>0.062723</td>\n",
              "      <td>0.061458</td>\n",
              "      <td>123.50</td>\n",
              "    </tr>\n",
              "    <tr>\n",
              "      <th>4</th>\n",
              "      <td>2.0</td>\n",
              "      <td>-1.158233</td>\n",
              "      <td>0.877737</td>\n",
              "      <td>1.548718</td>\n",
              "      <td>0.403034</td>\n",
              "      <td>-0.407193</td>\n",
              "      <td>0.095921</td>\n",
              "      <td>0.592941</td>\n",
              "      <td>-0.270533</td>\n",
              "      <td>0.817739</td>\n",
              "      <td>0.753074</td>\n",
              "      <td>-0.822843</td>\n",
              "      <td>0.538196</td>\n",
              "      <td>1.345852</td>\n",
              "      <td>-1.119670</td>\n",
              "      <td>0.175121</td>\n",
              "      <td>-0.451449</td>\n",
              "      <td>-0.237033</td>\n",
              "      <td>-0.038195</td>\n",
              "      <td>0.803487</td>\n",
              "      <td>0.408542</td>\n",
              "      <td>-0.009431</td>\n",
              "      <td>0.798278</td>\n",
              "      <td>-0.137458</td>\n",
              "      <td>0.141267</td>\n",
              "      <td>-0.206010</td>\n",
              "      <td>0.502292</td>\n",
              "      <td>0.219422</td>\n",
              "      <td>0.215153</td>\n",
              "      <td>69.99</td>\n",
              "    </tr>\n",
              "    <tr>\n",
              "      <th>...</th>\n",
              "      <td>...</td>\n",
              "      <td>...</td>\n",
              "      <td>...</td>\n",
              "      <td>...</td>\n",
              "      <td>...</td>\n",
              "      <td>...</td>\n",
              "      <td>...</td>\n",
              "      <td>...</td>\n",
              "      <td>...</td>\n",
              "      <td>...</td>\n",
              "      <td>...</td>\n",
              "      <td>...</td>\n",
              "      <td>...</td>\n",
              "      <td>...</td>\n",
              "      <td>...</td>\n",
              "      <td>...</td>\n",
              "      <td>...</td>\n",
              "      <td>...</td>\n",
              "      <td>...</td>\n",
              "      <td>...</td>\n",
              "      <td>...</td>\n",
              "      <td>...</td>\n",
              "      <td>...</td>\n",
              "      <td>...</td>\n",
              "      <td>...</td>\n",
              "      <td>...</td>\n",
              "      <td>...</td>\n",
              "      <td>...</td>\n",
              "      <td>...</td>\n",
              "      <td>...</td>\n",
              "    </tr>\n",
              "    <tr>\n",
              "      <th>284802</th>\n",
              "      <td>172786.0</td>\n",
              "      <td>-11.881118</td>\n",
              "      <td>10.071785</td>\n",
              "      <td>-9.834783</td>\n",
              "      <td>-2.066656</td>\n",
              "      <td>-5.364473</td>\n",
              "      <td>-2.606837</td>\n",
              "      <td>-4.918215</td>\n",
              "      <td>7.305334</td>\n",
              "      <td>1.914428</td>\n",
              "      <td>4.356170</td>\n",
              "      <td>-1.593105</td>\n",
              "      <td>2.711941</td>\n",
              "      <td>-0.689256</td>\n",
              "      <td>4.626942</td>\n",
              "      <td>-0.924459</td>\n",
              "      <td>1.107641</td>\n",
              "      <td>1.991691</td>\n",
              "      <td>0.510632</td>\n",
              "      <td>-0.682920</td>\n",
              "      <td>1.475829</td>\n",
              "      <td>0.213454</td>\n",
              "      <td>0.111864</td>\n",
              "      <td>1.014480</td>\n",
              "      <td>-0.509348</td>\n",
              "      <td>1.436807</td>\n",
              "      <td>0.250034</td>\n",
              "      <td>0.943651</td>\n",
              "      <td>0.823731</td>\n",
              "      <td>0.77</td>\n",
              "    </tr>\n",
              "    <tr>\n",
              "      <th>284803</th>\n",
              "      <td>172787.0</td>\n",
              "      <td>-0.732789</td>\n",
              "      <td>-0.055080</td>\n",
              "      <td>2.035030</td>\n",
              "      <td>-0.738589</td>\n",
              "      <td>0.868229</td>\n",
              "      <td>1.058415</td>\n",
              "      <td>0.024330</td>\n",
              "      <td>0.294869</td>\n",
              "      <td>0.584800</td>\n",
              "      <td>-0.975926</td>\n",
              "      <td>-0.150189</td>\n",
              "      <td>0.915802</td>\n",
              "      <td>1.214756</td>\n",
              "      <td>-0.675143</td>\n",
              "      <td>1.164931</td>\n",
              "      <td>-0.711757</td>\n",
              "      <td>-0.025693</td>\n",
              "      <td>-1.221179</td>\n",
              "      <td>-1.545556</td>\n",
              "      <td>0.059616</td>\n",
              "      <td>0.214205</td>\n",
              "      <td>0.924384</td>\n",
              "      <td>0.012463</td>\n",
              "      <td>-1.016226</td>\n",
              "      <td>-0.606624</td>\n",
              "      <td>-0.395255</td>\n",
              "      <td>0.068472</td>\n",
              "      <td>-0.053527</td>\n",
              "      <td>24.79</td>\n",
              "    </tr>\n",
              "    <tr>\n",
              "      <th>284804</th>\n",
              "      <td>172788.0</td>\n",
              "      <td>1.919565</td>\n",
              "      <td>-0.301254</td>\n",
              "      <td>-3.249640</td>\n",
              "      <td>-0.557828</td>\n",
              "      <td>2.630515</td>\n",
              "      <td>3.031260</td>\n",
              "      <td>-0.296827</td>\n",
              "      <td>0.708417</td>\n",
              "      <td>0.432454</td>\n",
              "      <td>-0.484782</td>\n",
              "      <td>0.411614</td>\n",
              "      <td>0.063119</td>\n",
              "      <td>-0.183699</td>\n",
              "      <td>-0.510602</td>\n",
              "      <td>1.329284</td>\n",
              "      <td>0.140716</td>\n",
              "      <td>0.313502</td>\n",
              "      <td>0.395652</td>\n",
              "      <td>-0.577252</td>\n",
              "      <td>0.001396</td>\n",
              "      <td>0.232045</td>\n",
              "      <td>0.578229</td>\n",
              "      <td>-0.037501</td>\n",
              "      <td>0.640134</td>\n",
              "      <td>0.265745</td>\n",
              "      <td>-0.087371</td>\n",
              "      <td>0.004455</td>\n",
              "      <td>-0.026561</td>\n",
              "      <td>67.88</td>\n",
              "    </tr>\n",
              "    <tr>\n",
              "      <th>284805</th>\n",
              "      <td>172788.0</td>\n",
              "      <td>-0.240440</td>\n",
              "      <td>0.530483</td>\n",
              "      <td>0.702510</td>\n",
              "      <td>0.689799</td>\n",
              "      <td>-0.377961</td>\n",
              "      <td>0.623708</td>\n",
              "      <td>-0.686180</td>\n",
              "      <td>0.679145</td>\n",
              "      <td>0.392087</td>\n",
              "      <td>-0.399126</td>\n",
              "      <td>-1.933849</td>\n",
              "      <td>-0.962886</td>\n",
              "      <td>-1.042082</td>\n",
              "      <td>0.449624</td>\n",
              "      <td>1.962563</td>\n",
              "      <td>-0.608577</td>\n",
              "      <td>0.509928</td>\n",
              "      <td>1.113981</td>\n",
              "      <td>2.897849</td>\n",
              "      <td>0.127434</td>\n",
              "      <td>0.265245</td>\n",
              "      <td>0.800049</td>\n",
              "      <td>-0.163298</td>\n",
              "      <td>0.123205</td>\n",
              "      <td>-0.569159</td>\n",
              "      <td>0.546668</td>\n",
              "      <td>0.108821</td>\n",
              "      <td>0.104533</td>\n",
              "      <td>10.00</td>\n",
              "    </tr>\n",
              "    <tr>\n",
              "      <th>284806</th>\n",
              "      <td>172792.0</td>\n",
              "      <td>-0.533413</td>\n",
              "      <td>-0.189733</td>\n",
              "      <td>0.703337</td>\n",
              "      <td>-0.506271</td>\n",
              "      <td>-0.012546</td>\n",
              "      <td>-0.649617</td>\n",
              "      <td>1.577006</td>\n",
              "      <td>-0.414650</td>\n",
              "      <td>0.486180</td>\n",
              "      <td>-0.915427</td>\n",
              "      <td>-1.040458</td>\n",
              "      <td>-0.031513</td>\n",
              "      <td>-0.188093</td>\n",
              "      <td>-0.084316</td>\n",
              "      <td>0.041333</td>\n",
              "      <td>-0.302620</td>\n",
              "      <td>-0.660377</td>\n",
              "      <td>0.167430</td>\n",
              "      <td>-0.256117</td>\n",
              "      <td>0.382948</td>\n",
              "      <td>0.261057</td>\n",
              "      <td>0.643078</td>\n",
              "      <td>0.376777</td>\n",
              "      <td>0.008797</td>\n",
              "      <td>-0.473649</td>\n",
              "      <td>-0.818267</td>\n",
              "      <td>-0.002415</td>\n",
              "      <td>0.013649</td>\n",
              "      <td>217.00</td>\n",
              "    </tr>\n",
              "  </tbody>\n",
              "</table>\n",
              "<p>284807 rows × 30 columns</p>\n",
              "</div>"
            ],
            "text/plain": [
              "            Time         V1         V2  ...       V27       V28  Amount\n",
              "0            0.0  -1.359807  -0.072781  ...  0.133558 -0.021053  149.62\n",
              "1            0.0   1.191857   0.266151  ... -0.008983  0.014724    2.69\n",
              "2            1.0  -1.358354  -1.340163  ... -0.055353 -0.059752  378.66\n",
              "3            1.0  -0.966272  -0.185226  ...  0.062723  0.061458  123.50\n",
              "4            2.0  -1.158233   0.877737  ...  0.219422  0.215153   69.99\n",
              "...          ...        ...        ...  ...       ...       ...     ...\n",
              "284802  172786.0 -11.881118  10.071785  ...  0.943651  0.823731    0.77\n",
              "284803  172787.0  -0.732789  -0.055080  ...  0.068472 -0.053527   24.79\n",
              "284804  172788.0   1.919565  -0.301254  ...  0.004455 -0.026561   67.88\n",
              "284805  172788.0  -0.240440   0.530483  ...  0.108821  0.104533   10.00\n",
              "284806  172792.0  -0.533413  -0.189733  ... -0.002415  0.013649  217.00\n",
              "\n",
              "[284807 rows x 30 columns]"
            ]
          },
          "metadata": {
            "tags": []
          },
          "execution_count": 13
        }
      ]
    },
    {
      "cell_type": "code",
      "metadata": {
        "id": "qc66BGWv1Mco",
        "outputId": "8758f61d-510b-4cc1-a956-8e192c05faac",
        "colab": {
          "base_uri": "https://localhost:8080/",
          "height": 242
        }
      },
      "source": [
        "real_y"
      ],
      "execution_count": 14,
      "outputs": [
        {
          "output_type": "execute_result",
          "data": {
            "text/plain": [
              "0         0\n",
              "1         0\n",
              "2         0\n",
              "3         0\n",
              "4         0\n",
              "         ..\n",
              "284802    0\n",
              "284803    0\n",
              "284804    0\n",
              "284805    0\n",
              "284806    0\n",
              "Name: Class, Length: 284807, dtype: int64"
            ]
          },
          "metadata": {
            "tags": []
          },
          "execution_count": 14
        }
      ]
    },
    {
      "cell_type": "markdown",
      "metadata": {
        "id": "YFu8HhyC1zQY"
      },
      "source": [
        "#feature Scalling"
      ]
    },
    {
      "cell_type": "code",
      "metadata": {
        "id": "WauTIjRY1w3D"
      },
      "source": [
        "from sklearn.preprocessing import MinMaxScaler"
      ],
      "execution_count": 15,
      "outputs": []
    },
    {
      "cell_type": "code",
      "metadata": {
        "id": "gOSZ_WTn2fN0",
        "outputId": "b4fd054f-b06c-4c42-b444-89be40bb56fe",
        "colab": {
          "base_uri": "https://localhost:8080/",
          "height": 36
        }
      },
      "source": [
        "scaler = MinMaxScaler()\n",
        "scaler.fit(real_x)"
      ],
      "execution_count": 16,
      "outputs": [
        {
          "output_type": "execute_result",
          "data": {
            "text/plain": [
              "MinMaxScaler(copy=True, feature_range=(0, 1))"
            ]
          },
          "metadata": {
            "tags": []
          },
          "execution_count": 16
        }
      ]
    },
    {
      "cell_type": "code",
      "metadata": {
        "id": "Nw31XqCJ2pdV"
      },
      "source": [
        "data_scaled = scaler.transform(real_x)"
      ],
      "execution_count": 17,
      "outputs": []
    },
    {
      "cell_type": "code",
      "metadata": {
        "id": "Su6Az4-H2_EL"
      },
      "source": [
        "real_X = pd.DataFrame(data=data_scaled)"
      ],
      "execution_count": 18,
      "outputs": []
    },
    {
      "cell_type": "code",
      "metadata": {
        "id": "Iz-ck19a3JW_",
        "outputId": "cc5dc094-42e4-41d9-cc3a-c15438b65c0f",
        "colab": {
          "base_uri": "https://localhost:8080/",
          "height": 444
        }
      },
      "source": [
        "real_X"
      ],
      "execution_count": 19,
      "outputs": [
        {
          "output_type": "execute_result",
          "data": {
            "text/html": [
              "<div>\n",
              "<style scoped>\n",
              "    .dataframe tbody tr th:only-of-type {\n",
              "        vertical-align: middle;\n",
              "    }\n",
              "\n",
              "    .dataframe tbody tr th {\n",
              "        vertical-align: top;\n",
              "    }\n",
              "\n",
              "    .dataframe thead th {\n",
              "        text-align: right;\n",
              "    }\n",
              "</style>\n",
              "<table border=\"1\" class=\"dataframe\">\n",
              "  <thead>\n",
              "    <tr style=\"text-align: right;\">\n",
              "      <th></th>\n",
              "      <th>0</th>\n",
              "      <th>1</th>\n",
              "      <th>2</th>\n",
              "      <th>3</th>\n",
              "      <th>4</th>\n",
              "      <th>5</th>\n",
              "      <th>6</th>\n",
              "      <th>7</th>\n",
              "      <th>8</th>\n",
              "      <th>9</th>\n",
              "      <th>10</th>\n",
              "      <th>11</th>\n",
              "      <th>12</th>\n",
              "      <th>13</th>\n",
              "      <th>14</th>\n",
              "      <th>15</th>\n",
              "      <th>16</th>\n",
              "      <th>17</th>\n",
              "      <th>18</th>\n",
              "      <th>19</th>\n",
              "      <th>20</th>\n",
              "      <th>21</th>\n",
              "      <th>22</th>\n",
              "      <th>23</th>\n",
              "      <th>24</th>\n",
              "      <th>25</th>\n",
              "      <th>26</th>\n",
              "      <th>27</th>\n",
              "      <th>28</th>\n",
              "      <th>29</th>\n",
              "    </tr>\n",
              "  </thead>\n",
              "  <tbody>\n",
              "    <tr>\n",
              "      <th>0</th>\n",
              "      <td>0.000000</td>\n",
              "      <td>0.935192</td>\n",
              "      <td>0.766490</td>\n",
              "      <td>0.881365</td>\n",
              "      <td>0.313023</td>\n",
              "      <td>0.763439</td>\n",
              "      <td>0.267669</td>\n",
              "      <td>0.266815</td>\n",
              "      <td>0.786444</td>\n",
              "      <td>0.475312</td>\n",
              "      <td>0.510600</td>\n",
              "      <td>0.252484</td>\n",
              "      <td>0.680908</td>\n",
              "      <td>0.371591</td>\n",
              "      <td>0.635591</td>\n",
              "      <td>0.446084</td>\n",
              "      <td>0.434392</td>\n",
              "      <td>0.737173</td>\n",
              "      <td>0.655066</td>\n",
              "      <td>0.594863</td>\n",
              "      <td>0.582942</td>\n",
              "      <td>0.561184</td>\n",
              "      <td>0.522992</td>\n",
              "      <td>0.663793</td>\n",
              "      <td>0.391253</td>\n",
              "      <td>0.585122</td>\n",
              "      <td>0.394557</td>\n",
              "      <td>0.418976</td>\n",
              "      <td>0.312697</td>\n",
              "      <td>0.005824</td>\n",
              "    </tr>\n",
              "    <tr>\n",
              "      <th>1</th>\n",
              "      <td>0.000000</td>\n",
              "      <td>0.978542</td>\n",
              "      <td>0.770067</td>\n",
              "      <td>0.840298</td>\n",
              "      <td>0.271796</td>\n",
              "      <td>0.766120</td>\n",
              "      <td>0.262192</td>\n",
              "      <td>0.264875</td>\n",
              "      <td>0.786298</td>\n",
              "      <td>0.453981</td>\n",
              "      <td>0.505267</td>\n",
              "      <td>0.381188</td>\n",
              "      <td>0.744342</td>\n",
              "      <td>0.486190</td>\n",
              "      <td>0.641219</td>\n",
              "      <td>0.383840</td>\n",
              "      <td>0.464105</td>\n",
              "      <td>0.727794</td>\n",
              "      <td>0.640681</td>\n",
              "      <td>0.551930</td>\n",
              "      <td>0.579530</td>\n",
              "      <td>0.557840</td>\n",
              "      <td>0.480237</td>\n",
              "      <td>0.666938</td>\n",
              "      <td>0.336440</td>\n",
              "      <td>0.587290</td>\n",
              "      <td>0.446013</td>\n",
              "      <td>0.416345</td>\n",
              "      <td>0.313423</td>\n",
              "      <td>0.000105</td>\n",
              "    </tr>\n",
              "    <tr>\n",
              "      <th>2</th>\n",
              "      <td>0.000006</td>\n",
              "      <td>0.935217</td>\n",
              "      <td>0.753118</td>\n",
              "      <td>0.868141</td>\n",
              "      <td>0.268766</td>\n",
              "      <td>0.762329</td>\n",
              "      <td>0.281122</td>\n",
              "      <td>0.270177</td>\n",
              "      <td>0.788042</td>\n",
              "      <td>0.410603</td>\n",
              "      <td>0.513018</td>\n",
              "      <td>0.322422</td>\n",
              "      <td>0.706683</td>\n",
              "      <td>0.503854</td>\n",
              "      <td>0.640473</td>\n",
              "      <td>0.511697</td>\n",
              "      <td>0.357443</td>\n",
              "      <td>0.763381</td>\n",
              "      <td>0.644945</td>\n",
              "      <td>0.386683</td>\n",
              "      <td>0.585855</td>\n",
              "      <td>0.565477</td>\n",
              "      <td>0.546030</td>\n",
              "      <td>0.678939</td>\n",
              "      <td>0.289354</td>\n",
              "      <td>0.559515</td>\n",
              "      <td>0.402727</td>\n",
              "      <td>0.415489</td>\n",
              "      <td>0.311911</td>\n",
              "      <td>0.014739</td>\n",
              "    </tr>\n",
              "    <tr>\n",
              "      <th>3</th>\n",
              "      <td>0.000006</td>\n",
              "      <td>0.941878</td>\n",
              "      <td>0.765304</td>\n",
              "      <td>0.868484</td>\n",
              "      <td>0.213661</td>\n",
              "      <td>0.765647</td>\n",
              "      <td>0.275559</td>\n",
              "      <td>0.266803</td>\n",
              "      <td>0.789434</td>\n",
              "      <td>0.414999</td>\n",
              "      <td>0.507585</td>\n",
              "      <td>0.271817</td>\n",
              "      <td>0.710910</td>\n",
              "      <td>0.487635</td>\n",
              "      <td>0.636372</td>\n",
              "      <td>0.289124</td>\n",
              "      <td>0.415653</td>\n",
              "      <td>0.711253</td>\n",
              "      <td>0.788492</td>\n",
              "      <td>0.467058</td>\n",
              "      <td>0.578050</td>\n",
              "      <td>0.559734</td>\n",
              "      <td>0.510277</td>\n",
              "      <td>0.662607</td>\n",
              "      <td>0.223826</td>\n",
              "      <td>0.614245</td>\n",
              "      <td>0.389197</td>\n",
              "      <td>0.417669</td>\n",
              "      <td>0.314371</td>\n",
              "      <td>0.004807</td>\n",
              "    </tr>\n",
              "    <tr>\n",
              "      <th>4</th>\n",
              "      <td>0.000012</td>\n",
              "      <td>0.938617</td>\n",
              "      <td>0.776520</td>\n",
              "      <td>0.864251</td>\n",
              "      <td>0.269796</td>\n",
              "      <td>0.762975</td>\n",
              "      <td>0.263984</td>\n",
              "      <td>0.268968</td>\n",
              "      <td>0.782484</td>\n",
              "      <td>0.490950</td>\n",
              "      <td>0.524303</td>\n",
              "      <td>0.236355</td>\n",
              "      <td>0.724477</td>\n",
              "      <td>0.552509</td>\n",
              "      <td>0.608406</td>\n",
              "      <td>0.349419</td>\n",
              "      <td>0.434995</td>\n",
              "      <td>0.724243</td>\n",
              "      <td>0.650665</td>\n",
              "      <td>0.626060</td>\n",
              "      <td>0.584615</td>\n",
              "      <td>0.561327</td>\n",
              "      <td>0.547271</td>\n",
              "      <td>0.663392</td>\n",
              "      <td>0.401270</td>\n",
              "      <td>0.566343</td>\n",
              "      <td>0.507497</td>\n",
              "      <td>0.420561</td>\n",
              "      <td>0.317490</td>\n",
              "      <td>0.002724</td>\n",
              "    </tr>\n",
              "    <tr>\n",
              "      <th>...</th>\n",
              "      <td>...</td>\n",
              "      <td>...</td>\n",
              "      <td>...</td>\n",
              "      <td>...</td>\n",
              "      <td>...</td>\n",
              "      <td>...</td>\n",
              "      <td>...</td>\n",
              "      <td>...</td>\n",
              "      <td>...</td>\n",
              "      <td>...</td>\n",
              "      <td>...</td>\n",
              "      <td>...</td>\n",
              "      <td>...</td>\n",
              "      <td>...</td>\n",
              "      <td>...</td>\n",
              "      <td>...</td>\n",
              "      <td>...</td>\n",
              "      <td>...</td>\n",
              "      <td>...</td>\n",
              "      <td>...</td>\n",
              "      <td>...</td>\n",
              "      <td>...</td>\n",
              "      <td>...</td>\n",
              "      <td>...</td>\n",
              "      <td>...</td>\n",
              "      <td>...</td>\n",
              "      <td>...</td>\n",
              "      <td>...</td>\n",
              "      <td>...</td>\n",
              "      <td>...</td>\n",
              "    </tr>\n",
              "    <tr>\n",
              "      <th>284802</th>\n",
              "      <td>0.999965</td>\n",
              "      <td>0.756448</td>\n",
              "      <td>0.873531</td>\n",
              "      <td>0.666991</td>\n",
              "      <td>0.160317</td>\n",
              "      <td>0.729603</td>\n",
              "      <td>0.236810</td>\n",
              "      <td>0.235393</td>\n",
              "      <td>0.863749</td>\n",
              "      <td>0.528729</td>\n",
              "      <td>0.598850</td>\n",
              "      <td>0.190550</td>\n",
              "      <td>0.806406</td>\n",
              "      <td>0.394978</td>\n",
              "      <td>0.801627</td>\n",
              "      <td>0.267218</td>\n",
              "      <td>0.484577</td>\n",
              "      <td>0.789000</td>\n",
              "      <td>0.688412</td>\n",
              "      <td>0.509985</td>\n",
              "      <td>0.595979</td>\n",
              "      <td>0.564920</td>\n",
              "      <td>0.515249</td>\n",
              "      <td>0.680500</td>\n",
              "      <td>0.313600</td>\n",
              "      <td>0.658558</td>\n",
              "      <td>0.466291</td>\n",
              "      <td>0.433929</td>\n",
              "      <td>0.329840</td>\n",
              "      <td>0.000030</td>\n",
              "    </tr>\n",
              "    <tr>\n",
              "      <th>284803</th>\n",
              "      <td>0.999971</td>\n",
              "      <td>0.945845</td>\n",
              "      <td>0.766677</td>\n",
              "      <td>0.872678</td>\n",
              "      <td>0.219189</td>\n",
              "      <td>0.771561</td>\n",
              "      <td>0.273661</td>\n",
              "      <td>0.265504</td>\n",
              "      <td>0.788548</td>\n",
              "      <td>0.482925</td>\n",
              "      <td>0.488530</td>\n",
              "      <td>0.276355</td>\n",
              "      <td>0.738709</td>\n",
              "      <td>0.542361</td>\n",
              "      <td>0.623352</td>\n",
              "      <td>0.423414</td>\n",
              "      <td>0.426717</td>\n",
              "      <td>0.730383</td>\n",
              "      <td>0.569303</td>\n",
              "      <td>0.442620</td>\n",
              "      <td>0.580900</td>\n",
              "      <td>0.564933</td>\n",
              "      <td>0.553153</td>\n",
              "      <td>0.665619</td>\n",
              "      <td>0.245298</td>\n",
              "      <td>0.543855</td>\n",
              "      <td>0.360884</td>\n",
              "      <td>0.417775</td>\n",
              "      <td>0.312038</td>\n",
              "      <td>0.000965</td>\n",
              "    </tr>\n",
              "    <tr>\n",
              "      <th>284804</th>\n",
              "      <td>0.999977</td>\n",
              "      <td>0.990905</td>\n",
              "      <td>0.764080</td>\n",
              "      <td>0.781102</td>\n",
              "      <td>0.227202</td>\n",
              "      <td>0.783425</td>\n",
              "      <td>0.293496</td>\n",
              "      <td>0.263547</td>\n",
              "      <td>0.792985</td>\n",
              "      <td>0.477677</td>\n",
              "      <td>0.498692</td>\n",
              "      <td>0.309763</td>\n",
              "      <td>0.706572</td>\n",
              "      <td>0.434111</td>\n",
              "      <td>0.628885</td>\n",
              "      <td>0.435700</td>\n",
              "      <td>0.453827</td>\n",
              "      <td>0.740239</td>\n",
              "      <td>0.680504</td>\n",
              "      <td>0.518236</td>\n",
              "      <td>0.580280</td>\n",
              "      <td>0.565220</td>\n",
              "      <td>0.537005</td>\n",
              "      <td>0.664877</td>\n",
              "      <td>0.468492</td>\n",
              "      <td>0.592824</td>\n",
              "      <td>0.411177</td>\n",
              "      <td>0.416593</td>\n",
              "      <td>0.312585</td>\n",
              "      <td>0.002642</td>\n",
              "    </tr>\n",
              "    <tr>\n",
              "      <th>284805</th>\n",
              "      <td>0.999977</td>\n",
              "      <td>0.954209</td>\n",
              "      <td>0.772856</td>\n",
              "      <td>0.849587</td>\n",
              "      <td>0.282508</td>\n",
              "      <td>0.763172</td>\n",
              "      <td>0.269291</td>\n",
              "      <td>0.261175</td>\n",
              "      <td>0.792671</td>\n",
              "      <td>0.476287</td>\n",
              "      <td>0.500464</td>\n",
              "      <td>0.170288</td>\n",
              "      <td>0.667901</td>\n",
              "      <td>0.367667</td>\n",
              "      <td>0.661171</td>\n",
              "      <td>0.483042</td>\n",
              "      <td>0.429998</td>\n",
              "      <td>0.745946</td>\n",
              "      <td>0.729908</td>\n",
              "      <td>0.789612</td>\n",
              "      <td>0.581622</td>\n",
              "      <td>0.565755</td>\n",
              "      <td>0.547353</td>\n",
              "      <td>0.663008</td>\n",
              "      <td>0.398836</td>\n",
              "      <td>0.545958</td>\n",
              "      <td>0.514746</td>\n",
              "      <td>0.418520</td>\n",
              "      <td>0.315245</td>\n",
              "      <td>0.000389</td>\n",
              "    </tr>\n",
              "    <tr>\n",
              "      <th>284806</th>\n",
              "      <td>1.000000</td>\n",
              "      <td>0.949232</td>\n",
              "      <td>0.765256</td>\n",
              "      <td>0.849601</td>\n",
              "      <td>0.229488</td>\n",
              "      <td>0.765632</td>\n",
              "      <td>0.256488</td>\n",
              "      <td>0.274963</td>\n",
              "      <td>0.780938</td>\n",
              "      <td>0.479528</td>\n",
              "      <td>0.489782</td>\n",
              "      <td>0.223414</td>\n",
              "      <td>0.703005</td>\n",
              "      <td>0.433771</td>\n",
              "      <td>0.643218</td>\n",
              "      <td>0.339417</td>\n",
              "      <td>0.439728</td>\n",
              "      <td>0.711942</td>\n",
              "      <td>0.664807</td>\n",
              "      <td>0.543314</td>\n",
              "      <td>0.584343</td>\n",
              "      <td>0.565688</td>\n",
              "      <td>0.540031</td>\n",
              "      <td>0.671029</td>\n",
              "      <td>0.383420</td>\n",
              "      <td>0.551319</td>\n",
              "      <td>0.291786</td>\n",
              "      <td>0.416466</td>\n",
              "      <td>0.313401</td>\n",
              "      <td>0.008446</td>\n",
              "    </tr>\n",
              "  </tbody>\n",
              "</table>\n",
              "<p>284807 rows × 30 columns</p>\n",
              "</div>"
            ],
            "text/plain": [
              "              0         1         2   ...        27        28        29\n",
              "0       0.000000  0.935192  0.766490  ...  0.418976  0.312697  0.005824\n",
              "1       0.000000  0.978542  0.770067  ...  0.416345  0.313423  0.000105\n",
              "2       0.000006  0.935217  0.753118  ...  0.415489  0.311911  0.014739\n",
              "3       0.000006  0.941878  0.765304  ...  0.417669  0.314371  0.004807\n",
              "4       0.000012  0.938617  0.776520  ...  0.420561  0.317490  0.002724\n",
              "...          ...       ...       ...  ...       ...       ...       ...\n",
              "284802  0.999965  0.756448  0.873531  ...  0.433929  0.329840  0.000030\n",
              "284803  0.999971  0.945845  0.766677  ...  0.417775  0.312038  0.000965\n",
              "284804  0.999977  0.990905  0.764080  ...  0.416593  0.312585  0.002642\n",
              "284805  0.999977  0.954209  0.772856  ...  0.418520  0.315245  0.000389\n",
              "284806  1.000000  0.949232  0.765256  ...  0.416466  0.313401  0.008446\n",
              "\n",
              "[284807 rows x 30 columns]"
            ]
          },
          "metadata": {
            "tags": []
          },
          "execution_count": 19
        }
      ]
    },
    {
      "cell_type": "code",
      "metadata": {
        "id": "SfUAVHG-3LYZ",
        "outputId": "419e9f6b-4388-4906-a9b6-9e756edcb98f",
        "colab": {
          "base_uri": "https://localhost:8080/",
          "height": 56
        }
      },
      "source": [
        "print(df.columns.tolist())"
      ],
      "execution_count": 20,
      "outputs": [
        {
          "output_type": "stream",
          "text": [
            "['Time', 'V1', 'V2', 'V3', 'V4', 'V5', 'V6', 'V7', 'V8', 'V9', 'V10', 'V11', 'V12', 'V13', 'V14', 'V15', 'V16', 'V17', 'V18', 'V19', 'V20', 'V21', 'V22', 'V23', 'V24', 'V25', 'V26', 'V27', 'V28', 'Amount', 'Class']\n"
          ],
          "name": "stdout"
        }
      ]
    },
    {
      "cell_type": "code",
      "metadata": {
        "id": "zwRh4jCf3Sfi"
      },
      "source": [
        "real_X.columns = ['Time', 'V1', 'V2', 'V3', 'V4', 'V5', 'V6', 'V7', 'V8', 'V9', 'V10', 'V11', \n",
        "                  'V12', 'V13', 'V14', 'V15', 'V16', 'V17', 'V18', 'V19', 'V20', 'V21', 'V22',\n",
        "                  'V23', 'V24', 'V25', 'V26', 'V27', 'V28', 'Amount']"
      ],
      "execution_count": 21,
      "outputs": []
    },
    {
      "cell_type": "code",
      "metadata": {
        "id": "R9S7IczU3olw",
        "outputId": "9107675f-bc4f-47a9-855a-fa129684b601",
        "colab": {
          "base_uri": "https://localhost:8080/",
          "height": 444
        }
      },
      "source": [
        "real_X"
      ],
      "execution_count": 22,
      "outputs": [
        {
          "output_type": "execute_result",
          "data": {
            "text/html": [
              "<div>\n",
              "<style scoped>\n",
              "    .dataframe tbody tr th:only-of-type {\n",
              "        vertical-align: middle;\n",
              "    }\n",
              "\n",
              "    .dataframe tbody tr th {\n",
              "        vertical-align: top;\n",
              "    }\n",
              "\n",
              "    .dataframe thead th {\n",
              "        text-align: right;\n",
              "    }\n",
              "</style>\n",
              "<table border=\"1\" class=\"dataframe\">\n",
              "  <thead>\n",
              "    <tr style=\"text-align: right;\">\n",
              "      <th></th>\n",
              "      <th>Time</th>\n",
              "      <th>V1</th>\n",
              "      <th>V2</th>\n",
              "      <th>V3</th>\n",
              "      <th>V4</th>\n",
              "      <th>V5</th>\n",
              "      <th>V6</th>\n",
              "      <th>V7</th>\n",
              "      <th>V8</th>\n",
              "      <th>V9</th>\n",
              "      <th>V10</th>\n",
              "      <th>V11</th>\n",
              "      <th>V12</th>\n",
              "      <th>V13</th>\n",
              "      <th>V14</th>\n",
              "      <th>V15</th>\n",
              "      <th>V16</th>\n",
              "      <th>V17</th>\n",
              "      <th>V18</th>\n",
              "      <th>V19</th>\n",
              "      <th>V20</th>\n",
              "      <th>V21</th>\n",
              "      <th>V22</th>\n",
              "      <th>V23</th>\n",
              "      <th>V24</th>\n",
              "      <th>V25</th>\n",
              "      <th>V26</th>\n",
              "      <th>V27</th>\n",
              "      <th>V28</th>\n",
              "      <th>Amount</th>\n",
              "    </tr>\n",
              "  </thead>\n",
              "  <tbody>\n",
              "    <tr>\n",
              "      <th>0</th>\n",
              "      <td>0.000000</td>\n",
              "      <td>0.935192</td>\n",
              "      <td>0.766490</td>\n",
              "      <td>0.881365</td>\n",
              "      <td>0.313023</td>\n",
              "      <td>0.763439</td>\n",
              "      <td>0.267669</td>\n",
              "      <td>0.266815</td>\n",
              "      <td>0.786444</td>\n",
              "      <td>0.475312</td>\n",
              "      <td>0.510600</td>\n",
              "      <td>0.252484</td>\n",
              "      <td>0.680908</td>\n",
              "      <td>0.371591</td>\n",
              "      <td>0.635591</td>\n",
              "      <td>0.446084</td>\n",
              "      <td>0.434392</td>\n",
              "      <td>0.737173</td>\n",
              "      <td>0.655066</td>\n",
              "      <td>0.594863</td>\n",
              "      <td>0.582942</td>\n",
              "      <td>0.561184</td>\n",
              "      <td>0.522992</td>\n",
              "      <td>0.663793</td>\n",
              "      <td>0.391253</td>\n",
              "      <td>0.585122</td>\n",
              "      <td>0.394557</td>\n",
              "      <td>0.418976</td>\n",
              "      <td>0.312697</td>\n",
              "      <td>0.005824</td>\n",
              "    </tr>\n",
              "    <tr>\n",
              "      <th>1</th>\n",
              "      <td>0.000000</td>\n",
              "      <td>0.978542</td>\n",
              "      <td>0.770067</td>\n",
              "      <td>0.840298</td>\n",
              "      <td>0.271796</td>\n",
              "      <td>0.766120</td>\n",
              "      <td>0.262192</td>\n",
              "      <td>0.264875</td>\n",
              "      <td>0.786298</td>\n",
              "      <td>0.453981</td>\n",
              "      <td>0.505267</td>\n",
              "      <td>0.381188</td>\n",
              "      <td>0.744342</td>\n",
              "      <td>0.486190</td>\n",
              "      <td>0.641219</td>\n",
              "      <td>0.383840</td>\n",
              "      <td>0.464105</td>\n",
              "      <td>0.727794</td>\n",
              "      <td>0.640681</td>\n",
              "      <td>0.551930</td>\n",
              "      <td>0.579530</td>\n",
              "      <td>0.557840</td>\n",
              "      <td>0.480237</td>\n",
              "      <td>0.666938</td>\n",
              "      <td>0.336440</td>\n",
              "      <td>0.587290</td>\n",
              "      <td>0.446013</td>\n",
              "      <td>0.416345</td>\n",
              "      <td>0.313423</td>\n",
              "      <td>0.000105</td>\n",
              "    </tr>\n",
              "    <tr>\n",
              "      <th>2</th>\n",
              "      <td>0.000006</td>\n",
              "      <td>0.935217</td>\n",
              "      <td>0.753118</td>\n",
              "      <td>0.868141</td>\n",
              "      <td>0.268766</td>\n",
              "      <td>0.762329</td>\n",
              "      <td>0.281122</td>\n",
              "      <td>0.270177</td>\n",
              "      <td>0.788042</td>\n",
              "      <td>0.410603</td>\n",
              "      <td>0.513018</td>\n",
              "      <td>0.322422</td>\n",
              "      <td>0.706683</td>\n",
              "      <td>0.503854</td>\n",
              "      <td>0.640473</td>\n",
              "      <td>0.511697</td>\n",
              "      <td>0.357443</td>\n",
              "      <td>0.763381</td>\n",
              "      <td>0.644945</td>\n",
              "      <td>0.386683</td>\n",
              "      <td>0.585855</td>\n",
              "      <td>0.565477</td>\n",
              "      <td>0.546030</td>\n",
              "      <td>0.678939</td>\n",
              "      <td>0.289354</td>\n",
              "      <td>0.559515</td>\n",
              "      <td>0.402727</td>\n",
              "      <td>0.415489</td>\n",
              "      <td>0.311911</td>\n",
              "      <td>0.014739</td>\n",
              "    </tr>\n",
              "    <tr>\n",
              "      <th>3</th>\n",
              "      <td>0.000006</td>\n",
              "      <td>0.941878</td>\n",
              "      <td>0.765304</td>\n",
              "      <td>0.868484</td>\n",
              "      <td>0.213661</td>\n",
              "      <td>0.765647</td>\n",
              "      <td>0.275559</td>\n",
              "      <td>0.266803</td>\n",
              "      <td>0.789434</td>\n",
              "      <td>0.414999</td>\n",
              "      <td>0.507585</td>\n",
              "      <td>0.271817</td>\n",
              "      <td>0.710910</td>\n",
              "      <td>0.487635</td>\n",
              "      <td>0.636372</td>\n",
              "      <td>0.289124</td>\n",
              "      <td>0.415653</td>\n",
              "      <td>0.711253</td>\n",
              "      <td>0.788492</td>\n",
              "      <td>0.467058</td>\n",
              "      <td>0.578050</td>\n",
              "      <td>0.559734</td>\n",
              "      <td>0.510277</td>\n",
              "      <td>0.662607</td>\n",
              "      <td>0.223826</td>\n",
              "      <td>0.614245</td>\n",
              "      <td>0.389197</td>\n",
              "      <td>0.417669</td>\n",
              "      <td>0.314371</td>\n",
              "      <td>0.004807</td>\n",
              "    </tr>\n",
              "    <tr>\n",
              "      <th>4</th>\n",
              "      <td>0.000012</td>\n",
              "      <td>0.938617</td>\n",
              "      <td>0.776520</td>\n",
              "      <td>0.864251</td>\n",
              "      <td>0.269796</td>\n",
              "      <td>0.762975</td>\n",
              "      <td>0.263984</td>\n",
              "      <td>0.268968</td>\n",
              "      <td>0.782484</td>\n",
              "      <td>0.490950</td>\n",
              "      <td>0.524303</td>\n",
              "      <td>0.236355</td>\n",
              "      <td>0.724477</td>\n",
              "      <td>0.552509</td>\n",
              "      <td>0.608406</td>\n",
              "      <td>0.349419</td>\n",
              "      <td>0.434995</td>\n",
              "      <td>0.724243</td>\n",
              "      <td>0.650665</td>\n",
              "      <td>0.626060</td>\n",
              "      <td>0.584615</td>\n",
              "      <td>0.561327</td>\n",
              "      <td>0.547271</td>\n",
              "      <td>0.663392</td>\n",
              "      <td>0.401270</td>\n",
              "      <td>0.566343</td>\n",
              "      <td>0.507497</td>\n",
              "      <td>0.420561</td>\n",
              "      <td>0.317490</td>\n",
              "      <td>0.002724</td>\n",
              "    </tr>\n",
              "    <tr>\n",
              "      <th>...</th>\n",
              "      <td>...</td>\n",
              "      <td>...</td>\n",
              "      <td>...</td>\n",
              "      <td>...</td>\n",
              "      <td>...</td>\n",
              "      <td>...</td>\n",
              "      <td>...</td>\n",
              "      <td>...</td>\n",
              "      <td>...</td>\n",
              "      <td>...</td>\n",
              "      <td>...</td>\n",
              "      <td>...</td>\n",
              "      <td>...</td>\n",
              "      <td>...</td>\n",
              "      <td>...</td>\n",
              "      <td>...</td>\n",
              "      <td>...</td>\n",
              "      <td>...</td>\n",
              "      <td>...</td>\n",
              "      <td>...</td>\n",
              "      <td>...</td>\n",
              "      <td>...</td>\n",
              "      <td>...</td>\n",
              "      <td>...</td>\n",
              "      <td>...</td>\n",
              "      <td>...</td>\n",
              "      <td>...</td>\n",
              "      <td>...</td>\n",
              "      <td>...</td>\n",
              "      <td>...</td>\n",
              "    </tr>\n",
              "    <tr>\n",
              "      <th>284802</th>\n",
              "      <td>0.999965</td>\n",
              "      <td>0.756448</td>\n",
              "      <td>0.873531</td>\n",
              "      <td>0.666991</td>\n",
              "      <td>0.160317</td>\n",
              "      <td>0.729603</td>\n",
              "      <td>0.236810</td>\n",
              "      <td>0.235393</td>\n",
              "      <td>0.863749</td>\n",
              "      <td>0.528729</td>\n",
              "      <td>0.598850</td>\n",
              "      <td>0.190550</td>\n",
              "      <td>0.806406</td>\n",
              "      <td>0.394978</td>\n",
              "      <td>0.801627</td>\n",
              "      <td>0.267218</td>\n",
              "      <td>0.484577</td>\n",
              "      <td>0.789000</td>\n",
              "      <td>0.688412</td>\n",
              "      <td>0.509985</td>\n",
              "      <td>0.595979</td>\n",
              "      <td>0.564920</td>\n",
              "      <td>0.515249</td>\n",
              "      <td>0.680500</td>\n",
              "      <td>0.313600</td>\n",
              "      <td>0.658558</td>\n",
              "      <td>0.466291</td>\n",
              "      <td>0.433929</td>\n",
              "      <td>0.329840</td>\n",
              "      <td>0.000030</td>\n",
              "    </tr>\n",
              "    <tr>\n",
              "      <th>284803</th>\n",
              "      <td>0.999971</td>\n",
              "      <td>0.945845</td>\n",
              "      <td>0.766677</td>\n",
              "      <td>0.872678</td>\n",
              "      <td>0.219189</td>\n",
              "      <td>0.771561</td>\n",
              "      <td>0.273661</td>\n",
              "      <td>0.265504</td>\n",
              "      <td>0.788548</td>\n",
              "      <td>0.482925</td>\n",
              "      <td>0.488530</td>\n",
              "      <td>0.276355</td>\n",
              "      <td>0.738709</td>\n",
              "      <td>0.542361</td>\n",
              "      <td>0.623352</td>\n",
              "      <td>0.423414</td>\n",
              "      <td>0.426717</td>\n",
              "      <td>0.730383</td>\n",
              "      <td>0.569303</td>\n",
              "      <td>0.442620</td>\n",
              "      <td>0.580900</td>\n",
              "      <td>0.564933</td>\n",
              "      <td>0.553153</td>\n",
              "      <td>0.665619</td>\n",
              "      <td>0.245298</td>\n",
              "      <td>0.543855</td>\n",
              "      <td>0.360884</td>\n",
              "      <td>0.417775</td>\n",
              "      <td>0.312038</td>\n",
              "      <td>0.000965</td>\n",
              "    </tr>\n",
              "    <tr>\n",
              "      <th>284804</th>\n",
              "      <td>0.999977</td>\n",
              "      <td>0.990905</td>\n",
              "      <td>0.764080</td>\n",
              "      <td>0.781102</td>\n",
              "      <td>0.227202</td>\n",
              "      <td>0.783425</td>\n",
              "      <td>0.293496</td>\n",
              "      <td>0.263547</td>\n",
              "      <td>0.792985</td>\n",
              "      <td>0.477677</td>\n",
              "      <td>0.498692</td>\n",
              "      <td>0.309763</td>\n",
              "      <td>0.706572</td>\n",
              "      <td>0.434111</td>\n",
              "      <td>0.628885</td>\n",
              "      <td>0.435700</td>\n",
              "      <td>0.453827</td>\n",
              "      <td>0.740239</td>\n",
              "      <td>0.680504</td>\n",
              "      <td>0.518236</td>\n",
              "      <td>0.580280</td>\n",
              "      <td>0.565220</td>\n",
              "      <td>0.537005</td>\n",
              "      <td>0.664877</td>\n",
              "      <td>0.468492</td>\n",
              "      <td>0.592824</td>\n",
              "      <td>0.411177</td>\n",
              "      <td>0.416593</td>\n",
              "      <td>0.312585</td>\n",
              "      <td>0.002642</td>\n",
              "    </tr>\n",
              "    <tr>\n",
              "      <th>284805</th>\n",
              "      <td>0.999977</td>\n",
              "      <td>0.954209</td>\n",
              "      <td>0.772856</td>\n",
              "      <td>0.849587</td>\n",
              "      <td>0.282508</td>\n",
              "      <td>0.763172</td>\n",
              "      <td>0.269291</td>\n",
              "      <td>0.261175</td>\n",
              "      <td>0.792671</td>\n",
              "      <td>0.476287</td>\n",
              "      <td>0.500464</td>\n",
              "      <td>0.170288</td>\n",
              "      <td>0.667901</td>\n",
              "      <td>0.367667</td>\n",
              "      <td>0.661171</td>\n",
              "      <td>0.483042</td>\n",
              "      <td>0.429998</td>\n",
              "      <td>0.745946</td>\n",
              "      <td>0.729908</td>\n",
              "      <td>0.789612</td>\n",
              "      <td>0.581622</td>\n",
              "      <td>0.565755</td>\n",
              "      <td>0.547353</td>\n",
              "      <td>0.663008</td>\n",
              "      <td>0.398836</td>\n",
              "      <td>0.545958</td>\n",
              "      <td>0.514746</td>\n",
              "      <td>0.418520</td>\n",
              "      <td>0.315245</td>\n",
              "      <td>0.000389</td>\n",
              "    </tr>\n",
              "    <tr>\n",
              "      <th>284806</th>\n",
              "      <td>1.000000</td>\n",
              "      <td>0.949232</td>\n",
              "      <td>0.765256</td>\n",
              "      <td>0.849601</td>\n",
              "      <td>0.229488</td>\n",
              "      <td>0.765632</td>\n",
              "      <td>0.256488</td>\n",
              "      <td>0.274963</td>\n",
              "      <td>0.780938</td>\n",
              "      <td>0.479528</td>\n",
              "      <td>0.489782</td>\n",
              "      <td>0.223414</td>\n",
              "      <td>0.703005</td>\n",
              "      <td>0.433771</td>\n",
              "      <td>0.643218</td>\n",
              "      <td>0.339417</td>\n",
              "      <td>0.439728</td>\n",
              "      <td>0.711942</td>\n",
              "      <td>0.664807</td>\n",
              "      <td>0.543314</td>\n",
              "      <td>0.584343</td>\n",
              "      <td>0.565688</td>\n",
              "      <td>0.540031</td>\n",
              "      <td>0.671029</td>\n",
              "      <td>0.383420</td>\n",
              "      <td>0.551319</td>\n",
              "      <td>0.291786</td>\n",
              "      <td>0.416466</td>\n",
              "      <td>0.313401</td>\n",
              "      <td>0.008446</td>\n",
              "    </tr>\n",
              "  </tbody>\n",
              "</table>\n",
              "<p>284807 rows × 30 columns</p>\n",
              "</div>"
            ],
            "text/plain": [
              "            Time        V1        V2  ...       V27       V28    Amount\n",
              "0       0.000000  0.935192  0.766490  ...  0.418976  0.312697  0.005824\n",
              "1       0.000000  0.978542  0.770067  ...  0.416345  0.313423  0.000105\n",
              "2       0.000006  0.935217  0.753118  ...  0.415489  0.311911  0.014739\n",
              "3       0.000006  0.941878  0.765304  ...  0.417669  0.314371  0.004807\n",
              "4       0.000012  0.938617  0.776520  ...  0.420561  0.317490  0.002724\n",
              "...          ...       ...       ...  ...       ...       ...       ...\n",
              "284802  0.999965  0.756448  0.873531  ...  0.433929  0.329840  0.000030\n",
              "284803  0.999971  0.945845  0.766677  ...  0.417775  0.312038  0.000965\n",
              "284804  0.999977  0.990905  0.764080  ...  0.416593  0.312585  0.002642\n",
              "284805  0.999977  0.954209  0.772856  ...  0.418520  0.315245  0.000389\n",
              "284806  1.000000  0.949232  0.765256  ...  0.416466  0.313401  0.008446\n",
              "\n",
              "[284807 rows x 30 columns]"
            ]
          },
          "metadata": {
            "tags": []
          },
          "execution_count": 22
        }
      ]
    },
    {
      "cell_type": "markdown",
      "metadata": {
        "id": "SlX0xhxV3zES"
      },
      "source": [
        "#Feature Selection"
      ]
    },
    {
      "cell_type": "code",
      "metadata": {
        "id": "mK-_I7TT3uYG"
      },
      "source": [
        "from sklearn.feature_selection import SelectKBest\n",
        "from sklearn.feature_selection import chi2"
      ],
      "execution_count": 23,
      "outputs": []
    },
    {
      "cell_type": "code",
      "metadata": {
        "id": "IdpKMyrn4GLt"
      },
      "source": [
        "X_real = SelectKBest(score_func=chi2, k=10).fit_transform(real_X,real_y)"
      ],
      "execution_count": 24,
      "outputs": []
    },
    {
      "cell_type": "code",
      "metadata": {
        "id": "fo9lep514rzo",
        "outputId": "3a93cb41-8c56-4925-a9ac-6b5c36ba9700",
        "colab": {
          "base_uri": "https://localhost:8080/",
          "height": 261
        }
      },
      "source": [
        "X_real"
      ],
      "execution_count": 25,
      "outputs": [
        {
          "output_type": "execute_result",
          "data": {
            "text/plain": [
              "array([[0.8813649 , 0.31302266, 0.47531173, ..., 0.43439239, 0.73717255,\n",
              "        0.65506586],\n",
              "       [0.84029849, 0.27179649, 0.45398097, ..., 0.46410518, 0.72779398,\n",
              "        0.64068109],\n",
              "       [0.86814082, 0.26876551, 0.41060274, ..., 0.35744263, 0.76338099,\n",
              "        0.64494538],\n",
              "       ...,\n",
              "       [0.781102  , 0.22720215, 0.47767719, ..., 0.45382687, 0.74023885,\n",
              "        0.68050373],\n",
              "       [0.84958713, 0.28250841, 0.47628661, ..., 0.42999816, 0.74594621,\n",
              "        0.72990794],\n",
              "       [0.84960146, 0.22948762, 0.47952794, ..., 0.43972808, 0.71194186,\n",
              "        0.66480734]])"
            ]
          },
          "metadata": {
            "tags": []
          },
          "execution_count": 25
        }
      ]
    },
    {
      "cell_type": "markdown",
      "metadata": {
        "id": "4Tgp9seL4wtc"
      },
      "source": [
        "#Feature Importances"
      ]
    },
    {
      "cell_type": "code",
      "metadata": {
        "id": "ylYq1JNa4uQF"
      },
      "source": [
        "from sklearn.ensemble import ExtraTreesClassifier"
      ],
      "execution_count": 26,
      "outputs": []
    },
    {
      "cell_type": "code",
      "metadata": {
        "id": "Tz__-OLS8acq",
        "outputId": "20e377d2-522b-4d34-e9f8-c05d6008556e",
        "colab": {
          "base_uri": "https://localhost:8080/",
          "height": 167
        }
      },
      "source": [
        "model = ExtraTreesClassifier()\n",
        "model.fit(real_x,real_y)"
      ],
      "execution_count": 27,
      "outputs": [
        {
          "output_type": "execute_result",
          "data": {
            "text/plain": [
              "ExtraTreesClassifier(bootstrap=False, ccp_alpha=0.0, class_weight=None,\n",
              "                     criterion='gini', max_depth=None, max_features='auto',\n",
              "                     max_leaf_nodes=None, max_samples=None,\n",
              "                     min_impurity_decrease=0.0, min_impurity_split=None,\n",
              "                     min_samples_leaf=1, min_samples_split=2,\n",
              "                     min_weight_fraction_leaf=0.0, n_estimators=100,\n",
              "                     n_jobs=None, oob_score=False, random_state=None, verbose=0,\n",
              "                     warm_start=False)"
            ]
          },
          "metadata": {
            "tags": []
          },
          "execution_count": 27
        }
      ]
    },
    {
      "cell_type": "code",
      "metadata": {
        "id": "1eyN8wQ28dR7",
        "outputId": "6505b287-7531-4543-ba5d-7d7f9188daa1",
        "colab": {
          "base_uri": "https://localhost:8080/",
          "height": 111
        }
      },
      "source": [
        "print(model.feature_importances_)"
      ],
      "execution_count": 28,
      "outputs": [
        {
          "output_type": "stream",
          "text": [
            "[0.01609547 0.01185981 0.01337693 0.03116284 0.03032257 0.0148638\n",
            " 0.01210325 0.02100401 0.01266368 0.03880088 0.07710696 0.07288595\n",
            " 0.13402744 0.01239621 0.12677316 0.0126877  0.05876488 0.13045958\n",
            " 0.03099825 0.01481167 0.01480029 0.01659198 0.01310542 0.00974688\n",
            " 0.01229796 0.01072242 0.01525749 0.0124058  0.01087874 0.01102799]\n"
          ],
          "name": "stdout"
        }
      ]
    },
    {
      "cell_type": "code",
      "metadata": {
        "id": "jbSalX9W8620",
        "outputId": "8c86fa56-429f-401f-c172-ddc430874dd6",
        "colab": {
          "base_uri": "https://localhost:8080/",
          "height": 592
        }
      },
      "source": [
        "plt.figure(figsize=(10,10))\n",
        "feature_importances = pd.Series(model.feature_importances_,index=real_X.columns)\n",
        "feature_importances.nlargest(30).plot(kind='barh')\n",
        "plt.show()"
      ],
      "execution_count": 29,
      "outputs": [
        {
          "output_type": "display_data",
          "data": {
            "image/png": "[encoded data removed]",
            "text/plain": [
              "<Figure size 720x720 with 1 Axes>"
            ]
          },
          "metadata": {
            "tags": [],
            "needs_background": "light"
          }
        }
      ]
    },
    {
      "cell_type": "markdown",
      "metadata": {
        "id": "PiU3jMGR_v0e"
      },
      "source": [
        "#Visulization Correlation Matrix"
      ]
    },
    {
      "cell_type": "code",
      "metadata": {
        "id": "xZpWkyCE9fKu",
        "outputId": "85523002-1eff-4297-d7bb-c50240dbc92d",
        "colab": {
          "base_uri": "https://localhost:8080/",
          "height": 886
        }
      },
      "source": [
        "corr = df.corr()\n",
        "top_corr_features = corr.index\n",
        "plt.figure(figsize=(20,20))\n",
        "g = sns.heatmap(df[top_corr_features].corr(),annot=True,cmap=\"RdYlGn\")"
      ],
      "execution_count": 30,
      "outputs": [
        {
          "output_type": "display_data",
          "data": {
            "image/png": "[encoded data removed]",
            "text/plain": [
              "<Figure size 1440x1440 with 2 Axes>"
            ]
          },
          "metadata": {
            "tags": [],
            "needs_background": "light"
          }
        }
      ]
    },
    {
      "cell_type": "markdown",
      "metadata": {
        "id": "M_fMX2yqA7et"
      },
      "source": [
        "#Balnced The Data Set using RandomUnder Sampling"
      ]
    },
    {
      "cell_type": "code",
      "metadata": {
        "id": "48KMk2DbAnjc",
        "outputId": "a0d86b0a-bfb9-4e5e-c158-814c05a824de",
        "colab": {
          "base_uri": "https://localhost:8080/",
          "height": 112
        }
      },
      "source": [
        "from imblearn.under_sampling import RandomUnderSampler\n",
        "undersampling = RandomUnderSampler()"
      ],
      "execution_count": 31,
      "outputs": [
        {
          "output_type": "stream",
          "text": [
            "/usr/local/lib/python3.6/dist-packages/sklearn/externals/six.py:31: FutureWarning: The module is deprecated in version 0.21 and will be removed in version 0.23 since we've dropped support for Python 2.7. Please rely on the official version of six (https://pypi.org/project/six/).\n",
            "  \"(https://pypi.org/project/six/).\", FutureWarning)\n",
            "/usr/local/lib/python3.6/dist-packages/sklearn/utils/deprecation.py:144: FutureWarning: The sklearn.neighbors.base module is  deprecated in version 0.22 and will be removed in version 0.24. The corresponding classes / functions should instead be imported from sklearn.neighbors. Anything that cannot be imported from sklearn.neighbors is now part of the private API.\n",
            "  warnings.warn(message, FutureWarning)\n"
          ],
          "name": "stderr"
        }
      ]
    },
    {
      "cell_type": "code",
      "metadata": {
        "id": "OeTWmYTlBMKG",
        "outputId": "a04173ac-6c30-448b-ce5a-fda958fb264d",
        "colab": {
          "base_uri": "https://localhost:8080/",
          "height": 74
        }
      },
      "source": [
        "X_under, y_under = undersampling.fit_sample(X_real,real_y)"
      ],
      "execution_count": 32,
      "outputs": [
        {
          "output_type": "stream",
          "text": [
            "/usr/local/lib/python3.6/dist-packages/sklearn/utils/deprecation.py:87: FutureWarning: Function safe_indexing is deprecated; safe_indexing is deprecated in version 0.22 and will be removed in version 0.24.\n",
            "  warnings.warn(msg, category=FutureWarning)\n"
          ],
          "name": "stderr"
        }
      ]
    },
    {
      "cell_type": "code",
      "metadata": {
        "id": "ub0-qmY-CQxz"
      },
      "source": [
        "df = pd.DataFrame(y_under)\n",
        "df.columns=['Class']"
      ],
      "execution_count": 33,
      "outputs": []
    },
    {
      "cell_type": "code",
      "metadata": {
        "id": "U7VXgEAbP_tT",
        "outputId": "adae847d-0a79-4471-d9c4-a91992212e85",
        "colab": {
          "base_uri": "https://localhost:8080/",
          "height": 73
        }
      },
      "source": [
        "df['Class'].value_counts()"
      ],
      "execution_count": 34,
      "outputs": [
        {
          "output_type": "execute_result",
          "data": {
            "text/plain": [
              "1    492\n",
              "0    492\n",
              "Name: Class, dtype: int64"
            ]
          },
          "metadata": {
            "tags": []
          },
          "execution_count": 34
        }
      ]
    },
    {
      "cell_type": "code",
      "metadata": {
        "id": "n1KwtoIlChZ0",
        "outputId": "6ac80506-1db9-492b-e25b-b73783c2c6ac",
        "colab": {
          "base_uri": "https://localhost:8080/",
          "height": 369
        }
      },
      "source": [
        "#Balance the Data set\n",
        "plt.figure(figsize=(5,5))\n",
        "sns.countplot(x='Class',data=df)\n",
        "plt.title('Target Visulization Balanced Data set')"
      ],
      "execution_count": 35,
      "outputs": [
        {
          "output_type": "execute_result",
          "data": {
            "text/plain": [
              "Text(0.5, 1.0, 'Target Visulization Balanced Data set')"
            ]
          },
          "metadata": {
            "tags": []
          },
          "execution_count": 35
        },
        {
          "output_type": "display_data",
          "data": {
            "image/png": "[encoded data removed]",
            "text/plain": [
              "<Figure size 360x360 with 1 Axes>"
            ]
          },
          "metadata": {
            "tags": [],
            "needs_background": "light"
          }
        }
      ]
    },
    {
      "cell_type": "markdown",
      "metadata": {
        "id": "jHQNsRti1of6"
      },
      "source": [
        "#Spiliting the Data set"
      ]
    },
    {
      "cell_type": "code",
      "metadata": {
        "id": "Vybk2hZsCply"
      },
      "source": [
        "from sklearn.model_selection import train_test_split"
      ],
      "execution_count": 36,
      "outputs": []
    },
    {
      "cell_type": "code",
      "metadata": {
        "id": "o488Ul2oOzlq"
      },
      "source": [
        "training_x,test_x,training_y,test_y = train_test_split(X_under,y_under,test_size=0.3,random_state=42)"
      ],
      "execution_count": 37,
      "outputs": []
    },
    {
      "cell_type": "markdown",
      "metadata": {
        "id": "8Vd7k27I1x-R"
      },
      "source": [
        "#Fitting the Model"
      ]
    },
    {
      "cell_type": "code",
      "metadata": {
        "id": "VymlyewnxdKF"
      },
      "source": [
        "#Logistic Regression\n",
        "from sklearn.linear_model import LogisticRegression"
      ],
      "execution_count": 38,
      "outputs": []
    },
    {
      "cell_type": "code",
      "metadata": {
        "id": "U8o1O6-Uxo2_",
        "outputId": "f3d7a986-4dd8-48c2-9457-84c4714f0080",
        "colab": {
          "base_uri": "https://localhost:8080/",
          "height": 111
        }
      },
      "source": [
        "lr = LogisticRegression(penalty='l2')\n",
        "lr.fit(training_x,training_y)"
      ],
      "execution_count": 39,
      "outputs": [
        {
          "output_type": "execute_result",
          "data": {
            "text/plain": [
              "LogisticRegression(C=1.0, class_weight=None, dual=False, fit_intercept=True,\n",
              "                   intercept_scaling=1, l1_ratio=None, max_iter=100,\n",
              "                   multi_class='auto', n_jobs=None, penalty='l2',\n",
              "                   random_state=None, solver='lbfgs', tol=0.0001, verbose=0,\n",
              "                   warm_start=False)"
            ]
          },
          "metadata": {
            "tags": []
          },
          "execution_count": 39
        }
      ]
    },
    {
      "cell_type": "code",
      "metadata": {
        "id": "zzyK6eCgxoxV"
      },
      "source": [
        "y_pred = lr.predict(test_x)"
      ],
      "execution_count": 40,
      "outputs": []
    },
    {
      "cell_type": "code",
      "metadata": {
        "id": "4moQnjTxzGap",
        "outputId": "f7461894-298c-410b-ce97-c75a610ceac1",
        "colab": {
          "base_uri": "https://localhost:8080/",
          "height": 242
        }
      },
      "source": [
        "from sklearn.metrics import confusion_matrix\n",
        "from sklearn.metrics import classification_report\n",
        "print(confusion_matrix(test_y,y_pred))\n",
        "print(\"-------------------------------------------------\")\n",
        "print(classification_report(test_y,y_pred))"
      ],
      "execution_count": 41,
      "outputs": [
        {
          "output_type": "stream",
          "text": [
            "[[150   0]\n",
            " [ 25 121]]\n",
            "-------------------------------------------------\n",
            "              precision    recall  f1-score   support\n",
            "\n",
            "           0       0.86      1.00      0.92       150\n",
            "           1       1.00      0.83      0.91       146\n",
            "\n",
            "    accuracy                           0.92       296\n",
            "   macro avg       0.93      0.91      0.91       296\n",
            "weighted avg       0.93      0.92      0.91       296\n",
            "\n"
          ],
          "name": "stdout"
        }
      ]
    },
    {
      "cell_type": "code",
      "metadata": {
        "id": "jlnnwSk9zSXR",
        "outputId": "2302d3cb-8a4e-46cd-f68d-9553ed67417c",
        "colab": {
          "base_uri": "https://localhost:8080/",
          "height": 284
        }
      },
      "source": [
        "cm = confusion_matrix(test_y,y_pred)\n",
        "sns.heatmap(cm,annot=True)"
      ],
      "execution_count": 42,
      "outputs": [
        {
          "output_type": "execute_result",
          "data": {
            "text/plain": [
              "<matplotlib.axes._subplots.AxesSubplot at 0x7fb5cd5a2470>"
            ]
          },
          "metadata": {
            "tags": []
          },
          "execution_count": 42
        },
        {
          "output_type": "display_data",
          "data": {
            "image/png": "[encoded data removed]",
            "text/plain": [
              "<Figure size 432x288 with 2 Axes>"
            ]
          },
          "metadata": {
            "tags": [],
            "needs_background": "light"
          }
        }
      ]
    },
    {
      "cell_type": "code",
      "metadata": {
        "id": "tnyxnIZ3yDv6"
      },
      "source": [
        "from sklearn.metrics import accuracy_score"
      ],
      "execution_count": 43,
      "outputs": []
    },
    {
      "cell_type": "code",
      "metadata": {
        "id": "PeVO_dp5xonu",
        "outputId": "5441d2fa-7ff4-44c8-e019-5887371728d3",
        "colab": {
          "base_uri": "https://localhost:8080/",
          "height": 36
        }
      },
      "source": [
        "accuracy_score(test_y,y_pred)"
      ],
      "execution_count": 44,
      "outputs": [
        {
          "output_type": "execute_result",
          "data": {
            "text/plain": [
              "0.9155405405405406"
            ]
          },
          "metadata": {
            "tags": []
          },
          "execution_count": 44
        }
      ]
    },
    {
      "cell_type": "markdown",
      "metadata": {
        "id": "VzaIgE05qB5D"
      },
      "source": [
        "#DecisionTreeClassifier"
      ]
    },
    {
      "cell_type": "code",
      "metadata": {
        "id": "09DO5cb7XrLA"
      },
      "source": [
        "from sklearn.tree import DecisionTreeClassifier"
      ],
      "execution_count": 45,
      "outputs": []
    },
    {
      "cell_type": "code",
      "metadata": {
        "id": "EdeM8TAGXwh9",
        "outputId": "bccb5d29-4f20-47a6-84c2-5ed21913e2d1",
        "colab": {
          "base_uri": "https://localhost:8080/",
          "height": 129
        }
      },
      "source": [
        "dt = DecisionTreeClassifier()\n",
        "dt.fit(training_x,training_y)"
      ],
      "execution_count": 46,
      "outputs": [
        {
          "output_type": "execute_result",
          "data": {
            "text/plain": [
              "DecisionTreeClassifier(ccp_alpha=0.0, class_weight=None, criterion='gini',\n",
              "                       max_depth=None, max_features=None, max_leaf_nodes=None,\n",
              "                       min_impurity_decrease=0.0, min_impurity_split=None,\n",
              "                       min_samples_leaf=1, min_samples_split=2,\n",
              "                       min_weight_fraction_leaf=0.0, presort='deprecated',\n",
              "                       random_state=None, splitter='best')"
            ]
          },
          "metadata": {
            "tags": []
          },
          "execution_count": 46
        }
      ]
    },
    {
      "cell_type": "code",
      "metadata": {
        "id": "H0ba8Je_XwzJ"
      },
      "source": [
        "y_pred = dt.predict(test_x)"
      ],
      "execution_count": 47,
      "outputs": []
    },
    {
      "cell_type": "code",
      "metadata": {
        "id": "1QqZFO17XxH8",
        "outputId": "6c969aee-1d59-45b7-f2a8-959da40d8a6c",
        "colab": {
          "base_uri": "https://localhost:8080/",
          "height": 242
        }
      },
      "source": [
        "from sklearn.metrics import confusion_matrix\n",
        "from sklearn.metrics import classification_report\n",
        "print(confusion_matrix(test_y,y_pred))\n",
        "print(\"---------------------------------------------------\")\n",
        "print(classification_report(test_y,y_pred))"
      ],
      "execution_count": 48,
      "outputs": [
        {
          "output_type": "stream",
          "text": [
            "[[141   9]\n",
            " [ 13 133]]\n",
            "---------------------------------------------------\n",
            "              precision    recall  f1-score   support\n",
            "\n",
            "           0       0.92      0.94      0.93       150\n",
            "           1       0.94      0.91      0.92       146\n",
            "\n",
            "    accuracy                           0.93       296\n",
            "   macro avg       0.93      0.93      0.93       296\n",
            "weighted avg       0.93      0.93      0.93       296\n",
            "\n"
          ],
          "name": "stdout"
        }
      ]
    },
    {
      "cell_type": "code",
      "metadata": {
        "id": "WTDeD1-qXxcA",
        "outputId": "066a605c-be00-44ba-969c-0ca2e1080c5d",
        "colab": {
          "base_uri": "https://localhost:8080/",
          "height": 287
        }
      },
      "source": [
        "cm = confusion_matrix(test_y,y_pred)\n",
        "sns.heatmap(cm,annot=True)"
      ],
      "execution_count": 49,
      "outputs": [
        {
          "output_type": "execute_result",
          "data": {
            "text/plain": [
              "<matplotlib.axes._subplots.AxesSubplot at 0x7fb5ca8f2828>"
            ]
          },
          "metadata": {
            "tags": []
          },
          "execution_count": 49
        },
        {
          "output_type": "display_data",
          "data": {
            "image/png": "[encoded data removed]",
            "text/plain": [
              "<Figure size 432x288 with 2 Axes>"
            ]
          },
          "metadata": {
            "tags": [],
            "needs_background": "light"
          }
        }
      ]
    },
    {
      "cell_type": "code",
      "metadata": {
        "id": "jvHKknaEYpOL"
      },
      "source": [
        "from sklearn.metrics import accuracy_score"
      ],
      "execution_count": 50,
      "outputs": []
    },
    {
      "cell_type": "code",
      "metadata": {
        "id": "Xe3famgxYpzs",
        "outputId": "d80f49d5-2794-4508-f428-c00a87c2fa1c",
        "colab": {
          "base_uri": "https://localhost:8080/",
          "height": 36
        }
      },
      "source": [
        "accuracy_score(test_y,y_pred)"
      ],
      "execution_count": 51,
      "outputs": [
        {
          "output_type": "execute_result",
          "data": {
            "text/plain": [
              "0.9256756756756757"
            ]
          },
          "metadata": {
            "tags": []
          },
          "execution_count": 51
        }
      ]
    },
    {
      "cell_type": "markdown",
      "metadata": {
        "id": "4x9yc-dip6Xa"
      },
      "source": [
        "#KNeighbors Classifier"
      ]
    },
    {
      "cell_type": "code",
      "metadata": {
        "id": "kNO_QZA9Y49b"
      },
      "source": [
        "from sklearn.neighbors import KNeighborsClassifier"
      ],
      "execution_count": 52,
      "outputs": []
    },
    {
      "cell_type": "code",
      "metadata": {
        "id": "XCl5Bx1xY43e",
        "outputId": "eec7ef69-4e7f-4cf7-e440-a5b566d9e61e",
        "colab": {
          "base_uri": "https://localhost:8080/",
          "height": 73
        }
      },
      "source": [
        "knn = KNeighborsClassifier()\n",
        "knn.fit(training_x,training_y)"
      ],
      "execution_count": 53,
      "outputs": [
        {
          "output_type": "execute_result",
          "data": {
            "text/plain": [
              "KNeighborsClassifier(algorithm='auto', leaf_size=30, metric='minkowski',\n",
              "                     metric_params=None, n_jobs=None, n_neighbors=5, p=2,\n",
              "                     weights='uniform')"
            ]
          },
          "metadata": {
            "tags": []
          },
          "execution_count": 53
        }
      ]
    },
    {
      "cell_type": "code",
      "metadata": {
        "id": "_oIX21ZDY4wm"
      },
      "source": [
        "y_pred = knn.predict(test_x)"
      ],
      "execution_count": 54,
      "outputs": []
    },
    {
      "cell_type": "code",
      "metadata": {
        "id": "P9p9SaAHY4mE",
        "outputId": "4562c07c-1c57-4c56-d321-6aceab680fe7",
        "colab": {
          "base_uri": "https://localhost:8080/",
          "height": 242
        }
      },
      "source": [
        "from sklearn.metrics import confusion_matrix\n",
        "from sklearn.metrics import classification_report\n",
        "print(confusion_matrix(test_y,y_pred))\n",
        "print(\"-------------------------------------------------------\")\n",
        "print(classification_report(test_y,y_pred))"
      ],
      "execution_count": 55,
      "outputs": [
        {
          "output_type": "stream",
          "text": [
            "[[147   3]\n",
            " [ 15 131]]\n",
            "-------------------------------------------------------\n",
            "              precision    recall  f1-score   support\n",
            "\n",
            "           0       0.91      0.98      0.94       150\n",
            "           1       0.98      0.90      0.94       146\n",
            "\n",
            "    accuracy                           0.94       296\n",
            "   macro avg       0.94      0.94      0.94       296\n",
            "weighted avg       0.94      0.94      0.94       296\n",
            "\n"
          ],
          "name": "stdout"
        }
      ]
    },
    {
      "cell_type": "code",
      "metadata": {
        "id": "rfsz-MbaZa1B",
        "outputId": "dcd5348a-4895-4312-8108-e6497740408f",
        "colab": {
          "base_uri": "https://localhost:8080/",
          "height": 284
        }
      },
      "source": [
        "cm = confusion_matrix(test_y,y_pred)\n",
        "sns.heatmap(cm,annot=True)"
      ],
      "execution_count": 56,
      "outputs": [
        {
          "output_type": "execute_result",
          "data": {
            "text/plain": [
              "<matplotlib.axes._subplots.AxesSubplot at 0x7fb5cd591940>"
            ]
          },
          "metadata": {
            "tags": []
          },
          "execution_count": 56
        },
        {
          "output_type": "display_data",
          "data": {
            "image/png": "[encoded data removed]",
            "text/plain": [
              "<Figure size 432x288 with 2 Axes>"
            ]
          },
          "metadata": {
            "tags": [],
            "needs_background": "light"
          }
        }
      ]
    },
    {
      "cell_type": "code",
      "metadata": {
        "id": "atuNx_F4ZbpC"
      },
      "source": [
        "from sklearn.metrics import accuracy_score"
      ],
      "execution_count": 57,
      "outputs": []
    },
    {
      "cell_type": "code",
      "metadata": {
        "id": "5fOaIyQzZcKE",
        "outputId": "666c7d1d-8a53-4ae2-8599-aae848efba90",
        "colab": {
          "base_uri": "https://localhost:8080/",
          "height": 36
        }
      },
      "source": [
        "accuracy_score(test_y,y_pred)"
      ],
      "execution_count": 58,
      "outputs": [
        {
          "output_type": "execute_result",
          "data": {
            "text/plain": [
              "0.9391891891891891"
            ]
          },
          "metadata": {
            "tags": []
          },
          "execution_count": 58
        }
      ]
    },
    {
      "cell_type": "markdown",
      "metadata": {
        "id": "mEJCghV_p0rH"
      },
      "source": [
        "#SVC Classifier"
      ]
    },
    {
      "cell_type": "code",
      "metadata": {
        "id": "KGvQPvxLZsSi"
      },
      "source": [
        "from sklearn.svm import SVC"
      ],
      "execution_count": 59,
      "outputs": []
    },
    {
      "cell_type": "code",
      "metadata": {
        "id": "-ACBDDZ0Zsy6",
        "outputId": "1c4c2118-5c0a-47ac-9225-89c4fa0076ed",
        "colab": {
          "base_uri": "https://localhost:8080/",
          "height": 92
        }
      },
      "source": [
        "svc = SVC()\n",
        "svc.fit(training_x,training_y)"
      ],
      "execution_count": 60,
      "outputs": [
        {
          "output_type": "execute_result",
          "data": {
            "text/plain": [
              "SVC(C=1.0, break_ties=False, cache_size=200, class_weight=None, coef0=0.0,\n",
              "    decision_function_shape='ovr', degree=3, gamma='scale', kernel='rbf',\n",
              "    max_iter=-1, probability=False, random_state=None, shrinking=True,\n",
              "    tol=0.001, verbose=False)"
            ]
          },
          "metadata": {
            "tags": []
          },
          "execution_count": 60
        }
      ]
    },
    {
      "cell_type": "code",
      "metadata": {
        "id": "WEqYadehaIiv"
      },
      "source": [
        "y_pred = svc.predict(test_x)"
      ],
      "execution_count": 61,
      "outputs": []
    },
    {
      "cell_type": "code",
      "metadata": {
        "id": "g9Azd29uaI-o",
        "outputId": "8a31ee58-e891-4e33-fbcc-6ec3dfff6dec",
        "colab": {
          "base_uri": "https://localhost:8080/",
          "height": 242
        }
      },
      "source": [
        "from sklearn.metrics import confusion_matrix\n",
        "from sklearn.metrics import classification_report\n",
        "print(confusion_matrix(test_y,y_pred))\n",
        "print(\"-----------------------------------------------------\")\n",
        "print(classification_report(test_y,y_pred))"
      ],
      "execution_count": 62,
      "outputs": [
        {
          "output_type": "stream",
          "text": [
            "[[149   1]\n",
            " [ 18 128]]\n",
            "-----------------------------------------------------\n",
            "              precision    recall  f1-score   support\n",
            "\n",
            "           0       0.89      0.99      0.94       150\n",
            "           1       0.99      0.88      0.93       146\n",
            "\n",
            "    accuracy                           0.94       296\n",
            "   macro avg       0.94      0.94      0.94       296\n",
            "weighted avg       0.94      0.94      0.94       296\n",
            "\n"
          ],
          "name": "stdout"
        }
      ]
    },
    {
      "cell_type": "code",
      "metadata": {
        "id": "-09u7xHyanYP",
        "outputId": "ffec9e1b-5a84-47ac-bb2e-745bdb23db4a",
        "colab": {
          "base_uri": "https://localhost:8080/",
          "height": 284
        }
      },
      "source": [
        "cm = confusion_matrix(test_y,y_pred)\n",
        "sns.heatmap(cm,annot=True)"
      ],
      "execution_count": 63,
      "outputs": [
        {
          "output_type": "execute_result",
          "data": {
            "text/plain": [
              "<matplotlib.axes._subplots.AxesSubplot at 0x7fb5ca809240>"
            ]
          },
          "metadata": {
            "tags": []
          },
          "execution_count": 63
        },
        {
          "output_type": "display_data",
          "data": {
            "image/png": "[encoded data removed]",
            "text/plain": [
              "<Figure size 432x288 with 2 Axes>"
            ]
          },
          "metadata": {
            "tags": [],
            "needs_background": "light"
          }
        }
      ]
    },
    {
      "cell_type": "code",
      "metadata": {
        "id": "14PNT-05apf7"
      },
      "source": [
        "from sklearn.metrics import accuracy_score"
      ],
      "execution_count": 64,
      "outputs": []
    },
    {
      "cell_type": "code",
      "metadata": {
        "id": "CoBwQoI9aoWH",
        "outputId": "86f20972-a1a6-4997-e958-f19e2172e088",
        "colab": {
          "base_uri": "https://localhost:8080/",
          "height": 36
        }
      },
      "source": [
        "accuracy_score(test_y,y_pred)"
      ],
      "execution_count": 65,
      "outputs": [
        {
          "output_type": "execute_result",
          "data": {
            "text/plain": [
              "0.9358108108108109"
            ]
          },
          "metadata": {
            "tags": []
          },
          "execution_count": 65
        }
      ]
    },
    {
      "cell_type": "markdown",
      "metadata": {
        "id": "FFeJL-eSa_P4"
      },
      "source": [
        "#SGDClassifier"
      ]
    },
    {
      "cell_type": "code",
      "metadata": {
        "id": "WQ57AtMFa57V"
      },
      "source": [
        "from sklearn.linear_model import SGDClassifier"
      ],
      "execution_count": 66,
      "outputs": []
    },
    {
      "cell_type": "code",
      "metadata": {
        "id": "DzGkB1Jya6g5",
        "outputId": "b453b51f-735e-4a21-a3a5-23bedbc6111d",
        "colab": {
          "base_uri": "https://localhost:8080/",
          "height": 129
        }
      },
      "source": [
        "sgd = SGDClassifier()\n",
        "sgd.fit(training_x,training_y)"
      ],
      "execution_count": 67,
      "outputs": [
        {
          "output_type": "execute_result",
          "data": {
            "text/plain": [
              "SGDClassifier(alpha=0.0001, average=False, class_weight=None,\n",
              "              early_stopping=False, epsilon=0.1, eta0=0.0, fit_intercept=True,\n",
              "              l1_ratio=0.15, learning_rate='optimal', loss='hinge',\n",
              "              max_iter=1000, n_iter_no_change=5, n_jobs=None, penalty='l2',\n",
              "              power_t=0.5, random_state=None, shuffle=True, tol=0.001,\n",
              "              validation_fraction=0.1, verbose=0, warm_start=False)"
            ]
          },
          "metadata": {
            "tags": []
          },
          "execution_count": 67
        }
      ]
    },
    {
      "cell_type": "code",
      "metadata": {
        "id": "YF_O9GJ7a6al"
      },
      "source": [
        "y_pred = sgd.predict(test_x)"
      ],
      "execution_count": 68,
      "outputs": []
    },
    {
      "cell_type": "code",
      "metadata": {
        "id": "1p3_4Pgea6Ts",
        "outputId": "64f24891-969f-44d7-a5af-42f91788a00b",
        "colab": {
          "base_uri": "https://localhost:8080/",
          "height": 242
        }
      },
      "source": [
        "from sklearn.metrics import confusion_matrix\n",
        "from sklearn.metrics import classification_report\n",
        "print(confusion_matrix(test_y,y_pred))\n",
        "print(\"------------------------------------------------\")\n",
        "print(classification_report(test_y,y_pred))"
      ],
      "execution_count": 69,
      "outputs": [
        {
          "output_type": "stream",
          "text": [
            "[[ 87  63]\n",
            " [  4 142]]\n",
            "------------------------------------------------\n",
            "              precision    recall  f1-score   support\n",
            "\n",
            "           0       0.96      0.58      0.72       150\n",
            "           1       0.69      0.97      0.81       146\n",
            "\n",
            "    accuracy                           0.77       296\n",
            "   macro avg       0.82      0.78      0.77       296\n",
            "weighted avg       0.83      0.77      0.76       296\n",
            "\n"
          ],
          "name": "stdout"
        }
      ]
    },
    {
      "cell_type": "code",
      "metadata": {
        "id": "u0an4ZFNa51J",
        "outputId": "7e613258-83c2-45a9-8e89-fdac68b3f699",
        "colab": {
          "base_uri": "https://localhost:8080/",
          "height": 285
        }
      },
      "source": [
        "cm = confusion_matrix(test_y,y_pred)\n",
        "sns.heatmap(cm,annot=True)"
      ],
      "execution_count": 70,
      "outputs": [
        {
          "output_type": "execute_result",
          "data": {
            "text/plain": [
              "<matplotlib.axes._subplots.AxesSubplot at 0x7fb5ca726860>"
            ]
          },
          "metadata": {
            "tags": []
          },
          "execution_count": 70
        },
        {
          "output_type": "display_data",
          "data": {
            "image/png": "[encoded data removed]",
            "text/plain": [
              "<Figure size 432x288 with 2 Axes>"
            ]
          },
          "metadata": {
            "tags": [],
            "needs_background": "light"
          }
        }
      ]
    },
    {
      "cell_type": "code",
      "metadata": {
        "id": "xgryvLYga5tc"
      },
      "source": [
        "from sklearn.metrics import accuracy_score"
      ],
      "execution_count": 71,
      "outputs": []
    },
    {
      "cell_type": "code",
      "metadata": {
        "id": "5O6s0j--b06y",
        "outputId": "d91d1573-874a-4861-e528-f8335f2c2e55",
        "colab": {
          "base_uri": "https://localhost:8080/",
          "height": 36
        }
      },
      "source": [
        "accuracy_score(test_y,y_pred)"
      ],
      "execution_count": 72,
      "outputs": [
        {
          "output_type": "execute_result",
          "data": {
            "text/plain": [
              "0.7736486486486487"
            ]
          },
          "metadata": {
            "tags": []
          },
          "execution_count": 72
        }
      ]
    },
    {
      "cell_type": "markdown",
      "metadata": {
        "id": "owaeh2tlcJG7"
      },
      "source": [
        "#Naive Bayes Classifier"
      ]
    },
    {
      "cell_type": "code",
      "metadata": {
        "id": "baU5zBHxcHTw"
      },
      "source": [
        "from sklearn.naive_bayes import GaussianNB"
      ],
      "execution_count": 73,
      "outputs": []
    },
    {
      "cell_type": "code",
      "metadata": {
        "id": "jCLk8E8BcU3E",
        "outputId": "86a7733d-9626-445f-983e-8b6af0e6e850",
        "colab": {
          "base_uri": "https://localhost:8080/",
          "height": 36
        }
      },
      "source": [
        "gnb = GaussianNB()\n",
        "gnb.fit(training_x,training_y)"
      ],
      "execution_count": 74,
      "outputs": [
        {
          "output_type": "execute_result",
          "data": {
            "text/plain": [
              "GaussianNB(priors=None, var_smoothing=1e-09)"
            ]
          },
          "metadata": {
            "tags": []
          },
          "execution_count": 74
        }
      ]
    },
    {
      "cell_type": "code",
      "metadata": {
        "id": "-vq_V9tRcUzd"
      },
      "source": [
        "y_pred = gnb.predict(test_x)"
      ],
      "execution_count": 75,
      "outputs": []
    },
    {
      "cell_type": "code",
      "metadata": {
        "id": "EB4MCqCocUrX",
        "outputId": "3f72250b-445d-4139-8300-29ec7463d9e6",
        "colab": {
          "base_uri": "https://localhost:8080/",
          "height": 242
        }
      },
      "source": [
        "from sklearn.metrics import confusion_matrix\n",
        "from sklearn.metrics import classification_report\n",
        "print(confusion_matrix(test_y,y_pred))\n",
        "print(\"-------------------------------------------------\")\n",
        "print(classification_report(test_y,y_pred))"
      ],
      "execution_count": 76,
      "outputs": [
        {
          "output_type": "stream",
          "text": [
            "[[148   2]\n",
            " [ 21 125]]\n",
            "-------------------------------------------------\n",
            "              precision    recall  f1-score   support\n",
            "\n",
            "           0       0.88      0.99      0.93       150\n",
            "           1       0.98      0.86      0.92       146\n",
            "\n",
            "    accuracy                           0.92       296\n",
            "   macro avg       0.93      0.92      0.92       296\n",
            "weighted avg       0.93      0.92      0.92       296\n",
            "\n"
          ],
          "name": "stdout"
        }
      ]
    },
    {
      "cell_type": "code",
      "metadata": {
        "id": "GmFJqM51cUf6",
        "outputId": "3d651ec2-bf45-449c-a274-6bf02b89dc1d",
        "colab": {
          "base_uri": "https://localhost:8080/",
          "height": 284
        }
      },
      "source": [
        "cm = confusion_matrix(test_y,y_pred)\n",
        "sns.heatmap(cm,annot=True) "
      ],
      "execution_count": 77,
      "outputs": [
        {
          "output_type": "execute_result",
          "data": {
            "text/plain": [
              "<matplotlib.axes._subplots.AxesSubplot at 0x7fb5ca6c6588>"
            ]
          },
          "metadata": {
            "tags": []
          },
          "execution_count": 77
        },
        {
          "output_type": "display_data",
          "data": {
            "image/png": "[encoded data removed]",
            "text/plain": [
              "<Figure size 432x288 with 2 Axes>"
            ]
          },
          "metadata": {
            "tags": [],
            "needs_background": "light"
          }
        }
      ]
    },
    {
      "cell_type": "code",
      "metadata": {
        "id": "TGX8pRzpcUVD"
      },
      "source": [
        "from sklearn.metrics import accuracy_score"
      ],
      "execution_count": 78,
      "outputs": []
    },
    {
      "cell_type": "code",
      "metadata": {
        "id": "uf46A1aUcUPt",
        "outputId": "d8b1619d-9274-42cf-835d-b868b1355a9a",
        "colab": {
          "base_uri": "https://localhost:8080/",
          "height": 36
        }
      },
      "source": [
        "accuracy_score(test_y,y_pred)"
      ],
      "execution_count": 79,
      "outputs": [
        {
          "output_type": "execute_result",
          "data": {
            "text/plain": [
              "0.9222972972972973"
            ]
          },
          "metadata": {
            "tags": []
          },
          "execution_count": 79
        }
      ]
    },
    {
      "cell_type": "markdown",
      "metadata": {
        "id": "HzOO7UOkdK99"
      },
      "source": [
        "#MultinomialNB"
      ]
    },
    {
      "cell_type": "code",
      "metadata": {
        "id": "DYaWsmxYcULF"
      },
      "source": [
        "from sklearn.naive_bayes import MultinomialNB"
      ],
      "execution_count": 80,
      "outputs": []
    },
    {
      "cell_type": "code",
      "metadata": {
        "id": "8zTDKJTwcUFY",
        "outputId": "f7ed84f7-0557-4796-8b06-2a24e6e4c3a6",
        "colab": {
          "base_uri": "https://localhost:8080/",
          "height": 36
        }
      },
      "source": [
        "mnb = MultinomialNB()\n",
        "mnb.fit(training_x,training_y)"
      ],
      "execution_count": 81,
      "outputs": [
        {
          "output_type": "execute_result",
          "data": {
            "text/plain": [
              "MultinomialNB(alpha=1.0, class_prior=None, fit_prior=True)"
            ]
          },
          "metadata": {
            "tags": []
          },
          "execution_count": 81
        }
      ]
    },
    {
      "cell_type": "code",
      "metadata": {
        "id": "bDAgFPBCcUAd"
      },
      "source": [
        "y_pred = mnb.predict(test_x)"
      ],
      "execution_count": 82,
      "outputs": []
    },
    {
      "cell_type": "code",
      "metadata": {
        "id": "kZc6FnTUcT6T",
        "outputId": "5f08de8a-bb67-471a-da7b-cbf3e9246586",
        "colab": {
          "base_uri": "https://localhost:8080/",
          "height": 242
        }
      },
      "source": [
        "from sklearn.metrics import confusion_matrix\n",
        "from sklearn.metrics import classification_report\n",
        "print(confusion_matrix(test_y,y_pred))\n",
        "print(\"----------------------------------------------------\")\n",
        "print(classification_report(test_y,y_pred))"
      ],
      "execution_count": 83,
      "outputs": [
        {
          "output_type": "stream",
          "text": [
            "[[150   0]\n",
            " [ 35 111]]\n",
            "----------------------------------------------------\n",
            "              precision    recall  f1-score   support\n",
            "\n",
            "           0       0.81      1.00      0.90       150\n",
            "           1       1.00      0.76      0.86       146\n",
            "\n",
            "    accuracy                           0.88       296\n",
            "   macro avg       0.91      0.88      0.88       296\n",
            "weighted avg       0.90      0.88      0.88       296\n",
            "\n"
          ],
          "name": "stdout"
        }
      ]
    },
    {
      "cell_type": "code",
      "metadata": {
        "id": "WUg0bGEPcTyh",
        "outputId": "f300565e-718a-4a42-9dea-526071c3896f",
        "colab": {
          "base_uri": "https://localhost:8080/",
          "height": 284
        }
      },
      "source": [
        "cm = confusion_matrix(test_y,y_pred)\n",
        "sns.heatmap(cm,annot=True)"
      ],
      "execution_count": 84,
      "outputs": [
        {
          "output_type": "execute_result",
          "data": {
            "text/plain": [
              "<matplotlib.axes._subplots.AxesSubplot at 0x7fb5ca711f98>"
            ]
          },
          "metadata": {
            "tags": []
          },
          "execution_count": 84
        },
        {
          "output_type": "display_data",
          "data": {
            "image/png": "[encoded data removed]",
            "text/plain": [
              "<Figure size 432x288 with 2 Axes>"
            ]
          },
          "metadata": {
            "tags": [],
            "needs_background": "light"
          }
        }
      ]
    },
    {
      "cell_type": "code",
      "metadata": {
        "id": "fgjWqQe9cTtk"
      },
      "source": [
        "from sklearn.metrics import accuracy_score"
      ],
      "execution_count": 85,
      "outputs": []
    },
    {
      "cell_type": "code",
      "metadata": {
        "id": "ppugDlU3cTmQ",
        "outputId": "3c5d8895-d390-45fd-91e9-6f5cacc9a56a",
        "colab": {
          "base_uri": "https://localhost:8080/",
          "height": 36
        }
      },
      "source": [
        "accuracy_score(test_y,y_pred)"
      ],
      "execution_count": 86,
      "outputs": [
        {
          "output_type": "execute_result",
          "data": {
            "text/plain": [
              "0.8817567567567568"
            ]
          },
          "metadata": {
            "tags": []
          },
          "execution_count": 86
        }
      ]
    },
    {
      "cell_type": "markdown",
      "metadata": {
        "id": "OhEhJsnYef0N"
      },
      "source": [
        "#BernoulliNB"
      ]
    },
    {
      "cell_type": "code",
      "metadata": {
        "id": "-6R2LahWcTed"
      },
      "source": [
        "from sklearn.naive_bayes import BernoulliNB"
      ],
      "execution_count": 87,
      "outputs": []
    },
    {
      "cell_type": "code",
      "metadata": {
        "id": "xqMbLH1YcTYF",
        "outputId": "edaab79d-3f0c-4a19-edb4-39d6db067bfc",
        "colab": {
          "base_uri": "https://localhost:8080/",
          "height": 36
        }
      },
      "source": [
        "bnb = BernoulliNB()\n",
        "bnb.fit(training_x,training_y)"
      ],
      "execution_count": 88,
      "outputs": [
        {
          "output_type": "execute_result",
          "data": {
            "text/plain": [
              "BernoulliNB(alpha=1.0, binarize=0.0, class_prior=None, fit_prior=True)"
            ]
          },
          "metadata": {
            "tags": []
          },
          "execution_count": 88
        }
      ]
    },
    {
      "cell_type": "code",
      "metadata": {
        "id": "FARAO5R3cTPr"
      },
      "source": [
        "y_pred = bnb.predict(test_x)"
      ],
      "execution_count": 89,
      "outputs": []
    },
    {
      "cell_type": "code",
      "metadata": {
        "id": "v77byOkzcTJK",
        "outputId": "bb682b28-e845-4776-ea1c-af7a06775f24",
        "colab": {
          "base_uri": "https://localhost:8080/",
          "height": 299
        }
      },
      "source": [
        "from sklearn.metrics import confusion_matrix\n",
        "from sklearn.metrics import classification_report\n",
        "print(confusion_matrix(test_y,y_pred))\n",
        "print(\"-------------------------------------------------------\")\n",
        "print(classification_report(test_y,y_pred))"
      ],
      "execution_count": 90,
      "outputs": [
        {
          "output_type": "stream",
          "text": [
            "[[150   0]\n",
            " [146   0]]\n",
            "-------------------------------------------------------\n",
            "              precision    recall  f1-score   support\n",
            "\n",
            "           0       0.51      1.00      0.67       150\n",
            "           1       0.00      0.00      0.00       146\n",
            "\n",
            "    accuracy                           0.51       296\n",
            "   macro avg       0.25      0.50      0.34       296\n",
            "weighted avg       0.26      0.51      0.34       296\n",
            "\n"
          ],
          "name": "stdout"
        },
        {
          "output_type": "stream",
          "text": [
            "/usr/local/lib/python3.6/dist-packages/sklearn/metrics/_classification.py:1272: UndefinedMetricWarning: Precision and F-score are ill-defined and being set to 0.0 in labels with no predicted samples. Use `zero_division` parameter to control this behavior.\n",
            "  _warn_prf(average, modifier, msg_start, len(result))\n"
          ],
          "name": "stderr"
        }
      ]
    },
    {
      "cell_type": "code",
      "metadata": {
        "id": "XVCYRTqhcS8X",
        "outputId": "f7f318f2-1b97-419e-9fcb-57531694e7ee",
        "colab": {
          "base_uri": "https://localhost:8080/",
          "height": 284
        }
      },
      "source": [
        "cm = confusion_matrix(test_y,y_pred)\n",
        "sns.heatmap(cm,annot=True)"
      ],
      "execution_count": 91,
      "outputs": [
        {
          "output_type": "execute_result",
          "data": {
            "text/plain": [
              "<matplotlib.axes._subplots.AxesSubplot at 0x7fb5ca519198>"
            ]
          },
          "metadata": {
            "tags": []
          },
          "execution_count": 91
        },
        {
          "output_type": "display_data",
          "data": {
            "image/png": "[encoded data removed]",
            "text/plain": [
              "<Figure size 432x288 with 2 Axes>"
            ]
          },
          "metadata": {
            "tags": [],
            "needs_background": "light"
          }
        }
      ]
    },
    {
      "cell_type": "code",
      "metadata": {
        "id": "Ma_tcm9UiHn4"
      },
      "source": [
        "from sklearn.metrics import accuracy_score"
      ],
      "execution_count": 92,
      "outputs": []
    },
    {
      "cell_type": "code",
      "metadata": {
        "id": "_sphdw7ziMDf",
        "outputId": "ef8862b3-6366-4964-a32e-3cdee081b1cb",
        "colab": {
          "base_uri": "https://localhost:8080/",
          "height": 36
        }
      },
      "source": [
        "accuracy_score(test_y,y_pred)"
      ],
      "execution_count": 93,
      "outputs": [
        {
          "output_type": "execute_result",
          "data": {
            "text/plain": [
              "0.5067567567567568"
            ]
          },
          "metadata": {
            "tags": []
          },
          "execution_count": 93
        }
      ]
    },
    {
      "cell_type": "markdown",
      "metadata": {
        "id": "MHwwfL1dcDNl"
      },
      "source": [
        "#Bagging Classifier"
      ]
    },
    {
      "cell_type": "code",
      "metadata": {
        "id": "PJHqPbTYcCZV"
      },
      "source": [
        "from sklearn.ensemble import BaggingClassifier"
      ],
      "execution_count": 94,
      "outputs": []
    },
    {
      "cell_type": "code",
      "metadata": {
        "id": "yu-q2YRZic--",
        "outputId": "3e08733b-654f-4704-a4f8-4c73e9d30eb5",
        "colab": {
          "base_uri": "https://localhost:8080/",
          "height": 92
        }
      },
      "source": [
        "bc = BaggingClassifier()\n",
        "bc.fit(training_x,training_y)"
      ],
      "execution_count": 95,
      "outputs": [
        {
          "output_type": "execute_result",
          "data": {
            "text/plain": [
              "BaggingClassifier(base_estimator=None, bootstrap=True, bootstrap_features=False,\n",
              "                  max_features=1.0, max_samples=1.0, n_estimators=10,\n",
              "                  n_jobs=None, oob_score=False, random_state=None, verbose=0,\n",
              "                  warm_start=False)"
            ]
          },
          "metadata": {
            "tags": []
          },
          "execution_count": 95
        }
      ]
    },
    {
      "cell_type": "code",
      "metadata": {
        "id": "1hYhYO4qidky"
      },
      "source": [
        "y_pred = bc.predict(test_x)"
      ],
      "execution_count": 96,
      "outputs": []
    },
    {
      "cell_type": "code",
      "metadata": {
        "id": "mCF7oMe0idvH",
        "outputId": "6fc208b5-84ca-46ca-fa4d-76dfdff57f66",
        "colab": {
          "base_uri": "https://localhost:8080/",
          "height": 242
        }
      },
      "source": [
        "from sklearn.metrics import confusion_matrix\n",
        "from sklearn.metrics import classification_report\n",
        "print(confusion_matrix(test_y,y_pred))\n",
        "print(\"--------------------------------------------------------\")\n",
        "print(classification_report(test_y,y_pred))"
      ],
      "execution_count": 97,
      "outputs": [
        {
          "output_type": "stream",
          "text": [
            "[[148   2]\n",
            " [ 15 131]]\n",
            "--------------------------------------------------------\n",
            "              precision    recall  f1-score   support\n",
            "\n",
            "           0       0.91      0.99      0.95       150\n",
            "           1       0.98      0.90      0.94       146\n",
            "\n",
            "    accuracy                           0.94       296\n",
            "   macro avg       0.95      0.94      0.94       296\n",
            "weighted avg       0.95      0.94      0.94       296\n",
            "\n"
          ],
          "name": "stdout"
        }
      ]
    },
    {
      "cell_type": "code",
      "metadata": {
        "id": "Jc48MtVRic4n"
      },
      "source": [
        "from sklearn.metrics import accuracy_score"
      ],
      "execution_count": 98,
      "outputs": []
    },
    {
      "cell_type": "code",
      "metadata": {
        "id": "WkijLLvdictg",
        "outputId": "8f9d2340-6c5d-4f7d-c66e-9dfa9a5c8c53",
        "colab": {
          "base_uri": "https://localhost:8080/",
          "height": 36
        }
      },
      "source": [
        "accuracy_score(test_y,y_pred)"
      ],
      "execution_count": 99,
      "outputs": [
        {
          "output_type": "execute_result",
          "data": {
            "text/plain": [
              "0.9425675675675675"
            ]
          },
          "metadata": {
            "tags": []
          },
          "execution_count": 99
        }
      ]
    },
    {
      "cell_type": "markdown",
      "metadata": {
        "id": "U6CbREaMkMKU"
      },
      "source": [
        "#Random ForestClassifier"
      ]
    },
    {
      "cell_type": "code",
      "metadata": {
        "id": "G8yFfdD2Rhb_"
      },
      "source": [
        "from sklearn.ensemble import RandomForestClassifier"
      ],
      "execution_count": 100,
      "outputs": []
    },
    {
      "cell_type": "code",
      "metadata": {
        "id": "LWfvpbyERiI3",
        "outputId": "80fcd345-7f20-4fbd-d055-022c4c2d49ae",
        "colab": {
          "base_uri": "https://localhost:8080/",
          "height": 167
        }
      },
      "source": [
        "rfc = RandomForestClassifier()\n",
        "rfc.fit(training_x,training_y)"
      ],
      "execution_count": 101,
      "outputs": [
        {
          "output_type": "execute_result",
          "data": {
            "text/plain": [
              "RandomForestClassifier(bootstrap=True, ccp_alpha=0.0, class_weight=None,\n",
              "                       criterion='gini', max_depth=None, max_features='auto',\n",
              "                       max_leaf_nodes=None, max_samples=None,\n",
              "                       min_impurity_decrease=0.0, min_impurity_split=None,\n",
              "                       min_samples_leaf=1, min_samples_split=2,\n",
              "                       min_weight_fraction_leaf=0.0, n_estimators=100,\n",
              "                       n_jobs=None, oob_score=False, random_state=None,\n",
              "                       verbose=0, warm_start=False)"
            ]
          },
          "metadata": {
            "tags": []
          },
          "execution_count": 101
        }
      ]
    },
    {
      "cell_type": "code",
      "metadata": {
        "id": "1rDHBVNzR0Ci"
      },
      "source": [
        "y_pred = rfc.predict(test_x)"
      ],
      "execution_count": 102,
      "outputs": []
    },
    {
      "cell_type": "code",
      "metadata": {
        "id": "GwFumZ7HW9zY",
        "outputId": "8341697c-503d-4b09-d3b5-b57ff38f35e5",
        "colab": {
          "base_uri": "https://localhost:8080/",
          "height": 242
        }
      },
      "source": [
        "from sklearn.metrics import confusion_matrix\n",
        "from sklearn.metrics import classification_report\n",
        "print(confusion_matrix(test_y,y_pred))\n",
        "print(\"------------------------------------------------\")\n",
        "print(classification_report(test_y,y_pred))"
      ],
      "execution_count": 103,
      "outputs": [
        {
          "output_type": "stream",
          "text": [
            "[[149   1]\n",
            " [ 16 130]]\n",
            "------------------------------------------------\n",
            "              precision    recall  f1-score   support\n",
            "\n",
            "           0       0.90      0.99      0.95       150\n",
            "           1       0.99      0.89      0.94       146\n",
            "\n",
            "    accuracy                           0.94       296\n",
            "   macro avg       0.95      0.94      0.94       296\n",
            "weighted avg       0.95      0.94      0.94       296\n",
            "\n"
          ],
          "name": "stdout"
        }
      ]
    },
    {
      "cell_type": "code",
      "metadata": {
        "id": "1aUD0MWOW-VL",
        "outputId": "51754b9d-f951-4ac4-bf81-b4f8247a9816",
        "colab": {
          "base_uri": "https://localhost:8080/",
          "height": 284
        }
      },
      "source": [
        "cm = confusion_matrix(test_y,y_pred)\n",
        "sns.heatmap(cm,annot=True)"
      ],
      "execution_count": 104,
      "outputs": [
        {
          "output_type": "execute_result",
          "data": {
            "text/plain": [
              "<matplotlib.axes._subplots.AxesSubplot at 0x7fb5ca4685c0>"
            ]
          },
          "metadata": {
            "tags": []
          },
          "execution_count": 104
        },
        {
          "output_type": "display_data",
          "data": {
            "image/png": "[encoded data removed]",
            "text/plain": [
              "<Figure size 432x288 with 2 Axes>"
            ]
          },
          "metadata": {
            "tags": [],
            "needs_background": "light"
          }
        }
      ]
    },
    {
      "cell_type": "code",
      "metadata": {
        "id": "SwGb0CKrR0i6"
      },
      "source": [
        "from sklearn.metrics import accuracy_score"
      ],
      "execution_count": 105,
      "outputs": []
    },
    {
      "cell_type": "code",
      "metadata": {
        "id": "mjiOk3kxRhR2",
        "outputId": "93273992-9d1a-4b29-e5f9-13dcecf4801b",
        "colab": {
          "base_uri": "https://localhost:8080/",
          "height": 36
        }
      },
      "source": [
        "accuracy_score(test_y,y_pred)"
      ],
      "execution_count": 106,
      "outputs": [
        {
          "output_type": "execute_result",
          "data": {
            "text/plain": [
              "0.9425675675675675"
            ]
          },
          "metadata": {
            "tags": []
          },
          "execution_count": 106
        }
      ]
    },
    {
      "cell_type": "markdown",
      "metadata": {
        "id": "XVoZm-dmn8JT"
      },
      "source": [
        "#AdaBoost Classifier"
      ]
    },
    {
      "cell_type": "code",
      "metadata": {
        "id": "r8CTHRUyQq-q"
      },
      "source": [
        "from sklearn.ensemble import AdaBoostClassifier"
      ],
      "execution_count": 107,
      "outputs": []
    },
    {
      "cell_type": "code",
      "metadata": {
        "id": "SMM11yA0Qz3B",
        "outputId": "30ab7250-75cc-4e86-84f4-a06e87b86867",
        "colab": {
          "base_uri": "https://localhost:8080/",
          "height": 54
        }
      },
      "source": [
        "ada = AdaBoostClassifier()\n",
        "ada.fit(training_x,training_y)"
      ],
      "execution_count": 108,
      "outputs": [
        {
          "output_type": "execute_result",
          "data": {
            "text/plain": [
              "AdaBoostClassifier(algorithm='SAMME.R', base_estimator=None, learning_rate=1.0,\n",
              "                   n_estimators=50, random_state=None)"
            ]
          },
          "metadata": {
            "tags": []
          },
          "execution_count": 108
        }
      ]
    },
    {
      "cell_type": "code",
      "metadata": {
        "id": "J1T-vEUhQ6c-"
      },
      "source": [
        "y_pred = ada.predict(test_x)"
      ],
      "execution_count": 109,
      "outputs": []
    },
    {
      "cell_type": "code",
      "metadata": {
        "id": "4W-M5kRFoLnj",
        "outputId": "1e376951-0859-439d-9008-b9806443343f",
        "colab": {
          "base_uri": "https://localhost:8080/",
          "height": 242
        }
      },
      "source": [
        "from sklearn.metrics import confusion_matrix\n",
        "from sklearn.metrics import classification_report\n",
        "print(confusion_matrix(test_y,y_pred))\n",
        "print(\"-----------------------------------------------------\")\n",
        "print(classification_report(test_y,y_pred))"
      ],
      "execution_count": 110,
      "outputs": [
        {
          "output_type": "stream",
          "text": [
            "[[146   4]\n",
            " [ 11 135]]\n",
            "-----------------------------------------------------\n",
            "              precision    recall  f1-score   support\n",
            "\n",
            "           0       0.93      0.97      0.95       150\n",
            "           1       0.97      0.92      0.95       146\n",
            "\n",
            "    accuracy                           0.95       296\n",
            "   macro avg       0.95      0.95      0.95       296\n",
            "weighted avg       0.95      0.95      0.95       296\n",
            "\n"
          ],
          "name": "stdout"
        }
      ]
    },
    {
      "cell_type": "code",
      "metadata": {
        "id": "TgMQDDExoLFP",
        "outputId": "f1524ffc-6a35-45e1-b612-13dbba46b4db",
        "colab": {
          "base_uri": "https://localhost:8080/",
          "height": 284
        }
      },
      "source": [
        "cm = confusion_matrix(test_y,y_pred)\n",
        "sns.heatmap(cm,annot=True)"
      ],
      "execution_count": 111,
      "outputs": [
        {
          "output_type": "execute_result",
          "data": {
            "text/plain": [
              "<matplotlib.axes._subplots.AxesSubplot at 0x7fb5ca3fcda0>"
            ]
          },
          "metadata": {
            "tags": []
          },
          "execution_count": 111
        },
        {
          "output_type": "display_data",
          "data": {
            "image/png": "[encoded data removed]",
            "text/plain": [
              "<Figure size 432x288 with 2 Axes>"
            ]
          },
          "metadata": {
            "tags": [],
            "needs_background": "light"
          }
        }
      ]
    },
    {
      "cell_type": "code",
      "metadata": {
        "id": "6tAjqqrXQ94a"
      },
      "source": [
        "from sklearn.metrics import accuracy_score"
      ],
      "execution_count": 112,
      "outputs": []
    },
    {
      "cell_type": "code",
      "metadata": {
        "id": "nfXMCJ2cRE1H",
        "outputId": "bbbd6924-9af8-4e01-b991-b938eb617031",
        "colab": {
          "base_uri": "https://localhost:8080/",
          "height": 36
        }
      },
      "source": [
        "accuracy_score(test_y,y_pred)"
      ],
      "execution_count": 113,
      "outputs": [
        {
          "output_type": "execute_result",
          "data": {
            "text/plain": [
              "0.9493243243243243"
            ]
          },
          "metadata": {
            "tags": []
          },
          "execution_count": 113
        }
      ]
    },
    {
      "cell_type": "markdown",
      "metadata": {
        "id": "iyyRVghzo2N4"
      },
      "source": [
        "#Xgboost Classifier"
      ]
    },
    {
      "cell_type": "code",
      "metadata": {
        "id": "2y6H4QfARTTA"
      },
      "source": [
        "import xgboost as xgb"
      ],
      "execution_count": 114,
      "outputs": []
    },
    {
      "cell_type": "code",
      "metadata": {
        "id": "XipH7OViRy5f",
        "outputId": "b1572cba-559f-46f7-fe6b-5f2bcbbb3ca9",
        "colab": {
          "base_uri": "https://localhost:8080/",
          "height": 148
        }
      },
      "source": [
        "xgb = xgb.XGBClassifier()\n",
        "xgb.fit(training_x,training_y)"
      ],
      "execution_count": 115,
      "outputs": [
        {
          "output_type": "execute_result",
          "data": {
            "text/plain": [
              "XGBClassifier(base_score=0.5, booster='gbtree', colsample_bylevel=1,\n",
              "              colsample_bynode=1, colsample_bytree=1, gamma=0,\n",
              "              learning_rate=0.1, max_delta_step=0, max_depth=3,\n",
              "              min_child_weight=1, missing=None, n_estimators=100, n_jobs=1,\n",
              "              nthread=None, objective='binary:logistic', random_state=0,\n",
              "              reg_alpha=0, reg_lambda=1, scale_pos_weight=1, seed=None,\n",
              "              silent=None, subsample=1, verbosity=1)"
            ]
          },
          "metadata": {
            "tags": []
          },
          "execution_count": 115
        }
      ]
    },
    {
      "cell_type": "code",
      "metadata": {
        "id": "b2WGNF8AR6wM"
      },
      "source": [
        "y_pred = xgb.predict(test_x)"
      ],
      "execution_count": 116,
      "outputs": []
    },
    {
      "cell_type": "code",
      "metadata": {
        "id": "NrSNuH-xo-qg",
        "outputId": "bc0c4d0c-63a1-4b57-eaee-02c270f845d6",
        "colab": {
          "base_uri": "https://localhost:8080/",
          "height": 242
        }
      },
      "source": [
        "from sklearn.metrics import confusion_matrix\n",
        "from sklearn.metrics import classification_report\n",
        "print(confusion_matrix(test_y,y_pred))\n",
        "print(\"-------------------------------------------------------\")\n",
        "print(classification_report(test_y,y_pred))"
      ],
      "execution_count": 117,
      "outputs": [
        {
          "output_type": "stream",
          "text": [
            "[[146   4]\n",
            " [ 12 134]]\n",
            "-------------------------------------------------------\n",
            "              precision    recall  f1-score   support\n",
            "\n",
            "           0       0.92      0.97      0.95       150\n",
            "           1       0.97      0.92      0.94       146\n",
            "\n",
            "    accuracy                           0.95       296\n",
            "   macro avg       0.95      0.95      0.95       296\n",
            "weighted avg       0.95      0.95      0.95       296\n",
            "\n"
          ],
          "name": "stdout"
        }
      ]
    },
    {
      "cell_type": "code",
      "metadata": {
        "id": "fUntsF67o_jP",
        "outputId": "86f57774-d119-4c38-9900-4f7b3225c84a",
        "colab": {
          "base_uri": "https://localhost:8080/",
          "height": 284
        }
      },
      "source": [
        "cm = confusion_matrix(test_y,y_pred)\n",
        "sns.heatmap(cm,annot=True)"
      ],
      "execution_count": 118,
      "outputs": [
        {
          "output_type": "execute_result",
          "data": {
            "text/plain": [
              "<matplotlib.axes._subplots.AxesSubplot at 0x7fb5ca2daa58>"
            ]
          },
          "metadata": {
            "tags": []
          },
          "execution_count": 118
        },
        {
          "output_type": "display_data",
          "data": {
            "image/png": "[encoded data removed]",
            "text/plain": [
              "<Figure size 432x288 with 2 Axes>"
            ]
          },
          "metadata": {
            "tags": [],
            "needs_background": "light"
          }
        }
      ]
    },
    {
      "cell_type": "code",
      "metadata": {
        "id": "ScT2EKbHSUi1"
      },
      "source": [
        "from sklearn.metrics import accuracy_score"
      ],
      "execution_count": 119,
      "outputs": []
    },
    {
      "cell_type": "code",
      "metadata": {
        "id": "VMC-c2nASZ_8",
        "outputId": "f27d5201-a2f0-4061-a1c5-0a1066b3ccdc",
        "colab": {
          "base_uri": "https://localhost:8080/",
          "height": 36
        }
      },
      "source": [
        "accuracy_score(test_y,y_pred)"
      ],
      "execution_count": 120,
      "outputs": [
        {
          "output_type": "execute_result",
          "data": {
            "text/plain": [
              "0.9459459459459459"
            ]
          },
          "metadata": {
            "tags": []
          },
          "execution_count": 120
        }
      ]
    },
    {
      "cell_type": "markdown",
      "metadata": {
        "id": "88Q82MuJvkY-"
      },
      "source": [
        "#All Model Define in a Single Block"
      ]
    },
    {
      "cell_type": "code",
      "metadata": {
        "id": "ZZkVPgAkpe8O"
      },
      "source": [
        "from sklearn.linear_model import LogisticRegression\n",
        "lr = LogisticRegression()\n",
        "from sklearn.tree import DecisionTreeClassifier\n",
        "dt = DecisionTreeClassifier()\n",
        "from sklearn.neighbors import KNeighborsClassifier\n",
        "knn = KNeighborsClassifier()\n",
        "from sklearn.svm import SVC\n",
        "svc = SVC()\n",
        "from sklearn.linear_model import SGDClassifier\n",
        "sgd = SGDClassifier()\n",
        "from sklearn.naive_bayes import GaussianNB\n",
        "gnb = GaussianNB()\n",
        "from sklearn.naive_bayes import MultinomialNB\n",
        "mnb = MultinomialNB()\n",
        "from sklearn.naive_bayes import BernoulliNB\n",
        "bnb = BernoulliNB()\n",
        "from sklearn.ensemble import BaggingClassifier\n",
        "bc = BaggingClassifier()\n",
        "from sklearn.ensemble import RandomForestClassifier\n",
        "rfc = RandomForestClassifier()\n",
        "from sklearn.ensemble import AdaBoostClassifier\n",
        "ada = AdaBoostClassifier()\n",
        "import xgboost as xgb\n",
        "xgb = xgb.XGBClassifier()"
      ],
      "execution_count": 121,
      "outputs": []
    },
    {
      "cell_type": "code",
      "metadata": {
        "id": "qfiR1tav0Bk5",
        "outputId": "603a0a83-37bc-4fd0-97ca-212cf349be51",
        "colab": {
          "base_uri": "https://localhost:8080/",
          "height": 464
        }
      },
      "source": [
        "classifiers = {'LogisticRegression':lr,'DecisionTreeClassifier':dt,'KNeighborsClassifier':knn,\n",
        "              'SVC':svc, 'SGDClassifier':sgd,'GaussianNB':gnb,'MultinomialNB':mnb,'BernoulliNB':bnb,\n",
        "              'BaggingClassifier':bc,'RandomForestClassifier':rfc,'AdaBoostClassifier':ada,\n",
        "              'XGBClassifier':xgb}\n",
        "classifier=sorted(classifiers.keys())\n",
        "print(classifier)\n",
        "df=pd.DataFrame(classifier,columns=['Classifiers'])\n",
        "df"
      ],
      "execution_count": 122,
      "outputs": [
        {
          "output_type": "stream",
          "text": [
            "['AdaBoostClassifier', 'BaggingClassifier', 'BernoulliNB', 'DecisionTreeClassifier', 'GaussianNB', 'KNeighborsClassifier', 'LogisticRegression', 'MultinomialNB', 'RandomForestClassifier', 'SGDClassifier', 'SVC', 'XGBClassifier']\n"
          ],
          "name": "stdout"
        },
        {
          "output_type": "execute_result",
          "data": {
            "text/html": [
              "<div>\n",
              "<style scoped>\n",
              "    .dataframe tbody tr th:only-of-type {\n",
              "        vertical-align: middle;\n",
              "    }\n",
              "\n",
              "    .dataframe tbody tr th {\n",
              "        vertical-align: top;\n",
              "    }\n",
              "\n",
              "    .dataframe thead th {\n",
              "        text-align: right;\n",
              "    }\n",
              "</style>\n",
              "<table border=\"1\" class=\"dataframe\">\n",
              "  <thead>\n",
              "    <tr style=\"text-align: right;\">\n",
              "      <th></th>\n",
              "      <th>Classifiers</th>\n",
              "    </tr>\n",
              "  </thead>\n",
              "  <tbody>\n",
              "    <tr>\n",
              "      <th>0</th>\n",
              "      <td>AdaBoostClassifier</td>\n",
              "    </tr>\n",
              "    <tr>\n",
              "      <th>1</th>\n",
              "      <td>BaggingClassifier</td>\n",
              "    </tr>\n",
              "    <tr>\n",
              "      <th>2</th>\n",
              "      <td>BernoulliNB</td>\n",
              "    </tr>\n",
              "    <tr>\n",
              "      <th>3</th>\n",
              "      <td>DecisionTreeClassifier</td>\n",
              "    </tr>\n",
              "    <tr>\n",
              "      <th>4</th>\n",
              "      <td>GaussianNB</td>\n",
              "    </tr>\n",
              "    <tr>\n",
              "      <th>5</th>\n",
              "      <td>KNeighborsClassifier</td>\n",
              "    </tr>\n",
              "    <tr>\n",
              "      <th>6</th>\n",
              "      <td>LogisticRegression</td>\n",
              "    </tr>\n",
              "    <tr>\n",
              "      <th>7</th>\n",
              "      <td>MultinomialNB</td>\n",
              "    </tr>\n",
              "    <tr>\n",
              "      <th>8</th>\n",
              "      <td>RandomForestClassifier</td>\n",
              "    </tr>\n",
              "    <tr>\n",
              "      <th>9</th>\n",
              "      <td>SGDClassifier</td>\n",
              "    </tr>\n",
              "    <tr>\n",
              "      <th>10</th>\n",
              "      <td>SVC</td>\n",
              "    </tr>\n",
              "    <tr>\n",
              "      <th>11</th>\n",
              "      <td>XGBClassifier</td>\n",
              "    </tr>\n",
              "  </tbody>\n",
              "</table>\n",
              "</div>"
            ],
            "text/plain": [
              "               Classifiers\n",
              "0       AdaBoostClassifier\n",
              "1        BaggingClassifier\n",
              "2              BernoulliNB\n",
              "3   DecisionTreeClassifier\n",
              "4               GaussianNB\n",
              "5     KNeighborsClassifier\n",
              "6       LogisticRegression\n",
              "7            MultinomialNB\n",
              "8   RandomForestClassifier\n",
              "9            SGDClassifier\n",
              "10                     SVC\n",
              "11           XGBClassifier"
            ]
          },
          "metadata": {
            "tags": []
          },
          "execution_count": 122
        }
      ]
    },
    {
      "cell_type": "markdown",
      "metadata": {
        "id": "M061nJnSJWYm"
      },
      "source": [
        "#Define results all model"
      ]
    },
    {
      "cell_type": "code",
      "metadata": {
        "id": "ICwvGo_JLkgR",
        "outputId": "ac5d0f6b-009d-43f1-ca33-1cdf6cfa944f",
        "colab": {
          "base_uri": "https://localhost:8080/",
          "height": 383
        }
      },
      "source": [
        "import warnings\n",
        "warnings.filterwarnings('ignore')\n",
        "from sklearn import model_selection\n",
        "from sklearn.model_selection import KFold\n",
        "from sklearn.model_selection import StratifiedKFold\n",
        "from sklearn.model_selection import cross_val_score\n",
        "parameter = []\n",
        "res = []\n",
        "res = pd.DataFrame(res)\n",
        "for n, c in sorted(classifiers.items()):\n",
        "  kfold = StratifiedKFold(n_splits=10, random_state=0)\n",
        "  results = cross_val_score(c, X_under, y_under, cv=kfold)\n",
        "  parameter.append((n,[results.mean()]))\n",
        "  result = pd.DataFrame(results)\n",
        "  res=pd.concat([res,result],axis=1,ignore_index=True)\n",
        "res.columns = ['AdaBoostClassifier', 'BaggingClassifier', 'BernoulliNB', 'DecisionTreeClassifier',\n",
        "               'GaussianNB','KNeighborsClassifier', 'LogisticRegression', \n",
        "               'MultinomialNB', 'RandomForestClassifier', 'SGDClassifier', 'SVC',\n",
        "               'XGBClassifier']\n",
        "res "
      ],
      "execution_count": 123,
      "outputs": [
        {
          "output_type": "execute_result",
          "data": {
            "text/html": [
              "<div>\n",
              "<style scoped>\n",
              "    .dataframe tbody tr th:only-of-type {\n",
              "        vertical-align: middle;\n",
              "    }\n",
              "\n",
              "    .dataframe tbody tr th {\n",
              "        vertical-align: top;\n",
              "    }\n",
              "\n",
              "    .dataframe thead th {\n",
              "        text-align: right;\n",
              "    }\n",
              "</style>\n",
              "<table border=\"1\" class=\"dataframe\">\n",
              "  <thead>\n",
              "    <tr style=\"text-align: right;\">\n",
              "      <th></th>\n",
              "      <th>AdaBoostClassifier</th>\n",
              "      <th>BaggingClassifier</th>\n",
              "      <th>BernoulliNB</th>\n",
              "      <th>DecisionTreeClassifier</th>\n",
              "      <th>GaussianNB</th>\n",
              "      <th>KNeighborsClassifier</th>\n",
              "      <th>LogisticRegression</th>\n",
              "      <th>MultinomialNB</th>\n",
              "      <th>RandomForestClassifier</th>\n",
              "      <th>SGDClassifier</th>\n",
              "      <th>SVC</th>\n",
              "      <th>XGBClassifier</th>\n",
              "    </tr>\n",
              "  </thead>\n",
              "  <tbody>\n",
              "    <tr>\n",
              "      <th>0</th>\n",
              "      <td>0.939394</td>\n",
              "      <td>0.979798</td>\n",
              "      <td>0.505051</td>\n",
              "      <td>0.919192</td>\n",
              "      <td>0.939394</td>\n",
              "      <td>0.969697</td>\n",
              "      <td>0.959596</td>\n",
              "      <td>0.959596</td>\n",
              "      <td>0.949495</td>\n",
              "      <td>0.979798</td>\n",
              "      <td>0.959596</td>\n",
              "      <td>0.949495</td>\n",
              "    </tr>\n",
              "    <tr>\n",
              "      <th>1</th>\n",
              "      <td>0.979798</td>\n",
              "      <td>0.979798</td>\n",
              "      <td>0.505051</td>\n",
              "      <td>0.929293</td>\n",
              "      <td>0.959596</td>\n",
              "      <td>0.979798</td>\n",
              "      <td>0.959596</td>\n",
              "      <td>0.949495</td>\n",
              "      <td>0.969697</td>\n",
              "      <td>0.969697</td>\n",
              "      <td>0.969697</td>\n",
              "      <td>0.989899</td>\n",
              "    </tr>\n",
              "    <tr>\n",
              "      <th>2</th>\n",
              "      <td>0.989899</td>\n",
              "      <td>0.979798</td>\n",
              "      <td>0.494949</td>\n",
              "      <td>0.929293</td>\n",
              "      <td>0.989899</td>\n",
              "      <td>0.969697</td>\n",
              "      <td>0.989899</td>\n",
              "      <td>0.979798</td>\n",
              "      <td>0.989899</td>\n",
              "      <td>1.000000</td>\n",
              "      <td>0.989899</td>\n",
              "      <td>0.989899</td>\n",
              "    </tr>\n",
              "    <tr>\n",
              "      <th>3</th>\n",
              "      <td>0.898990</td>\n",
              "      <td>0.858586</td>\n",
              "      <td>0.494949</td>\n",
              "      <td>0.858586</td>\n",
              "      <td>0.868687</td>\n",
              "      <td>0.878788</td>\n",
              "      <td>0.868687</td>\n",
              "      <td>0.818182</td>\n",
              "      <td>0.868687</td>\n",
              "      <td>0.939394</td>\n",
              "      <td>0.878788</td>\n",
              "      <td>0.888889</td>\n",
              "    </tr>\n",
              "    <tr>\n",
              "      <th>4</th>\n",
              "      <td>0.877551</td>\n",
              "      <td>0.846939</td>\n",
              "      <td>0.500000</td>\n",
              "      <td>0.826531</td>\n",
              "      <td>0.857143</td>\n",
              "      <td>0.877551</td>\n",
              "      <td>0.867347</td>\n",
              "      <td>0.826531</td>\n",
              "      <td>0.887755</td>\n",
              "      <td>0.897959</td>\n",
              "      <td>0.897959</td>\n",
              "      <td>0.867347</td>\n",
              "    </tr>\n",
              "    <tr>\n",
              "      <th>5</th>\n",
              "      <td>0.938776</td>\n",
              "      <td>0.918367</td>\n",
              "      <td>0.500000</td>\n",
              "      <td>0.857143</td>\n",
              "      <td>0.928571</td>\n",
              "      <td>0.928571</td>\n",
              "      <td>0.867347</td>\n",
              "      <td>0.806122</td>\n",
              "      <td>0.928571</td>\n",
              "      <td>0.948980</td>\n",
              "      <td>0.938776</td>\n",
              "      <td>0.928571</td>\n",
              "    </tr>\n",
              "    <tr>\n",
              "      <th>6</th>\n",
              "      <td>0.979592</td>\n",
              "      <td>0.969388</td>\n",
              "      <td>0.500000</td>\n",
              "      <td>0.918367</td>\n",
              "      <td>0.979592</td>\n",
              "      <td>0.989796</td>\n",
              "      <td>0.979592</td>\n",
              "      <td>0.969388</td>\n",
              "      <td>0.969388</td>\n",
              "      <td>0.938776</td>\n",
              "      <td>0.979592</td>\n",
              "      <td>0.969388</td>\n",
              "    </tr>\n",
              "    <tr>\n",
              "      <th>7</th>\n",
              "      <td>0.918367</td>\n",
              "      <td>0.897959</td>\n",
              "      <td>0.500000</td>\n",
              "      <td>0.846939</td>\n",
              "      <td>0.897959</td>\n",
              "      <td>0.918367</td>\n",
              "      <td>0.887755</td>\n",
              "      <td>0.846939</td>\n",
              "      <td>0.928571</td>\n",
              "      <td>0.918367</td>\n",
              "      <td>0.908163</td>\n",
              "      <td>0.908163</td>\n",
              "    </tr>\n",
              "    <tr>\n",
              "      <th>8</th>\n",
              "      <td>0.928571</td>\n",
              "      <td>0.938776</td>\n",
              "      <td>0.500000</td>\n",
              "      <td>0.867347</td>\n",
              "      <td>0.938776</td>\n",
              "      <td>0.969388</td>\n",
              "      <td>0.928571</td>\n",
              "      <td>0.857143</td>\n",
              "      <td>0.938776</td>\n",
              "      <td>0.938776</td>\n",
              "      <td>0.948980</td>\n",
              "      <td>0.948980</td>\n",
              "    </tr>\n",
              "    <tr>\n",
              "      <th>9</th>\n",
              "      <td>0.897959</td>\n",
              "      <td>0.887755</td>\n",
              "      <td>0.500000</td>\n",
              "      <td>0.836735</td>\n",
              "      <td>0.877551</td>\n",
              "      <td>0.877551</td>\n",
              "      <td>0.887755</td>\n",
              "      <td>0.816327</td>\n",
              "      <td>0.897959</td>\n",
              "      <td>0.908163</td>\n",
              "      <td>0.887755</td>\n",
              "      <td>0.887755</td>\n",
              "    </tr>\n",
              "  </tbody>\n",
              "</table>\n",
              "</div>"
            ],
            "text/plain": [
              "   AdaBoostClassifier  BaggingClassifier  ...       SVC  XGBClassifier\n",
              "0            0.939394           0.979798  ...  0.959596       0.949495\n",
              "1            0.979798           0.979798  ...  0.969697       0.989899\n",
              "2            0.989899           0.979798  ...  0.989899       0.989899\n",
              "3            0.898990           0.858586  ...  0.878788       0.888889\n",
              "4            0.877551           0.846939  ...  0.897959       0.867347\n",
              "5            0.938776           0.918367  ...  0.938776       0.928571\n",
              "6            0.979592           0.969388  ...  0.979592       0.969388\n",
              "7            0.918367           0.897959  ...  0.908163       0.908163\n",
              "8            0.928571           0.938776  ...  0.948980       0.948980\n",
              "9            0.897959           0.887755  ...  0.887755       0.887755\n",
              "\n",
              "[10 rows x 12 columns]"
            ]
          },
          "metadata": {
            "tags": []
          },
          "execution_count": 123
        }
      ]
    },
    {
      "cell_type": "markdown",
      "metadata": {
        "id": "ndveMpovJL--"
      },
      "source": [
        "#Box plot all classifier"
      ]
    },
    {
      "cell_type": "code",
      "metadata": {
        "id": "_eZ6KH4fRTVV",
        "outputId": "562ddd44-4545-4684-aac4-8a96cf62e3eb",
        "colab": {
          "base_uri": "https://localhost:8080/",
          "height": 330
        }
      },
      "source": [
        "fig, ax = plt.subplots(figsize=(25,8))\n",
        "sns.set(style='whitegrid')\n",
        "boxplot=sns.boxplot(data=res,width=0.6)\n",
        "boxplot.set_ylim([0.4,1.05])\n",
        "fig.suptitle(\"Box plot of cross validation results\",fontsize=20)\n",
        "plt.xlabel(\"Classifier\",fontsize=30)\n",
        "plt.ylabel(\"Accuracy\",fontsize=30)\n",
        "plt.tick_params(axis='both', which='major', colors='black', labelsize=10)\n",
        "plt.show()"
      ],
      "execution_count": 124,
      "outputs": [
        {
          "output_type": "display_data",
          "data": {
            "image/png": "[encoded data removed]",
            "text/plain": [
              "<Figure size 1800x576 with 1 Axes>"
            ]
          },
          "metadata": {
            "tags": [],
            "needs_background": "light"
          }
        }
      ]
    },
    {
      "cell_type": "markdown",
      "metadata": {
        "id": "0JdLPekBJFXf"
      },
      "source": [
        "#ROC and AUC Curve"
      ]
    },
    {
      "cell_type": "code",
      "metadata": {
        "id": "aF_pBZ_oV1Hf",
        "outputId": "9d86aec9-8b85-4476-8d24-09c36e462fd9",
        "colab": {
          "base_uri": "https://localhost:8080/",
          "height": 1000
        }
      },
      "source": [
        "import time\n",
        "import sklearn.metrics as metrics\n",
        "from sklearn.metrics import confusion_matrix\n",
        "from sklearn.metrics import accuracy_score\n",
        "from sklearn.metrics import roc_curve\n",
        "from sklearn.metrics import auc\n",
        "from sklearn.metrics import roc_auc_score\n",
        "score = []\n",
        "i=1\n",
        "plt.subplots(figsize=(12,5))\n",
        "for n,c in sorted(classifiers.items()):\n",
        "    start=time.time()\n",
        "    c.fit(training_x,training_y)\n",
        "    pred=c.predict(test_x)\n",
        "    end=time.time()\n",
        "\n",
        "    print(\"{}) Classifier is : {}\\n\".format(i,c))\n",
        "    print(\"Total time in : \",end-start)\n",
        "\n",
        "    score.append((n,[accuracy_score(test_y,pred,normalize=True),metrics.precision_score(test_y,pred,average='micro'),\n",
        "                    metrics.recall_score(test_y, pred,average='micro'),metrics.f1_score(test_y,pred,average='micro')]))\n",
        "    \n",
        "    print(\"\\nConfusion_matrix is \\n\",confusion_matrix(test_y,pred))\n",
        "    precision=print(\"\\nPrecision : \",metrics.precision_score(test_y,pred,average='micro'))      \n",
        "    recall=print(\"Recall    : \",metrics.recall_score(test_y,pred,average='micro'))\n",
        "    f1_score=print(\"f1_score  : \",metrics.f1_score(test_y,pred,average='micro'))\n",
        "    \n",
        "    # ROC AND AUC CURVE                                                             \n",
        "    fpr,tpr,thresholds=roc_curve(test_y,pred)\n",
        "    # calculate AUC\n",
        "    auc=roc_auc_score(test_y,pred)\n",
        "    print('AUC: %.3f' % auc)\n",
        "\n",
        "    i=i+1\n",
        "       \n",
        "    plt.plot(fpr,tpr,marker='.',label=n)\n",
        "    \n",
        "plt.plot([0, 1], [0, 1], color='navy', linestyle='--')\n",
        "# plot the roc curve for the model\n",
        "plt.xlim([0.0, 1.0])\n",
        "plt.ylim([0.0, 1.05])\n",
        "plt.xlabel('False Positive Rate')\n",
        "plt.ylabel('True Positive Rate')\n",
        "plt.title('Receiver operating characteristic and Area under the curve')\n",
        "plt.legend()\n",
        "plt.show()                "
      ],
      "execution_count": 125,
      "outputs": [
        {
          "output_type": "stream",
          "text": [
            "1) Classifier is : AdaBoostClassifier(algorithm='SAMME.R', base_estimator=None, learning_rate=1.0,\n",
            "                   n_estimators=50, random_state=None)\n",
            "\n",
            "Total time in :  0.13019967079162598\n",
            "\n",
            "Confusion_matrix is \n",
            " [[146   4]\n",
            " [ 11 135]]\n",
            "\n",
            "Precision :  0.9493243243243243\n",
            "Recall    :  0.9493243243243243\n",
            "f1_score  :  0.9493243243243243\n",
            "AUC: 0.949\n",
            "2) Classifier is : BaggingClassifier(base_estimator=None, bootstrap=True, bootstrap_features=False,\n",
            "                  max_features=1.0, max_samples=1.0, n_estimators=10,\n",
            "                  n_jobs=None, oob_score=False, random_state=None, verbose=0,\n",
            "                  warm_start=False)\n",
            "\n",
            "Total time in :  0.03735756874084473\n",
            "\n",
            "Confusion_matrix is \n",
            " [[148   2]\n",
            " [ 15 131]]\n",
            "\n",
            "Precision :  0.9425675675675675\n",
            "Recall    :  0.9425675675675675\n",
            "f1_score  :  0.9425675675675675\n",
            "AUC: 0.942\n",
            "3) Classifier is : BernoulliNB(alpha=1.0, binarize=0.0, class_prior=None, fit_prior=True)\n",
            "\n",
            "Total time in :  0.0010228157043457031\n",
            "\n",
            "Confusion_matrix is \n",
            " [[150   0]\n",
            " [146   0]]\n",
            "\n",
            "Precision :  0.5067567567567568\n",
            "Recall    :  0.5067567567567568\n",
            "f1_score  :  0.5067567567567568\n",
            "AUC: 0.500\n",
            "4) Classifier is : DecisionTreeClassifier(ccp_alpha=0.0, class_weight=None, criterion='gini',\n",
            "                       max_depth=None, max_features=None, max_leaf_nodes=None,\n",
            "                       min_impurity_decrease=0.0, min_impurity_split=None,\n",
            "                       min_samples_leaf=1, min_samples_split=2,\n",
            "                       min_weight_fraction_leaf=0.0, presort='deprecated',\n",
            "                       random_state=None, splitter='best')\n",
            "\n",
            "Total time in :  0.0042493343353271484\n",
            "\n",
            "Confusion_matrix is \n",
            " [[141   9]\n",
            " [ 13 133]]\n",
            "\n",
            "Precision :  0.9256756756756757\n",
            "Recall    :  0.9256756756756757\n",
            "f1_score  :  0.9256756756756757\n",
            "AUC: 0.925\n",
            "5) Classifier is : GaussianNB(priors=None, var_smoothing=1e-09)\n",
            "\n",
            "Total time in :  0.0014183521270751953\n",
            "\n",
            "Confusion_matrix is \n",
            " [[148   2]\n",
            " [ 21 125]]\n",
            "\n",
            "Precision :  0.9222972972972973\n",
            "Recall    :  0.9222972972972973\n",
            "f1_score  :  0.9222972972972973\n",
            "AUC: 0.921\n",
            "6) Classifier is : KNeighborsClassifier(algorithm='auto', leaf_size=30, metric='minkowski',\n",
            "                     metric_params=None, n_jobs=None, n_neighbors=5, p=2,\n",
            "                     weights='uniform')\n",
            "\n",
            "Total time in :  0.012625932693481445\n",
            "\n",
            "Confusion_matrix is \n",
            " [[147   3]\n",
            " [ 15 131]]\n",
            "\n",
            "Precision :  0.9391891891891891\n",
            "Recall    :  0.9391891891891891\n",
            "f1_score  :  0.9391891891891891\n",
            "AUC: 0.939\n",
            "7) Classifier is : LogisticRegression(C=1.0, class_weight=None, dual=False, fit_intercept=True,\n",
            "                   intercept_scaling=1, l1_ratio=None, max_iter=100,\n",
            "                   multi_class='auto', n_jobs=None, penalty='l2',\n",
            "                   random_state=None, solver='lbfgs', tol=0.0001, verbose=0,\n",
            "                   warm_start=False)\n",
            "\n",
            "Total time in :  0.00687718391418457\n",
            "\n",
            "Confusion_matrix is \n",
            " [[150   0]\n",
            " [ 25 121]]\n",
            "\n",
            "Precision :  0.9155405405405406\n",
            "Recall    :  0.9155405405405406\n",
            "f1_score  :  0.9155405405405407\n",
            "AUC: 0.914\n",
            "8) Classifier is : MultinomialNB(alpha=1.0, class_prior=None, fit_prior=True)\n",
            "\n",
            "Total time in :  0.0013566017150878906\n",
            "\n",
            "Confusion_matrix is \n",
            " [[150   0]\n",
            " [ 35 111]]\n",
            "\n",
            "Precision :  0.8817567567567568\n",
            "Recall    :  0.8817567567567568\n",
            "f1_score  :  0.8817567567567568\n",
            "AUC: 0.880\n",
            "9) Classifier is : RandomForestClassifier(bootstrap=True, ccp_alpha=0.0, class_weight=None,\n",
            "                       criterion='gini', max_depth=None, max_features='auto',\n",
            "                       max_leaf_nodes=None, max_samples=None,\n",
            "                       min_impurity_decrease=0.0, min_impurity_split=None,\n",
            "                       min_samples_leaf=1, min_samples_split=2,\n",
            "                       min_weight_fraction_leaf=0.0, n_estimators=100,\n",
            "                       n_jobs=None, oob_score=False, random_state=None,\n",
            "                       verbose=0, warm_start=False)\n",
            "\n",
            "Total time in :  0.21029400825500488\n",
            "\n",
            "Confusion_matrix is \n",
            " [[148   2]\n",
            " [ 16 130]]\n",
            "\n",
            "Precision :  0.9391891891891891\n",
            "Recall    :  0.9391891891891891\n",
            "f1_score  :  0.9391891891891891\n",
            "AUC: 0.939\n",
            "10) Classifier is : SGDClassifier(alpha=0.0001, average=False, class_weight=None,\n",
            "              early_stopping=False, epsilon=0.1, eta0=0.0, fit_intercept=True,\n",
            "              l1_ratio=0.15, learning_rate='optimal', loss='hinge',\n",
            "              max_iter=1000, n_iter_no_change=5, n_jobs=None, penalty='l2',\n",
            "              power_t=0.5, random_state=None, shuffle=True, tol=0.001,\n",
            "              validation_fraction=0.1, verbose=0, warm_start=False)\n",
            "\n",
            "Total time in :  0.0018775463104248047\n",
            "\n",
            "Confusion_matrix is \n",
            " [[149   1]\n",
            " [ 19 127]]\n",
            "\n",
            "Precision :  0.9324324324324325\n",
            "Recall    :  0.9324324324324325\n",
            "f1_score  :  0.9324324324324325\n",
            "AUC: 0.932\n",
            "11) Classifier is : SVC(C=1.0, break_ties=False, cache_size=200, class_weight=None, coef0=0.0,\n",
            "    decision_function_shape='ovr', degree=3, gamma='scale', kernel='rbf',\n",
            "    max_iter=-1, probability=False, random_state=None, shrinking=True,\n",
            "    tol=0.001, verbose=False)\n",
            "\n",
            "Total time in :  0.006710052490234375\n",
            "\n",
            "Confusion_matrix is \n",
            " [[149   1]\n",
            " [ 18 128]]\n",
            "\n",
            "Precision :  0.9358108108108109\n",
            "Recall    :  0.9358108108108109\n",
            "f1_score  :  0.9358108108108109\n",
            "AUC: 0.935\n",
            "12) Classifier is : XGBClassifier(base_score=0.5, booster='gbtree', colsample_bylevel=1,\n",
            "              colsample_bynode=1, colsample_bytree=1, gamma=0,\n",
            "              learning_rate=0.1, max_delta_step=0, max_depth=3,\n",
            "              min_child_weight=1, missing=None, n_estimators=100, n_jobs=1,\n",
            "              nthread=None, objective='binary:logistic', random_state=0,\n",
            "              reg_alpha=0, reg_lambda=1, scale_pos_weight=1, seed=None,\n",
            "              silent=None, subsample=1, verbosity=1)\n",
            "\n",
            "Total time in :  0.06308674812316895\n",
            "\n",
            "Confusion_matrix is \n",
            " [[146   4]\n",
            " [ 12 134]]\n",
            "\n",
            "Precision :  0.9459459459459459\n",
            "Recall    :  0.9459459459459459\n",
            "f1_score  :  0.9459459459459459\n",
            "AUC: 0.946\n"
          ],
          "name": "stdout"
        },
        {
          "output_type": "display_data",
          "data": {
            "image/png": "[encoded data removed]",
            "text/plain": [
              "<Figure size 864x360 with 1 Axes>"
            ]
          },
          "metadata": {
            "tags": []
          }
        }
      ]
    },
    {
      "cell_type": "code",
      "metadata": {
        "id": "H9Eh5vnQXtut",
        "outputId": "9df1621c-33fc-465c-cf53-31b478b37ff8",
        "colab": {
          "base_uri": "https://localhost:8080/",
          "height": 426
        }
      },
      "source": [
        "score_df1=pd.DataFrame.from_dict(dict(score),orient='index',columns=['scores','Precision','Recall','f1_score'])\n",
        "score_df1['Accuracy (%)']=score_df1['scores']*100\n",
        "score_df1                     "
      ],
      "execution_count": 126,
      "outputs": [
        {
          "output_type": "execute_result",
          "data": {
            "text/html": [
              "<div>\n",
              "<style scoped>\n",
              "    .dataframe tbody tr th:only-of-type {\n",
              "        vertical-align: middle;\n",
              "    }\n",
              "\n",
              "    .dataframe tbody tr th {\n",
              "        vertical-align: top;\n",
              "    }\n",
              "\n",
              "    .dataframe thead th {\n",
              "        text-align: right;\n",
              "    }\n",
              "</style>\n",
              "<table border=\"1\" class=\"dataframe\">\n",
              "  <thead>\n",
              "    <tr style=\"text-align: right;\">\n",
              "      <th></th>\n",
              "      <th>scores</th>\n",
              "      <th>Precision</th>\n",
              "      <th>Recall</th>\n",
              "      <th>f1_score</th>\n",
              "      <th>Accuracy (%)</th>\n",
              "    </tr>\n",
              "  </thead>\n",
              "  <tbody>\n",
              "    <tr>\n",
              "      <th>AdaBoostClassifier</th>\n",
              "      <td>0.949324</td>\n",
              "      <td>0.949324</td>\n",
              "      <td>0.949324</td>\n",
              "      <td>0.949324</td>\n",
              "      <td>94.932432</td>\n",
              "    </tr>\n",
              "    <tr>\n",
              "      <th>BaggingClassifier</th>\n",
              "      <td>0.942568</td>\n",
              "      <td>0.942568</td>\n",
              "      <td>0.942568</td>\n",
              "      <td>0.942568</td>\n",
              "      <td>94.256757</td>\n",
              "    </tr>\n",
              "    <tr>\n",
              "      <th>BernoulliNB</th>\n",
              "      <td>0.506757</td>\n",
              "      <td>0.506757</td>\n",
              "      <td>0.506757</td>\n",
              "      <td>0.506757</td>\n",
              "      <td>50.675676</td>\n",
              "    </tr>\n",
              "    <tr>\n",
              "      <th>DecisionTreeClassifier</th>\n",
              "      <td>0.925676</td>\n",
              "      <td>0.925676</td>\n",
              "      <td>0.925676</td>\n",
              "      <td>0.925676</td>\n",
              "      <td>92.567568</td>\n",
              "    </tr>\n",
              "    <tr>\n",
              "      <th>GaussianNB</th>\n",
              "      <td>0.922297</td>\n",
              "      <td>0.922297</td>\n",
              "      <td>0.922297</td>\n",
              "      <td>0.922297</td>\n",
              "      <td>92.229730</td>\n",
              "    </tr>\n",
              "    <tr>\n",
              "      <th>KNeighborsClassifier</th>\n",
              "      <td>0.939189</td>\n",
              "      <td>0.939189</td>\n",
              "      <td>0.939189</td>\n",
              "      <td>0.939189</td>\n",
              "      <td>93.918919</td>\n",
              "    </tr>\n",
              "    <tr>\n",
              "      <th>LogisticRegression</th>\n",
              "      <td>0.915541</td>\n",
              "      <td>0.915541</td>\n",
              "      <td>0.915541</td>\n",
              "      <td>0.915541</td>\n",
              "      <td>91.554054</td>\n",
              "    </tr>\n",
              "    <tr>\n",
              "      <th>MultinomialNB</th>\n",
              "      <td>0.881757</td>\n",
              "      <td>0.881757</td>\n",
              "      <td>0.881757</td>\n",
              "      <td>0.881757</td>\n",
              "      <td>88.175676</td>\n",
              "    </tr>\n",
              "    <tr>\n",
              "      <th>RandomForestClassifier</th>\n",
              "      <td>0.939189</td>\n",
              "      <td>0.939189</td>\n",
              "      <td>0.939189</td>\n",
              "      <td>0.939189</td>\n",
              "      <td>93.918919</td>\n",
              "    </tr>\n",
              "    <tr>\n",
              "      <th>SGDClassifier</th>\n",
              "      <td>0.932432</td>\n",
              "      <td>0.932432</td>\n",
              "      <td>0.932432</td>\n",
              "      <td>0.932432</td>\n",
              "      <td>93.243243</td>\n",
              "    </tr>\n",
              "    <tr>\n",
              "      <th>SVC</th>\n",
              "      <td>0.935811</td>\n",
              "      <td>0.935811</td>\n",
              "      <td>0.935811</td>\n",
              "      <td>0.935811</td>\n",
              "      <td>93.581081</td>\n",
              "    </tr>\n",
              "    <tr>\n",
              "      <th>XGBClassifier</th>\n",
              "      <td>0.945946</td>\n",
              "      <td>0.945946</td>\n",
              "      <td>0.945946</td>\n",
              "      <td>0.945946</td>\n",
              "      <td>94.594595</td>\n",
              "    </tr>\n",
              "  </tbody>\n",
              "</table>\n",
              "</div>"
            ],
            "text/plain": [
              "                          scores  Precision    Recall  f1_score  Accuracy (%)\n",
              "AdaBoostClassifier      0.949324   0.949324  0.949324  0.949324     94.932432\n",
              "BaggingClassifier       0.942568   0.942568  0.942568  0.942568     94.256757\n",
              "BernoulliNB             0.506757   0.506757  0.506757  0.506757     50.675676\n",
              "DecisionTreeClassifier  0.925676   0.925676  0.925676  0.925676     92.567568\n",
              "GaussianNB              0.922297   0.922297  0.922297  0.922297     92.229730\n",
              "KNeighborsClassifier    0.939189   0.939189  0.939189  0.939189     93.918919\n",
              "LogisticRegression      0.915541   0.915541  0.915541  0.915541     91.554054\n",
              "MultinomialNB           0.881757   0.881757  0.881757  0.881757     88.175676\n",
              "RandomForestClassifier  0.939189   0.939189  0.939189  0.939189     93.918919\n",
              "SGDClassifier           0.932432   0.932432  0.932432  0.932432     93.243243\n",
              "SVC                     0.935811   0.935811  0.935811  0.935811     93.581081\n",
              "XGBClassifier           0.945946   0.945946  0.945946  0.945946     94.594595"
            ]
          },
          "metadata": {
            "tags": []
          },
          "execution_count": 126
        }
      ]
    },
    {
      "cell_type": "code",
      "metadata": {
        "id": "--k55yHEKilI"
      },
      "source": [
        ""
      ],
      "execution_count": null,
      "outputs": []
    }
  ]
}