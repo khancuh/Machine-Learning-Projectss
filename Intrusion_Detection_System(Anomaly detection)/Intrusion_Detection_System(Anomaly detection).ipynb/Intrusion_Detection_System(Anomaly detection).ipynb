{
  "nbformat": 4,
  "nbformat_minor": 0,
  "metadata": {
    "colab": {
      "name": "IDS(Intrusion Detection System).ipynb",
      "provenance": [],
      "collapsed_sections": [],
      "toc_visible": true
    },
    "kernelspec": {
      "name": "python3",
      "display_name": "Python 3"
    },
    "accelerator": "GPU"
  },
  "cells": [
    {
      "cell_type": "code",
      "metadata": {
        "id": "g4iu4ZAZ8Ei-",
        "colab_type": "code",
        "colab": {
          "base_uri": "https://localhost:8080/",
          "height": 56
        },
        "outputId": "9c465502-b220-450f-e394-0f6e5cf42d90"
      },
      "source": [
        "from google.colab import drive\n",
        "drive.mount('/content/drive')"
      ],
      "execution_count": null,
      "outputs": [
        {
          "output_type": "stream",
          "text": [
            "Drive already mounted at /content/drive; to attempt to forcibly remount, call drive.mount(\"/content/drive\", force_remount=True).\n"
          ],
          "name": "stdout"
        }
      ]
    },
    {
      "cell_type": "markdown",
      "metadata": {
        "id": "C-zyh1mepf1P",
        "colab_type": "text"
      },
      "source": [
        "#Some Important import Libraray\n",
        "\n",
        "\n",
        "\n"
      ]
    },
    {
      "cell_type": "code",
      "metadata": {
        "id": "37fu1vC6vGCC",
        "colab_type": "code",
        "colab": {}
      },
      "source": [
        "import pandas as pd             \n",
        "import numpy as np\n",
        "import sklearn\n",
        "import matplotlib.pyplot as plt\n",
        "%matplotlib inline\n",
        "import seaborn as sns\n",
        "from sklearn import metrics\n",
        "from sklearn.model_selection import train_test_split\n",
        "from sklearn.metrics import accuracy_score\n",
        "from sklearn.metrics import precision_score,recall_score\n",
        "from sklearn.metrics import f1_score,roc_auc_score,roc_curve\n",
        "from sklearn.model_selection import GridSearchCV,RandomizedSearchCV\n",
        "from sklearn.model_selection import KFold\n",
        "from sklearn.model_selection import cross_val_score\n",
        "from sklearn.metrics import confusion_matrix\n",
        "from sklearn.metrics import classification_report\n",
        "from sklearn.model_selection import StratifiedKFold\n",
        "from sklearn.metrics import precision_recall_fscore_support as score\n",
        "import gc\n",
        "from collections import Counter\n",
        "import warnings\n",
        "import xgboost\n",
        "import random\n",
        "from scipy.stats import randint\n",
        "import time\n",
        "warnings.filterwarnings(\"ignore\")"
      ],
      "execution_count": null,
      "outputs": []
    },
    {
      "cell_type": "markdown",
      "metadata": {
        "id": "_NdjjmwqwDxV",
        "colab_type": "text"
      },
      "source": [
        "#Load CSV File"
      ]
    },
    {
      "cell_type": "code",
      "metadata": {
        "id": "nd1562geUghj",
        "colab_type": "code",
        "colab": {}
      },
      "source": [
        "data = pd.read_csv(\"/content/drive/My Drive/TrafficLabelling_/Friday-WorkingHours-Afternoon-DDos.pcap_ISCX.csv\")\n",
        "data1 = pd.read_csv(\"/content/drive/My Drive/TrafficLabelling_/Friday-WorkingHours-Afternoon-PortScan.pcap_ISCX.csv\")\n",
        "data2 = pd.read_csv(\"/content/drive/My Drive/TrafficLabelling_/Friday-WorkingHours-Morning.pcap_ISCX.csv\")\n",
        "data3 = pd.read_csv(\"/content/drive/My Drive/TrafficLabelling_/Monday-WorkingHours.pcap_ISCX.csv\")\n",
        "data4 = pd.read_csv(\"/content/drive/My Drive/TrafficLabelling_/Thursday-WorkingHours-Afternoon-Infilteration.pcap_ISCX.csv\",encoding= 'unicode_escape')\n",
        "data5 = pd.read_csv(\"/content/drive/My Drive/TrafficLabelling_/Thursday-WorkingHours-Morning-WebAttacks.pcap_ISCX.csv\",encoding= 'unicode_escape')\n",
        "data6 = pd.read_csv(\"/content/drive/My Drive/TrafficLabelling_/Tuesday-WorkingHours.pcap_ISCX.csv\")\n",
        "data7 = pd.read_csv(\"/content/drive/My Drive/TrafficLabelling_/Wednesday-workingHours.pcap_ISCX.csv\")"
      ],
      "execution_count": null,
      "outputs": []
    },
    {
      "cell_type": "markdown",
      "metadata": {
        "id": "DSgP0xSEMTal",
        "colab_type": "text"
      },
      "source": [
        "#Concatenate all CSV file"
      ]
    },
    {
      "cell_type": "code",
      "metadata": {
        "id": "6SY50ZnrLE4c",
        "colab_type": "code",
        "colab": {
          "base_uri": "https://localhost:8080/",
          "height": 36
        },
        "outputId": "a8b58edc-7603-4684-ba36-10f3962518ec"
      },
      "source": [
        "df = pd.concat([data,data1,data2,data3,data4,data5,data6,data7])\n",
        "df.shape"
      ],
      "execution_count": null,
      "outputs": [
        {
          "output_type": "execute_result",
          "data": {
            "text/plain": [
              "(3119345, 85)"
            ]
          },
          "metadata": {
            "tags": []
          },
          "execution_count": 9
        }
      ]
    },
    {
      "cell_type": "code",
      "metadata": {
        "id": "yHhQEoUYMeTf",
        "colab_type": "code",
        "colab": {
          "base_uri": "https://localhost:8080/",
          "height": 560
        },
        "outputId": "4545c2ef-8bae-4fde-ebf6-8a3312863739"
      },
      "source": [
        "df.keys()"
      ],
      "execution_count": null,
      "outputs": [
        {
          "output_type": "execute_result",
          "data": {
            "text/plain": [
              "Index(['Flow ID', ' Source IP', ' Source Port', ' Destination IP',\n",
              "       ' Destination Port', ' Protocol', ' Timestamp', ' Flow Duration',\n",
              "       ' Total Fwd Packets', ' Total Backward Packets',\n",
              "       'Total Length of Fwd Packets', ' Total Length of Bwd Packets',\n",
              "       ' Fwd Packet Length Max', ' Fwd Packet Length Min',\n",
              "       ' Fwd Packet Length Mean', ' Fwd Packet Length Std',\n",
              "       'Bwd Packet Length Max', ' Bwd Packet Length Min',\n",
              "       ' Bwd Packet Length Mean', ' Bwd Packet Length Std', 'Flow Bytes/s',\n",
              "       ' Flow Packets/s', ' Flow IAT Mean', ' Flow IAT Std', ' Flow IAT Max',\n",
              "       ' Flow IAT Min', 'Fwd IAT Total', ' Fwd IAT Mean', ' Fwd IAT Std',\n",
              "       ' Fwd IAT Max', ' Fwd IAT Min', 'Bwd IAT Total', ' Bwd IAT Mean',\n",
              "       ' Bwd IAT Std', ' Bwd IAT Max', ' Bwd IAT Min', 'Fwd PSH Flags',\n",
              "       ' Bwd PSH Flags', ' Fwd URG Flags', ' Bwd URG Flags',\n",
              "       ' Fwd Header Length', ' Bwd Header Length', 'Fwd Packets/s',\n",
              "       ' Bwd Packets/s', ' Min Packet Length', ' Max Packet Length',\n",
              "       ' Packet Length Mean', ' Packet Length Std', ' Packet Length Variance',\n",
              "       'FIN Flag Count', ' SYN Flag Count', ' RST Flag Count',\n",
              "       ' PSH Flag Count', ' ACK Flag Count', ' URG Flag Count',\n",
              "       ' CWE Flag Count', ' ECE Flag Count', ' Down/Up Ratio',\n",
              "       ' Average Packet Size', ' Avg Fwd Segment Size',\n",
              "       ' Avg Bwd Segment Size', ' Fwd Header Length.1', 'Fwd Avg Bytes/Bulk',\n",
              "       ' Fwd Avg Packets/Bulk', ' Fwd Avg Bulk Rate', ' Bwd Avg Bytes/Bulk',\n",
              "       ' Bwd Avg Packets/Bulk', 'Bwd Avg Bulk Rate', 'Subflow Fwd Packets',\n",
              "       ' Subflow Fwd Bytes', ' Subflow Bwd Packets', ' Subflow Bwd Bytes',\n",
              "       'Init_Win_bytes_forward', ' Init_Win_bytes_backward',\n",
              "       ' act_data_pkt_fwd', ' min_seg_size_forward', 'Active Mean',\n",
              "       ' Active Std', ' Active Max', ' Active Min', 'Idle Mean', ' Idle Std',\n",
              "       ' Idle Max', ' Idle Min', ' Label'],\n",
              "      dtype='object')"
            ]
          },
          "metadata": {
            "tags": []
          },
          "execution_count": 10
        }
      ]
    },
    {
      "cell_type": "markdown",
      "metadata": {
        "id": "Rmmszud011wO",
        "colab_type": "text"
      },
      "source": [
        "#Data Cleaning"
      ]
    },
    {
      "cell_type": "code",
      "metadata": {
        "id": "Yp7fo4L5Mmb_",
        "colab_type": "code",
        "colab": {
          "base_uri": "https://localhost:8080/",
          "height": 242
        },
        "outputId": "61cb812d-7901-49f5-f479-2c4aa13d6499"
      },
      "source": [
        "df.isnull().sum()"
      ],
      "execution_count": null,
      "outputs": [
        {
          "output_type": "execute_result",
          "data": {
            "text/plain": [
              "Flow ID              288602\n",
              " Source IP           288602\n",
              " Source Port         288602\n",
              " Destination IP      288602\n",
              " Destination Port    288602\n",
              "                      ...  \n",
              "Idle Mean            288602\n",
              " Idle Std            288602\n",
              " Idle Max            288602\n",
              " Idle Min            288602\n",
              " Label               288602\n",
              "Length: 85, dtype: int64"
            ]
          },
          "metadata": {
            "tags": []
          },
          "execution_count": 11
        }
      ]
    },
    {
      "cell_type": "code",
      "metadata": {
        "id": "kVC83mfujxWW",
        "colab_type": "code",
        "colab": {
          "base_uri": "https://localhost:8080/",
          "height": 54
        },
        "outputId": "2cc0a71a-0755-4c0a-df9e-3c1bd5706513"
      },
      "source": [
        "df.dropna(how='all',inplace=True)\n",
        "df.replace([np.inf, -np.inf,np.nan],0.0, inplace=True)\n",
        "df.isnull().sum()\n",
        "print('After removing All NULL values : ',df.isnull().sum().sum())\n",
        "gc.collect()"
      ],
      "execution_count": null,
      "outputs": [
        {
          "output_type": "stream",
          "text": [
            "After removing All NULL values :  0\n"
          ],
          "name": "stdout"
        },
        {
          "output_type": "execute_result",
          "data": {
            "text/plain": [
              "4"
            ]
          },
          "metadata": {
            "tags": []
          },
          "execution_count": 12
        }
      ]
    },
    {
      "cell_type": "code",
      "metadata": {
        "id": "qW1ee4-ij-Up",
        "colab_type": "code",
        "colab": {}
      },
      "source": [
        "df = df.drop(['Flow ID'], axis=1)"
      ],
      "execution_count": null,
      "outputs": []
    },
    {
      "cell_type": "code",
      "metadata": {
        "id": "bKqJbGTtIFzh",
        "colab_type": "code",
        "colab": {
          "base_uri": "https://localhost:8080/",
          "height": 36
        },
        "outputId": "abcc5dd3-79ae-4c49-ad15-4ce4f0faca85"
      },
      "source": [
        "df.isnull().sum().sum()"
      ],
      "execution_count": null,
      "outputs": [
        {
          "output_type": "execute_result",
          "data": {
            "text/plain": [
              "0"
            ]
          },
          "metadata": {
            "tags": []
          },
          "execution_count": 14
        }
      ]
    },
    {
      "cell_type": "code",
      "metadata": {
        "id": "m7xdsJEx-Yhq",
        "colab_type": "code",
        "colab": {
          "base_uri": "https://localhost:8080/",
          "height": 36
        },
        "outputId": "7daf2f9a-5a5e-4f49-b439-134fc961b1c7"
      },
      "source": [
        "df.shape"
      ],
      "execution_count": null,
      "outputs": [
        {
          "output_type": "execute_result",
          "data": {
            "text/plain": [
              "(2830743, 84)"
            ]
          },
          "metadata": {
            "tags": []
          },
          "execution_count": 15
        }
      ]
    },
    {
      "cell_type": "code",
      "metadata": {
        "id": "zzXH1J9hAE-c",
        "colab_type": "code",
        "colab": {
          "base_uri": "https://localhost:8080/",
          "height": 248
        },
        "outputId": "506415d1-b389-44c6-bff8-5bc88360158b"
      },
      "source": [
        "df.head(2)"
      ],
      "execution_count": null,
      "outputs": [
        {
          "output_type": "execute_result",
          "data": {
            "text/html": [
              "<div>\n",
              "<style scoped>\n",
              "    .dataframe tbody tr th:only-of-type {\n",
              "        vertical-align: middle;\n",
              "    }\n",
              "\n",
              "    .dataframe tbody tr th {\n",
              "        vertical-align: top;\n",
              "    }\n",
              "\n",
              "    .dataframe thead th {\n",
              "        text-align: right;\n",
              "    }\n",
              "</style>\n",
              "<table border=\"1\" class=\"dataframe\">\n",
              "  <thead>\n",
              "    <tr style=\"text-align: right;\">\n",
              "      <th></th>\n",
              "      <th>Source IP</th>\n",
              "      <th>Source Port</th>\n",
              "      <th>Destination IP</th>\n",
              "      <th>Destination Port</th>\n",
              "      <th>Protocol</th>\n",
              "      <th>Timestamp</th>\n",
              "      <th>Flow Duration</th>\n",
              "      <th>Total Fwd Packets</th>\n",
              "      <th>Total Backward Packets</th>\n",
              "      <th>Total Length of Fwd Packets</th>\n",
              "      <th>Total Length of Bwd Packets</th>\n",
              "      <th>Fwd Packet Length Max</th>\n",
              "      <th>Fwd Packet Length Min</th>\n",
              "      <th>Fwd Packet Length Mean</th>\n",
              "      <th>Fwd Packet Length Std</th>\n",
              "      <th>Bwd Packet Length Max</th>\n",
              "      <th>Bwd Packet Length Min</th>\n",
              "      <th>Bwd Packet Length Mean</th>\n",
              "      <th>Bwd Packet Length Std</th>\n",
              "      <th>Flow Bytes/s</th>\n",
              "      <th>Flow Packets/s</th>\n",
              "      <th>Flow IAT Mean</th>\n",
              "      <th>Flow IAT Std</th>\n",
              "      <th>Flow IAT Max</th>\n",
              "      <th>Flow IAT Min</th>\n",
              "      <th>Fwd IAT Total</th>\n",
              "      <th>Fwd IAT Mean</th>\n",
              "      <th>Fwd IAT Std</th>\n",
              "      <th>Fwd IAT Max</th>\n",
              "      <th>Fwd IAT Min</th>\n",
              "      <th>Bwd IAT Total</th>\n",
              "      <th>Bwd IAT Mean</th>\n",
              "      <th>Bwd IAT Std</th>\n",
              "      <th>Bwd IAT Max</th>\n",
              "      <th>Bwd IAT Min</th>\n",
              "      <th>Fwd PSH Flags</th>\n",
              "      <th>Bwd PSH Flags</th>\n",
              "      <th>Fwd URG Flags</th>\n",
              "      <th>Bwd URG Flags</th>\n",
              "      <th>Fwd Header Length</th>\n",
              "      <th>...</th>\n",
              "      <th>Max Packet Length</th>\n",
              "      <th>Packet Length Mean</th>\n",
              "      <th>Packet Length Std</th>\n",
              "      <th>Packet Length Variance</th>\n",
              "      <th>FIN Flag Count</th>\n",
              "      <th>SYN Flag Count</th>\n",
              "      <th>RST Flag Count</th>\n",
              "      <th>PSH Flag Count</th>\n",
              "      <th>ACK Flag Count</th>\n",
              "      <th>URG Flag Count</th>\n",
              "      <th>CWE Flag Count</th>\n",
              "      <th>ECE Flag Count</th>\n",
              "      <th>Down/Up Ratio</th>\n",
              "      <th>Average Packet Size</th>\n",
              "      <th>Avg Fwd Segment Size</th>\n",
              "      <th>Avg Bwd Segment Size</th>\n",
              "      <th>Fwd Header Length.1</th>\n",
              "      <th>Fwd Avg Bytes/Bulk</th>\n",
              "      <th>Fwd Avg Packets/Bulk</th>\n",
              "      <th>Fwd Avg Bulk Rate</th>\n",
              "      <th>Bwd Avg Bytes/Bulk</th>\n",
              "      <th>Bwd Avg Packets/Bulk</th>\n",
              "      <th>Bwd Avg Bulk Rate</th>\n",
              "      <th>Subflow Fwd Packets</th>\n",
              "      <th>Subflow Fwd Bytes</th>\n",
              "      <th>Subflow Bwd Packets</th>\n",
              "      <th>Subflow Bwd Bytes</th>\n",
              "      <th>Init_Win_bytes_forward</th>\n",
              "      <th>Init_Win_bytes_backward</th>\n",
              "      <th>act_data_pkt_fwd</th>\n",
              "      <th>min_seg_size_forward</th>\n",
              "      <th>Active Mean</th>\n",
              "      <th>Active Std</th>\n",
              "      <th>Active Max</th>\n",
              "      <th>Active Min</th>\n",
              "      <th>Idle Mean</th>\n",
              "      <th>Idle Std</th>\n",
              "      <th>Idle Max</th>\n",
              "      <th>Idle Min</th>\n",
              "      <th>Label</th>\n",
              "    </tr>\n",
              "  </thead>\n",
              "  <tbody>\n",
              "    <tr>\n",
              "      <th>0</th>\n",
              "      <td>104.16.207.165</td>\n",
              "      <td>443.0</td>\n",
              "      <td>192.168.10.5</td>\n",
              "      <td>54865.0</td>\n",
              "      <td>6.0</td>\n",
              "      <td>7/7/2017 3:30</td>\n",
              "      <td>3.0</td>\n",
              "      <td>2.0</td>\n",
              "      <td>0.0</td>\n",
              "      <td>12.0</td>\n",
              "      <td>0.0</td>\n",
              "      <td>6.0</td>\n",
              "      <td>6.0</td>\n",
              "      <td>6.0</td>\n",
              "      <td>0.0</td>\n",
              "      <td>0.0</td>\n",
              "      <td>0.0</td>\n",
              "      <td>0.0</td>\n",
              "      <td>0.0</td>\n",
              "      <td>4.000000e+06</td>\n",
              "      <td>666666.66670</td>\n",
              "      <td>3.0</td>\n",
              "      <td>0.0</td>\n",
              "      <td>3.0</td>\n",
              "      <td>3.0</td>\n",
              "      <td>3.0</td>\n",
              "      <td>3.0</td>\n",
              "      <td>0.0</td>\n",
              "      <td>3.0</td>\n",
              "      <td>3.0</td>\n",
              "      <td>0.0</td>\n",
              "      <td>0.0</td>\n",
              "      <td>0.0</td>\n",
              "      <td>0.0</td>\n",
              "      <td>0.0</td>\n",
              "      <td>0.0</td>\n",
              "      <td>0.0</td>\n",
              "      <td>0.0</td>\n",
              "      <td>0.0</td>\n",
              "      <td>40.0</td>\n",
              "      <td>...</td>\n",
              "      <td>6.0</td>\n",
              "      <td>6.0</td>\n",
              "      <td>0.0</td>\n",
              "      <td>0.0</td>\n",
              "      <td>0.0</td>\n",
              "      <td>0.0</td>\n",
              "      <td>0.0</td>\n",
              "      <td>0.0</td>\n",
              "      <td>1.0</td>\n",
              "      <td>0.0</td>\n",
              "      <td>0.0</td>\n",
              "      <td>0.0</td>\n",
              "      <td>0.0</td>\n",
              "      <td>9.0</td>\n",
              "      <td>6.0</td>\n",
              "      <td>0.0</td>\n",
              "      <td>40.0</td>\n",
              "      <td>0.0</td>\n",
              "      <td>0.0</td>\n",
              "      <td>0.0</td>\n",
              "      <td>0.0</td>\n",
              "      <td>0.0</td>\n",
              "      <td>0.0</td>\n",
              "      <td>2.0</td>\n",
              "      <td>12.0</td>\n",
              "      <td>0.0</td>\n",
              "      <td>0.0</td>\n",
              "      <td>33.0</td>\n",
              "      <td>-1.0</td>\n",
              "      <td>1.0</td>\n",
              "      <td>20.0</td>\n",
              "      <td>0.0</td>\n",
              "      <td>0.0</td>\n",
              "      <td>0.0</td>\n",
              "      <td>0.0</td>\n",
              "      <td>0.0</td>\n",
              "      <td>0.0</td>\n",
              "      <td>0.0</td>\n",
              "      <td>0.0</td>\n",
              "      <td>BENIGN</td>\n",
              "    </tr>\n",
              "    <tr>\n",
              "      <th>1</th>\n",
              "      <td>104.16.28.216</td>\n",
              "      <td>80.0</td>\n",
              "      <td>192.168.10.5</td>\n",
              "      <td>55054.0</td>\n",
              "      <td>6.0</td>\n",
              "      <td>7/7/2017 3:30</td>\n",
              "      <td>109.0</td>\n",
              "      <td>1.0</td>\n",
              "      <td>1.0</td>\n",
              "      <td>6.0</td>\n",
              "      <td>6.0</td>\n",
              "      <td>6.0</td>\n",
              "      <td>6.0</td>\n",
              "      <td>6.0</td>\n",
              "      <td>0.0</td>\n",
              "      <td>6.0</td>\n",
              "      <td>6.0</td>\n",
              "      <td>6.0</td>\n",
              "      <td>0.0</td>\n",
              "      <td>1.100917e+05</td>\n",
              "      <td>18348.62385</td>\n",
              "      <td>109.0</td>\n",
              "      <td>0.0</td>\n",
              "      <td>109.0</td>\n",
              "      <td>109.0</td>\n",
              "      <td>0.0</td>\n",
              "      <td>0.0</td>\n",
              "      <td>0.0</td>\n",
              "      <td>0.0</td>\n",
              "      <td>0.0</td>\n",
              "      <td>0.0</td>\n",
              "      <td>0.0</td>\n",
              "      <td>0.0</td>\n",
              "      <td>0.0</td>\n",
              "      <td>0.0</td>\n",
              "      <td>0.0</td>\n",
              "      <td>0.0</td>\n",
              "      <td>0.0</td>\n",
              "      <td>0.0</td>\n",
              "      <td>20.0</td>\n",
              "      <td>...</td>\n",
              "      <td>6.0</td>\n",
              "      <td>6.0</td>\n",
              "      <td>0.0</td>\n",
              "      <td>0.0</td>\n",
              "      <td>0.0</td>\n",
              "      <td>0.0</td>\n",
              "      <td>0.0</td>\n",
              "      <td>0.0</td>\n",
              "      <td>1.0</td>\n",
              "      <td>1.0</td>\n",
              "      <td>0.0</td>\n",
              "      <td>0.0</td>\n",
              "      <td>1.0</td>\n",
              "      <td>9.0</td>\n",
              "      <td>6.0</td>\n",
              "      <td>6.0</td>\n",
              "      <td>20.0</td>\n",
              "      <td>0.0</td>\n",
              "      <td>0.0</td>\n",
              "      <td>0.0</td>\n",
              "      <td>0.0</td>\n",
              "      <td>0.0</td>\n",
              "      <td>0.0</td>\n",
              "      <td>1.0</td>\n",
              "      <td>6.0</td>\n",
              "      <td>1.0</td>\n",
              "      <td>6.0</td>\n",
              "      <td>29.0</td>\n",
              "      <td>256.0</td>\n",
              "      <td>0.0</td>\n",
              "      <td>20.0</td>\n",
              "      <td>0.0</td>\n",
              "      <td>0.0</td>\n",
              "      <td>0.0</td>\n",
              "      <td>0.0</td>\n",
              "      <td>0.0</td>\n",
              "      <td>0.0</td>\n",
              "      <td>0.0</td>\n",
              "      <td>0.0</td>\n",
              "      <td>BENIGN</td>\n",
              "    </tr>\n",
              "  </tbody>\n",
              "</table>\n",
              "<p>2 rows × 84 columns</p>\n",
              "</div>"
            ],
            "text/plain": [
              "        Source IP   Source Port  Destination IP  ...   Idle Max   Idle Min   Label\n",
              "0  104.16.207.165         443.0    192.168.10.5  ...        0.0        0.0  BENIGN\n",
              "1   104.16.28.216          80.0    192.168.10.5  ...        0.0        0.0  BENIGN\n",
              "\n",
              "[2 rows x 84 columns]"
            ]
          },
          "metadata": {
            "tags": []
          },
          "execution_count": 16
        }
      ]
    },
    {
      "cell_type": "markdown",
      "metadata": {
        "id": "1Mjb5FAwkEg7",
        "colab_type": "text"
      },
      "source": [
        "# Preprocessing"
      ]
    },
    {
      "cell_type": "code",
      "metadata": {
        "id": "qiZgimIHkI5-",
        "colab_type": "code",
        "colab": {}
      },
      "source": [
        "import socket,struct\n",
        "sourceip = df[' Source IP'].to_numpy()\n",
        "destinationip = df[' Destination IP'].to_numpy()\n",
        "sip = []\n",
        "dip = []\n",
        "for i in range(len(sourceip)):\n",
        "  sip.append(struct.unpack(\"!L\",socket.inet_aton(sourceip[i])))\n",
        "  dip.append(struct.unpack(\"!L\",socket.inet_aton(destinationip[i])))"
      ],
      "execution_count": null,
      "outputs": []
    },
    {
      "cell_type": "code",
      "metadata": {
        "id": "o5APalvekMs2",
        "colab_type": "code",
        "colab": {}
      },
      "source": [
        "sip = pd.DataFrame(sip)\n",
        "dip = pd.DataFrame(dip)"
      ],
      "execution_count": null,
      "outputs": []
    },
    {
      "cell_type": "code",
      "metadata": {
        "id": "3ax8cOiDkR56",
        "colab_type": "code",
        "colab": {}
      },
      "source": [
        "df[' Source IP'] = sip.astype('float64')\n",
        "df[' Destination IP'] = dip.astype('float64')"
      ],
      "execution_count": null,
      "outputs": []
    },
    {
      "cell_type": "code",
      "metadata": {
        "id": "QOdFBf7CkVcN",
        "colab_type": "code",
        "colab": {}
      },
      "source": [
        "df['Flow Bytes/s'].replace(np.nan,0.1, inplace=True)\n",
        "df['Flow Bytes/s']=df['Flow Bytes/s'].astype(\"float64\")"
      ],
      "execution_count": null,
      "outputs": []
    },
    {
      "cell_type": "code",
      "metadata": {
        "id": "SuSTdGiakY6Y",
        "colab_type": "code",
        "colab": {}
      },
      "source": [
        "df[' Flow Packets/s'].replace(np.nan,0.1, inplace=True)\n",
        "df[' Flow Packets/s']=df[' Flow Packets/s'].astype(\"float64\")"
      ],
      "execution_count": null,
      "outputs": []
    },
    {
      "cell_type": "code",
      "metadata": {
        "id": "MF5tN8Vjkb2N",
        "colab_type": "code",
        "colab": {
          "base_uri": "https://localhost:8080/",
          "height": 73
        },
        "outputId": "baa6b351-64a8-4e86-dfb9-cfef321d4906"
      },
      "source": [
        "from datetime import datetime\n",
        "df[' Timestamp'] = pd.to_datetime(df[' Timestamp'])\n",
        "df[' Timestamp'].replace(['-',' ',':'], '',inplace=True)\n",
        "df[' Timestamp']=df[' Timestamp'].values.astype('float64')\n",
        "df[' Timestamp'].head(2)"
      ],
      "execution_count": null,
      "outputs": [
        {
          "output_type": "execute_result",
          "data": {
            "text/plain": [
              "0    1.499398e+18\n",
              "1    1.499398e+18\n",
              "Name:  Timestamp, dtype: float64"
            ]
          },
          "metadata": {
            "tags": []
          },
          "execution_count": 22
        }
      ]
    },
    {
      "cell_type": "code",
      "metadata": {
        "id": "0OInHz3RkvtX",
        "colab_type": "code",
        "colab": {
          "base_uri": "https://localhost:8080/",
          "height": 111
        },
        "outputId": "81e7008c-61a9-481a-87d2-f00242caa367"
      },
      "source": [
        "df[' Label'].unique()"
      ],
      "execution_count": null,
      "outputs": [
        {
          "output_type": "execute_result",
          "data": {
            "text/plain": [
              "array(['BENIGN', 'DDoS', 'PortScan', 'Bot', 'Infiltration',\n",
              "       'Web Attack \\x96 Brute Force', 'Web Attack \\x96 XSS',\n",
              "       'Web Attack \\x96 Sql Injection', 'FTP-Patator', 'SSH-Patator',\n",
              "       'DoS slowloris', 'DoS Slowhttptest', 'DoS Hulk', 'DoS GoldenEye',\n",
              "       'Heartbleed'], dtype=object)"
            ]
          },
          "metadata": {
            "tags": []
          },
          "execution_count": 23
        }
      ]
    },
    {
      "cell_type": "code",
      "metadata": {
        "id": "oGbQRr3blPzF",
        "colab_type": "code",
        "colab": {
          "base_uri": "https://localhost:8080/",
          "height": 335
        },
        "outputId": "f7e52c14-715c-431d-c962-ad96b9342015"
      },
      "source": [
        "df.groupby(' Label').size()"
      ],
      "execution_count": null,
      "outputs": [
        {
          "output_type": "execute_result",
          "data": {
            "text/plain": [
              " Label\n",
              "BENIGN                        2273097\n",
              "Bot                              1966\n",
              "DDoS                           128027\n",
              "DoS GoldenEye                   10293\n",
              "DoS Hulk                       231073\n",
              "DoS Slowhttptest                 5499\n",
              "DoS slowloris                    5796\n",
              "FTP-Patator                      7938\n",
              "Heartbleed                         11\n",
              "Infiltration                       36\n",
              "PortScan                       158930\n",
              "SSH-Patator                      5897\n",
              "Web Attack  Brute Force         1507\n",
              "Web Attack  Sql Injection         21\n",
              "Web Attack  XSS                  652\n",
              "dtype: int64"
            ]
          },
          "metadata": {
            "tags": []
          },
          "execution_count": 24
        }
      ]
    },
    {
      "cell_type": "markdown",
      "metadata": {
        "id": "6xURNur3lbE0",
        "colab_type": "text"
      },
      "source": [
        "#Imbalance visulization Target Label With Multiclass"
      ]
    },
    {
      "cell_type": "code",
      "metadata": {
        "id": "lp3FM0DQldyz",
        "colab_type": "code",
        "colab": {
          "base_uri": "https://localhost:8080/",
          "height": 309
        },
        "outputId": "1c890b38-5344-43d1-effe-ae995361f450"
      },
      "source": [
        "sns.countplot(x=' Label',data=df)"
      ],
      "execution_count": null,
      "outputs": [
        {
          "output_type": "execute_result",
          "data": {
            "text/plain": [
              "<matplotlib.axes._subplots.AxesSubplot at 0x7f1789e45828>"
            ]
          },
          "metadata": {
            "tags": []
          },
          "execution_count": 25
        },
        {
          "output_type": "display_data",
          "data": {
            "image/png": "[encoded data removed]",
            "text/plain": [
              "<Figure size 432x288 with 1 Axes>"
            ]
          },
          "metadata": {
            "tags": [],
            "needs_background": "light"
          }
        }
      ]
    },
    {
      "cell_type": "markdown",
      "metadata": {
        "id": "l2bDKGYxli2w",
        "colab_type": "text"
      },
      "source": [
        "#Label based indexing Using loc"
      ]
    },
    {
      "cell_type": "code",
      "metadata": {
        "id": "wpEXhe4FlgJW",
        "colab_type": "code",
        "colab": {}
      },
      "source": [
        "df1 = df.loc[df[' Label'] == 'BENIGN'].iloc[:1000]\n",
        "df2 = df.loc[df[' Label'] == 'PortScan'].iloc[:1000]\n",
        "df3 = df.loc[df[' Label'] == 'Bot'].iloc[:1000]\n",
        "df4 = df.loc[df[' Label'] == 'Infiltration'].iloc[:1000]\n",
        "df5 = df.loc[df[' Label'] == 'Web Attack \\x96 Brute Force'].iloc[:1000]\n",
        "df6 = df.loc[df[' Label'] == 'Web Attack \\x96 XSS'].iloc[:1000]\n",
        "df7 = df.loc[df[' Label'] == 'Web Attack \\x96 Sql Injection'].iloc[:1000]\n",
        "df8 = df.loc[df[' Label'] == 'FTP-Patator'].iloc[:1000]\n",
        "df9 = df.loc[df[' Label'] == 'SSH-Patator'].iloc[:1000]\n",
        "df10 = df.loc[df[' Label'] == 'DoS slowloris'].iloc[:1000]\n",
        "df11 = df.loc[df[' Label'] == 'DoS Slowhttptest'].iloc[:1000]\n",
        "df12 = df.loc[df[' Label'] == 'DoS Hulk'].iloc[:1000]\n",
        "df13 = df.loc[df[' Label'] == 'DoS GoldenEye'].iloc[:1000]\n",
        "df14 = df.loc[df[' Label'] == 'Heartbleed'].iloc[:1000]\n",
        "df15 = df.loc[df[' Label'] == 'DDoS'].iloc[:1000]"
      ],
      "execution_count": null,
      "outputs": []
    },
    {
      "cell_type": "markdown",
      "metadata": {
        "id": "eif2KS64mdFT",
        "colab_type": "text"
      },
      "source": [
        "#Concatenate the Data"
      ]
    },
    {
      "cell_type": "code",
      "metadata": {
        "id": "vT-Y4xtFma5m",
        "colab_type": "code",
        "colab": {
          "base_uri": "https://localhost:8080/",
          "height": 111
        },
        "outputId": "a0389a9a-190c-49d8-b37a-2208cedcd0b7"
      },
      "source": [
        "df = pd.concat([df1,df2,df3,df4,df5,df6,df7,df8,df9,df10,df11,df12,df13,df14,df15])\n",
        "df1=df.copy()\n",
        "df[' Label'].unique()"
      ],
      "execution_count": null,
      "outputs": [
        {
          "output_type": "execute_result",
          "data": {
            "text/plain": [
              "array(['BENIGN', 'PortScan', 'Bot', 'Infiltration',\n",
              "       'Web Attack \\x96 Brute Force', 'Web Attack \\x96 XSS',\n",
              "       'Web Attack \\x96 Sql Injection', 'FTP-Patator', 'SSH-Patator',\n",
              "       'DoS slowloris', 'DoS Slowhttptest', 'DoS Hulk', 'DoS GoldenEye',\n",
              "       'Heartbleed', 'DDoS'], dtype=object)"
            ]
          },
          "metadata": {
            "tags": []
          },
          "execution_count": 27
        }
      ]
    },
    {
      "cell_type": "code",
      "metadata": {
        "id": "tDG9WbEeI11R",
        "colab_type": "code",
        "colab": {
          "base_uri": "https://localhost:8080/",
          "height": 36
        },
        "outputId": "620ebe26-e1a9-4d1e-8735-91872ef08513"
      },
      "source": [
        "df.shape"
      ],
      "execution_count": null,
      "outputs": [
        {
          "output_type": "execute_result",
          "data": {
            "text/plain": [
              "(11720, 84)"
            ]
          },
          "metadata": {
            "tags": []
          },
          "execution_count": 28
        }
      ]
    },
    {
      "cell_type": "markdown",
      "metadata": {
        "id": "k-YtHdArc8GC",
        "colab_type": "text"
      },
      "source": [
        "#Multi class Classification Probelom"
      ]
    },
    {
      "cell_type": "code",
      "metadata": {
        "id": "-G3zdlqxdR8z",
        "colab_type": "code",
        "colab": {}
      },
      "source": [
        "dict1 = {'BENIGN':0,'DDoS':1,'PortScan':2, 'Bot':3,'Infiltration':4,'Web Attack \\x96 Brute Force':5,'Web Attack \\x96 XSS':6,\n",
        "        'Web Attack \\x96 Sql Injection':7,'FTP-Patator':8,'SSH-Patator':9,'DoS slowloris':10,'DoS Slowhttptest':11,\n",
        "         'DoS Hulk':12,'DoS GoldenEye':13, 'Heartbleed':14}\n",
        "df.replace({' Label':dict1},inplace=True)"
      ],
      "execution_count": null,
      "outputs": []
    },
    {
      "cell_type": "code",
      "metadata": {
        "id": "0lf-5iq1jugN",
        "colab_type": "code",
        "colab": {
          "base_uri": "https://localhost:8080/",
          "height": 36
        },
        "outputId": "8824822b-9b0f-4724-a007-c31f610ab750"
      },
      "source": [
        "df[' Label'].unique()"
      ],
      "execution_count": null,
      "outputs": [
        {
          "output_type": "execute_result",
          "data": {
            "text/plain": [
              "array([ 0,  2,  3,  4,  5,  6,  7,  8,  9, 10, 11, 12, 13, 14,  1])"
            ]
          },
          "metadata": {
            "tags": []
          },
          "execution_count": 30
        }
      ]
    },
    {
      "cell_type": "markdown",
      "metadata": {
        "id": "DKer_WumeWnY",
        "colab_type": "text"
      },
      "source": [
        "#Binary class Classification Probelom"
      ]
    },
    {
      "cell_type": "code",
      "metadata": {
        "id": "FNEQdxg13cgw",
        "colab_type": "code",
        "colab": {
          "base_uri": "https://localhost:8080/",
          "height": 36
        },
        "outputId": "b9ced473-dfae-422f-c603-c2772bb97d6a"
      },
      "source": [
        "dic1 = {'BENIGN':0,'DDoS':1,'PortScan':1, 'Bot':1,'Infiltration':1,'Web Attack \\x96 Brute Force':1,'Web Attack \\x96 XSS':1,\n",
        "        'Web Attack \\x96 Sql Injection':1,'FTP-Patator':1,'SSH-Patator':1,'DoS slowloris':1,'DoS Slowhttptest':1,\n",
        "         'DoS Hulk':1,'DoS GoldenEye':1, 'Heartbleed':1}\n",
        "\n",
        "\n",
        "df1.replace({' Label':dic1},inplace=True)\n",
        "df1[' Label'].unique()"
      ],
      "execution_count": null,
      "outputs": [
        {
          "output_type": "execute_result",
          "data": {
            "text/plain": [
              "array([0, 1])"
            ]
          },
          "metadata": {
            "tags": []
          },
          "execution_count": 31
        }
      ]
    },
    {
      "cell_type": "code",
      "metadata": {
        "id": "ZjCMbnFsJHyG",
        "colab_type": "code",
        "colab": {
          "base_uri": "https://localhost:8080/",
          "height": 36
        },
        "outputId": "51306079-33fd-4377-ce62-0011c160879f"
      },
      "source": [
        "df1.shape"
      ],
      "execution_count": null,
      "outputs": [
        {
          "output_type": "execute_result",
          "data": {
            "text/plain": [
              "(11720, 84)"
            ]
          },
          "metadata": {
            "tags": []
          },
          "execution_count": 32
        }
      ]
    },
    {
      "cell_type": "markdown",
      "metadata": {
        "id": "nzDhFIuB4DJv",
        "colab_type": "text"
      },
      "source": [
        "#Imbalanced the Data Visuilization for Binary Class"
      ]
    },
    {
      "cell_type": "code",
      "metadata": {
        "id": "hVd6XFWrmjeP",
        "colab_type": "code",
        "colab": {
          "base_uri": "https://localhost:8080/",
          "height": 298
        },
        "outputId": "023732a0-4924-4b8b-938d-47a5d1f294cf"
      },
      "source": [
        "sns.countplot(x=' Label',data=df1)"
      ],
      "execution_count": null,
      "outputs": [
        {
          "output_type": "execute_result",
          "data": {
            "text/plain": [
              "<matplotlib.axes._subplots.AxesSubplot at 0x7f1789e436d8>"
            ]
          },
          "metadata": {
            "tags": []
          },
          "execution_count": 33
        },
        {
          "output_type": "display_data",
          "data": {
            "image/png": "[encoded data removed]",
            "text/plain": [
              "<Figure size 432x288 with 1 Axes>"
            ]
          },
          "metadata": {
            "tags": [],
            "needs_background": "light"
          }
        }
      ]
    },
    {
      "cell_type": "markdown",
      "metadata": {
        "id": "ijZRmItSkWWg",
        "colab_type": "text"
      },
      "source": [
        "#Imbalanced data visulization for Multiclass"
      ]
    },
    {
      "cell_type": "code",
      "metadata": {
        "id": "3WWVI2w7tzyi",
        "colab_type": "code",
        "colab": {
          "base_uri": "https://localhost:8080/",
          "height": 298
        },
        "outputId": "f1c2b8cb-3e7d-4f6f-aa49-ab7e6182701a"
      },
      "source": [
        "sns.countplot(x=' Label',data=df)"
      ],
      "execution_count": null,
      "outputs": [
        {
          "output_type": "execute_result",
          "data": {
            "text/plain": [
              "<matplotlib.axes._subplots.AxesSubplot at 0x7f1789d8b048>"
            ]
          },
          "metadata": {
            "tags": []
          },
          "execution_count": 34
        },
        {
          "output_type": "display_data",
          "data": {
            "image/png": "[encoded data removed]",
            "text/plain": [
              "<Figure size 432x288 with 1 Axes>"
            ]
          },
          "metadata": {
            "tags": [],
            "needs_background": "light"
          }
        }
      ]
    },
    {
      "cell_type": "code",
      "metadata": {
        "id": "t3GA5hERm8SU",
        "colab_type": "code",
        "colab": {}
      },
      "source": [
        "df.replace([np.inf,-np.inf,np.nan], 0.0, inplace=True)"
      ],
      "execution_count": null,
      "outputs": []
    },
    {
      "cell_type": "markdown",
      "metadata": {
        "id": "LLJtzVQCnSsg",
        "colab_type": "text"
      },
      "source": [
        "#Multiple Class Classification Probelom"
      ]
    },
    {
      "cell_type": "code",
      "metadata": {
        "id": "amfEKmpJnQQX",
        "colab_type": "code",
        "colab": {}
      },
      "source": [
        "real_x = df.iloc[:,:-1]\n",
        "real_y = df.iloc[:,-1]"
      ],
      "execution_count": null,
      "outputs": []
    },
    {
      "cell_type": "markdown",
      "metadata": {
        "id": "jn2S36j2ooqm",
        "colab_type": "text"
      },
      "source": [
        "#feature Scalling using Min Max Scaler"
      ]
    },
    {
      "cell_type": "code",
      "metadata": {
        "id": "W4uHySSeQg1G",
        "colab_type": "code",
        "colab": {}
      },
      "source": [
        "from sklearn.preprocessing import MinMaxScaler as Scaler\n",
        "scaler=Scaler()\n",
        "scaler.fit(real_x)\n",
        "ids_scaled=scaler.transform(real_x)"
      ],
      "execution_count": null,
      "outputs": []
    },
    {
      "cell_type": "code",
      "metadata": {
        "id": "TOffJjcr0H_w",
        "colab_type": "code",
        "colab": {}
      },
      "source": [
        "X_new=pd.DataFrame(data=ids_scaled)"
      ],
      "execution_count": null,
      "outputs": []
    },
    {
      "cell_type": "code",
      "metadata": {
        "id": "_0Oqwe7k0Qv_",
        "colab_type": "code",
        "colab": {
          "base_uri": "https://localhost:8080/",
          "height": 308
        },
        "outputId": "14d62198-009f-4cec-f88f-98d19dc59c79"
      },
      "source": [
        "X_new.columns=[' Source IP', ' Source Port', ' Destination IP',' Destination Port', ' Protocol', ' Timestamp', ' Flow Duration',' Total Fwd Packets',\n",
        "             ' Total Backward Packets','Total Length of Fwd Packets', ' Total Length of Bwd Packets',' Fwd Packet Length Max', ' Fwd Packet Length Min',\n",
        "             ' Fwd Packet Length Mean', ' Fwd Packet Length Std','Bwd Packet Length Max', ' Bwd Packet Length Min',' Bwd Packet Length Mean', \n",
        "             ' Bwd Packet Length Std', 'Flow Bytes/s',' Flow Packets/s', ' Flow IAT Mean', ' Flow IAT Std', ' Flow IAT Max',' Flow IAT Min', \n",
        "             'Fwd IAT Total', ' Fwd IAT Mean', ' Fwd IAT Std',' Fwd IAT Max', ' Fwd IAT Min', 'Bwd IAT Total', ' Bwd IAT Mean',' Bwd IAT Std', \n",
        "             ' Bwd IAT Max', ' Bwd IAT Min', 'Fwd PSH Flags',' Bwd PSH Flags', ' Fwd URG Flags', ' Bwd URG Flags',' Fwd Header Length', \n",
        "             ' Bwd Header Length', 'Fwd Packets/s',' Bwd Packets/s', ' Min Packet Length', ' Max Packet Length',' Packet Length Mean', \n",
        "             ' Packet Length Std', ' Packet Length Variance','FIN Flag Count', ' SYN Flag Count', ' RST Flag Count',' PSH Flag Count', ' ACK Flag Count', \n",
        "             ' URG Flag Count',' CWE Flag Count', ' ECE Flag Count', ' Down/Up Ratio',' Average Packet Size', ' Avg Fwd Segment Size',' Avg Bwd Segment Size', \n",
        "             ' Fwd Header Length.1', 'Fwd Avg Bytes/Bulk',' Fwd Avg Packets/Bulk', ' Fwd Avg Bulk Rate', ' Bwd Avg Bytes/Bulk',' Bwd Avg Packets/Bulk', \n",
        "             'Bwd Avg Bulk Rate', 'Subflow Fwd Packets',' Subflow Fwd Bytes', ' Subflow Bwd Packets', ' Subflow Bwd Bytes','Init_Win_bytes_forward', \n",
        "             ' Init_Win_bytes_backward',' act_data_pkt_fwd', ' min_seg_size_forward', 'Active Mean',' Active Std', ' Active Max', ' Active Min', 'Idle Mean', \n",
        "             ' Idle Std',' Idle Max', ' Idle Min']\n",
        "X_new.head()"
      ],
      "execution_count": null,
      "outputs": [
        {
          "output_type": "execute_result",
          "data": {
            "text/html": [
              "<div>\n",
              "<style scoped>\n",
              "    .dataframe tbody tr th:only-of-type {\n",
              "        vertical-align: middle;\n",
              "    }\n",
              "\n",
              "    .dataframe tbody tr th {\n",
              "        vertical-align: top;\n",
              "    }\n",
              "\n",
              "    .dataframe thead th {\n",
              "        text-align: right;\n",
              "    }\n",
              "</style>\n",
              "<table border=\"1\" class=\"dataframe\">\n",
              "  <thead>\n",
              "    <tr style=\"text-align: right;\">\n",
              "      <th></th>\n",
              "      <th>Source IP</th>\n",
              "      <th>Source Port</th>\n",
              "      <th>Destination IP</th>\n",
              "      <th>Destination Port</th>\n",
              "      <th>Protocol</th>\n",
              "      <th>Timestamp</th>\n",
              "      <th>Flow Duration</th>\n",
              "      <th>Total Fwd Packets</th>\n",
              "      <th>Total Backward Packets</th>\n",
              "      <th>Total Length of Fwd Packets</th>\n",
              "      <th>Total Length of Bwd Packets</th>\n",
              "      <th>Fwd Packet Length Max</th>\n",
              "      <th>Fwd Packet Length Min</th>\n",
              "      <th>Fwd Packet Length Mean</th>\n",
              "      <th>Fwd Packet Length Std</th>\n",
              "      <th>Bwd Packet Length Max</th>\n",
              "      <th>Bwd Packet Length Min</th>\n",
              "      <th>Bwd Packet Length Mean</th>\n",
              "      <th>Bwd Packet Length Std</th>\n",
              "      <th>Flow Bytes/s</th>\n",
              "      <th>Flow Packets/s</th>\n",
              "      <th>Flow IAT Mean</th>\n",
              "      <th>Flow IAT Std</th>\n",
              "      <th>Flow IAT Max</th>\n",
              "      <th>Flow IAT Min</th>\n",
              "      <th>Fwd IAT Total</th>\n",
              "      <th>Fwd IAT Mean</th>\n",
              "      <th>Fwd IAT Std</th>\n",
              "      <th>Fwd IAT Max</th>\n",
              "      <th>Fwd IAT Min</th>\n",
              "      <th>Bwd IAT Total</th>\n",
              "      <th>Bwd IAT Mean</th>\n",
              "      <th>Bwd IAT Std</th>\n",
              "      <th>Bwd IAT Max</th>\n",
              "      <th>Bwd IAT Min</th>\n",
              "      <th>Fwd PSH Flags</th>\n",
              "      <th>Bwd PSH Flags</th>\n",
              "      <th>Fwd URG Flags</th>\n",
              "      <th>Bwd URG Flags</th>\n",
              "      <th>Fwd Header Length</th>\n",
              "      <th>...</th>\n",
              "      <th>Min Packet Length</th>\n",
              "      <th>Max Packet Length</th>\n",
              "      <th>Packet Length Mean</th>\n",
              "      <th>Packet Length Std</th>\n",
              "      <th>Packet Length Variance</th>\n",
              "      <th>FIN Flag Count</th>\n",
              "      <th>SYN Flag Count</th>\n",
              "      <th>RST Flag Count</th>\n",
              "      <th>PSH Flag Count</th>\n",
              "      <th>ACK Flag Count</th>\n",
              "      <th>URG Flag Count</th>\n",
              "      <th>CWE Flag Count</th>\n",
              "      <th>ECE Flag Count</th>\n",
              "      <th>Down/Up Ratio</th>\n",
              "      <th>Average Packet Size</th>\n",
              "      <th>Avg Fwd Segment Size</th>\n",
              "      <th>Avg Bwd Segment Size</th>\n",
              "      <th>Fwd Header Length.1</th>\n",
              "      <th>Fwd Avg Bytes/Bulk</th>\n",
              "      <th>Fwd Avg Packets/Bulk</th>\n",
              "      <th>Fwd Avg Bulk Rate</th>\n",
              "      <th>Bwd Avg Bytes/Bulk</th>\n",
              "      <th>Bwd Avg Packets/Bulk</th>\n",
              "      <th>Bwd Avg Bulk Rate</th>\n",
              "      <th>Subflow Fwd Packets</th>\n",
              "      <th>Subflow Fwd Bytes</th>\n",
              "      <th>Subflow Bwd Packets</th>\n",
              "      <th>Subflow Bwd Bytes</th>\n",
              "      <th>Init_Win_bytes_forward</th>\n",
              "      <th>Init_Win_bytes_backward</th>\n",
              "      <th>act_data_pkt_fwd</th>\n",
              "      <th>min_seg_size_forward</th>\n",
              "      <th>Active Mean</th>\n",
              "      <th>Active Std</th>\n",
              "      <th>Active Max</th>\n",
              "      <th>Active Min</th>\n",
              "      <th>Idle Mean</th>\n",
              "      <th>Idle Std</th>\n",
              "      <th>Idle Max</th>\n",
              "      <th>Idle Min</th>\n",
              "    </tr>\n",
              "  </thead>\n",
              "  <tbody>\n",
              "    <tr>\n",
              "      <th>0</th>\n",
              "      <td>0.449941</td>\n",
              "      <td>0.006760</td>\n",
              "      <td>0.869272</td>\n",
              "      <td>0.842405</td>\n",
              "      <td>0.352941</td>\n",
              "      <td>0.996692</td>\n",
              "      <td>2.500100e-08</td>\n",
              "      <td>0.000181</td>\n",
              "      <td>0.000000</td>\n",
              "      <td>0.000004</td>\n",
              "      <td>0.000000e+00</td>\n",
              "      <td>0.000257</td>\n",
              "      <td>0.025974</td>\n",
              "      <td>0.00101</td>\n",
              "      <td>0.0</td>\n",
              "      <td>0.000000</td>\n",
              "      <td>0.000000</td>\n",
              "      <td>0.000000</td>\n",
              "      <td>0.0</td>\n",
              "      <td>0.006483</td>\n",
              "      <td>0.222222</td>\n",
              "      <td>9.009009e-08</td>\n",
              "      <td>0.0</td>\n",
              "      <td>2.586207e-08</td>\n",
              "      <td>3.125000e-07</td>\n",
              "      <td>2.500000e-08</td>\n",
              "      <td>3.000000e-08</td>\n",
              "      <td>0.0</td>\n",
              "      <td>2.586207e-08</td>\n",
              "      <td>3.000000e-08</td>\n",
              "      <td>0.0</td>\n",
              "      <td>0.0</td>\n",
              "      <td>0.0</td>\n",
              "      <td>0.0</td>\n",
              "      <td>0.0</td>\n",
              "      <td>0.0</td>\n",
              "      <td>0.0</td>\n",
              "      <td>0.0</td>\n",
              "      <td>0.0</td>\n",
              "      <td>0.000362</td>\n",
              "      <td>...</td>\n",
              "      <td>0.06383</td>\n",
              "      <td>0.000257</td>\n",
              "      <td>0.003338</td>\n",
              "      <td>0.0</td>\n",
              "      <td>0.0</td>\n",
              "      <td>0.0</td>\n",
              "      <td>0.0</td>\n",
              "      <td>0.0</td>\n",
              "      <td>0.0</td>\n",
              "      <td>1.0</td>\n",
              "      <td>0.0</td>\n",
              "      <td>0.0</td>\n",
              "      <td>0.0</td>\n",
              "      <td>0.000000</td>\n",
              "      <td>0.004644</td>\n",
              "      <td>0.00101</td>\n",
              "      <td>0.000000</td>\n",
              "      <td>0.000362</td>\n",
              "      <td>0.0</td>\n",
              "      <td>0.0</td>\n",
              "      <td>0.0</td>\n",
              "      <td>0.0</td>\n",
              "      <td>0.0</td>\n",
              "      <td>0.0</td>\n",
              "      <td>0.000181</td>\n",
              "      <td>0.000004</td>\n",
              "      <td>0.000000</td>\n",
              "      <td>0.000000e+00</td>\n",
              "      <td>0.000519</td>\n",
              "      <td>0.000000</td>\n",
              "      <td>0.000181</td>\n",
              "      <td>0.5</td>\n",
              "      <td>0.0</td>\n",
              "      <td>0.0</td>\n",
              "      <td>0.0</td>\n",
              "      <td>0.0</td>\n",
              "      <td>0.0</td>\n",
              "      <td>0.0</td>\n",
              "      <td>0.0</td>\n",
              "      <td>0.0</td>\n",
              "    </tr>\n",
              "    <tr>\n",
              "      <th>1</th>\n",
              "      <td>0.449928</td>\n",
              "      <td>0.001221</td>\n",
              "      <td>0.869272</td>\n",
              "      <td>0.845307</td>\n",
              "      <td>0.352941</td>\n",
              "      <td>0.996692</td>\n",
              "      <td>9.083698e-07</td>\n",
              "      <td>0.000000</td>\n",
              "      <td>0.000181</td>\n",
              "      <td>0.000002</td>\n",
              "      <td>7.611864e-07</td>\n",
              "      <td>0.000257</td>\n",
              "      <td>0.025974</td>\n",
              "      <td>0.00101</td>\n",
              "      <td>0.0</td>\n",
              "      <td>0.000345</td>\n",
              "      <td>0.016854</td>\n",
              "      <td>0.001373</td>\n",
              "      <td>0.0</td>\n",
              "      <td>0.000178</td>\n",
              "      <td>0.006116</td>\n",
              "      <td>3.273273e-06</td>\n",
              "      <td>0.0</td>\n",
              "      <td>9.396552e-07</td>\n",
              "      <td>8.593749e-06</td>\n",
              "      <td>0.000000e+00</td>\n",
              "      <td>0.000000e+00</td>\n",
              "      <td>0.0</td>\n",
              "      <td>0.000000e+00</td>\n",
              "      <td>0.000000e+00</td>\n",
              "      <td>0.0</td>\n",
              "      <td>0.0</td>\n",
              "      <td>0.0</td>\n",
              "      <td>0.0</td>\n",
              "      <td>0.0</td>\n",
              "      <td>0.0</td>\n",
              "      <td>0.0</td>\n",
              "      <td>0.0</td>\n",
              "      <td>0.0</td>\n",
              "      <td>0.000181</td>\n",
              "      <td>...</td>\n",
              "      <td>0.06383</td>\n",
              "      <td>0.000257</td>\n",
              "      <td>0.003338</td>\n",
              "      <td>0.0</td>\n",
              "      <td>0.0</td>\n",
              "      <td>0.0</td>\n",
              "      <td>0.0</td>\n",
              "      <td>0.0</td>\n",
              "      <td>0.0</td>\n",
              "      <td>1.0</td>\n",
              "      <td>1.0</td>\n",
              "      <td>0.0</td>\n",
              "      <td>0.0</td>\n",
              "      <td>0.333333</td>\n",
              "      <td>0.004644</td>\n",
              "      <td>0.00101</td>\n",
              "      <td>0.001373</td>\n",
              "      <td>0.000181</td>\n",
              "      <td>0.0</td>\n",
              "      <td>0.0</td>\n",
              "      <td>0.0</td>\n",
              "      <td>0.0</td>\n",
              "      <td>0.0</td>\n",
              "      <td>0.0</td>\n",
              "      <td>0.000000</td>\n",
              "      <td>0.000002</td>\n",
              "      <td>0.000181</td>\n",
              "      <td>7.611864e-07</td>\n",
              "      <td>0.000458</td>\n",
              "      <td>0.003922</td>\n",
              "      <td>0.000000</td>\n",
              "      <td>0.5</td>\n",
              "      <td>0.0</td>\n",
              "      <td>0.0</td>\n",
              "      <td>0.0</td>\n",
              "      <td>0.0</td>\n",
              "      <td>0.0</td>\n",
              "      <td>0.0</td>\n",
              "      <td>0.0</td>\n",
              "      <td>0.0</td>\n",
              "    </tr>\n",
              "    <tr>\n",
              "      <th>2</th>\n",
              "      <td>0.449928</td>\n",
              "      <td>0.001221</td>\n",
              "      <td>0.869272</td>\n",
              "      <td>0.845322</td>\n",
              "      <td>0.352941</td>\n",
              "      <td>0.996692</td>\n",
              "      <td>4.333507e-07</td>\n",
              "      <td>0.000000</td>\n",
              "      <td>0.000181</td>\n",
              "      <td>0.000002</td>\n",
              "      <td>7.611864e-07</td>\n",
              "      <td>0.000257</td>\n",
              "      <td>0.025974</td>\n",
              "      <td>0.00101</td>\n",
              "      <td>0.0</td>\n",
              "      <td>0.000345</td>\n",
              "      <td>0.016854</td>\n",
              "      <td>0.001373</td>\n",
              "      <td>0.0</td>\n",
              "      <td>0.000374</td>\n",
              "      <td>0.012821</td>\n",
              "      <td>1.561562e-06</td>\n",
              "      <td>0.0</td>\n",
              "      <td>4.482759e-07</td>\n",
              "      <td>4.140625e-06</td>\n",
              "      <td>0.000000e+00</td>\n",
              "      <td>0.000000e+00</td>\n",
              "      <td>0.0</td>\n",
              "      <td>0.000000e+00</td>\n",
              "      <td>0.000000e+00</td>\n",
              "      <td>0.0</td>\n",
              "      <td>0.0</td>\n",
              "      <td>0.0</td>\n",
              "      <td>0.0</td>\n",
              "      <td>0.0</td>\n",
              "      <td>0.0</td>\n",
              "      <td>0.0</td>\n",
              "      <td>0.0</td>\n",
              "      <td>0.0</td>\n",
              "      <td>0.000181</td>\n",
              "      <td>...</td>\n",
              "      <td>0.06383</td>\n",
              "      <td>0.000257</td>\n",
              "      <td>0.003338</td>\n",
              "      <td>0.0</td>\n",
              "      <td>0.0</td>\n",
              "      <td>0.0</td>\n",
              "      <td>0.0</td>\n",
              "      <td>0.0</td>\n",
              "      <td>0.0</td>\n",
              "      <td>1.0</td>\n",
              "      <td>1.0</td>\n",
              "      <td>0.0</td>\n",
              "      <td>0.0</td>\n",
              "      <td>0.333333</td>\n",
              "      <td>0.004644</td>\n",
              "      <td>0.00101</td>\n",
              "      <td>0.001373</td>\n",
              "      <td>0.000181</td>\n",
              "      <td>0.0</td>\n",
              "      <td>0.0</td>\n",
              "      <td>0.0</td>\n",
              "      <td>0.0</td>\n",
              "      <td>0.0</td>\n",
              "      <td>0.0</td>\n",
              "      <td>0.000000</td>\n",
              "      <td>0.000002</td>\n",
              "      <td>0.000181</td>\n",
              "      <td>7.611864e-07</td>\n",
              "      <td>0.000458</td>\n",
              "      <td>0.003922</td>\n",
              "      <td>0.000000</td>\n",
              "      <td>0.5</td>\n",
              "      <td>0.0</td>\n",
              "      <td>0.0</td>\n",
              "      <td>0.0</td>\n",
              "      <td>0.0</td>\n",
              "      <td>0.0</td>\n",
              "      <td>0.0</td>\n",
              "      <td>0.0</td>\n",
              "      <td>0.0</td>\n",
              "    </tr>\n",
              "    <tr>\n",
              "      <th>3</th>\n",
              "      <td>0.449962</td>\n",
              "      <td>0.006760</td>\n",
              "      <td>0.869272</td>\n",
              "      <td>0.709914</td>\n",
              "      <td>0.352941</td>\n",
              "      <td>0.996692</td>\n",
              "      <td>2.833447e-07</td>\n",
              "      <td>0.000000</td>\n",
              "      <td>0.000181</td>\n",
              "      <td>0.000002</td>\n",
              "      <td>7.611864e-07</td>\n",
              "      <td>0.000257</td>\n",
              "      <td>0.025974</td>\n",
              "      <td>0.00101</td>\n",
              "      <td>0.0</td>\n",
              "      <td>0.000345</td>\n",
              "      <td>0.016854</td>\n",
              "      <td>0.001373</td>\n",
              "      <td>0.0</td>\n",
              "      <td>0.000572</td>\n",
              "      <td>0.019608</td>\n",
              "      <td>1.021021e-06</td>\n",
              "      <td>0.0</td>\n",
              "      <td>2.931034e-07</td>\n",
              "      <td>2.734375e-06</td>\n",
              "      <td>0.000000e+00</td>\n",
              "      <td>0.000000e+00</td>\n",
              "      <td>0.0</td>\n",
              "      <td>0.000000e+00</td>\n",
              "      <td>0.000000e+00</td>\n",
              "      <td>0.0</td>\n",
              "      <td>0.0</td>\n",
              "      <td>0.0</td>\n",
              "      <td>0.0</td>\n",
              "      <td>0.0</td>\n",
              "      <td>0.0</td>\n",
              "      <td>0.0</td>\n",
              "      <td>0.0</td>\n",
              "      <td>0.0</td>\n",
              "      <td>0.000181</td>\n",
              "      <td>...</td>\n",
              "      <td>0.06383</td>\n",
              "      <td>0.000257</td>\n",
              "      <td>0.003338</td>\n",
              "      <td>0.0</td>\n",
              "      <td>0.0</td>\n",
              "      <td>0.0</td>\n",
              "      <td>0.0</td>\n",
              "      <td>0.0</td>\n",
              "      <td>0.0</td>\n",
              "      <td>1.0</td>\n",
              "      <td>1.0</td>\n",
              "      <td>0.0</td>\n",
              "      <td>0.0</td>\n",
              "      <td>0.333333</td>\n",
              "      <td>0.004644</td>\n",
              "      <td>0.00101</td>\n",
              "      <td>0.001373</td>\n",
              "      <td>0.000181</td>\n",
              "      <td>0.0</td>\n",
              "      <td>0.0</td>\n",
              "      <td>0.0</td>\n",
              "      <td>0.0</td>\n",
              "      <td>0.0</td>\n",
              "      <td>0.0</td>\n",
              "      <td>0.000000</td>\n",
              "      <td>0.000002</td>\n",
              "      <td>0.000181</td>\n",
              "      <td>7.611864e-07</td>\n",
              "      <td>0.000488</td>\n",
              "      <td>0.005035</td>\n",
              "      <td>0.000000</td>\n",
              "      <td>0.5</td>\n",
              "      <td>0.0</td>\n",
              "      <td>0.0</td>\n",
              "      <td>0.0</td>\n",
              "      <td>0.0</td>\n",
              "      <td>0.0</td>\n",
              "      <td>0.0</td>\n",
              "      <td>0.0</td>\n",
              "      <td>0.0</td>\n",
              "    </tr>\n",
              "    <tr>\n",
              "      <th>4</th>\n",
              "      <td>0.449995</td>\n",
              "      <td>0.006760</td>\n",
              "      <td>0.869272</td>\n",
              "      <td>0.842374</td>\n",
              "      <td>0.352941</td>\n",
              "      <td>0.996692</td>\n",
              "      <td>2.500100e-08</td>\n",
              "      <td>0.000181</td>\n",
              "      <td>0.000000</td>\n",
              "      <td>0.000004</td>\n",
              "      <td>0.000000e+00</td>\n",
              "      <td>0.000257</td>\n",
              "      <td>0.025974</td>\n",
              "      <td>0.00101</td>\n",
              "      <td>0.0</td>\n",
              "      <td>0.000000</td>\n",
              "      <td>0.000000</td>\n",
              "      <td>0.000000</td>\n",
              "      <td>0.0</td>\n",
              "      <td>0.006483</td>\n",
              "      <td>0.222222</td>\n",
              "      <td>9.009009e-08</td>\n",
              "      <td>0.0</td>\n",
              "      <td>2.586207e-08</td>\n",
              "      <td>3.125000e-07</td>\n",
              "      <td>2.500000e-08</td>\n",
              "      <td>3.000000e-08</td>\n",
              "      <td>0.0</td>\n",
              "      <td>2.586207e-08</td>\n",
              "      <td>3.000000e-08</td>\n",
              "      <td>0.0</td>\n",
              "      <td>0.0</td>\n",
              "      <td>0.0</td>\n",
              "      <td>0.0</td>\n",
              "      <td>0.0</td>\n",
              "      <td>0.0</td>\n",
              "      <td>0.0</td>\n",
              "      <td>0.0</td>\n",
              "      <td>0.0</td>\n",
              "      <td>0.000362</td>\n",
              "      <td>...</td>\n",
              "      <td>0.06383</td>\n",
              "      <td>0.000257</td>\n",
              "      <td>0.003338</td>\n",
              "      <td>0.0</td>\n",
              "      <td>0.0</td>\n",
              "      <td>0.0</td>\n",
              "      <td>0.0</td>\n",
              "      <td>0.0</td>\n",
              "      <td>0.0</td>\n",
              "      <td>1.0</td>\n",
              "      <td>0.0</td>\n",
              "      <td>0.0</td>\n",
              "      <td>0.0</td>\n",
              "      <td>0.000000</td>\n",
              "      <td>0.004644</td>\n",
              "      <td>0.00101</td>\n",
              "      <td>0.000000</td>\n",
              "      <td>0.000362</td>\n",
              "      <td>0.0</td>\n",
              "      <td>0.0</td>\n",
              "      <td>0.0</td>\n",
              "      <td>0.0</td>\n",
              "      <td>0.0</td>\n",
              "      <td>0.0</td>\n",
              "      <td>0.000181</td>\n",
              "      <td>0.000004</td>\n",
              "      <td>0.000000</td>\n",
              "      <td>0.000000e+00</td>\n",
              "      <td>0.000504</td>\n",
              "      <td>0.000000</td>\n",
              "      <td>0.000181</td>\n",
              "      <td>0.5</td>\n",
              "      <td>0.0</td>\n",
              "      <td>0.0</td>\n",
              "      <td>0.0</td>\n",
              "      <td>0.0</td>\n",
              "      <td>0.0</td>\n",
              "      <td>0.0</td>\n",
              "      <td>0.0</td>\n",
              "      <td>0.0</td>\n",
              "    </tr>\n",
              "  </tbody>\n",
              "</table>\n",
              "<p>5 rows × 83 columns</p>\n",
              "</div>"
            ],
            "text/plain": [
              "    Source IP   Source Port   Destination IP  ...   Idle Std   Idle Max   Idle Min\n",
              "0    0.449941      0.006760         0.869272  ...        0.0        0.0        0.0\n",
              "1    0.449928      0.001221         0.869272  ...        0.0        0.0        0.0\n",
              "2    0.449928      0.001221         0.869272  ...        0.0        0.0        0.0\n",
              "3    0.449962      0.006760         0.869272  ...        0.0        0.0        0.0\n",
              "4    0.449995      0.006760         0.869272  ...        0.0        0.0        0.0\n",
              "\n",
              "[5 rows x 83 columns]"
            ]
          },
          "metadata": {
            "tags": []
          },
          "execution_count": 34
        }
      ]
    },
    {
      "cell_type": "markdown",
      "metadata": {
        "id": "m0iIyE_N19nS",
        "colab_type": "text"
      },
      "source": [
        "#Feature Selection Using Univarent"
      ]
    },
    {
      "cell_type": "code",
      "metadata": {
        "id": "zvJy0SRoQ3CE",
        "colab_type": "code",
        "colab": {}
      },
      "source": [
        "from sklearn.feature_selection import SelectKBest\n",
        "from sklearn.feature_selection import chi2\n",
        "X_update=SelectKBest(score_func=chi2,k=60).fit_transform(X_new,real_y)"
      ],
      "execution_count": null,
      "outputs": []
    },
    {
      "cell_type": "markdown",
      "metadata": {
        "id": "av9ULlfM2GRS",
        "colab_type": "text"
      },
      "source": [
        "#Feature Importance"
      ]
    },
    {
      "cell_type": "code",
      "metadata": {
        "id": "mIPx8Ow90zUZ",
        "colab_type": "code",
        "colab": {
          "base_uri": "https://localhost:8080/",
          "height": 410
        },
        "outputId": "386d5889-5f2e-4723-f6d7-d05d6fbe5f37"
      },
      "source": [
        "from sklearn.ensemble import ExtraTreesClassifier\n",
        "model = ExtraTreesClassifier()\n",
        "model.fit(real_x,real_y)\n",
        "print(model.feature_importances_)"
      ],
      "execution_count": null,
      "outputs": [
        {
          "output_type": "stream",
          "text": [
            "[1.57930786e-02 4.76699648e-02 2.22977112e-03 2.70109686e-02\n",
            " 1.00540622e-02 1.47740904e-01 1.60397994e-02 6.90724469e-03\n",
            " 7.54049222e-03 7.18596732e-03 6.21065625e-03 1.15653952e-02\n",
            " 1.24888265e-02 8.06775958e-03 8.74989283e-03 2.09853473e-02\n",
            " 1.03592262e-02 1.68044158e-02 1.39506688e-02 1.64784116e-03\n",
            " 6.06108396e-03 1.44698406e-02 1.77076696e-02 1.36261520e-02\n",
            " 8.34090022e-03 1.59966748e-02 1.37600473e-02 2.01550615e-02\n",
            " 1.50073254e-02 7.60162704e-03 5.66343798e-03 8.64030730e-03\n",
            " 1.04244355e-02 8.16811670e-03 1.13510054e-03 1.24820803e-02\n",
            " 0.00000000e+00 0.00000000e+00 0.00000000e+00 5.97037597e-03\n",
            " 1.18494789e-02 5.23717184e-03 7.98490597e-03 1.64242320e-02\n",
            " 1.15115391e-02 1.87497284e-02 1.33657091e-02 8.26391291e-03\n",
            " 1.08357989e-04 1.24331728e-02 0.00000000e+00 2.30355121e-02\n",
            " 1.78986418e-02 1.70120628e-02 0.00000000e+00 0.00000000e+00\n",
            " 1.99890667e-02 2.09005553e-02 6.15128490e-03 1.85375835e-02\n",
            " 7.82179230e-03 0.00000000e+00 0.00000000e+00 0.00000000e+00\n",
            " 0.00000000e+00 0.00000000e+00 0.00000000e+00 7.55988883e-03\n",
            " 7.02245137e-03 7.73813729e-03 6.54415553e-03 2.86826515e-02\n",
            " 2.49230823e-02 5.75472395e-03 4.44177445e-02 7.09684981e-03\n",
            " 3.02397360e-04 3.06149899e-03 7.13538690e-03 7.09893529e-03\n",
            " 4.12592490e-03 1.11809845e-02 5.86795917e-03]\n"
          ],
          "name": "stdout"
        }
      ]
    },
    {
      "cell_type": "code",
      "metadata": {
        "id": "3Xwz5dbs0zxi",
        "colab_type": "code",
        "colab": {
          "base_uri": "https://localhost:8080/",
          "height": 265
        },
        "outputId": "5f2f08d9-0377-4709-e24b-a12cb17fad3e"
      },
      "source": [
        "feat_importances = pd.Series(model.feature_importances_, index=real_x.columns)\n",
        "feat_importances.nlargest(20).plot(kind='barh')\n",
        "plt.show()"
      ],
      "execution_count": null,
      "outputs": [
        {
          "output_type": "display_data",
          "data": {
            "image/png": "[encoded data removed]",
            "text/plain": [
              "<Figure size 432x288 with 1 Axes>"
            ]
          },
          "metadata": {
            "tags": [],
            "needs_background": "light"
          }
        }
      ]
    },
    {
      "cell_type": "code",
      "metadata": {
        "id": "C3iOSnZYVcBB",
        "colab_type": "code",
        "colab": {}
      },
      "source": [
        "# corr = df.corr()\n",
        "# corr"
      ],
      "execution_count": null,
      "outputs": []
    },
    {
      "cell_type": "code",
      "metadata": {
        "id": "fLJYIeDLVn8M",
        "colab_type": "code",
        "colab": {}
      },
      "source": [
        "# %matplotlib inline\n",
        "# import seaborn as sns#Seaborn is a Python data visualization library based on matplotlib. \n",
        "# #It provides a high-level interface for drawing attractive and informative statistical graphics.\n",
        "# sns.heatmap(corr, annot = True)"
      ],
      "execution_count": null,
      "outputs": []
    },
    {
      "cell_type": "markdown",
      "metadata": {
        "id": "eudHK4_91151",
        "colab_type": "text"
      },
      "source": [
        "#Correlation Matrix with HeatMap"
      ]
    },
    {
      "cell_type": "code",
      "metadata": {
        "id": "sZBw8OD60zqT",
        "colab_type": "code",
        "colab": {}
      },
      "source": [
        "corr = df.corr()\n",
        "top_corr_features = corr.index\n",
        "plt.figure(figsize=(20,20))\n",
        "g=sns.heatmap(df[top_corr_features].corr(),annot=True,cmap='gist_heat')"
      ],
      "execution_count": null,
      "outputs": []
    },
    {
      "cell_type": "code",
      "metadata": {
        "id": "aIsMR5OsaHO8",
        "colab_type": "code",
        "colab": {
          "base_uri": "https://localhost:8080/",
          "height": 36
        },
        "outputId": "049dc12b-585f-495e-8287-b8c3f7986292"
      },
      "source": [
        "plt.savefig('cmp.png')"
      ],
      "execution_count": null,
      "outputs": [
        {
          "output_type": "display_data",
          "data": {
            "text/plain": [
              "<Figure size 432x288 with 0 Axes>"
            ]
          },
          "metadata": {
            "tags": []
          }
        }
      ]
    },
    {
      "cell_type": "markdown",
      "metadata": {
        "id": "q62UfAwSnmv3",
        "colab_type": "text"
      },
      "source": [
        "#Oversampling with Balanced the data set using Random Over sampling"
      ]
    },
    {
      "cell_type": "code",
      "metadata": {
        "id": "Ov-3egFBnlRJ",
        "colab_type": "code",
        "colab": {}
      },
      "source": [
        "from imblearn.over_sampling import RandomOverSampler\n",
        "oversample = RandomOverSampler()\n",
        "X_over, y_over = oversample.fit_sample(X_update, real_y)"
      ],
      "execution_count": null,
      "outputs": []
    },
    {
      "cell_type": "code",
      "metadata": {
        "id": "_pR1uGitvam4",
        "colab_type": "code",
        "colab": {}
      },
      "source": [
        "df2 = pd.DataFrame(y_over)\n",
        "df2.columns=[' Label']"
      ],
      "execution_count": null,
      "outputs": []
    },
    {
      "cell_type": "markdown",
      "metadata": {
        "id": "06UYJNs6n7Ue",
        "colab_type": "text"
      },
      "source": [
        "#Balanced the Data set"
      ]
    },
    {
      "cell_type": "code",
      "metadata": {
        "id": "pZ8mlHJZn48O",
        "colab_type": "code",
        "colab": {
          "base_uri": "https://localhost:8080/",
          "height": 317
        },
        "outputId": "9a3ab38e-b270-455d-bce9-923dc712e960"
      },
      "source": [
        "df2[' Label'].value_counts() "
      ],
      "execution_count": null,
      "outputs": [
        {
          "output_type": "execute_result",
          "data": {
            "text/plain": [
              "7     1000\n",
              "14    1000\n",
              "6     1000\n",
              "13    1000\n",
              "5     1000\n",
              "12    1000\n",
              "4     1000\n",
              "11    1000\n",
              "3     1000\n",
              "10    1000\n",
              "2     1000\n",
              "9     1000\n",
              "1     1000\n",
              "8     1000\n",
              "0     1000\n",
              "Name:  Label, dtype: int64"
            ]
          },
          "metadata": {
            "tags": []
          },
          "execution_count": 41
        }
      ]
    },
    {
      "cell_type": "code",
      "metadata": {
        "id": "t3k1pblUJab1",
        "colab_type": "code",
        "colab": {
          "base_uri": "https://localhost:8080/",
          "height": 36
        },
        "outputId": "e4a986a3-cbbb-4949-8de8-8f29c91278a2"
      },
      "source": [
        "df2.shape"
      ],
      "execution_count": null,
      "outputs": [
        {
          "output_type": "execute_result",
          "data": {
            "text/plain": [
              "(15000, 1)"
            ]
          },
          "metadata": {
            "tags": []
          },
          "execution_count": 42
        }
      ]
    },
    {
      "cell_type": "markdown",
      "metadata": {
        "id": "rcO0b7-toDQT",
        "colab_type": "text"
      },
      "source": [
        "#Visulization with Target Multiclass"
      ]
    },
    {
      "cell_type": "code",
      "metadata": {
        "id": "dUawRwNLoApW",
        "colab_type": "code",
        "colab": {
          "base_uri": "https://localhost:8080/",
          "height": 298
        },
        "outputId": "911e7f77-be38-4d4c-95b1-34cdd7962daa"
      },
      "source": [
        "sns.countplot(x=' Label',data=df2)"
      ],
      "execution_count": null,
      "outputs": [
        {
          "output_type": "execute_result",
          "data": {
            "text/plain": [
              "<matplotlib.axes._subplots.AxesSubplot at 0x7fc355e6ddd8>"
            ]
          },
          "metadata": {
            "tags": []
          },
          "execution_count": 43
        },
        {
          "output_type": "display_data",
          "data": {
            "image/png": "[encoded data removed]",
            "text/plain": [
              "<Figure size 432x288 with 1 Axes>"
            ]
          },
          "metadata": {
            "tags": [],
            "needs_background": "light"
          }
        }
      ]
    },
    {
      "cell_type": "markdown",
      "metadata": {
        "id": "ysCq-8OaoWMw",
        "colab_type": "text"
      },
      "source": [
        "#Spliting the Data set using train test"
      ]
    },
    {
      "cell_type": "code",
      "metadata": {
        "id": "VZFPQzkJoLGv",
        "colab_type": "code",
        "colab": {}
      },
      "source": [
        "from sklearn.model_selection import train_test_split"
      ],
      "execution_count": null,
      "outputs": []
    },
    {
      "cell_type": "code",
      "metadata": {
        "id": "e1aOzGE2b3Fk",
        "colab_type": "code",
        "colab": {}
      },
      "source": [
        "training_x, test_x, training_y, test_y = train_test_split(X_over, y_over, test_size=0.3, random_state=0)"
      ],
      "execution_count": null,
      "outputs": []
    },
    {
      "cell_type": "code",
      "metadata": {
        "id": "YK2r3LJUGNuy",
        "colab_type": "code",
        "colab": {
          "base_uri": "https://localhost:8080/",
          "height": 36
        },
        "outputId": "4a09a837-fed6-485b-bbbb-090c35f20d55"
      },
      "source": [
        "training_x.shape"
      ],
      "execution_count": null,
      "outputs": [
        {
          "output_type": "execute_result",
          "data": {
            "text/plain": [
              "(10500, 60)"
            ]
          },
          "metadata": {
            "tags": []
          },
          "execution_count": 47
        }
      ]
    },
    {
      "cell_type": "code",
      "metadata": {
        "id": "dy2JbfWiGMWO",
        "colab_type": "code",
        "colab": {
          "base_uri": "https://localhost:8080/",
          "height": 36
        },
        "outputId": "a204d642-cfcd-4c3e-9d26-ff9f5809fef7"
      },
      "source": [
        "test_x.shape"
      ],
      "execution_count": null,
      "outputs": [
        {
          "output_type": "execute_result",
          "data": {
            "text/plain": [
              "(4500, 60)"
            ]
          },
          "metadata": {
            "tags": []
          },
          "execution_count": 48
        }
      ]
    },
    {
      "cell_type": "code",
      "metadata": {
        "id": "hjeQ6SKNG9rx",
        "colab_type": "code",
        "colab": {
          "base_uri": "https://localhost:8080/",
          "height": 36
        },
        "outputId": "f5264e0e-286d-4a24-a12d-47d91e3fe197"
      },
      "source": [
        "training_y.shape"
      ],
      "execution_count": null,
      "outputs": [
        {
          "output_type": "execute_result",
          "data": {
            "text/plain": [
              "(10500,)"
            ]
          },
          "metadata": {
            "tags": []
          },
          "execution_count": 51
        }
      ]
    },
    {
      "cell_type": "code",
      "metadata": {
        "id": "-eirmPBvHBci",
        "colab_type": "code",
        "colab": {}
      },
      "source": [
        ""
      ],
      "execution_count": null,
      "outputs": []
    },
    {
      "cell_type": "markdown",
      "metadata": {
        "id": "uKdZlYHi3kBW",
        "colab_type": "text"
      },
      "source": [
        "#Hyper Parameter tuning With RandomizedSearchCV"
      ]
    },
    {
      "cell_type": "markdown",
      "metadata": {
        "id": "STB6Z9CW73Cl",
        "colab_type": "text"
      },
      "source": [
        "#Random Forest Classifier"
      ]
    },
    {
      "cell_type": "code",
      "metadata": {
        "id": "PPtM99k2Ue94",
        "colab_type": "code",
        "colab": {}
      },
      "source": [
        "from sklearn.ensemble import RandomForestClassifier\n",
        "from sklearn.model_selection import RandomizedSearchCV"
      ],
      "execution_count": null,
      "outputs": []
    },
    {
      "cell_type": "code",
      "metadata": {
        "id": "rGEUYMsoU3_r",
        "colab_type": "code",
        "colab": {}
      },
      "source": [
        "rfc = RandomForestClassifier()\n",
        "params =  {'bootstrap': [True, False],\n",
        "         'max_depth': [5,10, 20, 30, 40, 50, 60, 70, 80, 90, 100, None],\n",
        "         'max_features': ['auto', 'sqrt'],\n",
        "         'min_samples_leaf': [1, 2, 4],\n",
        "         'min_samples_split': [2, 5, 10],\n",
        "         'n_estimators': [200, 400, 600, 800, 1000, 1200, 1400, 1600, 1800, 2000]}"
      ],
      "execution_count": null,
      "outputs": []
    },
    {
      "cell_type": "code",
      "metadata": {
        "id": "4YruMQyXVdl1",
        "colab_type": "code",
        "colab": {}
      },
      "source": [
        "def hypertuning_rscv(rfc, p_distr, nbr_iter,training_x,training_y):\n",
        "  rdmsearch =RandomizedSearchCV(rfc, param_distributions=p_distr,\n",
        "                                n_jobs=-1, n_iter=nbr_iter, cv=5)\n",
        "  rdmsearch.fit(real_x,real_y)\n",
        "  ht_params = rdmsearch.best_params_\n",
        "  return ht_params"
      ],
      "execution_count": null,
      "outputs": []
    },
    {
      "cell_type": "code",
      "metadata": {
        "id": "IgeWCYWrVkZQ",
        "colab_type": "code",
        "colab": {
          "base_uri": "https://localhost:8080/",
          "height": 129
        },
        "outputId": "9231acb5-813f-4d5c-cf4c-ea9655f8ee88"
      },
      "source": [
        "rfc_random = hypertuning_rscv(rfc,params,50,X_over, y_over)\n",
        "rfc_random"
      ],
      "execution_count": null,
      "outputs": [
        {
          "output_type": "execute_result",
          "data": {
            "text/plain": [
              "{'bootstrap': True,\n",
              " 'max_depth': None,\n",
              " 'max_features': 'auto',\n",
              " 'min_samples_leaf': 2,\n",
              " 'min_samples_split': 2,\n",
              " 'n_estimators': 200}"
            ]
          },
          "metadata": {
            "tags": []
          },
          "execution_count": 40
        }
      ]
    },
    {
      "cell_type": "code",
      "metadata": {
        "id": "drnYRnGbU4RR",
        "colab_type": "code",
        "colab": {
          "base_uri": "https://localhost:8080/",
          "height": 54
        },
        "outputId": "91e0a74c-b16c-4434-c450-79c01cb52ed4"
      },
      "source": [
        "from sklearn.model_selection import StratifiedKFold\n",
        "from sklearn.model_selection import cross_val_score\n",
        "rfc = RandomForestClassifier(bootstrap=True,max_depth=None,max_features='auto',min_samples_leaf=2,min_samples_split=2,\n",
        "                             n_estimators=200)\n",
        "kfold=StratifiedKFold(n_splits=10,random_state=None)\n",
        "results=cross_val_score(rfc,X_over,y_over,cv=kfold)\n",
        "results"
      ],
      "execution_count": null,
      "outputs": [
        {
          "output_type": "execute_result",
          "data": {
            "text/plain": [
              "array([0.89933333, 0.988     , 0.98733333, 0.96866667, 0.98466667,\n",
              "       0.99066667, 0.96733333, 0.992     , 0.98733333, 0.96333333])"
            ]
          },
          "metadata": {
            "tags": []
          },
          "execution_count": 43
        }
      ]
    },
    {
      "cell_type": "code",
      "metadata": {
        "id": "Ug5FXSjP-9Ur",
        "colab_type": "code",
        "colab": {
          "base_uri": "https://localhost:8080/",
          "height": 36
        },
        "outputId": "5cf07e21-d94b-44a5-c5f3-56889f48265d"
      },
      "source": [
        "results.mean()"
      ],
      "execution_count": null,
      "outputs": [
        {
          "output_type": "execute_result",
          "data": {
            "text/plain": [
              "0.9728666666666668"
            ]
          },
          "metadata": {
            "tags": []
          },
          "execution_count": 44
        }
      ]
    },
    {
      "cell_type": "markdown",
      "metadata": {
        "id": "NWrMVuEp7-gi",
        "colab_type": "text"
      },
      "source": [
        "#Logistic Regression"
      ]
    },
    {
      "cell_type": "code",
      "metadata": {
        "id": "BBKJDu_OMm1e",
        "colab_type": "code",
        "colab": {}
      },
      "source": [
        "from sklearn.linear_model import LogisticRegression\n",
        "from sklearn.model_selection import RandomizedSearchCV"
      ],
      "execution_count": null,
      "outputs": []
    },
    {
      "cell_type": "code",
      "metadata": {
        "id": "cHQEAzDcDBSc",
        "colab_type": "code",
        "colab": {}
      },
      "source": [
        "lr = LogisticRegression()\n",
        "params = {'penalty': ['l1','l2'],\n",
        "          'C':[1.0,2.0,3.0,4.0],\n",
        "          'fit_intercept':[True],\n",
        "          'intercept_scaling':[1.0],\n",
        "          'random_state':[None],\n",
        "          'solver':['lbfgs'],\n",
        "          'n_jobs': [-1]}"
      ],
      "execution_count": null,
      "outputs": []
    },
    {
      "cell_type": "code",
      "metadata": {
        "id": "iWIoJWimB9eD",
        "colab_type": "code",
        "colab": {}
      },
      "source": [
        "def hypertuning_rscv(rfc, p_distr, nbr_iter,training_x,training_y):\n",
        "  rdmsearch =RandomizedSearchCV(rfc, param_distributions=p_distr,\n",
        "                                n_jobs=-1, n_iter=nbr_iter, cv=5)\n",
        "  rdmsearch.fit(real_x,real_y)\n",
        "  ht_params = rdmsearch.best_params_\n",
        "  return ht_params"
      ],
      "execution_count": null,
      "outputs": []
    },
    {
      "cell_type": "code",
      "metadata": {
        "id": "AiMmRvFTCCK3",
        "colab_type": "code",
        "colab": {
          "base_uri": "https://localhost:8080/",
          "height": 148
        },
        "outputId": "dffd3481-7a4a-4c77-a742-c964e546e063"
      },
      "source": [
        "rfc_random = hypertuning_rscv(lr,params,50,X_over, y_over)\n",
        "rfc_random"
      ],
      "execution_count": null,
      "outputs": [
        {
          "output_type": "execute_result",
          "data": {
            "text/plain": [
              "{'C': 1.0,\n",
              " 'fit_intercept': True,\n",
              " 'intercept_scaling': 1.0,\n",
              " 'n_jobs': -1,\n",
              " 'penalty': 'l2',\n",
              " 'random_state': None,\n",
              " 'solver': 'lbfgs'}"
            ]
          },
          "metadata": {
            "tags": []
          },
          "execution_count": 71
        }
      ]
    },
    {
      "cell_type": "code",
      "metadata": {
        "id": "l7sC7EtJDM3u",
        "colab_type": "code",
        "colab": {
          "base_uri": "https://localhost:8080/",
          "height": 54
        },
        "outputId": "35adea30-04ed-435a-96a0-a36ca330b0f3"
      },
      "source": [
        "from sklearn.model_selection import StratifiedKFold\n",
        "from sklearn.model_selection import cross_val_score\n",
        "lr = LogisticRegression(C=1.0,fit_intercept=True,intercept_scaling=1.0,n_jobs=-1,\n",
        "                        penalty='l2',random_state=50,solver='lbfgs')\n",
        "\n",
        "kfold=StratifiedKFold(n_splits=10,random_state=0)\n",
        "results=cross_val_score(lr,X_over,y_over,cv=kfold)\n",
        "results"
      ],
      "execution_count": null,
      "outputs": [
        {
          "output_type": "execute_result",
          "data": {
            "text/plain": [
              "array([0.858     , 0.93333333, 0.91      , 0.91066667, 0.90533333,\n",
              "       0.86666667, 0.89266667, 0.894     , 0.91466667, 0.86866667])"
            ]
          },
          "metadata": {
            "tags": []
          },
          "execution_count": 86
        }
      ]
    },
    {
      "cell_type": "code",
      "metadata": {
        "id": "_XLS02edF_0Z",
        "colab_type": "code",
        "colab": {
          "base_uri": "https://localhost:8080/",
          "height": 36
        },
        "outputId": "4011a186-4805-4795-f0cf-289eceb8cd4c"
      },
      "source": [
        "results.mean()"
      ],
      "execution_count": null,
      "outputs": [
        {
          "output_type": "execute_result",
          "data": {
            "text/plain": [
              "0.8953999999999999"
            ]
          },
          "metadata": {
            "tags": []
          },
          "execution_count": 87
        }
      ]
    },
    {
      "cell_type": "markdown",
      "metadata": {
        "id": "syDXBjsq8DoG",
        "colab_type": "text"
      },
      "source": [
        "#SGD Classifier"
      ]
    },
    {
      "cell_type": "code",
      "metadata": {
        "id": "TTw_1tcqDNF5",
        "colab_type": "code",
        "colab": {}
      },
      "source": [
        "from sklearn.linear_model import SGDClassifier\n",
        "from sklearn.model_selection import RandomizedSearchCV\n",
        "import random \n",
        "from scipy.stats import randint, norm, uniform"
      ],
      "execution_count": null,
      "outputs": []
    },
    {
      "cell_type": "code",
      "metadata": {
        "id": "Es0LerwHET3e",
        "colab_type": "code",
        "colab": {}
      },
      "source": [
        "sgd = SGDClassifier()\n",
        "params = {\n",
        "    \"loss\" : [\"hinge\", \"log\", \"squared_hinge\", \"modified_huber\"],\n",
        "    \"alpha\" : [0.0001, 0.001, 0.01, 0.1],\n",
        "    \"penalty\" : [\"l2\", \"l1\", \"none\"],\n",
        "}"
      ],
      "execution_count": null,
      "outputs": []
    },
    {
      "cell_type": "code",
      "metadata": {
        "id": "gK0na3XVEUWY",
        "colab_type": "code",
        "colab": {}
      },
      "source": [
        "def hypertuning_rscv(sgd, p_distr, nbr_iter,training_x,training_y):\n",
        "  rdmsearch =RandomizedSearchCV(sgd, param_distributions=p_distr,\n",
        "                                n_jobs=-1, n_iter=nbr_iter, cv=5)\n",
        "  rdmsearch.fit(real_x,real_y)\n",
        "  ht_params = rdmsearch.best_params_\n",
        "  return ht_params"
      ],
      "execution_count": null,
      "outputs": []
    },
    {
      "cell_type": "code",
      "metadata": {
        "id": "Z9X4-sRsQWZa",
        "colab_type": "code",
        "colab": {
          "base_uri": "https://localhost:8080/",
          "height": 36
        },
        "outputId": "5ed63c65-1d79-4751-b0ca-49554052fcb1"
      },
      "source": [
        "rfc_random = hypertuning_rscv(sgd,params,50,X_over, y_over)\n",
        "rfc_random"
      ],
      "execution_count": null,
      "outputs": [
        {
          "output_type": "execute_result",
          "data": {
            "text/plain": [
              "{'alpha': 0.0001, 'loss': 'hinge', 'penalty': 'l2'}"
            ]
          },
          "metadata": {
            "tags": []
          },
          "execution_count": 102
        }
      ]
    },
    {
      "cell_type": "code",
      "metadata": {
        "id": "4PgBgqHMbj_L",
        "colab_type": "code",
        "colab": {
          "base_uri": "https://localhost:8080/",
          "height": 54
        },
        "outputId": "42618de5-1f52-4e86-f5e6-d7fe79d964d8"
      },
      "source": [
        "from sklearn.model_selection import StratifiedKFold\n",
        "from sklearn.model_selection import cross_val_score\n",
        "sgd = SGDClassifier(epsilon=0.1,eta0=0.0,loss='hinge',max_iter=1000,penalty='l2',shuffle=True)\n",
        "\n",
        "kfold=StratifiedKFold(n_splits=10,random_state=0)\n",
        "results=cross_val_score(sgd,X_over,y_over,cv=kfold)\n",
        "results"
      ],
      "execution_count": null,
      "outputs": [
        {
          "output_type": "execute_result",
          "data": {
            "text/plain": [
              "array([0.90333333, 0.91666667, 0.90133333, 0.89      , 0.894     ,\n",
              "       0.858     , 0.878     , 0.88666667, 0.91866667, 0.91      ])"
            ]
          },
          "metadata": {
            "tags": []
          },
          "execution_count": 126
        }
      ]
    },
    {
      "cell_type": "code",
      "metadata": {
        "id": "ekUOOTprR_ju",
        "colab_type": "code",
        "colab": {
          "base_uri": "https://localhost:8080/",
          "height": 36
        },
        "outputId": "69e2875d-09c0-4f70-f557-937ff0aac592"
      },
      "source": [
        "results.mean()"
      ],
      "execution_count": null,
      "outputs": [
        {
          "output_type": "execute_result",
          "data": {
            "text/plain": [
              "0.8956666666666667"
            ]
          },
          "metadata": {
            "tags": []
          },
          "execution_count": 127
        }
      ]
    },
    {
      "cell_type": "markdown",
      "metadata": {
        "id": "Ol-JKAw68ITC",
        "colab_type": "text"
      },
      "source": [
        "#AdaBoost Classifier"
      ]
    },
    {
      "cell_type": "code",
      "metadata": {
        "id": "OLUkNSsTF7yo",
        "colab_type": "code",
        "colab": {}
      },
      "source": [
        "from sklearn.ensemble import AdaBoostClassifier\n",
        "from sklearn.model_selection import RandomizedSearchCV"
      ],
      "execution_count": null,
      "outputs": []
    },
    {
      "cell_type": "code",
      "metadata": {
        "id": "DVxmSB8OGAeL",
        "colab_type": "code",
        "colab": {}
      },
      "source": [
        "ada = AdaBoostClassifier()\n",
        "params = {'algorithm':['SAMME.R'],\n",
        "          'learning_rate':[5.0],\n",
        "          'n_estimators':[500],\n",
        "          'random_state':[50]}"
      ],
      "execution_count": null,
      "outputs": []
    },
    {
      "cell_type": "code",
      "metadata": {
        "id": "QlIPj59dGPTL",
        "colab_type": "code",
        "colab": {}
      },
      "source": [
        "def hypertuning_rscv(rfc, p_distr, nbr_iter,training_x,training_y):\n",
        "  rdmsearch =RandomizedSearchCV(rfc, param_distributions=p_distr,\n",
        "                                n_jobs=-1, n_iter=nbr_iter, cv=5)\n",
        "  rdmsearch.fit(real_x,real_y)\n",
        "  ht_params = rdmsearch.best_params_\n",
        "  return ht_params"
      ],
      "execution_count": null,
      "outputs": []
    },
    {
      "cell_type": "code",
      "metadata": {
        "id": "VR_eZpHtGTEY",
        "colab_type": "code",
        "colab": {
          "base_uri": "https://localhost:8080/",
          "height": 92
        },
        "outputId": "b6ff4d6f-bb5c-4ce3-83a6-933ae4584a0e"
      },
      "source": [
        "ada_random = hypertuning_rscv(ada,params,50,X_over, y_over)\n",
        "ada_random"
      ],
      "execution_count": null,
      "outputs": [
        {
          "output_type": "execute_result",
          "data": {
            "text/plain": [
              "{'algorithm': 'SAMME.R',\n",
              " 'learning_rate': 5.0,\n",
              " 'n_estimators': 500,\n",
              " 'random_state': 50}"
            ]
          },
          "metadata": {
            "tags": []
          },
          "execution_count": 138
        }
      ]
    },
    {
      "cell_type": "code",
      "metadata": {
        "id": "JcTLkO53GcLs",
        "colab_type": "code",
        "colab": {
          "base_uri": "https://localhost:8080/",
          "height": 54
        },
        "outputId": "72b37f4e-64bd-4147-c747-bd6df97281e3"
      },
      "source": [
        "from sklearn.model_selection import StratifiedKFold\n",
        "from sklearn.model_selection import cross_val_score\n",
        "ada = AdaBoostClassifier(algorithm='SAMME.R',learning_rate=5.0,n_estimators=500,random_state=50)\n",
        "\n",
        "kfold=StratifiedKFold(n_splits=10,random_state=0)\n",
        "results=cross_val_score(ada,X_over,y_over,cv=kfold)\n",
        "results"
      ],
      "execution_count": null,
      "outputs": [
        {
          "output_type": "execute_result",
          "data": {
            "text/plain": [
              "array([0.95      , 0.976     , 0.92333333, 0.98733333, 0.98533333,\n",
              "       0.916     , 0.96266667, 0.99666667, 0.918     , 0.93333333])"
            ]
          },
          "metadata": {
            "tags": []
          },
          "execution_count": 139
        }
      ]
    },
    {
      "cell_type": "code",
      "metadata": {
        "id": "AXC9_dDugJq1",
        "colab_type": "code",
        "colab": {
          "base_uri": "https://localhost:8080/",
          "height": 36
        },
        "outputId": "d2c167e3-c939-4609-f5cf-cb576bc9dc34"
      },
      "source": [
        "results.mean()"
      ],
      "execution_count": null,
      "outputs": [
        {
          "output_type": "execute_result",
          "data": {
            "text/plain": [
              "0.9548666666666668"
            ]
          },
          "metadata": {
            "tags": []
          },
          "execution_count": 140
        }
      ]
    },
    {
      "cell_type": "markdown",
      "metadata": {
        "id": "DNFqgZba8OLV",
        "colab_type": "text"
      },
      "source": [
        "#XGBoost Classifier"
      ]
    },
    {
      "cell_type": "code",
      "metadata": {
        "id": "_AeA6vxdgr6k",
        "colab_type": "code",
        "colab": {}
      },
      "source": [
        "import xgboost as xgb\n",
        "from scipy import stats\n",
        "from scipy.stats import randint\n",
        "from sklearn.model_selection import RandomizedSearchCV"
      ],
      "execution_count": null,
      "outputs": []
    },
    {
      "cell_type": "code",
      "metadata": {
        "id": "IKSzTedbvnoG",
        "colab_type": "code",
        "colab": {}
      },
      "source": [
        "xg = xgb.XGBClassifier()\n",
        "params = {'base_score': [0.5],\n",
        "          'booster': ['dart'],\n",
        "          \"colsample_bytree\" : [ 0.0],\n",
        "          'gamma':[0.1],\n",
        "          'learning_rate':[1.5],\n",
        "          'max_depth':[6]}"
      ],
      "execution_count": null,
      "outputs": []
    },
    {
      "cell_type": "code",
      "metadata": {
        "id": "m_zHFYueXayM",
        "colab_type": "code",
        "colab": {}
      },
      "source": [
        "def hypertuning_rscv(rfc, p_distr, nbr_iter,training_x,training_y):\n",
        "  rdmsearch =RandomizedSearchCV(rfc, param_distributions=p_distr,\n",
        "                                n_jobs=-1, n_iter=nbr_iter, cv=5)\n",
        "  rdmsearch.fit(real_x,real_y)\n",
        "  ht_params = rdmsearch.best_params_\n",
        "  return ht_params"
      ],
      "execution_count": null,
      "outputs": []
    },
    {
      "cell_type": "code",
      "metadata": {
        "id": "6O6WJwikXggh",
        "colab_type": "code",
        "colab": {
          "base_uri": "https://localhost:8080/",
          "height": 129
        },
        "outputId": "5ece694c-a415-452d-9194-2640e468751e"
      },
      "source": [
        "xg_random = hypertuning_rscv(xg,params,50,X_over, y_over)\n",
        "xg_random"
      ],
      "execution_count": null,
      "outputs": [
        {
          "output_type": "execute_result",
          "data": {
            "text/plain": [
              "{'base_score': 0.5,\n",
              " 'booster': 'dart',\n",
              " 'colsample_bytree': 0.0,\n",
              " 'gamma': 0.1,\n",
              " 'learning_rate': 1.5,\n",
              " 'max_depth': 6}"
            ]
          },
          "metadata": {
            "tags": []
          },
          "execution_count": 108
        }
      ]
    },
    {
      "cell_type": "code",
      "metadata": {
        "id": "UkTBOlNZaAx9",
        "colab_type": "code",
        "colab": {
          "base_uri": "https://localhost:8080/",
          "height": 54
        },
        "outputId": "34166f81-0ffc-45f6-879b-4d1845905a14"
      },
      "source": [
        "xg = xgb.XGBClassifier()\n",
        "from sklearn.model_selection import StratifiedKFold\n",
        "from sklearn.model_selection import cross_val_score\n",
        "xg = xgb.XGBClassifier(base_score=0.5,booster='dart',colsample_bytree=0.0,gamma=0.1,\n",
        "                       learning_rate=1.5,max_depth=6)\n",
        "kfold=StratifiedKFold(n_splits=10,random_state=0)\n",
        "results=cross_val_score(xg,X_over,y_over,cv=kfold)\n",
        "results"
      ],
      "execution_count": null,
      "outputs": [
        {
          "output_type": "execute_result",
          "data": {
            "text/plain": [
              "array([0.94266667, 0.99466667, 0.994     , 0.99133333, 0.99266667,\n",
              "       0.99066667, 0.99866667, 0.99533333, 0.99      , 0.98333333])"
            ]
          },
          "metadata": {
            "tags": []
          },
          "execution_count": 109
        }
      ]
    },
    {
      "cell_type": "code",
      "metadata": {
        "id": "LzaRIKKH4FE6",
        "colab_type": "code",
        "colab": {
          "base_uri": "https://localhost:8080/",
          "height": 36
        },
        "outputId": "dbacf1d4-991f-4b96-a019-7a96ee7b8176"
      },
      "source": [
        "results.mean()"
      ],
      "execution_count": null,
      "outputs": [
        {
          "output_type": "execute_result",
          "data": {
            "text/plain": [
              "0.9873333333333332"
            ]
          },
          "metadata": {
            "tags": []
          },
          "execution_count": 110
        }
      ]
    },
    {
      "cell_type": "markdown",
      "metadata": {
        "id": "akmMwjsh8W-z",
        "colab_type": "text"
      },
      "source": [
        "#Decision Tree Classifier"
      ]
    },
    {
      "cell_type": "code",
      "metadata": {
        "id": "eN10-6RxPAVC",
        "colab_type": "code",
        "colab": {}
      },
      "source": [
        "from sklearn.tree import DecisionTreeClassifier\n",
        "from sklearn.model_selection import RandomizedSearchCV\n",
        "from scipy.stats import randint"
      ],
      "execution_count": null,
      "outputs": []
    },
    {
      "cell_type": "code",
      "metadata": {
        "id": "xt_NuC5OPlaR",
        "colab_type": "code",
        "colab": {}
      },
      "source": [
        "DT = DecisionTreeClassifier()\n",
        "params = {\"max_depth\": [1, None],\n",
        "          \"max_features\": randint(1, 9),\n",
        "          \"min_samples_leaf\": randint(1, 9),\n",
        "          \"criterion\": [\"gini\", \"entropy\"]}"
      ],
      "execution_count": null,
      "outputs": []
    },
    {
      "cell_type": "code",
      "metadata": {
        "id": "khZwkVaIQZSL",
        "colab_type": "code",
        "colab": {}
      },
      "source": [
        "def hypertuning_rscv(rfc, p_distr, nbr_iter,training_x,training_y):\n",
        "  rdmsearch =RandomizedSearchCV(rfc, param_distributions=p_distr,\n",
        "                                n_jobs=-1, n_iter=nbr_iter, cv=5)\n",
        "  rdmsearch.fit(real_x,real_y)\n",
        "  ht_params = rdmsearch.best_params_\n",
        "  return ht_params"
      ],
      "execution_count": null,
      "outputs": []
    },
    {
      "cell_type": "code",
      "metadata": {
        "id": "RLeST1VFROSI",
        "colab_type": "code",
        "colab": {
          "base_uri": "https://localhost:8080/",
          "height": 92
        },
        "outputId": "8c92861f-1a89-43ce-a3ea-0e01af7199f5"
      },
      "source": [
        "DT_random = hypertuning_rscv(DT,params,50,X_over, y_over)\n",
        "DT_random"
      ],
      "execution_count": null,
      "outputs": [
        {
          "output_type": "execute_result",
          "data": {
            "text/plain": [
              "{'criterion': 'entropy',\n",
              " 'max_depth': None,\n",
              " 'max_features': 5,\n",
              " 'min_samples_leaf': 8}"
            ]
          },
          "metadata": {
            "tags": []
          },
          "execution_count": 46
        }
      ]
    },
    {
      "cell_type": "code",
      "metadata": {
        "id": "sCYLXHA2RrEY",
        "colab_type": "code",
        "colab": {
          "base_uri": "https://localhost:8080/",
          "height": 54
        },
        "outputId": "09f3eb76-4967-44dc-f7e0-4372a0cb7bd1"
      },
      "source": [
        "from sklearn.model_selection import StratifiedKFold\n",
        "from sklearn.model_selection import cross_val_score\n",
        "DT = DecisionTreeClassifier(criterion='entropy',max_depth=None,max_features=5,min_samples_leaf=8)\n",
        "\n",
        "kfold=StratifiedKFold(n_splits=10, shuffle=False, random_state=None)\n",
        "results=cross_val_score(DT,X_over,y_over,cv=kfold)\n",
        "results"
      ],
      "execution_count": null,
      "outputs": [
        {
          "output_type": "execute_result",
          "data": {
            "text/plain": [
              "array([0.876     , 0.97      , 0.96733333, 0.95133333, 0.97266667,\n",
              "       0.87      , 0.93866667, 0.91733333, 0.94466667, 0.95333333])"
            ]
          },
          "metadata": {
            "tags": []
          },
          "execution_count": 48
        }
      ]
    },
    {
      "cell_type": "code",
      "metadata": {
        "id": "m64PJ1_pBwq1",
        "colab_type": "code",
        "colab": {
          "base_uri": "https://localhost:8080/",
          "height": 36
        },
        "outputId": "f35b1b70-e990-4883-a3a1-db2e4947a430"
      },
      "source": [
        "results.mean()"
      ],
      "execution_count": null,
      "outputs": [
        {
          "output_type": "execute_result",
          "data": {
            "text/plain": [
              "0.9361333333333333"
            ]
          },
          "metadata": {
            "tags": []
          },
          "execution_count": 49
        }
      ]
    },
    {
      "cell_type": "markdown",
      "metadata": {
        "id": "DgBHxldZ8dFB",
        "colab_type": "text"
      },
      "source": [
        "#KNN Classifier"
      ]
    },
    {
      "cell_type": "code",
      "metadata": {
        "id": "ZfSMSUrhZZJq",
        "colab_type": "code",
        "colab": {}
      },
      "source": [
        "from sklearn.neighbors import KNeighborsClassifier\n",
        "from sklearn.model_selection import RandomizedSearchCV"
      ],
      "execution_count": null,
      "outputs": []
    },
    {
      "cell_type": "code",
      "metadata": {
        "id": "EoDeJA0H54R6",
        "colab_type": "code",
        "colab": {}
      },
      "source": [
        "knn = KNeighborsClassifier()\n",
        "params = {'n_neighbors':[5,6,7,8,9,10],\n",
        "          'leaf_size':[1,2,3,5],\n",
        "          'weights':['uniform', 'distance'],\n",
        "          'algorithm':['auto', 'ball_tree','kd_tree','brute'],\n",
        "          'n_jobs':[-1]}"
      ],
      "execution_count": null,
      "outputs": []
    },
    {
      "cell_type": "code",
      "metadata": {
        "id": "GIi2aSVZ54pC",
        "colab_type": "code",
        "colab": {}
      },
      "source": [
        "def hypertuning_rscv(rfc, p_distr, nbr_iter,training_x,training_y):\n",
        "  rdmsearch =RandomizedSearchCV(rfc, param_distributions=p_distr,\n",
        "                                n_jobs=-1, n_iter=nbr_iter, cv=5)\n",
        "  rdmsearch.fit(real_x,real_y)\n",
        "  ht_params = rdmsearch.best_params_\n",
        "  return ht_params"
      ],
      "execution_count": null,
      "outputs": []
    },
    {
      "cell_type": "code",
      "metadata": {
        "id": "N7rtVElH55CW",
        "colab_type": "code",
        "colab": {
          "base_uri": "https://localhost:8080/",
          "height": 111
        },
        "outputId": "4651237c-4dde-4bd4-8e8b-49f653396711"
      },
      "source": [
        "DT_random = hypertuning_rscv(knn,params,50,X_over, y_over)\n",
        "DT_random"
      ],
      "execution_count": null,
      "outputs": [
        {
          "output_type": "execute_result",
          "data": {
            "text/plain": [
              "{'algorithm': 'brute',\n",
              " 'leaf_size': 2,\n",
              " 'n_jobs': -1,\n",
              " 'n_neighbors': 7,\n",
              " 'weights': 'distance'}"
            ]
          },
          "metadata": {
            "tags": []
          },
          "execution_count": 53
        }
      ]
    },
    {
      "cell_type": "code",
      "metadata": {
        "id": "JuNuha9D6L9n",
        "colab_type": "code",
        "colab": {
          "base_uri": "https://localhost:8080/",
          "height": 54
        },
        "outputId": "cb259bdf-7413-4fc6-9a29-f58c4ff6624b"
      },
      "source": [
        "from sklearn.model_selection import StratifiedKFold\n",
        "from sklearn.model_selection import cross_val_score\n",
        "knn = KNeighborsClassifier(algorithm='brute',leaf_size=1,n_jobs=-1,n_neighbors=5,weights='distance')\n",
        "\n",
        "kfold=StratifiedKFold(n_splits=10,random_state=None)\n",
        "results=cross_val_score(knn,X_over,y_over,cv=kfold)\n",
        "results"
      ],
      "execution_count": null,
      "outputs": [
        {
          "output_type": "execute_result",
          "data": {
            "text/plain": [
              "array([0.90533333, 0.98066667, 0.97733333, 0.92266667, 0.90866667,\n",
              "       0.92133333, 0.92933333, 0.93333333, 0.95466667, 0.98066667])"
            ]
          },
          "metadata": {
            "tags": []
          },
          "execution_count": 102
        }
      ]
    },
    {
      "cell_type": "code",
      "metadata": {
        "id": "VO4dvdOZDdIU",
        "colab_type": "code",
        "colab": {
          "base_uri": "https://localhost:8080/",
          "height": 36
        },
        "outputId": "dc768d00-c8f8-4446-93c2-4b521b109c86"
      },
      "source": [
        "results.mean()"
      ],
      "execution_count": null,
      "outputs": [
        {
          "output_type": "execute_result",
          "data": {
            "text/plain": [
              "0.9414"
            ]
          },
          "metadata": {
            "tags": []
          },
          "execution_count": 103
        }
      ]
    },
    {
      "cell_type": "markdown",
      "metadata": {
        "id": "4BjEMqAH8hgn",
        "colab_type": "text"
      },
      "source": [
        "#BernouliNB Classifier Without Hyper Tuning"
      ]
    },
    {
      "cell_type": "code",
      "metadata": {
        "id": "xtksKvnp6Pf4",
        "colab_type": "code",
        "colab": {}
      },
      "source": [
        "from sklearn.naive_bayes import BernoulliNB\n",
        "from sklearn.model_selection import RandomizedSearchCV"
      ],
      "execution_count": null,
      "outputs": []
    },
    {
      "cell_type": "code",
      "metadata": {
        "id": "bsdzXGPi6P54",
        "colab_type": "code",
        "colab": {}
      },
      "source": [
        "bnb = BernoulliNB()\n",
        "params = {'alpha':[0.0,1.0],'binarize':[0.0],'fit_prior':bool}"
      ],
      "execution_count": null,
      "outputs": []
    },
    {
      "cell_type": "code",
      "metadata": {
        "id": "T1GJtiaS9s9G",
        "colab_type": "code",
        "colab": {}
      },
      "source": [
        "def hypertuning_rscv(rfc, p_distr, nbr_iter,training_x,training_y):\n",
        "  rdmsearch =RandomizedSearchCV(rfc, param_distributions=p_distr,\n",
        "                                n_jobs=-1, n_iter=nbr_iter, cv=5)\n",
        "  rdmsearch.fit(real_x,real_y)\n",
        "  ht_params = rdmsearch.best_params_\n",
        "  return ht_params"
      ],
      "execution_count": null,
      "outputs": []
    },
    {
      "cell_type": "code",
      "metadata": {
        "id": "LkrniFVo92Iq",
        "colab_type": "code",
        "colab": {
          "base_uri": "https://localhost:8080/",
          "height": 54
        },
        "outputId": "fea98862-1edc-44f2-8155-5e39cf5340be"
      },
      "source": [
        "from sklearn.model_selection import StratifiedKFold\n",
        "from sklearn.model_selection import cross_val_score\n",
        "bnb = BernoulliNB(alpha=3.0,binarize=0.0,fit_prior=True,class_prior=None)\n",
        "\n",
        "kfold=StratifiedKFold(n_splits=10,random_state=None)\n",
        "results=cross_val_score(bnb,X_over,y_over,cv=kfold)\n",
        "results"
      ],
      "execution_count": null,
      "outputs": [
        {
          "output_type": "execute_result",
          "data": {
            "text/plain": [
              "array([0.41266667, 0.53466667, 0.55333333, 0.544     , 0.61133333,\n",
              "       0.53666667, 0.50866667, 0.53666667, 0.56133333, 0.58466667])"
            ]
          },
          "metadata": {
            "tags": []
          },
          "execution_count": 91
        }
      ]
    },
    {
      "cell_type": "code",
      "metadata": {
        "id": "fFugEhE7GRHc",
        "colab_type": "code",
        "colab": {
          "base_uri": "https://localhost:8080/",
          "height": 36
        },
        "outputId": "4ac68b47-a098-42cb-a7a2-7a95d1261990"
      },
      "source": [
        "results.mean()"
      ],
      "execution_count": null,
      "outputs": [
        {
          "output_type": "execute_result",
          "data": {
            "text/plain": [
              "0.5384"
            ]
          },
          "metadata": {
            "tags": []
          },
          "execution_count": 92
        }
      ]
    },
    {
      "cell_type": "markdown",
      "metadata": {
        "id": "JalnCh4B8tnv",
        "colab_type": "text"
      },
      "source": [
        "#MultinomialNB Without Hyper Tuning"
      ]
    },
    {
      "cell_type": "code",
      "metadata": {
        "id": "Xvr-RQY792bb",
        "colab_type": "code",
        "colab": {}
      },
      "source": [
        "from sklearn.naive_bayes import MultinomialNB\n",
        "from sklearn.model_selection import RandomizedSearchCV"
      ],
      "execution_count": null,
      "outputs": []
    },
    {
      "cell_type": "code",
      "metadata": {
        "id": "jlCYPW0p-Tss",
        "colab_type": "code",
        "colab": {
          "base_uri": "https://localhost:8080/",
          "height": 54
        },
        "outputId": "307c0554-8aa2-40d1-8065-ecd950e813e8"
      },
      "source": [
        "from sklearn.model_selection import StratifiedKFold\n",
        "from sklearn.model_selection import cross_val_score\n",
        "mnb=MultinomialNB(alpha=1.0,fit_prior=True,class_prior=None)\n",
        "\n",
        "kfold=StratifiedKFold(n_splits=10,random_state=None)\n",
        "results=cross_val_score(mnb,X_over,y_over,cv=kfold)\n",
        "results"
      ],
      "execution_count": null,
      "outputs": [
        {
          "output_type": "execute_result",
          "data": {
            "text/plain": [
              "array([0.536     , 0.62133333, 0.57      , 0.58333333, 0.67933333,\n",
              "       0.70733333, 0.704     , 0.64      , 0.66      , 0.64266667])"
            ]
          },
          "metadata": {
            "tags": []
          },
          "execution_count": 94
        }
      ]
    },
    {
      "cell_type": "code",
      "metadata": {
        "id": "Ly3_KAMKIiV2",
        "colab_type": "code",
        "colab": {
          "base_uri": "https://localhost:8080/",
          "height": 36
        },
        "outputId": "e947a071-d055-4e62-d820-cbe237edc148"
      },
      "source": [
        "results.mean()"
      ],
      "execution_count": null,
      "outputs": [
        {
          "output_type": "execute_result",
          "data": {
            "text/plain": [
              "0.6344000000000001"
            ]
          },
          "metadata": {
            "tags": []
          },
          "execution_count": 95
        }
      ]
    },
    {
      "cell_type": "markdown",
      "metadata": {
        "id": "tOrmD3Wt807n",
        "colab_type": "text"
      },
      "source": [
        "#GaussionNB without Hyper Tuning"
      ]
    },
    {
      "cell_type": "code",
      "metadata": {
        "id": "Rnchf6xW-6gm",
        "colab_type": "code",
        "colab": {}
      },
      "source": [
        "from sklearn.naive_bayes import GaussianNB\n",
        "from sklearn.model_selection import RandomizedSearchCV"
      ],
      "execution_count": null,
      "outputs": []
    },
    {
      "cell_type": "code",
      "metadata": {
        "id": "rRW-g0RM_zHv",
        "colab_type": "code",
        "colab": {
          "base_uri": "https://localhost:8080/",
          "height": 54
        },
        "outputId": "d4e97106-85a2-4d83-fa1d-26bcd192a250"
      },
      "source": [
        "from sklearn.model_selection import StratifiedKFold\n",
        "from sklearn.model_selection import cross_val_score\n",
        "gnb=GaussianNB(var_smoothing=1e-7)\n",
        "\n",
        "kfold=StratifiedKFold(n_splits=10,random_state=None)\n",
        "results=cross_val_score(gnb,X_over,y_over,cv=kfold)\n",
        "results"
      ],
      "execution_count": null,
      "outputs": [
        {
          "output_type": "execute_result",
          "data": {
            "text/plain": [
              "array([0.93666667, 0.94333333, 0.928     , 0.93      , 0.928     ,\n",
              "       0.942     , 0.94      , 0.92666667, 0.936     , 0.91066667])"
            ]
          },
          "metadata": {
            "tags": []
          },
          "execution_count": 107
        }
      ]
    },
    {
      "cell_type": "code",
      "metadata": {
        "id": "1AqfzLj8AMIT",
        "colab_type": "code",
        "colab": {
          "base_uri": "https://localhost:8080/",
          "height": 36
        },
        "outputId": "8eccd52b-e5a6-4cb0-c225-9ed0a117335a"
      },
      "source": [
        "results.mean()"
      ],
      "execution_count": null,
      "outputs": [
        {
          "output_type": "execute_result",
          "data": {
            "text/plain": [
              "0.9321333333333334"
            ]
          },
          "metadata": {
            "tags": []
          },
          "execution_count": 108
        }
      ]
    },
    {
      "cell_type": "markdown",
      "metadata": {
        "id": "DAWOe-Ne895E",
        "colab_type": "text"
      },
      "source": [
        "#SVC Classifier"
      ]
    },
    {
      "cell_type": "code",
      "metadata": {
        "id": "RSSlojnyAMa7",
        "colab_type": "code",
        "colab": {}
      },
      "source": [
        "from sklearn.svm import SVC \n",
        "from sklearn.model_selection import RandomizedSearchCV"
      ],
      "execution_count": null,
      "outputs": []
    },
    {
      "cell_type": "code",
      "metadata": {
        "id": "E3LLo5jE_zct",
        "colab_type": "code",
        "colab": {}
      },
      "source": [
        "svc = SVC()\n",
        "params = {'C': [6,7,8,9,10,11,12], \n",
        "          'kernel': ['linear','rbf']}"
      ],
      "execution_count": null,
      "outputs": []
    },
    {
      "cell_type": "code",
      "metadata": {
        "id": "jA1_BzSbK0_I",
        "colab_type": "code",
        "colab": {}
      },
      "source": [
        "def hypertuning_rscv(rfc, p_distr, nbr_iter,training_x,training_y):\n",
        "  rdmsearch =RandomizedSearchCV(rfc, param_distributions=p_distr,\n",
        "                                n_jobs=-1, n_iter=nbr_iter, cv=5)\n",
        "  rdmsearch.fit(real_x,real_y)\n",
        "  ht_params = rdmsearch.best_params_\n",
        "  return ht_params"
      ],
      "execution_count": null,
      "outputs": []
    },
    {
      "cell_type": "code",
      "metadata": {
        "id": "Cbv_K5h8K1WA",
        "colab_type": "code",
        "colab": {}
      },
      "source": [
        "svc_random = hypertuning_rscv(svc,params,50,X_over, y_over)\n",
        "svc_random"
      ],
      "execution_count": null,
      "outputs": []
    },
    {
      "cell_type": "code",
      "metadata": {
        "id": "GRhooG5XK7mb",
        "colab_type": "code",
        "colab": {
          "base_uri": "https://localhost:8080/",
          "height": 54
        },
        "outputId": "d1c80dc4-af4c-4697-a0fc-7b95267e9e98"
      },
      "source": [
        "from sklearn.model_selection import StratifiedKFold\n",
        "from sklearn.model_selection import cross_val_score\n",
        "svc=SVC(kernel='rbf',C=12.0,degree=500)\n",
        "\n",
        "kfold=StratifiedKFold(n_splits=10,random_state=None)\n",
        "results=cross_val_score(svc,X_over,y_over,cv=kfold)\n",
        "results"
      ],
      "execution_count": null,
      "outputs": [
        {
          "output_type": "execute_result",
          "data": {
            "text/plain": [
              "array([0.91866667, 0.996     , 0.978     , 0.94066667, 0.91066667,\n",
              "       0.87666667, 0.90666667, 0.92266667, 0.966     , 0.91866667])"
            ]
          },
          "metadata": {
            "tags": []
          },
          "execution_count": 54
        }
      ]
    },
    {
      "cell_type": "code",
      "metadata": {
        "id": "DESRnegT1zE6",
        "colab_type": "code",
        "colab": {
          "base_uri": "https://localhost:8080/",
          "height": 36
        },
        "outputId": "df3cd359-5a4e-4fe8-d587-881ef1ed3095"
      },
      "source": [
        "results.mean()"
      ],
      "execution_count": null,
      "outputs": [
        {
          "output_type": "execute_result",
          "data": {
            "text/plain": [
              "0.9334666666666666"
            ]
          },
          "metadata": {
            "tags": []
          },
          "execution_count": 55
        }
      ]
    },
    {
      "cell_type": "markdown",
      "metadata": {
        "id": "jlTLDDLTu0mE",
        "colab_type": "text"
      },
      "source": [
        "#Bulid all model in Single Block with Multiclass"
      ]
    },
    {
      "cell_type": "code",
      "metadata": {
        "id": "tSDCbPK9LdOG",
        "colab_type": "code",
        "colab": {}
      },
      "source": [
        "from sklearn.svm import SVC                       \n",
        "svc=SVC(kernel='rbf',C=12.0,degree=500)\n",
        "\n",
        "from sklearn.linear_model import LogisticRegression\n",
        "lr=LogisticRegression(penalty='l2',C=1.0,fit_intercept=True,intercept_scaling=1,random_state=None)\n",
        "\n",
        "from xgboost import XGBClassifier\n",
        "xg=XGBClassifier(base_score=0.5,booster='dart',colsample_bytree=0.0,gamma=0.1,\n",
        "                       learning_rate=1.5,max_depth=6)\n",
        "\n",
        "\n",
        "from sklearn.naive_bayes import MultinomialNB\n",
        "mnb=MultinomialNB(alpha=1.0,fit_prior=True,class_prior=None)\n",
        "\n",
        "from sklearn.naive_bayes import BernoulliNB\n",
        "bnb=BernoulliNB(alpha=3.0,binarize=0.0,fit_prior=True,class_prior=None)\n",
        "\n",
        "from sklearn.naive_bayes import GaussianNB\n",
        "gnb=GaussianNB(var_smoothing=1e-7)\n",
        "\n",
        "from sklearn.linear_model import SGDClassifier\n",
        "sgd=SGDClassifier(loss=\"hinge\", penalty=\"l1\")\n",
        "\n",
        "from sklearn.neighbors import KNeighborsClassifier\n",
        "knn=KNeighborsClassifier(algorithm='brute',leaf_size=1,n_jobs=-1,n_neighbors=5,weights='distance')\n",
        "\n",
        "from sklearn.ensemble import RandomForestClassifier            \n",
        "rfc=RandomForestClassifier(bootstrap=True,max_depth=8,max_features='auto',min_samples_leaf=2,min_samples_split=2,n_estimators=200)\n",
        "\n",
        "from sklearn.tree import DecisionTreeClassifier \n",
        "DT=DecisionTreeClassifier(criterion='entropy',max_depth=None,max_features=5,min_samples_leaf=8)\n",
        "\n",
        "                                "
      ],
      "execution_count": null,
      "outputs": []
    },
    {
      "cell_type": "markdown",
      "metadata": {
        "id": "-KPSb0IK2Ni5",
        "colab_type": "text"
      },
      "source": [
        "#All model define in a Dictionary"
      ]
    },
    {
      "cell_type": "code",
      "metadata": {
        "id": "ksu80DeZN85d",
        "colab_type": "code",
        "colab": {}
      },
      "source": [
        "classifiers={'LogisticRegression':lr,'BernoulliNB':bnb,'GaussianNB':gnb,'RandomForestClassifier':rfc,'SVC': svc,'DecisionTreeClassifier': DT,'KNeighborsClassifier':knn\n",
        "        , 'MultinomialNB':mnb,'XGBClassifier':xg,'SGDClassifier':sgd }"
      ],
      "execution_count": null,
      "outputs": []
    },
    {
      "cell_type": "code",
      "metadata": {
        "id": "Tj_q9z2-OEZa",
        "colab_type": "code",
        "colab": {
          "base_uri": "https://localhost:8080/",
          "height": 402
        },
        "outputId": "46609543-04fe-440c-f29b-96011bd283be"
      },
      "source": [
        "classifie=sorted(classifiers.keys())\n",
        "print(classifie)\n",
        "df=pd.DataFrame(classifie,columns=['Classifiers'])\n",
        "df"
      ],
      "execution_count": null,
      "outputs": [
        {
          "output_type": "stream",
          "text": [
            "['BernoulliNB', 'DecisionTreeClassifier', 'GaussianNB', 'KNeighborsClassifier', 'LogisticRegression', 'MultinomialNB', 'RandomForestClassifier', 'SGDClassifier', 'SVC', 'XGBClassifier']\n"
          ],
          "name": "stdout"
        },
        {
          "output_type": "execute_result",
          "data": {
            "text/html": [
              "<div>\n",
              "<style scoped>\n",
              "    .dataframe tbody tr th:only-of-type {\n",
              "        vertical-align: middle;\n",
              "    }\n",
              "\n",
              "    .dataframe tbody tr th {\n",
              "        vertical-align: top;\n",
              "    }\n",
              "\n",
              "    .dataframe thead th {\n",
              "        text-align: right;\n",
              "    }\n",
              "</style>\n",
              "<table border=\"1\" class=\"dataframe\">\n",
              "  <thead>\n",
              "    <tr style=\"text-align: right;\">\n",
              "      <th></th>\n",
              "      <th>Classifiers</th>\n",
              "    </tr>\n",
              "  </thead>\n",
              "  <tbody>\n",
              "    <tr>\n",
              "      <th>0</th>\n",
              "      <td>BernoulliNB</td>\n",
              "    </tr>\n",
              "    <tr>\n",
              "      <th>1</th>\n",
              "      <td>DecisionTreeClassifier</td>\n",
              "    </tr>\n",
              "    <tr>\n",
              "      <th>2</th>\n",
              "      <td>GaussianNB</td>\n",
              "    </tr>\n",
              "    <tr>\n",
              "      <th>3</th>\n",
              "      <td>KNeighborsClassifier</td>\n",
              "    </tr>\n",
              "    <tr>\n",
              "      <th>4</th>\n",
              "      <td>LogisticRegression</td>\n",
              "    </tr>\n",
              "    <tr>\n",
              "      <th>5</th>\n",
              "      <td>MultinomialNB</td>\n",
              "    </tr>\n",
              "    <tr>\n",
              "      <th>6</th>\n",
              "      <td>RandomForestClassifier</td>\n",
              "    </tr>\n",
              "    <tr>\n",
              "      <th>7</th>\n",
              "      <td>SGDClassifier</td>\n",
              "    </tr>\n",
              "    <tr>\n",
              "      <th>8</th>\n",
              "      <td>SVC</td>\n",
              "    </tr>\n",
              "    <tr>\n",
              "      <th>9</th>\n",
              "      <td>XGBClassifier</td>\n",
              "    </tr>\n",
              "  </tbody>\n",
              "</table>\n",
              "</div>"
            ],
            "text/plain": [
              "              Classifiers\n",
              "0             BernoulliNB\n",
              "1  DecisionTreeClassifier\n",
              "2              GaussianNB\n",
              "3    KNeighborsClassifier\n",
              "4      LogisticRegression\n",
              "5           MultinomialNB\n",
              "6  RandomForestClassifier\n",
              "7           SGDClassifier\n",
              "8                     SVC\n",
              "9           XGBClassifier"
            ]
          },
          "metadata": {
            "tags": []
          },
          "execution_count": 48
        }
      ]
    },
    {
      "cell_type": "markdown",
      "metadata": {
        "id": "8OqOb72L2VLY",
        "colab_type": "text"
      },
      "source": [
        "#Best Results of all Classifier"
      ]
    },
    {
      "cell_type": "code",
      "metadata": {
        "id": "DDT4yfkoOEwY",
        "colab_type": "code",
        "colab": {
          "base_uri": "https://localhost:8080/",
          "height": 383
        },
        "outputId": "cf2b4cf2-0aa6-4166-99fc-61a0f38f2088"
      },
      "source": [
        "parameter=[]\n",
        "res=[]                                 \n",
        "res=pd.DataFrame(res)\n",
        "for n,c in sorted(classifiers.items()):                   \n",
        "    kfold=StratifiedKFold(n_splits=10,random_state=None)  \n",
        "    results=cross_val_score(c,X_over,y_over,cv=kfold)      \n",
        "    parameter.append((n,[results.mean()]))                \n",
        "    result=pd.DataFrame(results)                          \n",
        "    res=pd.concat([res,result],axis=1,ignore_index=True) \n",
        "\n",
        "res.columns=['BernoulliNB','DecisionTree','GaussianNB','KNeighbors','Logistic','MultinomialNB',\n",
        "             'RandomForest','SGDClassifier','SVM','XGBoost']    \n",
        "res "
      ],
      "execution_count": null,
      "outputs": [
        {
          "output_type": "execute_result",
          "data": {
            "text/html": [
              "<div>\n",
              "<style scoped>\n",
              "    .dataframe tbody tr th:only-of-type {\n",
              "        vertical-align: middle;\n",
              "    }\n",
              "\n",
              "    .dataframe tbody tr th {\n",
              "        vertical-align: top;\n",
              "    }\n",
              "\n",
              "    .dataframe thead th {\n",
              "        text-align: right;\n",
              "    }\n",
              "</style>\n",
              "<table border=\"1\" class=\"dataframe\">\n",
              "  <thead>\n",
              "    <tr style=\"text-align: right;\">\n",
              "      <th></th>\n",
              "      <th>BernoulliNB</th>\n",
              "      <th>DecisionTree</th>\n",
              "      <th>GaussianNB</th>\n",
              "      <th>KNeighbors</th>\n",
              "      <th>Logistic</th>\n",
              "      <th>MultinomialNB</th>\n",
              "      <th>RandomForest</th>\n",
              "      <th>SGDClassifier</th>\n",
              "      <th>SVM</th>\n",
              "      <th>XGBoost</th>\n",
              "    </tr>\n",
              "  </thead>\n",
              "  <tbody>\n",
              "    <tr>\n",
              "      <th>0</th>\n",
              "      <td>0.420000</td>\n",
              "      <td>0.844667</td>\n",
              "      <td>0.893333</td>\n",
              "      <td>0.908667</td>\n",
              "      <td>0.858000</td>\n",
              "      <td>0.536000</td>\n",
              "      <td>0.899333</td>\n",
              "      <td>0.870667</td>\n",
              "      <td>0.920667</td>\n",
              "      <td>0.940667</td>\n",
              "    </tr>\n",
              "    <tr>\n",
              "      <th>1</th>\n",
              "      <td>0.538667</td>\n",
              "      <td>0.983333</td>\n",
              "      <td>0.943333</td>\n",
              "      <td>0.979333</td>\n",
              "      <td>0.926667</td>\n",
              "      <td>0.635333</td>\n",
              "      <td>0.984667</td>\n",
              "      <td>0.989333</td>\n",
              "      <td>0.996000</td>\n",
              "      <td>0.994000</td>\n",
              "    </tr>\n",
              "    <tr>\n",
              "      <th>2</th>\n",
              "      <td>0.548667</td>\n",
              "      <td>0.915333</td>\n",
              "      <td>0.928000</td>\n",
              "      <td>0.982000</td>\n",
              "      <td>0.912000</td>\n",
              "      <td>0.570667</td>\n",
              "      <td>0.985333</td>\n",
              "      <td>0.925333</td>\n",
              "      <td>0.968667</td>\n",
              "      <td>0.988000</td>\n",
              "    </tr>\n",
              "    <tr>\n",
              "      <th>3</th>\n",
              "      <td>0.546667</td>\n",
              "      <td>0.965333</td>\n",
              "      <td>0.930000</td>\n",
              "      <td>0.917333</td>\n",
              "      <td>0.912000</td>\n",
              "      <td>0.586667</td>\n",
              "      <td>0.965333</td>\n",
              "      <td>0.912667</td>\n",
              "      <td>0.940667</td>\n",
              "      <td>0.990667</td>\n",
              "    </tr>\n",
              "    <tr>\n",
              "      <th>4</th>\n",
              "      <td>0.613333</td>\n",
              "      <td>0.936667</td>\n",
              "      <td>0.928000</td>\n",
              "      <td>0.900000</td>\n",
              "      <td>0.904000</td>\n",
              "      <td>0.674000</td>\n",
              "      <td>0.988667</td>\n",
              "      <td>0.902000</td>\n",
              "      <td>0.910667</td>\n",
              "      <td>0.062000</td>\n",
              "    </tr>\n",
              "    <tr>\n",
              "      <th>5</th>\n",
              "      <td>0.532000</td>\n",
              "      <td>0.922000</td>\n",
              "      <td>0.942000</td>\n",
              "      <td>0.923333</td>\n",
              "      <td>0.864000</td>\n",
              "      <td>0.701333</td>\n",
              "      <td>0.990667</td>\n",
              "      <td>0.864667</td>\n",
              "      <td>0.876667</td>\n",
              "      <td>0.992000</td>\n",
              "    </tr>\n",
              "    <tr>\n",
              "      <th>6</th>\n",
              "      <td>0.511333</td>\n",
              "      <td>0.992667</td>\n",
              "      <td>0.938667</td>\n",
              "      <td>0.933333</td>\n",
              "      <td>0.891333</td>\n",
              "      <td>0.703333</td>\n",
              "      <td>0.989333</td>\n",
              "      <td>0.887333</td>\n",
              "      <td>0.904667</td>\n",
              "      <td>0.998667</td>\n",
              "    </tr>\n",
              "    <tr>\n",
              "      <th>7</th>\n",
              "      <td>0.532667</td>\n",
              "      <td>0.888000</td>\n",
              "      <td>0.928000</td>\n",
              "      <td>0.934000</td>\n",
              "      <td>0.888667</td>\n",
              "      <td>0.624667</td>\n",
              "      <td>0.991333</td>\n",
              "      <td>0.901333</td>\n",
              "      <td>0.924000</td>\n",
              "      <td>0.996000</td>\n",
              "    </tr>\n",
              "    <tr>\n",
              "      <th>8</th>\n",
              "      <td>0.557333</td>\n",
              "      <td>0.932667</td>\n",
              "      <td>0.934667</td>\n",
              "      <td>0.954667</td>\n",
              "      <td>0.918667</td>\n",
              "      <td>0.643333</td>\n",
              "      <td>0.988667</td>\n",
              "      <td>0.920667</td>\n",
              "      <td>0.932000</td>\n",
              "      <td>0.992000</td>\n",
              "    </tr>\n",
              "    <tr>\n",
              "      <th>9</th>\n",
              "      <td>0.589333</td>\n",
              "      <td>0.949333</td>\n",
              "      <td>0.912000</td>\n",
              "      <td>0.980667</td>\n",
              "      <td>0.864000</td>\n",
              "      <td>0.642667</td>\n",
              "      <td>0.964000</td>\n",
              "      <td>0.915333</td>\n",
              "      <td>0.918667</td>\n",
              "      <td>0.984667</td>\n",
              "    </tr>\n",
              "  </tbody>\n",
              "</table>\n",
              "</div>"
            ],
            "text/plain": [
              "   BernoulliNB  DecisionTree  GaussianNB  ...  SGDClassifier       SVM   XGBoost\n",
              "0     0.420000      0.844667    0.893333  ...       0.870667  0.920667  0.940667\n",
              "1     0.538667      0.983333    0.943333  ...       0.989333  0.996000  0.994000\n",
              "2     0.548667      0.915333    0.928000  ...       0.925333  0.968667  0.988000\n",
              "3     0.546667      0.965333    0.930000  ...       0.912667  0.940667  0.990667\n",
              "4     0.613333      0.936667    0.928000  ...       0.902000  0.910667  0.062000\n",
              "5     0.532000      0.922000    0.942000  ...       0.864667  0.876667  0.992000\n",
              "6     0.511333      0.992667    0.938667  ...       0.887333  0.904667  0.998667\n",
              "7     0.532667      0.888000    0.928000  ...       0.901333  0.924000  0.996000\n",
              "8     0.557333      0.932667    0.934667  ...       0.920667  0.932000  0.992000\n",
              "9     0.589333      0.949333    0.912000  ...       0.915333  0.918667  0.984667\n",
              "\n",
              "[10 rows x 10 columns]"
            ]
          },
          "metadata": {
            "tags": []
          },
          "execution_count": 49
        }
      ]
    },
    {
      "cell_type": "markdown",
      "metadata": {
        "id": "bS_0yxg72bRf",
        "colab_type": "text"
      },
      "source": [
        "#Box Plot for all Models in Multiple Class"
      ]
    },
    {
      "cell_type": "code",
      "metadata": {
        "id": "5iNaPSajO_ws",
        "colab_type": "code",
        "colab": {
          "base_uri": "https://localhost:8080/",
          "height": 331
        },
        "outputId": "5c4577ab-fb5d-4832-8201-552a7e168cf2"
      },
      "source": [
        "fig, ax = plt.subplots(figsize=(25,8))\n",
        "sns.set(style=\"whitegrid\")\n",
        "boxplot=sns.boxplot(data=res,width=0.3)\n",
        "boxplot.set_ylim([0.4,1.05])\n",
        "fig.suptitle('BoxPlot of Cross validation results',fontsize=20)\n",
        "plt.ylabel('Accuracy',fontsize=25)\n",
        "plt.xlabel('Classifiers',fontsize=25)\n",
        "plt.tick_params(axis='both', which='major', colors='black', labelsize=15)\n",
        "plt.show()"
      ],
      "execution_count": null,
      "outputs": [
        {
          "output_type": "display_data",
          "data": {
            "image/png": "[encoded data removed]",
            "text/plain": [
              "<Figure size 1800x576 with 1 Axes>"
            ]
          },
          "metadata": {
            "tags": []
          }
        }
      ]
    },
    {
      "cell_type": "code",
      "metadata": {
        "id": "OJuTliFHO_da",
        "colab_type": "code",
        "colab": {}
      },
      "source": [
        ""
      ],
      "execution_count": null,
      "outputs": []
    },
    {
      "cell_type": "markdown",
      "metadata": {
        "id": "7LXRD-si-tK2",
        "colab_type": "text"
      },
      "source": [
        "#Precesion recall, f1_score, Confusion Matrix"
      ]
    },
    {
      "cell_type": "code",
      "metadata": {
        "id": "Go--VkbFOhLR",
        "colab_type": "code",
        "colab": {
          "base_uri": "https://localhost:8080/",
          "height": 1000
        },
        "outputId": "b5fa5d96-580b-4675-db1c-145001295de1"
      },
      "source": [
        "score = []\n",
        "i=1\n",
        "for n,c in sorted(classifiers.items()):\n",
        "    start=time.time()\n",
        "    c.fit(training_x,training_y)\n",
        "    pred=c.predict(test_x)\n",
        "    end=time.time()\n",
        "    print(\"{}) Classifier is : {}\\n\".format(i,c))\n",
        "    print(\"Total time in : \",end-start)\n",
        "\n",
        "    score.append((n,[accuracy_score(test_y,pred,normalize=True),metrics.precision_score(test_y,pred,average='micro'),\n",
        "                    metrics.recall_score(test_y, pred,average='micro'),metrics.f1_score(test_y,pred,average='micro')]))\n",
        "    \n",
        "    print(\"\\nConfusion_matrix is \\n\",confusion_matrix(test_y,pred))\n",
        "    precision=print(\"\\nPrecision : \",metrics.precision_score(test_y,pred,average='micro'))      \n",
        "    recall=print(\"Recall    : \",metrics.recall_score(test_y,pred,average='micro'))\n",
        "    f1_score=print(\"f1_score  : \",metrics.f1_score(test_y,pred,average='micro'))\n",
        "    i=i+1                    "
      ],
      "execution_count": null,
      "outputs": [
        {
          "output_type": "stream",
          "text": [
            "1) Classifier is : BernoulliNB(alpha=3.0, binarize=0.0, class_prior=None, fit_prior=True)\n",
            "\n",
            "Total time in :  0.01871967315673828\n",
            "\n",
            "Confusion_matrix is \n",
            " [[ 61  17  58   6  20   2   1   1   7  12   0   0  87  14   3]\n",
            " [  0 133   0   0   0   0   0   0   0   0   0   0 183   3   0]\n",
            " [  0   0 241   0   0   0  26   0   0   3   0   0  11   4   7]\n",
            " [  0   0   0 154   0   0   0   0   0   0   0   0   6   0 136]\n",
            " [  0  20   0   8 228   0   0   0   0   0   0   0  24  37   0]\n",
            " [  0   0   0   0   0   0 211   0   0  22   0   0  18   0  19]\n",
            " [  0   0   0   0   0   0 295   0   0   3   0   0   1   0  11]\n",
            " [  0   0   0   0   0  10   0   0   0 115   0   0 118   0  53]\n",
            " [  0   0   0   0   0   0   0   0 142   1   0   0 148   0   0]\n",
            " [  0   0   0   0   0   5   2   0   9 138   0   0 149   0   3]\n",
            " [  0   2   0   3  10   0 105   0  45   1  90   0   0  67   0]\n",
            " [  0   0   0   0   0   0   0   0   0   0  83 205   0  12   0]\n",
            " [  0   0   0   0   0   1  67   0   0   0   0   0 243   0   1]\n",
            " [  0   0   0   0   0   0  14   0   0   0   0   1   1 264  15]\n",
            " [  0   0   0   0   0   0   0   0   0   0   0   0   0  24 260]]\n",
            "\n",
            "Precision :  0.5453333333333333\n",
            "Recall    :  0.5453333333333333\n",
            "f1_score  :  0.5453333333333333\n",
            "2) Classifier is : DecisionTreeClassifier(ccp_alpha=0.0, class_weight=None, criterion='entropy',\n",
            "                       max_depth=None, max_features=5, max_leaf_nodes=None,\n",
            "                       min_impurity_decrease=0.0, min_impurity_split=None,\n",
            "                       min_samples_leaf=8, min_samples_split=2,\n",
            "                       min_weight_fraction_leaf=0.0, presort='deprecated',\n",
            "                       random_state=None, splitter='best')\n",
            "\n",
            "Total time in :  0.04055070877075195\n",
            "\n",
            "Confusion_matrix is \n",
            " [[251   5   0   1  11  11   2   0   1   1   5   1   0   0   0]\n",
            " [  3 314   2   0   0   0   0   0   0   0   0   0   0   0   0]\n",
            " [  2   0 277   0   0   3   1   1   0   0   1   0   5   2   0]\n",
            " [  1   0   0 295   0   0   0   0   0   0   0   0   0   0   0]\n",
            " [  0   0   0   0 317   0   0   0   0   0   0   0   0   0   0]\n",
            " [  3   0   0   0   0 161  98   5   0   1   0   0   0   2   0]\n",
            " [  0   0   0   0   0  32 270   2   0   1   1   0   3   1   0]\n",
            " [  0   0   0   0   0   0   0 296   0   0   0   0   0   0   0]\n",
            " [  0   0   0   0   0   0   0   0 291   0   0   0   0   0   0]\n",
            " [  0   0   0   0   0   0   0   0   0 305   1   0   0   0   0]\n",
            " [  5   0   0   0   2   1   1   0   0   0 314   0   0   0   0]\n",
            " [  0   0   0   0   0   0   0   0   0   0   0 300   0   0   0]\n",
            " [  3   0   1   0   0   0   0   0   0   2   0   0 306   0   0]\n",
            " [  0   0   5   0   0   0   0   1   0   0   1   0   0 288   0]\n",
            " [  0   0   0   0   0   0   0   0   0   0   0   0   0   0 284]]\n",
            "\n",
            "Precision :  0.9486666666666667\n",
            "Recall    :  0.9486666666666667\n",
            "f1_score  :  0.9486666666666667\n",
            "3) Classifier is : GaussianNB(priors=None, var_smoothing=1e-07)\n",
            "\n",
            "Total time in :  0.03380560874938965\n",
            "\n",
            "Confusion_matrix is \n",
            " [[268   5  16   0   0   0   0   0   0   0   0   0   0   0   0]\n",
            " [  0 319   0   0   0   0   0   0   0   0   0   0   0   0   0]\n",
            " [ 18   0 274   0   0   0   0   0   0   0   0   0   0   0   0]\n",
            " [  0   0   0 296   0   0   0   0   0   0   0   0   0   0   0]\n",
            " [  0   0   0   0 317   0   0   0   0   0   0   0   0   0   0]\n",
            " [  0   0   0   0   0  56 214   0   0   0   0   0   0   0   0]\n",
            " [  0   0   0   0   0   7 299   4   0   0   0   0   0   0   0]\n",
            " [  0   0   0   0   0   0   0 296   0   0   0   0   0   0   0]\n",
            " [  0   0   0   0   0   0   0   0 291   0   0   0   0   0   0]\n",
            " [  0   0   0   0   0   0   0   0   0 306   0   0   0   0   0]\n",
            " [  0   0   0   0   0   0   0   0   0   0 320   0   3   0   0]\n",
            " [  0   0   0   0   0   0   0   0   0   0   0 300   0   0   0]\n",
            " [  0   0   0   0   0   0   0   0   0   0   0   0 312   0   0]\n",
            " [  0   0   0   0   0   0   0   0   0   0   1   0   0 294   0]\n",
            " [  0   0   0   0   0   0   0   0   0   0   0   0   0   0 284]]\n",
            "\n",
            "Precision :  0.9404444444444444\n",
            "Recall    :  0.9404444444444444\n",
            "f1_score  :  0.9404444444444444\n",
            "4) Classifier is : KNeighborsClassifier(algorithm='brute', leaf_size=1, metric='minkowski',\n",
            "                     metric_params=None, n_jobs=-1, n_neighbors=5, p=2,\n",
            "                     weights='distance')\n",
            "\n",
            "Total time in :  1.2634830474853516\n",
            "\n",
            "Confusion_matrix is \n",
            " [[285   0   1   1   2   0   0   0   0   0   0   0   0   0   0]\n",
            " [  0 319   0   0   0   0   0   0   0   0   0   0   0   0   0]\n",
            " [  2   0 288   0   0   0   0   2   0   0   0   0   0   0   0]\n",
            " [  0   0   0 296   0   0   0   0   0   0   0   0   0   0   0]\n",
            " [  0   0   0   0 317   0   0   0   0   0   0   0   0   0   0]\n",
            " [  0   0   0   0   0 194  75   1   0   0   0   0   0   0   0]\n",
            " [  0   0   0   0   0  33 275   2   0   0   0   0   0   0   0]\n",
            " [  0   0   0   0   0   0   0 296   0   0   0   0   0   0   0]\n",
            " [  0   0   0   0   0   0   0   0 291   0   0   0   0   0   0]\n",
            " [  0   0   0   0   0   0   0   0   1 303   2   0   0   0   0]\n",
            " [  0   0   0   0   0   0   0   0   0   1 320   0   2   0   0]\n",
            " [  0   0   0   0   0   0   0   0   0   0   0 300   0   0   0]\n",
            " [  0   0   0   0   0   0   0   0   0   0   0   0 312   0   0]\n",
            " [  0   0   0   0   0   0   0   0   0   0   0   0   0 295   0]\n",
            " [  0   0   0   0   0   0   0   0   0   0   0   0   0   0 284]]\n",
            "\n",
            "Precision :  0.9722222222222222\n",
            "Recall    :  0.9722222222222222\n",
            "f1_score  :  0.9722222222222222\n",
            "5) Classifier is : LogisticRegression(C=1.0, class_weight=None, dual=False, fit_intercept=True,\n",
            "                   intercept_scaling=1, l1_ratio=None, max_iter=100,\n",
            "                   multi_class='auto', n_jobs=None, penalty='l2',\n",
            "                   random_state=None, solver='lbfgs', tol=0.0001, verbose=0,\n",
            "                   warm_start=False)\n",
            "\n",
            "Total time in :  1.6911678314208984\n",
            "\n",
            "Confusion_matrix is \n",
            " [[252  12  11   9   0   3   0   2   0   0   0   0   0   0   0]\n",
            " [  0 319   0   0   0   0   0   0   0   0   0   0   0   0   0]\n",
            " [ 14   7 267   0   0   0   0   4   0   0   0   0   0   0   0]\n",
            " [  2   4   0 290   0   0   0   0   0   0   0   0   0   0   0]\n",
            " [  0   0   9   7 301   0   0   0   0   0   0   0   0   0   0]\n",
            " [  0   0   0   0   0 133 112  25   0   0   0   0   0   0   0]\n",
            " [  2   0   0   0   0  94 204   5   0   0   0   0   5   0   0]\n",
            " [  0   0   0   0   0   0   0 296   0   0   0   0   0   0   0]\n",
            " [  0   0   0   0   0   0   0   0 290   1   0   0   0   0   0]\n",
            " [  0   0   0   0   0   0   0   0   8 295   2   0   1   0   0]\n",
            " [  0   0   0   0   2   0   2   0   3   1 315   0   0   0   0]\n",
            " [  0   0   0   0   0   0   0   0   0   0   0 300   0   0   0]\n",
            " [  0   0   0   0   0   0   0   0   0   0   0   0 312   0   0]\n",
            " [  0   0   0   0   0   0   0   0   0   0   0   1   0 294   0]\n",
            " [  0   0   0   0   0   0   0   0   0   0   0   0   0   0 284]]\n",
            "\n",
            "Precision :  0.9226666666666666\n",
            "Recall    :  0.9226666666666666\n",
            "f1_score  :  0.9226666666666666\n",
            "6) Classifier is : MultinomialNB(alpha=1.0, class_prior=None, fit_prior=True)\n",
            "\n",
            "Total time in :  0.008385419845581055\n",
            "\n",
            "Confusion_matrix is \n",
            " [[111   9   7  32  12   0   2   5   0   0  19   2  84   6   0]\n",
            " [ 37 103   0  53  13   0   0   0   0   0   0   0 113   0   0]\n",
            " [  0   4 231  10   0   0  35   1   0   0   0   0   9   2   0]\n",
            " [  0   1 136 154   0   0   0   0   0   0   0   0   5   0   0]\n",
            " [  0   0   9  21 253   0   0   0   0   0  34   0   0   0   0]\n",
            " [  0   0   0  22   0  16 212   2   0   0   0   0   0  18   0]\n",
            " [  0   0   0   9   0   0 289   1   0   0   0   0   0  11   0]\n",
            " [  0   0   0 125   0   0   0 104   0   0   0   0  14  53   0]\n",
            " [  0   0   0   0   0   0   0   0 142 149   0   0   0   0   0]\n",
            " [  0   0   0   0   0   0   1   0   8 293   2   0   0   2   0]\n",
            " [  3   0   0   3   0   0 149   1   0   0 105  62   0   0   0]\n",
            " [  0   0   0   0   0   0   0   0   0   0  18 282   0   0   0]\n",
            " [  0   0   0  39   0   0   0  14   0   0   0   0 259   0   0]\n",
            " [  0   0   0  14   0   0   0   0   0   0   0   1   0 280   0]\n",
            " [  0   0   0   0   0   0   0   0   0   0   0   0   0   0 284]]\n",
            "\n",
            "Precision :  0.6457777777777778\n",
            "Recall    :  0.6457777777777778\n",
            "f1_score  :  0.6457777777777778\n",
            "7) Classifier is : RandomForestClassifier(bootstrap=True, ccp_alpha=0.0, class_weight=None,\n",
            "                       criterion='gini', max_depth=8, max_features='auto',\n",
            "                       max_leaf_nodes=None, max_samples=None,\n",
            "                       min_impurity_decrease=0.0, min_impurity_split=None,\n",
            "                       min_samples_leaf=2, min_samples_split=2,\n",
            "                       min_weight_fraction_leaf=0.0, n_estimators=200,\n",
            "                       n_jobs=None, oob_score=False, random_state=None,\n",
            "                       verbose=0, warm_start=False)\n",
            "\n",
            "Total time in :  2.6134414672851562\n",
            "\n",
            "Confusion_matrix is \n",
            " [[278   0   0   0   0   0   0  11   0   0   0   0   0   0   0]\n",
            " [  0 319   0   0   0   0   0   0   0   0   0   0   0   0   0]\n",
            " [  0   0 275   0   0   0   1  13   0   0   0   0   3   0   0]\n",
            " [  0   0   0 296   0   0   0   0   0   0   0   0   0   0   0]\n",
            " [  0   0   0   0 317   0   0   0   0   0   0   0   0   0   0]\n",
            " [  0   0   0   0   0 251   0  19   0   0   0   0   0   0   0]\n",
            " [  0   0   0   0   0   0 298  12   0   0   0   0   0   0   0]\n",
            " [  0   0   0   0   0   0   0 296   0   0   0   0   0   0   0]\n",
            " [  0   0   0   0   0   0   0   0 291   0   0   0   0   0   0]\n",
            " [  0   0   0   0   0   0   0   0   0 306   0   0   0   0   0]\n",
            " [  5   0   0   0   0   1   0   0   0   1 316   0   0   0   0]\n",
            " [  0   0   0   0   0   0   0   0   0   0   0 300   0   0   0]\n",
            " [  0   0   0   0   0   0   0   0   0   0   0   0 312   0   0]\n",
            " [  0   0   0   0   0   0   0  15   0   0   0   1   0 279   0]\n",
            " [  0   0   0   0   0   0   0   0   0   0   0   0   0   0 284]]\n",
            "\n",
            "Precision :  0.9817777777777777\n",
            "Recall    :  0.9817777777777777\n",
            "f1_score  :  0.9817777777777777\n",
            "8) Classifier is : SGDClassifier(alpha=0.0001, average=False, class_weight=None,\n",
            "              early_stopping=False, epsilon=0.1, eta0=0.0, fit_intercept=True,\n",
            "              l1_ratio=0.15, learning_rate='optimal', loss='hinge',\n",
            "              max_iter=1000, n_iter_no_change=5, n_jobs=None, penalty='l1',\n",
            "              power_t=0.5, random_state=None, shuffle=True, tol=0.001,\n",
            "              validation_fraction=0.1, verbose=0, warm_start=False)\n",
            "\n",
            "Total time in :  0.5100586414337158\n",
            "\n",
            "Confusion_matrix is \n",
            " [[249   7   9  11   1   8   0   3   0   0   0   0   0   1   0]\n",
            " [  0 319   0   0   0   0   0   0   0   0   0   0   0   0   0]\n",
            " [  5   0 279   0   0   2   0   6   0   0   0   0   0   0   0]\n",
            " [  4   2   0 290   0   0   0   0   0   0   0   0   0   0   0]\n",
            " [  0   0   0   0 317   0   0   0   0   0   0   0   0   0   0]\n",
            " [  0   0   0   0   0 120 134  16   0   0   0   0   0   0   0]\n",
            " [  0   0   0   0   0  96 210   4   0   0   0   0   0   0   0]\n",
            " [  0   0   0   0   0   0   0 296   0   0   0   0   0   0   0]\n",
            " [  0   0   0   0   0   0   0   0 291   0   0   0   0   0   0]\n",
            " [  0   0   0   0   0   0   0   2   6 296   0   0   1   1   0]\n",
            " [  0   0   0   0   2   4   2   0   0   0 315   0   0   0   0]\n",
            " [  0   0   0   0   0   0   0   0   0   0   0 300   0   0   0]\n",
            " [  0   0   0   0   0   0   0   0   0   0   0   0 312   0   0]\n",
            " [  0   0   0   0   0   0   0   0   0   0   0   1   0 294   0]\n",
            " [  0   0   0   0   0   0   0   0   0   0   0   0   0   0 284]]\n",
            "\n",
            "Precision :  0.9271111111111111\n",
            "Recall    :  0.9271111111111111\n",
            "f1_score  :  0.9271111111111111\n",
            "9) Classifier is : SVC(C=12.0, break_ties=False, cache_size=200, class_weight=None, coef0=0.0,\n",
            "    decision_function_shape='ovr', degree=500, gamma='scale', kernel='rbf',\n",
            "    max_iter=-1, probability=False, random_state=None, shrinking=True,\n",
            "    tol=0.001, verbose=False)\n",
            "\n",
            "Total time in :  1.7194709777832031\n",
            "\n",
            "Confusion_matrix is \n",
            " [[271   8   5   5   0   0   0   0   0   0   0   0   0   0   0]\n",
            " [  0 319   0   0   0   0   0   0   0   0   0   0   0   0   0]\n",
            " [  5   0 287   0   0   0   0   0   0   0   0   0   0   0   0]\n",
            " [  0   0   0 296   0   0   0   0   0   0   0   0   0   0   0]\n",
            " [  0   0   0   0 317   0   0   0   0   0   0   0   0   0   0]\n",
            " [  0   0   0   0   0 175  81  14   0   0   0   0   0   0   0]\n",
            " [  0   0   0   0   0  95 211   4   0   0   0   0   0   0   0]\n",
            " [  0   0   0   0   0   0   0 296   0   0   0   0   0   0   0]\n",
            " [  0   0   0   0   0   0   0   0 291   0   0   0   0   0   0]\n",
            " [  0   0   0   0   0   0   0   0   8 296   2   0   0   0   0]\n",
            " [  0   0   0   0   0   0   0   0   0   0 320   0   2   1   0]\n",
            " [  0   0   0   0   0   0   0   0   0   0   0 300   0   0   0]\n",
            " [  0   0   0   0   0   0   0   0   0   0   0   0 312   0   0]\n",
            " [  0   0   0   0   0   0   0   0   0   0   1   0   0 294   0]\n",
            " [  0   0   0   0   0   0   0   0   0   0   0   0   0   0 284]]\n",
            "\n",
            "Precision :  0.9486666666666667\n",
            "Recall    :  0.9486666666666667\n",
            "f1_score  :  0.9486666666666667\n",
            "10) Classifier is : XGBClassifier(base_score=0.5, booster='dart', colsample_bylevel=1,\n",
            "              colsample_bynode=1, colsample_bytree=0.0, gamma=0.1,\n",
            "              learning_rate=1.5, max_delta_step=0, max_depth=6,\n",
            "              min_child_weight=1, missing=None, n_estimators=100, n_jobs=1,\n",
            "              nthread=None, objective='multi:softprob', random_state=0,\n",
            "              reg_alpha=0, reg_lambda=1, scale_pos_weight=1, seed=None,\n",
            "              silent=None, subsample=1, verbosity=1)\n",
            "\n",
            "Total time in :  24.718607425689697\n",
            "\n",
            "Confusion_matrix is \n",
            " [[286   0   0   1   0   0   0   0   0   0   1   1   0   0   0]\n",
            " [  0 319   0   0   0   0   0   0   0   0   0   0   0   0   0]\n",
            " [  0   1 286   0   0   3   0   0   0   0   0   0   1   1   0]\n",
            " [  2   0   0 294   0   0   0   0   0   0   0   0   0   0   0]\n",
            " [  0   0   0   0 317   0   0   0   0   0   0   0   0   0   0]\n",
            " [  2   0   0   0   0 266   0   1   0   1   0   0   0   0   0]\n",
            " [  0   0   0   0   0   0 310   0   0   0   0   0   0   0   0]\n",
            " [  0   0   0   0   0   0   0 296   0   0   0   0   0   0   0]\n",
            " [  0   0   0   0   0   0   0   0 291   0   0   0   0   0   0]\n",
            " [  0   0   0   0   0   0   0   0   0 306   0   0   0   0   0]\n",
            " [  1   0   0   0   0   0   0   0   1   1 318   1   1   0   0]\n",
            " [  0   0   0   0   0   0   0   0   0   0   0 300   0   0   0]\n",
            " [  0   0   0   0   0   0   0   0   0   0   0   1 311   0   0]\n",
            " [  0   0   0   0   0   0   0   0   0   0   0   1   0 294   0]\n",
            " [  0   0   0   0   0   0   0   0   0   0   0   0   0   0 284]]\n",
            "\n",
            "Precision :  0.9951111111111111\n",
            "Recall    :  0.9951111111111111\n",
            "f1_score  :  0.9951111111111111\n"
          ],
          "name": "stdout"
        }
      ]
    },
    {
      "cell_type": "markdown",
      "metadata": {
        "id": "sALFE6Hx2oCB",
        "colab_type": "text"
      },
      "source": [
        "#Accuracy for all model For Multiple Class"
      ]
    },
    {
      "cell_type": "code",
      "metadata": {
        "id": "81da8ErrOrty",
        "colab_type": "code",
        "colab": {
          "base_uri": "https://localhost:8080/",
          "height": 363
        },
        "outputId": "81d0b60b-cc03-4217-fd06-9697dcaaef31"
      },
      "source": [
        "score_df=pd.DataFrame.from_dict(dict(score),orient='index',columns=['scores','Precision','Recall','f1_score'])\n",
        "score_df['Accuracy (%)']=score_df['scores']*100\n",
        "score_df                   "
      ],
      "execution_count": null,
      "outputs": [
        {
          "output_type": "execute_result",
          "data": {
            "text/html": [
              "<div>\n",
              "<style scoped>\n",
              "    .dataframe tbody tr th:only-of-type {\n",
              "        vertical-align: middle;\n",
              "    }\n",
              "\n",
              "    .dataframe tbody tr th {\n",
              "        vertical-align: top;\n",
              "    }\n",
              "\n",
              "    .dataframe thead th {\n",
              "        text-align: right;\n",
              "    }\n",
              "</style>\n",
              "<table border=\"1\" class=\"dataframe\">\n",
              "  <thead>\n",
              "    <tr style=\"text-align: right;\">\n",
              "      <th></th>\n",
              "      <th>scores</th>\n",
              "      <th>Precision</th>\n",
              "      <th>Recall</th>\n",
              "      <th>f1_score</th>\n",
              "      <th>Accuracy (%)</th>\n",
              "    </tr>\n",
              "  </thead>\n",
              "  <tbody>\n",
              "    <tr>\n",
              "      <th>BernoulliNB</th>\n",
              "      <td>0.545333</td>\n",
              "      <td>0.545333</td>\n",
              "      <td>0.545333</td>\n",
              "      <td>0.545333</td>\n",
              "      <td>54.533333</td>\n",
              "    </tr>\n",
              "    <tr>\n",
              "      <th>DecisionTreeClassifier</th>\n",
              "      <td>0.948667</td>\n",
              "      <td>0.948667</td>\n",
              "      <td>0.948667</td>\n",
              "      <td>0.948667</td>\n",
              "      <td>94.866667</td>\n",
              "    </tr>\n",
              "    <tr>\n",
              "      <th>GaussianNB</th>\n",
              "      <td>0.940444</td>\n",
              "      <td>0.940444</td>\n",
              "      <td>0.940444</td>\n",
              "      <td>0.940444</td>\n",
              "      <td>94.044444</td>\n",
              "    </tr>\n",
              "    <tr>\n",
              "      <th>KNeighborsClassifier</th>\n",
              "      <td>0.972222</td>\n",
              "      <td>0.972222</td>\n",
              "      <td>0.972222</td>\n",
              "      <td>0.972222</td>\n",
              "      <td>97.222222</td>\n",
              "    </tr>\n",
              "    <tr>\n",
              "      <th>LogisticRegression</th>\n",
              "      <td>0.922667</td>\n",
              "      <td>0.922667</td>\n",
              "      <td>0.922667</td>\n",
              "      <td>0.922667</td>\n",
              "      <td>92.266667</td>\n",
              "    </tr>\n",
              "    <tr>\n",
              "      <th>MultinomialNB</th>\n",
              "      <td>0.645778</td>\n",
              "      <td>0.645778</td>\n",
              "      <td>0.645778</td>\n",
              "      <td>0.645778</td>\n",
              "      <td>64.577778</td>\n",
              "    </tr>\n",
              "    <tr>\n",
              "      <th>RandomForestClassifier</th>\n",
              "      <td>0.981778</td>\n",
              "      <td>0.981778</td>\n",
              "      <td>0.981778</td>\n",
              "      <td>0.981778</td>\n",
              "      <td>98.177778</td>\n",
              "    </tr>\n",
              "    <tr>\n",
              "      <th>SGDClassifier</th>\n",
              "      <td>0.927111</td>\n",
              "      <td>0.927111</td>\n",
              "      <td>0.927111</td>\n",
              "      <td>0.927111</td>\n",
              "      <td>92.711111</td>\n",
              "    </tr>\n",
              "    <tr>\n",
              "      <th>SVC</th>\n",
              "      <td>0.948667</td>\n",
              "      <td>0.948667</td>\n",
              "      <td>0.948667</td>\n",
              "      <td>0.948667</td>\n",
              "      <td>94.866667</td>\n",
              "    </tr>\n",
              "    <tr>\n",
              "      <th>XGBClassifier</th>\n",
              "      <td>0.995111</td>\n",
              "      <td>0.995111</td>\n",
              "      <td>0.995111</td>\n",
              "      <td>0.995111</td>\n",
              "      <td>99.511111</td>\n",
              "    </tr>\n",
              "  </tbody>\n",
              "</table>\n",
              "</div>"
            ],
            "text/plain": [
              "                          scores  Precision    Recall  f1_score  Accuracy (%)\n",
              "BernoulliNB             0.545333   0.545333  0.545333  0.545333     54.533333\n",
              "DecisionTreeClassifier  0.948667   0.948667  0.948667  0.948667     94.866667\n",
              "GaussianNB              0.940444   0.940444  0.940444  0.940444     94.044444\n",
              "KNeighborsClassifier    0.972222   0.972222  0.972222  0.972222     97.222222\n",
              "LogisticRegression      0.922667   0.922667  0.922667  0.922667     92.266667\n",
              "MultinomialNB           0.645778   0.645778  0.645778  0.645778     64.577778\n",
              "RandomForestClassifier  0.981778   0.981778  0.981778  0.981778     98.177778\n",
              "SGDClassifier           0.927111   0.927111  0.927111  0.927111     92.711111\n",
              "SVC                     0.948667   0.948667  0.948667  0.948667     94.866667\n",
              "XGBClassifier           0.995111   0.995111  0.995111  0.995111     99.511111"
            ]
          },
          "metadata": {
            "tags": []
          },
          "execution_count": 56
        }
      ]
    },
    {
      "cell_type": "markdown",
      "metadata": {
        "id": "dodVmjT72uW2",
        "colab_type": "text"
      },
      "source": [
        "#Histogram Plot all Models in Multiple Class"
      ]
    },
    {
      "cell_type": "code",
      "metadata": {
        "id": "B81t3c-WTUb3",
        "colab_type": "code",
        "colab": {
          "base_uri": "https://localhost:8080/",
          "height": 420
        },
        "outputId": "59c799d1-4acb-447b-b1ca-019854846879"
      },
      "source": [
        "pos = list(range(len(df['Classifiers']))) \n",
        "width = 0.10 \n",
        "    \n",
        "# Plotting the bars\n",
        "fig, ax = plt.subplots(figsize=(22,10)) \n",
        "plt.bar(pos,score_df['scores'],width,alpha=0.9,color='red',label=score_df['scores'][0]) \n",
        "plt.bar([p + width for p in pos],score_df['Precision'],width,alpha=0.9,color='turquoise',label=score_df['Precision'][1]) \n",
        "plt.bar([p + width*2 for p in pos],score_df['Recall'],width,alpha=0.9, color='orange',label=score_df['Recall']) \n",
        "plt.bar([p + width*3 for p in pos],score_df['f1_score'],width,alpha=0.9, color='green',label=score_df['f1_score']) \n",
        "ax.set_ylabel('Score',fontsize=25)\n",
        "ax.set_xlabel('Classifiers',fontsize=25)\n",
        "ax.set_title('Test Scores ',fontsize=25)\n",
        "ax.set_xticks([p + 1.9 * width for p in pos])\n",
        "ax.set_xticklabels(df['Classifiers'])\n",
        "plt.legend(['scores', 'Precision', 'recall','f1_score'], loc='upper left')\n",
        "plt.grid()\n",
        "plt.tick_params(axis='both', which='major', colors='black',labelsize=12)\n",
        "\n",
        "plt.show()"
      ],
      "execution_count": null,
      "outputs": [
        {
          "output_type": "display_data",
          "data": {
            "image/png": "[encoded data removed]",
            "text/plain": [
              "<Figure size 1584x720 with 1 Axes>"
            ]
          },
          "metadata": {
            "tags": []
          }
        }
      ]
    },
    {
      "cell_type": "markdown",
      "metadata": {
        "id": "3xTxAi-b7MN0",
        "colab_type": "text"
      },
      "source": [
        "# Binary Class Probelom"
      ]
    },
    {
      "cell_type": "code",
      "metadata": {
        "id": "FnnZ4yG77RtH",
        "colab_type": "code",
        "colab": {}
      },
      "source": [
        "real_x = df1.iloc[:,:-1]\n",
        "real_y = df1.iloc[:,-1]"
      ],
      "execution_count": null,
      "outputs": []
    },
    {
      "cell_type": "markdown",
      "metadata": {
        "id": "CD8eGqZ8rikE",
        "colab_type": "text"
      },
      "source": [
        "#Feature Scaling using MinMaxScaler"
      ]
    },
    {
      "cell_type": "code",
      "metadata": {
        "id": "Ve7-M87xmR38",
        "colab_type": "code",
        "colab": {}
      },
      "source": [
        "from sklearn.preprocessing import MinMaxScaler as Scaler\n",
        "scaler=Scaler()\n",
        "scaler.fit(real_x)\n",
        "ids_scaled=scaler.transform(real_x)"
      ],
      "execution_count": null,
      "outputs": []
    },
    {
      "cell_type": "code",
      "metadata": {
        "id": "RF0ne5je3fQ9",
        "colab_type": "code",
        "colab": {}
      },
      "source": [
        "X_new=pd.DataFrame(data=ids_scaled)"
      ],
      "execution_count": null,
      "outputs": []
    },
    {
      "cell_type": "code",
      "metadata": {
        "id": "EE7mMgbX3oP_",
        "colab_type": "code",
        "colab": {
          "base_uri": "https://localhost:8080/",
          "height": 308
        },
        "outputId": "4dd3f3a9-7c39-407a-cc04-0dd8db444e25"
      },
      "source": [
        "X_new.columns=[' Source IP', ' Source Port', ' Destination IP',' Destination Port', ' Protocol', ' Timestamp', ' Flow Duration',' Total Fwd Packets',\n",
        "             ' Total Backward Packets','Total Length of Fwd Packets', ' Total Length of Bwd Packets',' Fwd Packet Length Max', ' Fwd Packet Length Min',\n",
        "             ' Fwd Packet Length Mean', ' Fwd Packet Length Std','Bwd Packet Length Max', ' Bwd Packet Length Min',' Bwd Packet Length Mean', \n",
        "             ' Bwd Packet Length Std', 'Flow Bytes/s',' Flow Packets/s', ' Flow IAT Mean', ' Flow IAT Std', ' Flow IAT Max',' Flow IAT Min', \n",
        "             'Fwd IAT Total', ' Fwd IAT Mean', ' Fwd IAT Std',' Fwd IAT Max', ' Fwd IAT Min', 'Bwd IAT Total', ' Bwd IAT Mean',' Bwd IAT Std', \n",
        "             ' Bwd IAT Max', ' Bwd IAT Min', 'Fwd PSH Flags',' Bwd PSH Flags', ' Fwd URG Flags', ' Bwd URG Flags',' Fwd Header Length', \n",
        "             ' Bwd Header Length', 'Fwd Packets/s',' Bwd Packets/s', ' Min Packet Length', ' Max Packet Length',' Packet Length Mean', \n",
        "             ' Packet Length Std', ' Packet Length Variance','FIN Flag Count', ' SYN Flag Count', ' RST Flag Count',' PSH Flag Count', ' ACK Flag Count', \n",
        "             ' URG Flag Count',' CWE Flag Count', ' ECE Flag Count', ' Down/Up Ratio',' Average Packet Size', ' Avg Fwd Segment Size',' Avg Bwd Segment Size', \n",
        "             ' Fwd Header Length.1', 'Fwd Avg Bytes/Bulk',' Fwd Avg Packets/Bulk', ' Fwd Avg Bulk Rate', ' Bwd Avg Bytes/Bulk',' Bwd Avg Packets/Bulk', \n",
        "             'Bwd Avg Bulk Rate', 'Subflow Fwd Packets',' Subflow Fwd Bytes', ' Subflow Bwd Packets', ' Subflow Bwd Bytes','Init_Win_bytes_forward', \n",
        "             ' Init_Win_bytes_backward',' act_data_pkt_fwd', ' min_seg_size_forward', 'Active Mean',' Active Std', ' Active Max', ' Active Min', 'Idle Mean', \n",
        "             ' Idle Std',' Idle Max', ' Idle Min']\n",
        "X_new.head()"
      ],
      "execution_count": null,
      "outputs": [
        {
          "output_type": "execute_result",
          "data": {
            "text/html": [
              "<div>\n",
              "<style scoped>\n",
              "    .dataframe tbody tr th:only-of-type {\n",
              "        vertical-align: middle;\n",
              "    }\n",
              "\n",
              "    .dataframe tbody tr th {\n",
              "        vertical-align: top;\n",
              "    }\n",
              "\n",
              "    .dataframe thead th {\n",
              "        text-align: right;\n",
              "    }\n",
              "</style>\n",
              "<table border=\"1\" class=\"dataframe\">\n",
              "  <thead>\n",
              "    <tr style=\"text-align: right;\">\n",
              "      <th></th>\n",
              "      <th>Source IP</th>\n",
              "      <th>Source Port</th>\n",
              "      <th>Destination IP</th>\n",
              "      <th>Destination Port</th>\n",
              "      <th>Protocol</th>\n",
              "      <th>Timestamp</th>\n",
              "      <th>Flow Duration</th>\n",
              "      <th>Total Fwd Packets</th>\n",
              "      <th>Total Backward Packets</th>\n",
              "      <th>Total Length of Fwd Packets</th>\n",
              "      <th>Total Length of Bwd Packets</th>\n",
              "      <th>Fwd Packet Length Max</th>\n",
              "      <th>Fwd Packet Length Min</th>\n",
              "      <th>Fwd Packet Length Mean</th>\n",
              "      <th>Fwd Packet Length Std</th>\n",
              "      <th>Bwd Packet Length Max</th>\n",
              "      <th>Bwd Packet Length Min</th>\n",
              "      <th>Bwd Packet Length Mean</th>\n",
              "      <th>Bwd Packet Length Std</th>\n",
              "      <th>Flow Bytes/s</th>\n",
              "      <th>Flow Packets/s</th>\n",
              "      <th>Flow IAT Mean</th>\n",
              "      <th>Flow IAT Std</th>\n",
              "      <th>Flow IAT Max</th>\n",
              "      <th>Flow IAT Min</th>\n",
              "      <th>Fwd IAT Total</th>\n",
              "      <th>Fwd IAT Mean</th>\n",
              "      <th>Fwd IAT Std</th>\n",
              "      <th>Fwd IAT Max</th>\n",
              "      <th>Fwd IAT Min</th>\n",
              "      <th>Bwd IAT Total</th>\n",
              "      <th>Bwd IAT Mean</th>\n",
              "      <th>Bwd IAT Std</th>\n",
              "      <th>Bwd IAT Max</th>\n",
              "      <th>Bwd IAT Min</th>\n",
              "      <th>Fwd PSH Flags</th>\n",
              "      <th>Bwd PSH Flags</th>\n",
              "      <th>Fwd URG Flags</th>\n",
              "      <th>Bwd URG Flags</th>\n",
              "      <th>Fwd Header Length</th>\n",
              "      <th>...</th>\n",
              "      <th>Min Packet Length</th>\n",
              "      <th>Max Packet Length</th>\n",
              "      <th>Packet Length Mean</th>\n",
              "      <th>Packet Length Std</th>\n",
              "      <th>Packet Length Variance</th>\n",
              "      <th>FIN Flag Count</th>\n",
              "      <th>SYN Flag Count</th>\n",
              "      <th>RST Flag Count</th>\n",
              "      <th>PSH Flag Count</th>\n",
              "      <th>ACK Flag Count</th>\n",
              "      <th>URG Flag Count</th>\n",
              "      <th>CWE Flag Count</th>\n",
              "      <th>ECE Flag Count</th>\n",
              "      <th>Down/Up Ratio</th>\n",
              "      <th>Average Packet Size</th>\n",
              "      <th>Avg Fwd Segment Size</th>\n",
              "      <th>Avg Bwd Segment Size</th>\n",
              "      <th>Fwd Header Length.1</th>\n",
              "      <th>Fwd Avg Bytes/Bulk</th>\n",
              "      <th>Fwd Avg Packets/Bulk</th>\n",
              "      <th>Fwd Avg Bulk Rate</th>\n",
              "      <th>Bwd Avg Bytes/Bulk</th>\n",
              "      <th>Bwd Avg Packets/Bulk</th>\n",
              "      <th>Bwd Avg Bulk Rate</th>\n",
              "      <th>Subflow Fwd Packets</th>\n",
              "      <th>Subflow Fwd Bytes</th>\n",
              "      <th>Subflow Bwd Packets</th>\n",
              "      <th>Subflow Bwd Bytes</th>\n",
              "      <th>Init_Win_bytes_forward</th>\n",
              "      <th>Init_Win_bytes_backward</th>\n",
              "      <th>act_data_pkt_fwd</th>\n",
              "      <th>min_seg_size_forward</th>\n",
              "      <th>Active Mean</th>\n",
              "      <th>Active Std</th>\n",
              "      <th>Active Max</th>\n",
              "      <th>Active Min</th>\n",
              "      <th>Idle Mean</th>\n",
              "      <th>Idle Std</th>\n",
              "      <th>Idle Max</th>\n",
              "      <th>Idle Min</th>\n",
              "    </tr>\n",
              "  </thead>\n",
              "  <tbody>\n",
              "    <tr>\n",
              "      <th>0</th>\n",
              "      <td>0.449941</td>\n",
              "      <td>0.006760</td>\n",
              "      <td>0.869272</td>\n",
              "      <td>0.842405</td>\n",
              "      <td>0.352941</td>\n",
              "      <td>0.996692</td>\n",
              "      <td>2.500100e-08</td>\n",
              "      <td>0.000181</td>\n",
              "      <td>0.000000</td>\n",
              "      <td>0.000004</td>\n",
              "      <td>0.000000e+00</td>\n",
              "      <td>0.000257</td>\n",
              "      <td>0.025974</td>\n",
              "      <td>0.00101</td>\n",
              "      <td>0.0</td>\n",
              "      <td>0.000000</td>\n",
              "      <td>0.000000</td>\n",
              "      <td>0.000000</td>\n",
              "      <td>0.0</td>\n",
              "      <td>0.006483</td>\n",
              "      <td>0.222222</td>\n",
              "      <td>9.009009e-08</td>\n",
              "      <td>0.0</td>\n",
              "      <td>2.586207e-08</td>\n",
              "      <td>3.125000e-07</td>\n",
              "      <td>2.500000e-08</td>\n",
              "      <td>3.000000e-08</td>\n",
              "      <td>0.0</td>\n",
              "      <td>2.586207e-08</td>\n",
              "      <td>3.000000e-08</td>\n",
              "      <td>0.0</td>\n",
              "      <td>0.0</td>\n",
              "      <td>0.0</td>\n",
              "      <td>0.0</td>\n",
              "      <td>0.0</td>\n",
              "      <td>0.0</td>\n",
              "      <td>0.0</td>\n",
              "      <td>0.0</td>\n",
              "      <td>0.0</td>\n",
              "      <td>0.000362</td>\n",
              "      <td>...</td>\n",
              "      <td>0.06383</td>\n",
              "      <td>0.000257</td>\n",
              "      <td>0.003338</td>\n",
              "      <td>0.0</td>\n",
              "      <td>0.0</td>\n",
              "      <td>0.0</td>\n",
              "      <td>0.0</td>\n",
              "      <td>0.0</td>\n",
              "      <td>0.0</td>\n",
              "      <td>1.0</td>\n",
              "      <td>0.0</td>\n",
              "      <td>0.0</td>\n",
              "      <td>0.0</td>\n",
              "      <td>0.000000</td>\n",
              "      <td>0.004644</td>\n",
              "      <td>0.00101</td>\n",
              "      <td>0.000000</td>\n",
              "      <td>0.000362</td>\n",
              "      <td>0.0</td>\n",
              "      <td>0.0</td>\n",
              "      <td>0.0</td>\n",
              "      <td>0.0</td>\n",
              "      <td>0.0</td>\n",
              "      <td>0.0</td>\n",
              "      <td>0.000181</td>\n",
              "      <td>0.000004</td>\n",
              "      <td>0.000000</td>\n",
              "      <td>0.000000e+00</td>\n",
              "      <td>0.000519</td>\n",
              "      <td>0.000000</td>\n",
              "      <td>0.000181</td>\n",
              "      <td>0.5</td>\n",
              "      <td>0.0</td>\n",
              "      <td>0.0</td>\n",
              "      <td>0.0</td>\n",
              "      <td>0.0</td>\n",
              "      <td>0.0</td>\n",
              "      <td>0.0</td>\n",
              "      <td>0.0</td>\n",
              "      <td>0.0</td>\n",
              "    </tr>\n",
              "    <tr>\n",
              "      <th>1</th>\n",
              "      <td>0.449928</td>\n",
              "      <td>0.001221</td>\n",
              "      <td>0.869272</td>\n",
              "      <td>0.845307</td>\n",
              "      <td>0.352941</td>\n",
              "      <td>0.996692</td>\n",
              "      <td>9.083698e-07</td>\n",
              "      <td>0.000000</td>\n",
              "      <td>0.000181</td>\n",
              "      <td>0.000002</td>\n",
              "      <td>7.611864e-07</td>\n",
              "      <td>0.000257</td>\n",
              "      <td>0.025974</td>\n",
              "      <td>0.00101</td>\n",
              "      <td>0.0</td>\n",
              "      <td>0.000345</td>\n",
              "      <td>0.016854</td>\n",
              "      <td>0.001373</td>\n",
              "      <td>0.0</td>\n",
              "      <td>0.000178</td>\n",
              "      <td>0.006116</td>\n",
              "      <td>3.273273e-06</td>\n",
              "      <td>0.0</td>\n",
              "      <td>9.396552e-07</td>\n",
              "      <td>8.593749e-06</td>\n",
              "      <td>0.000000e+00</td>\n",
              "      <td>0.000000e+00</td>\n",
              "      <td>0.0</td>\n",
              "      <td>0.000000e+00</td>\n",
              "      <td>0.000000e+00</td>\n",
              "      <td>0.0</td>\n",
              "      <td>0.0</td>\n",
              "      <td>0.0</td>\n",
              "      <td>0.0</td>\n",
              "      <td>0.0</td>\n",
              "      <td>0.0</td>\n",
              "      <td>0.0</td>\n",
              "      <td>0.0</td>\n",
              "      <td>0.0</td>\n",
              "      <td>0.000181</td>\n",
              "      <td>...</td>\n",
              "      <td>0.06383</td>\n",
              "      <td>0.000257</td>\n",
              "      <td>0.003338</td>\n",
              "      <td>0.0</td>\n",
              "      <td>0.0</td>\n",
              "      <td>0.0</td>\n",
              "      <td>0.0</td>\n",
              "      <td>0.0</td>\n",
              "      <td>0.0</td>\n",
              "      <td>1.0</td>\n",
              "      <td>1.0</td>\n",
              "      <td>0.0</td>\n",
              "      <td>0.0</td>\n",
              "      <td>0.333333</td>\n",
              "      <td>0.004644</td>\n",
              "      <td>0.00101</td>\n",
              "      <td>0.001373</td>\n",
              "      <td>0.000181</td>\n",
              "      <td>0.0</td>\n",
              "      <td>0.0</td>\n",
              "      <td>0.0</td>\n",
              "      <td>0.0</td>\n",
              "      <td>0.0</td>\n",
              "      <td>0.0</td>\n",
              "      <td>0.000000</td>\n",
              "      <td>0.000002</td>\n",
              "      <td>0.000181</td>\n",
              "      <td>7.611864e-07</td>\n",
              "      <td>0.000458</td>\n",
              "      <td>0.003922</td>\n",
              "      <td>0.000000</td>\n",
              "      <td>0.5</td>\n",
              "      <td>0.0</td>\n",
              "      <td>0.0</td>\n",
              "      <td>0.0</td>\n",
              "      <td>0.0</td>\n",
              "      <td>0.0</td>\n",
              "      <td>0.0</td>\n",
              "      <td>0.0</td>\n",
              "      <td>0.0</td>\n",
              "    </tr>\n",
              "    <tr>\n",
              "      <th>2</th>\n",
              "      <td>0.449928</td>\n",
              "      <td>0.001221</td>\n",
              "      <td>0.869272</td>\n",
              "      <td>0.845322</td>\n",
              "      <td>0.352941</td>\n",
              "      <td>0.996692</td>\n",
              "      <td>4.333507e-07</td>\n",
              "      <td>0.000000</td>\n",
              "      <td>0.000181</td>\n",
              "      <td>0.000002</td>\n",
              "      <td>7.611864e-07</td>\n",
              "      <td>0.000257</td>\n",
              "      <td>0.025974</td>\n",
              "      <td>0.00101</td>\n",
              "      <td>0.0</td>\n",
              "      <td>0.000345</td>\n",
              "      <td>0.016854</td>\n",
              "      <td>0.001373</td>\n",
              "      <td>0.0</td>\n",
              "      <td>0.000374</td>\n",
              "      <td>0.012821</td>\n",
              "      <td>1.561562e-06</td>\n",
              "      <td>0.0</td>\n",
              "      <td>4.482759e-07</td>\n",
              "      <td>4.140625e-06</td>\n",
              "      <td>0.000000e+00</td>\n",
              "      <td>0.000000e+00</td>\n",
              "      <td>0.0</td>\n",
              "      <td>0.000000e+00</td>\n",
              "      <td>0.000000e+00</td>\n",
              "      <td>0.0</td>\n",
              "      <td>0.0</td>\n",
              "      <td>0.0</td>\n",
              "      <td>0.0</td>\n",
              "      <td>0.0</td>\n",
              "      <td>0.0</td>\n",
              "      <td>0.0</td>\n",
              "      <td>0.0</td>\n",
              "      <td>0.0</td>\n",
              "      <td>0.000181</td>\n",
              "      <td>...</td>\n",
              "      <td>0.06383</td>\n",
              "      <td>0.000257</td>\n",
              "      <td>0.003338</td>\n",
              "      <td>0.0</td>\n",
              "      <td>0.0</td>\n",
              "      <td>0.0</td>\n",
              "      <td>0.0</td>\n",
              "      <td>0.0</td>\n",
              "      <td>0.0</td>\n",
              "      <td>1.0</td>\n",
              "      <td>1.0</td>\n",
              "      <td>0.0</td>\n",
              "      <td>0.0</td>\n",
              "      <td>0.333333</td>\n",
              "      <td>0.004644</td>\n",
              "      <td>0.00101</td>\n",
              "      <td>0.001373</td>\n",
              "      <td>0.000181</td>\n",
              "      <td>0.0</td>\n",
              "      <td>0.0</td>\n",
              "      <td>0.0</td>\n",
              "      <td>0.0</td>\n",
              "      <td>0.0</td>\n",
              "      <td>0.0</td>\n",
              "      <td>0.000000</td>\n",
              "      <td>0.000002</td>\n",
              "      <td>0.000181</td>\n",
              "      <td>7.611864e-07</td>\n",
              "      <td>0.000458</td>\n",
              "      <td>0.003922</td>\n",
              "      <td>0.000000</td>\n",
              "      <td>0.5</td>\n",
              "      <td>0.0</td>\n",
              "      <td>0.0</td>\n",
              "      <td>0.0</td>\n",
              "      <td>0.0</td>\n",
              "      <td>0.0</td>\n",
              "      <td>0.0</td>\n",
              "      <td>0.0</td>\n",
              "      <td>0.0</td>\n",
              "    </tr>\n",
              "    <tr>\n",
              "      <th>3</th>\n",
              "      <td>0.449962</td>\n",
              "      <td>0.006760</td>\n",
              "      <td>0.869272</td>\n",
              "      <td>0.709914</td>\n",
              "      <td>0.352941</td>\n",
              "      <td>0.996692</td>\n",
              "      <td>2.833447e-07</td>\n",
              "      <td>0.000000</td>\n",
              "      <td>0.000181</td>\n",
              "      <td>0.000002</td>\n",
              "      <td>7.611864e-07</td>\n",
              "      <td>0.000257</td>\n",
              "      <td>0.025974</td>\n",
              "      <td>0.00101</td>\n",
              "      <td>0.0</td>\n",
              "      <td>0.000345</td>\n",
              "      <td>0.016854</td>\n",
              "      <td>0.001373</td>\n",
              "      <td>0.0</td>\n",
              "      <td>0.000572</td>\n",
              "      <td>0.019608</td>\n",
              "      <td>1.021021e-06</td>\n",
              "      <td>0.0</td>\n",
              "      <td>2.931034e-07</td>\n",
              "      <td>2.734375e-06</td>\n",
              "      <td>0.000000e+00</td>\n",
              "      <td>0.000000e+00</td>\n",
              "      <td>0.0</td>\n",
              "      <td>0.000000e+00</td>\n",
              "      <td>0.000000e+00</td>\n",
              "      <td>0.0</td>\n",
              "      <td>0.0</td>\n",
              "      <td>0.0</td>\n",
              "      <td>0.0</td>\n",
              "      <td>0.0</td>\n",
              "      <td>0.0</td>\n",
              "      <td>0.0</td>\n",
              "      <td>0.0</td>\n",
              "      <td>0.0</td>\n",
              "      <td>0.000181</td>\n",
              "      <td>...</td>\n",
              "      <td>0.06383</td>\n",
              "      <td>0.000257</td>\n",
              "      <td>0.003338</td>\n",
              "      <td>0.0</td>\n",
              "      <td>0.0</td>\n",
              "      <td>0.0</td>\n",
              "      <td>0.0</td>\n",
              "      <td>0.0</td>\n",
              "      <td>0.0</td>\n",
              "      <td>1.0</td>\n",
              "      <td>1.0</td>\n",
              "      <td>0.0</td>\n",
              "      <td>0.0</td>\n",
              "      <td>0.333333</td>\n",
              "      <td>0.004644</td>\n",
              "      <td>0.00101</td>\n",
              "      <td>0.001373</td>\n",
              "      <td>0.000181</td>\n",
              "      <td>0.0</td>\n",
              "      <td>0.0</td>\n",
              "      <td>0.0</td>\n",
              "      <td>0.0</td>\n",
              "      <td>0.0</td>\n",
              "      <td>0.0</td>\n",
              "      <td>0.000000</td>\n",
              "      <td>0.000002</td>\n",
              "      <td>0.000181</td>\n",
              "      <td>7.611864e-07</td>\n",
              "      <td>0.000488</td>\n",
              "      <td>0.005035</td>\n",
              "      <td>0.000000</td>\n",
              "      <td>0.5</td>\n",
              "      <td>0.0</td>\n",
              "      <td>0.0</td>\n",
              "      <td>0.0</td>\n",
              "      <td>0.0</td>\n",
              "      <td>0.0</td>\n",
              "      <td>0.0</td>\n",
              "      <td>0.0</td>\n",
              "      <td>0.0</td>\n",
              "    </tr>\n",
              "    <tr>\n",
              "      <th>4</th>\n",
              "      <td>0.449995</td>\n",
              "      <td>0.006760</td>\n",
              "      <td>0.869272</td>\n",
              "      <td>0.842374</td>\n",
              "      <td>0.352941</td>\n",
              "      <td>0.996692</td>\n",
              "      <td>2.500100e-08</td>\n",
              "      <td>0.000181</td>\n",
              "      <td>0.000000</td>\n",
              "      <td>0.000004</td>\n",
              "      <td>0.000000e+00</td>\n",
              "      <td>0.000257</td>\n",
              "      <td>0.025974</td>\n",
              "      <td>0.00101</td>\n",
              "      <td>0.0</td>\n",
              "      <td>0.000000</td>\n",
              "      <td>0.000000</td>\n",
              "      <td>0.000000</td>\n",
              "      <td>0.0</td>\n",
              "      <td>0.006483</td>\n",
              "      <td>0.222222</td>\n",
              "      <td>9.009009e-08</td>\n",
              "      <td>0.0</td>\n",
              "      <td>2.586207e-08</td>\n",
              "      <td>3.125000e-07</td>\n",
              "      <td>2.500000e-08</td>\n",
              "      <td>3.000000e-08</td>\n",
              "      <td>0.0</td>\n",
              "      <td>2.586207e-08</td>\n",
              "      <td>3.000000e-08</td>\n",
              "      <td>0.0</td>\n",
              "      <td>0.0</td>\n",
              "      <td>0.0</td>\n",
              "      <td>0.0</td>\n",
              "      <td>0.0</td>\n",
              "      <td>0.0</td>\n",
              "      <td>0.0</td>\n",
              "      <td>0.0</td>\n",
              "      <td>0.0</td>\n",
              "      <td>0.000362</td>\n",
              "      <td>...</td>\n",
              "      <td>0.06383</td>\n",
              "      <td>0.000257</td>\n",
              "      <td>0.003338</td>\n",
              "      <td>0.0</td>\n",
              "      <td>0.0</td>\n",
              "      <td>0.0</td>\n",
              "      <td>0.0</td>\n",
              "      <td>0.0</td>\n",
              "      <td>0.0</td>\n",
              "      <td>1.0</td>\n",
              "      <td>0.0</td>\n",
              "      <td>0.0</td>\n",
              "      <td>0.0</td>\n",
              "      <td>0.000000</td>\n",
              "      <td>0.004644</td>\n",
              "      <td>0.00101</td>\n",
              "      <td>0.000000</td>\n",
              "      <td>0.000362</td>\n",
              "      <td>0.0</td>\n",
              "      <td>0.0</td>\n",
              "      <td>0.0</td>\n",
              "      <td>0.0</td>\n",
              "      <td>0.0</td>\n",
              "      <td>0.0</td>\n",
              "      <td>0.000181</td>\n",
              "      <td>0.000004</td>\n",
              "      <td>0.000000</td>\n",
              "      <td>0.000000e+00</td>\n",
              "      <td>0.000504</td>\n",
              "      <td>0.000000</td>\n",
              "      <td>0.000181</td>\n",
              "      <td>0.5</td>\n",
              "      <td>0.0</td>\n",
              "      <td>0.0</td>\n",
              "      <td>0.0</td>\n",
              "      <td>0.0</td>\n",
              "      <td>0.0</td>\n",
              "      <td>0.0</td>\n",
              "      <td>0.0</td>\n",
              "      <td>0.0</td>\n",
              "    </tr>\n",
              "  </tbody>\n",
              "</table>\n",
              "<p>5 rows × 83 columns</p>\n",
              "</div>"
            ],
            "text/plain": [
              "    Source IP   Source Port   Destination IP  ...   Idle Std   Idle Max   Idle Min\n",
              "0    0.449941      0.006760         0.869272  ...        0.0        0.0        0.0\n",
              "1    0.449928      0.001221         0.869272  ...        0.0        0.0        0.0\n",
              "2    0.449928      0.001221         0.869272  ...        0.0        0.0        0.0\n",
              "3    0.449962      0.006760         0.869272  ...        0.0        0.0        0.0\n",
              "4    0.449995      0.006760         0.869272  ...        0.0        0.0        0.0\n",
              "\n",
              "[5 rows x 83 columns]"
            ]
          },
          "metadata": {
            "tags": []
          },
          "execution_count": 39
        }
      ]
    },
    {
      "cell_type": "markdown",
      "metadata": {
        "id": "0m022YxuO07b",
        "colab_type": "text"
      },
      "source": [
        "#Feature Selection with Univariate Selection"
      ]
    },
    {
      "cell_type": "code",
      "metadata": {
        "id": "O73vN98Tm3Vn",
        "colab_type": "code",
        "colab": {}
      },
      "source": [
        "from sklearn.feature_selection import SelectKBest\n",
        "from sklearn.feature_selection import chi2\n",
        "X_update=SelectKBest(score_func=chi2,k=60).fit_transform(X_new,real_y)"
      ],
      "execution_count": null,
      "outputs": []
    },
    {
      "cell_type": "markdown",
      "metadata": {
        "id": "HQ2YGMgi4NVX",
        "colab_type": "text"
      },
      "source": [
        "#Feature Importance"
      ]
    },
    {
      "cell_type": "code",
      "metadata": {
        "id": "PD8ipqCC4Ht9",
        "colab_type": "code",
        "colab": {
          "base_uri": "https://localhost:8080/",
          "height": 279
        },
        "outputId": "d73614e6-8823-47bb-8517-947b16aeb6e8"
      },
      "source": [
        "from sklearn.ensemble import ExtraTreesClassifier\n",
        "model = ExtraTreesClassifier()\n",
        "model.fit(real_x,real_y)\n",
        "print(model.feature_importances_)"
      ],
      "execution_count": null,
      "outputs": [
        {
          "output_type": "stream",
          "text": [
            "[0.06724107 0.01753608 0.01491275 0.03606072 0.12677253 0.08003676\n",
            " 0.00663466 0.00820092 0.0057838  0.00233079 0.00815532 0.00513159\n",
            " 0.04667153 0.00338021 0.00271013 0.00981026 0.06706081 0.01909651\n",
            " 0.0292532  0.00420756 0.00576174 0.00559806 0.00335519 0.0047738\n",
            " 0.00607176 0.00429621 0.00339278 0.00284141 0.0036279  0.00291408\n",
            " 0.00328126 0.00354493 0.00333388 0.00256707 0.00185317 0.00489711\n",
            " 0.         0.         0.         0.00537594 0.00723965 0.00489928\n",
            " 0.00599834 0.06806809 0.00641921 0.01569885 0.01045481 0.00791812\n",
            " 0.00598853 0.00622199 0.         0.02764833 0.02140165 0.00865344\n",
            " 0.         0.         0.01687218 0.01624676 0.00415187 0.02005857\n",
            " 0.00448939 0.         0.         0.         0.         0.\n",
            " 0.         0.01382336 0.00595248 0.00618498 0.00864519 0.03106866\n",
            " 0.01128299 0.00469959 0.02465381 0.00090549 0.00056154 0.00114561\n",
            " 0.00047231 0.0014827  0.00034181 0.00107763 0.00079929]\n"
          ],
          "name": "stdout"
        }
      ]
    },
    {
      "cell_type": "markdown",
      "metadata": {
        "id": "YZGyEq094wWN",
        "colab_type": "text"
      },
      "source": [
        "#Plot Graph for Feature Importance with better Visulizaton"
      ]
    },
    {
      "cell_type": "code",
      "metadata": {
        "id": "hBqOTdU-4Hk7",
        "colab_type": "code",
        "colab": {
          "base_uri": "https://localhost:8080/",
          "height": 265
        },
        "outputId": "e73699a1-d240-46d5-c03c-51ed92df990a"
      },
      "source": [
        "feat_importances = pd.Series(model.feature_importances_,index=real_x.columns)\n",
        "feat_importances.nlargest(20).plot(kind='barh')\n",
        "plt.show()"
      ],
      "execution_count": null,
      "outputs": [
        {
          "output_type": "display_data",
          "data": {
            "image/png": "[encoded data removed]",
            "text/plain": [
              "<Figure size 432x288 with 1 Axes>"
            ]
          },
          "metadata": {
            "tags": [],
            "needs_background": "light"
          }
        }
      ]
    },
    {
      "cell_type": "markdown",
      "metadata": {
        "id": "4DRtxa3H5oH0",
        "colab_type": "text"
      },
      "source": [
        "#Correlation Matrics with HeatMap"
      ]
    },
    {
      "cell_type": "code",
      "metadata": {
        "id": "cGlR2cOp4rQ6",
        "colab_type": "code",
        "colab": {}
      },
      "source": [
        "corr = df1.corr()"
      ],
      "execution_count": null,
      "outputs": []
    },
    {
      "cell_type": "code",
      "metadata": {
        "id": "w5qTwREnUhkj",
        "colab_type": "code",
        "colab": {
          "base_uri": "https://localhost:8080/",
          "height": 407
        },
        "outputId": "e1d6ee30-9fff-4598-c569-ed93004b5b17"
      },
      "source": [
        "plt.figure(figsize=(30,30))\n",
        "%matplotlib inline\n",
        "import seaborn as sns#Seaborn is a Python data visualization library based on matplotlib. \n",
        "#It provides a high-level interface for drawing attractive and informative statistical graphics.\n",
        "sns.heatmap(corr, annot = True)"
      ],
      "execution_count": null,
      "outputs": [
        {
          "output_type": "execute_result",
          "data": {
            "text/plain": [
              "<matplotlib.axes._subplots.AxesSubplot at 0x7f17a87c8cc0>"
            ]
          },
          "metadata": {
            "tags": []
          },
          "execution_count": 46
        },
        {
          "output_type": "display_data",
          "data": {
            "image/png": "[encoded data removed]",
            "text/plain": [
              "<Figure size 432x288 with 2 Axes>"
            ]
          },
          "metadata": {
            "tags": [],
            "needs_background": "light"
          }
        }
      ]
    },
    {
      "cell_type": "markdown",
      "metadata": {
        "id": "G7tbrTpPO7z_",
        "colab_type": "text"
      },
      "source": [
        "#RandomOver Sampling"
      ]
    },
    {
      "cell_type": "code",
      "metadata": {
        "id": "D_gWGWKs7ujg",
        "colab_type": "code",
        "colab": {}
      },
      "source": [
        "from imblearn.over_sampling import RandomOverSampler\n",
        "oversample = RandomOverSampler()\n",
        "X_over, y_over = oversample.fit_sample(X_update, real_y)"
      ],
      "execution_count": null,
      "outputs": []
    },
    {
      "cell_type": "code",
      "metadata": {
        "id": "AkWzrKGxauCv",
        "colab_type": "code",
        "colab": {}
      },
      "source": [
        "df3 = pd.DataFrame(y_over)\n",
        "df3.columns=[' Label']"
      ],
      "execution_count": null,
      "outputs": []
    },
    {
      "cell_type": "code",
      "metadata": {
        "id": "TIKHZ4Sk8DaU",
        "colab_type": "code",
        "colab": {
          "base_uri": "https://localhost:8080/",
          "height": 73
        },
        "outputId": "f63652eb-7ee4-4bbf-ef68-c40de31c40e9"
      },
      "source": [
        "df3[' Label'].value_counts()"
      ],
      "execution_count": null,
      "outputs": [
        {
          "output_type": "execute_result",
          "data": {
            "text/plain": [
              "1    10720\n",
              "0    10720\n",
              "Name:  Label, dtype: int64"
            ]
          },
          "metadata": {
            "tags": []
          },
          "execution_count": 41
        }
      ]
    },
    {
      "cell_type": "markdown",
      "metadata": {
        "id": "DyjO94uIOriN",
        "colab_type": "text"
      },
      "source": [
        "#Visulization Target with Balanced Data with Binary Class"
      ]
    },
    {
      "cell_type": "code",
      "metadata": {
        "id": "XrZ3JP5in0q3",
        "colab_type": "code",
        "colab": {
          "base_uri": "https://localhost:8080/",
          "height": 298
        },
        "outputId": "4bbd1024-70fc-43eb-eb66-41c5a1c2b85f"
      },
      "source": [
        "sns.countplot(x=' Label',data=df3)"
      ],
      "execution_count": null,
      "outputs": [
        {
          "output_type": "execute_result",
          "data": {
            "text/plain": [
              "<matplotlib.axes._subplots.AxesSubplot at 0x7f4f80a3a6a0>"
            ]
          },
          "metadata": {
            "tags": []
          },
          "execution_count": 42
        },
        {
          "output_type": "display_data",
          "data": {
            "image/png": "[encoded data removed]",
            "text/plain": [
              "<Figure size 432x288 with 1 Axes>"
            ]
          },
          "metadata": {
            "tags": [],
            "needs_background": "light"
          }
        }
      ]
    },
    {
      "cell_type": "markdown",
      "metadata": {
        "id": "YSDsZwNy4m0E",
        "colab_type": "text"
      },
      "source": [
        "#Spliting the Data Set"
      ]
    },
    {
      "cell_type": "code",
      "metadata": {
        "id": "07zRabFL9R3g",
        "colab_type": "code",
        "colab": {}
      },
      "source": [
        "from sklearn.model_selection import train_test_split"
      ],
      "execution_count": null,
      "outputs": []
    },
    {
      "cell_type": "code",
      "metadata": {
        "id": "8gfoxNcO-9RS",
        "colab_type": "code",
        "colab": {}
      },
      "source": [
        "training_x, test_x, training_y, test_y = train_test_split(X_over,y_over, test_size=0.3, random_state=0)"
      ],
      "execution_count": null,
      "outputs": []
    },
    {
      "cell_type": "code",
      "metadata": {
        "id": "0SMCYC35yo7g",
        "colab_type": "code",
        "colab": {}
      },
      "source": [
        ""
      ],
      "execution_count": null,
      "outputs": []
    },
    {
      "cell_type": "markdown",
      "metadata": {
        "id": "ijEOPh3NybzR",
        "colab_type": "text"
      },
      "source": [
        "#Hyper parameter tuning with RandomizedSearchCV"
      ]
    },
    {
      "cell_type": "markdown",
      "metadata": {
        "id": "ChRQrn9pr_6i",
        "colab_type": "text"
      },
      "source": [
        "#Logistic Regression"
      ]
    },
    {
      "cell_type": "code",
      "metadata": {
        "id": "6_rcZPP-6OAE",
        "colab_type": "code",
        "colab": {}
      },
      "source": [
        "from sklearn.linear_model import LogisticRegression\n",
        "from sklearn.model_selection import RandomizedSearchCV"
      ],
      "execution_count": null,
      "outputs": []
    },
    {
      "cell_type": "code",
      "metadata": {
        "id": "MxW7f0cRiHdZ",
        "colab_type": "code",
        "colab": {}
      },
      "source": [
        "lr = LogisticRegression() \n",
        "params =[    \n",
        "    {'penalty' : ['l1', 'l2', 'elasticnet', 'none'],\n",
        "    'C' : np.logspace(5, 9, 30),\n",
        "    'solver' : ['lbfgs','newton-cg','liblinear','sag','saga'],\n",
        "    'max_iter' : [100, 1000]\n",
        "    }\n",
        "]"
      ],
      "execution_count": null,
      "outputs": []
    },
    {
      "cell_type": "code",
      "metadata": {
        "id": "nTK1NuXwiH-_",
        "colab_type": "code",
        "colab": {}
      },
      "source": [
        "def hypertuning_rscv(rfc, p_distr, nbr_iter,training_x,training_y):\n",
        "  rdmsearch =RandomizedSearchCV(rfc, param_distributions=p_distr,\n",
        "                                n_jobs=-1, n_iter=nbr_iter, cv=5)\n",
        "  rdmsearch.fit(real_x,real_y)\n",
        "  ht_params = rdmsearch.best_params_\n",
        "  return ht_params"
      ],
      "execution_count": null,
      "outputs": []
    },
    {
      "cell_type": "code",
      "metadata": {
        "id": "ZPO6J_QsiIXr",
        "colab_type": "code",
        "colab": {
          "base_uri": "https://localhost:8080/",
          "height": 36
        },
        "outputId": "e4f69a93-073a-49ce-939b-d8298f55b169"
      },
      "source": [
        "lr_random = hypertuning_rscv(lr,params,50,X_over, y_over)\n",
        "lr_random"
      ],
      "execution_count": null,
      "outputs": [
        {
          "output_type": "execute_result",
          "data": {
            "text/plain": [
              "{'C': 672335.7536499335, 'max_iter': 100, 'penalty': 'none', 'solver': 'sag'}"
            ]
          },
          "metadata": {
            "tags": []
          },
          "execution_count": 77
        }
      ]
    },
    {
      "cell_type": "code",
      "metadata": {
        "id": "aTX9lce85zpF",
        "colab_type": "code",
        "colab": {
          "base_uri": "https://localhost:8080/",
          "height": 54
        },
        "outputId": "cef454d9-74b9-4712-8661-bbbf10b8830f"
      },
      "source": [
        "from sklearn.model_selection import StratifiedKFold\n",
        "from sklearn.model_selection import cross_val_score\n",
        "lr = LogisticRegression(C=672335.7536499335,max_iter=100,penalty='none',solver='sag')\n",
        "\n",
        "kfold=StratifiedKFold(n_splits=10,random_state=0)\n",
        "results=cross_val_score(lr,X_over,y_over,cv=kfold)\n",
        "results"
      ],
      "execution_count": null,
      "outputs": [
        {
          "output_type": "execute_result",
          "data": {
            "text/plain": [
              "array([0.89225746, 0.70009328, 0.98600746, 0.98647388, 0.9869403 ,\n",
              "       0.98414179, 0.98927239, 0.98927239, 0.98787313, 0.7448694 ])"
            ]
          },
          "metadata": {
            "tags": []
          },
          "execution_count": 80
        }
      ]
    },
    {
      "cell_type": "code",
      "metadata": {
        "id": "OhJj5UOLoZFU",
        "colab_type": "code",
        "colab": {
          "base_uri": "https://localhost:8080/",
          "height": 36
        },
        "outputId": "56c52bbb-3ff4-4bda-e453-47aeb975a823"
      },
      "source": [
        "results.mean()"
      ],
      "execution_count": null,
      "outputs": [
        {
          "output_type": "execute_result",
          "data": {
            "text/plain": [
              "0.9247201492537315"
            ]
          },
          "metadata": {
            "tags": []
          },
          "execution_count": 81
        }
      ]
    },
    {
      "cell_type": "markdown",
      "metadata": {
        "id": "qxfIqPuOsG65",
        "colab_type": "text"
      },
      "source": [
        "#KNeighbors Classifier"
      ]
    },
    {
      "cell_type": "code",
      "metadata": {
        "id": "grRrDf0prM1J",
        "colab_type": "code",
        "colab": {}
      },
      "source": [
        "from sklearn.neighbors import KNeighborsClassifier\n",
        "from sklearn.model_selection import RandomizedSearchCV"
      ],
      "execution_count": null,
      "outputs": []
    },
    {
      "cell_type": "code",
      "metadata": {
        "id": "O5JpoOLoCAT_",
        "colab_type": "code",
        "colab": {}
      },
      "source": [
        "knn = KNeighborsClassifier()\n",
        "params = {'n_neighbors':[5,10,15,20,25],\n",
        "          'leaf_size':[1,2,3,5,6,7,8,9,10,11,12,13,14,15],\n",
        "          'weights':['uniform', 'distance'],\n",
        "          'algorithm':['auto', 'ball_tree','kd_tree','brute'],\n",
        "          'n_jobs':[-1]}"
      ],
      "execution_count": null,
      "outputs": []
    },
    {
      "cell_type": "code",
      "metadata": {
        "id": "JJ-GgOBWCMBM",
        "colab_type": "code",
        "colab": {}
      },
      "source": [
        "def hypertuning_rscv(rfc, p_distr, nbr_iter,training_x,training_y):\n",
        "  rdmsearch =RandomizedSearchCV(rfc, param_distributions=p_distr,\n",
        "                                n_jobs=-1, n_iter=nbr_iter, cv=5)\n",
        "  rdmsearch.fit(real_x,real_y)\n",
        "  ht_params = rdmsearch.best_params_\n",
        "  return ht_params"
      ],
      "execution_count": null,
      "outputs": []
    },
    {
      "cell_type": "code",
      "metadata": {
        "id": "9uLqa5ZhCVOh",
        "colab_type": "code",
        "colab": {
          "base_uri": "https://localhost:8080/",
          "height": 111
        },
        "outputId": "2c0e89b6-e8db-4081-831b-0f9d10d05909"
      },
      "source": [
        "knn_random = hypertuning_rscv(knn,params,50,X_over, y_over)\n",
        "knn_random"
      ],
      "execution_count": null,
      "outputs": [
        {
          "output_type": "execute_result",
          "data": {
            "text/plain": [
              "{'algorithm': 'kd_tree',\n",
              " 'leaf_size': 10,\n",
              " 'n_jobs': -1,\n",
              " 'n_neighbors': 20,\n",
              " 'weights': 'uniform'}"
            ]
          },
          "metadata": {
            "tags": []
          },
          "execution_count": 52
        }
      ]
    },
    {
      "cell_type": "code",
      "metadata": {
        "id": "XFjaBUwGCrLZ",
        "colab_type": "code",
        "colab": {
          "base_uri": "https://localhost:8080/",
          "height": 54
        },
        "outputId": "a3e8de60-5210-46a7-d3c7-a06093a11e52"
      },
      "source": [
        "from sklearn.model_selection import StratifiedKFold\n",
        "from sklearn.model_selection import cross_val_score\n",
        "\n",
        "knn = KNeighborsClassifier(algorithm='kd_tree', leaf_size=10,n_jobs=-1, n_neighbors=20,weights='uniform')\n",
        "kfold=StratifiedKFold(n_splits=10,random_state=None)\n",
        "results=cross_val_score(knn,X_over,y_over,cv=kfold)\n",
        "results"
      ],
      "execution_count": null,
      "outputs": [
        {
          "output_type": "execute_result",
          "data": {
            "text/plain": [
              "array([0.54104478, 0.93423507, 0.99906716, 0.99906716, 0.99953358,\n",
              "       0.99766791, 0.98647388, 0.99813433, 0.99860075, 0.72061567])"
            ]
          },
          "metadata": {
            "tags": []
          },
          "execution_count": 55
        }
      ]
    },
    {
      "cell_type": "code",
      "metadata": {
        "id": "paeLkgfIDVaF",
        "colab_type": "code",
        "colab": {
          "base_uri": "https://localhost:8080/",
          "height": 36
        },
        "outputId": "2c746801-c574-47bd-bba2-625717c7a1c7"
      },
      "source": [
        "results.mean()"
      ],
      "execution_count": null,
      "outputs": [
        {
          "output_type": "execute_result",
          "data": {
            "text/plain": [
              "0.9174440298507462"
            ]
          },
          "metadata": {
            "tags": []
          },
          "execution_count": 56
        }
      ]
    },
    {
      "cell_type": "markdown",
      "metadata": {
        "id": "CfCcWASxsNnl",
        "colab_type": "text"
      },
      "source": [
        "#Decision Tree Classifier"
      ]
    },
    {
      "cell_type": "code",
      "metadata": {
        "id": "R8bZHvlBteQr",
        "colab_type": "code",
        "colab": {}
      },
      "source": [
        "from sklearn.tree import DecisionTreeClassifier\n",
        "from sklearn.model_selection import RandomizedSearchCV\n",
        "from scipy.stats import randint"
      ],
      "execution_count": null,
      "outputs": []
    },
    {
      "cell_type": "code",
      "metadata": {
        "id": "zhiKWuJr8CTF",
        "colab_type": "code",
        "colab": {}
      },
      "source": [
        "DT = DecisionTreeClassifier()\n",
        "params = {'max_features': ['auto', 'sqrt', 'log2'],\n",
        "          'min_samples_split': [5,10,15,20,25,30,35,40,50], \n",
        "          'min_samples_leaf':[1,2,3,4,5,6,7,8,9,10,11,12,13,14,15],\n",
        "          'random_state':[10]}"
      ],
      "execution_count": null,
      "outputs": []
    },
    {
      "cell_type": "code",
      "metadata": {
        "id": "wzfl2gKa8TVb",
        "colab_type": "code",
        "colab": {}
      },
      "source": [
        "def hypertuning_rscv(rfc, p_distr, nbr_iter,training_x,training_y):\n",
        "  rdmsearch =RandomizedSearchCV(rfc, param_distributions=p_distr,\n",
        "                                n_jobs=-1, n_iter=nbr_iter, cv=5)\n",
        "  rdmsearch.fit(real_x,real_y)\n",
        "  ht_params = rdmsearch.best_params_\n",
        "  return ht_params"
      ],
      "execution_count": null,
      "outputs": []
    },
    {
      "cell_type": "code",
      "metadata": {
        "id": "xarNao2B8o3v",
        "colab_type": "code",
        "colab": {
          "base_uri": "https://localhost:8080/",
          "height": 92
        },
        "outputId": "c921f0fe-9e3a-49ca-ea90-c34f55a5c2b5"
      },
      "source": [
        "DT_random = hypertuning_rscv(DT,params,50,X_over, y_over)\n",
        "DT_random"
      ],
      "execution_count": null,
      "outputs": [
        {
          "output_type": "execute_result",
          "data": {
            "text/plain": [
              "{'max_features': 'log2',\n",
              " 'min_samples_leaf': 15,\n",
              " 'min_samples_split': 5,\n",
              " 'random_state': 10}"
            ]
          },
          "metadata": {
            "tags": []
          },
          "execution_count": 64
        }
      ]
    },
    {
      "cell_type": "code",
      "metadata": {
        "id": "HUhwIP8mteqI",
        "colab_type": "code",
        "colab": {
          "base_uri": "https://localhost:8080/",
          "height": 54
        },
        "outputId": "6d575f64-e4d0-4d01-d792-e2ef1632989c"
      },
      "source": [
        "from sklearn.model_selection import StratifiedKFold\n",
        "from sklearn.model_selection import cross_val_score\n",
        "DT = DecisionTreeClassifier(max_features='log2',min_samples_leaf=15,min_samples_split=5,random_state=10)\n",
        "\n",
        "kfold=StratifiedKFold(n_splits=10,random_state=None)\n",
        "results=cross_val_score(DT,X_over,y_over,cv=kfold)\n",
        "results"
      ],
      "execution_count": null,
      "outputs": [
        {
          "output_type": "execute_result",
          "data": {
            "text/plain": [
              "array([0.55270522, 0.95242537, 0.99906716, 0.98927239, 0.9869403 ,\n",
              "       0.99347015, 0.91511194, 0.97714552, 0.99813433, 0.57089552])"
            ]
          },
          "metadata": {
            "tags": []
          },
          "execution_count": 83
        }
      ]
    },
    {
      "cell_type": "code",
      "metadata": {
        "id": "l05VHp_JtpbH",
        "colab_type": "code",
        "colab": {
          "base_uri": "https://localhost:8080/",
          "height": 36
        },
        "outputId": "80e42ef7-8e3f-4780-93c4-be308486cb23"
      },
      "source": [
        "results.mean()"
      ],
      "execution_count": null,
      "outputs": [
        {
          "output_type": "execute_result",
          "data": {
            "text/plain": [
              "0.8935167910447761"
            ]
          },
          "metadata": {
            "tags": []
          },
          "execution_count": 84
        }
      ]
    },
    {
      "cell_type": "markdown",
      "metadata": {
        "id": "LXkrnXlTsaR4",
        "colab_type": "text"
      },
      "source": [
        "#GaussianNB"
      ]
    },
    {
      "cell_type": "code",
      "metadata": {
        "id": "oYzhRsPFue3q",
        "colab_type": "code",
        "colab": {}
      },
      "source": [
        "from sklearn.naive_bayes import GaussianNB\n",
        "from sklearn.model_selection import RandomizedSearchCV"
      ],
      "execution_count": null,
      "outputs": []
    },
    {
      "cell_type": "code",
      "metadata": {
        "id": "l_rTW0HSzfG8",
        "colab_type": "code",
        "colab": {}
      },
      "source": [
        "gnb=GaussianNB()\n",
        "params = {'var_smoothing':[1e-01]}"
      ],
      "execution_count": null,
      "outputs": []
    },
    {
      "cell_type": "code",
      "metadata": {
        "id": "qISAAvp8zfmU",
        "colab_type": "code",
        "colab": {}
      },
      "source": [
        "def hypertuning_rscv(rfc, p_distr, nbr_iter,training_x,training_y):\n",
        "  rdmsearch =RandomizedSearchCV(rfc, param_distributions=p_distr,\n",
        "                                n_jobs=-1, n_iter=nbr_iter, cv=5)\n",
        "  rdmsearch.fit(real_x,real_y)\n",
        "  ht_params = rdmsearch.best_params_\n",
        "  return ht_params"
      ],
      "execution_count": null,
      "outputs": []
    },
    {
      "cell_type": "code",
      "metadata": {
        "id": "KcIqxKlSzgB1",
        "colab_type": "code",
        "colab": {
          "base_uri": "https://localhost:8080/",
          "height": 36
        },
        "outputId": "5ac65004-463f-4afa-ead4-b9e0462355e5"
      },
      "source": [
        "gnb_random = hypertuning_rscv(gnb,params,50,X_over, y_over)\n",
        "gnb_random"
      ],
      "execution_count": null,
      "outputs": [
        {
          "output_type": "execute_result",
          "data": {
            "text/plain": [
              "{'var_smoothing': 0.1}"
            ]
          },
          "metadata": {
            "tags": []
          },
          "execution_count": 93
        }
      ]
    },
    {
      "cell_type": "code",
      "metadata": {
        "colab_type": "code",
        "id": "skEYpJr0u2l8",
        "colab": {
          "base_uri": "https://localhost:8080/",
          "height": 54
        },
        "outputId": "3c3df732-4a44-4d88-dc77-efcf098f52ea"
      },
      "source": [
        "from sklearn.model_selection import StratifiedKFold\n",
        "from sklearn.model_selection import cross_val_score\n",
        "gnb=GaussianNB(var_smoothing=0.1)\n",
        "\n",
        "kfold=StratifiedKFold(n_splits=10,random_state=None)\n",
        "results=cross_val_score(gnb,X_over,y_over,cv=kfold)\n",
        "results"
      ],
      "execution_count": null,
      "outputs": [
        {
          "output_type": "execute_result",
          "data": {
            "text/plain": [
              "array([0.46641791, 0.5443097 , 0.96595149, 0.95615672, 0.96455224,\n",
              "       0.95522388, 0.91884328, 0.94123134, 0.95102612, 0.51585821])"
            ]
          },
          "metadata": {
            "tags": []
          },
          "execution_count": 96
        }
      ]
    },
    {
      "cell_type": "code",
      "metadata": {
        "id": "BZ4L7YRSufL-",
        "colab_type": "code",
        "colab": {
          "base_uri": "https://localhost:8080/",
          "height": 36
        },
        "outputId": "16012e4a-de82-413d-ff03-d1200f270f9f"
      },
      "source": [
        "results.mean()"
      ],
      "execution_count": null,
      "outputs": [
        {
          "output_type": "execute_result",
          "data": {
            "text/plain": [
              "0.8179570895522387"
            ]
          },
          "metadata": {
            "tags": []
          },
          "execution_count": 97
        }
      ]
    },
    {
      "cell_type": "markdown",
      "metadata": {
        "id": "LT5RjgV6sgH-",
        "colab_type": "text"
      },
      "source": [
        "#Multinomial"
      ]
    },
    {
      "cell_type": "code",
      "metadata": {
        "id": "dMKAATYMvG2x",
        "colab_type": "code",
        "colab": {}
      },
      "source": [
        "from sklearn.naive_bayes import MultinomialNB\n",
        "from sklearn.model_selection import RandomizedSearchCV"
      ],
      "execution_count": null,
      "outputs": []
    },
    {
      "cell_type": "code",
      "metadata": {
        "id": "YzknRZAy1_bx",
        "colab_type": "code",
        "colab": {}
      },
      "source": [
        "mnb=MultinomialNB()\n",
        "params = {'alpha':[1.0],\n",
        "          'fit_prior':[True],\n",
        "          'class_prior':[None]}"
      ],
      "execution_count": null,
      "outputs": []
    },
    {
      "cell_type": "code",
      "metadata": {
        "id": "PyNJ4vuy1_2x",
        "colab_type": "code",
        "colab": {}
      },
      "source": [
        "def hypertuning_rscv(rfc, p_distr, nbr_iter,training_x,training_y):\n",
        "  rdmsearch =RandomizedSearchCV(rfc, param_distributions=p_distr,\n",
        "                                n_jobs=-1, n_iter=nbr_iter, cv=5)\n",
        "  rdmsearch.fit(real_x,real_y)\n",
        "  ht_params = rdmsearch.best_params_\n",
        "  return ht_params"
      ],
      "execution_count": null,
      "outputs": []
    },
    {
      "cell_type": "code",
      "metadata": {
        "id": "bdFvkeHnvHfr",
        "colab_type": "code",
        "colab": {
          "base_uri": "https://localhost:8080/",
          "height": 54
        },
        "outputId": "3385a94d-f7bc-4a7f-b91e-4562be754813"
      },
      "source": [
        "from sklearn.model_selection import StratifiedKFold\n",
        "from sklearn.model_selection import cross_val_score\n",
        "mnb=MultinomialNB(alpha=0.1, class_prior=None, fit_prior=True)\n",
        "\n",
        "kfold=StratifiedKFold(n_splits=10,random_state=None)\n",
        "results=cross_val_score(mnb,X_over,y_over,cv=kfold)\n",
        "results"
      ],
      "execution_count": null,
      "outputs": [
        {
          "output_type": "execute_result",
          "data": {
            "text/plain": [
              "array([0.53404851, 0.51259328, 0.92537313, 0.78264925, 0.8386194 ,\n",
              "       0.89972015, 0.77518657, 0.53218284, 0.85820896, 0.47994403])"
            ]
          },
          "metadata": {
            "tags": []
          },
          "execution_count": 105
        }
      ]
    },
    {
      "cell_type": "code",
      "metadata": {
        "id": "larC_W6-vc_t",
        "colab_type": "code",
        "colab": {
          "base_uri": "https://localhost:8080/",
          "height": 36
        },
        "outputId": "ed5ffb0d-75f4-4523-f343-f1d2e29c3efc"
      },
      "source": [
        "results.mean()"
      ],
      "execution_count": null,
      "outputs": [
        {
          "output_type": "execute_result",
          "data": {
            "text/plain": [
              "0.7138526119402986"
            ]
          },
          "metadata": {
            "tags": []
          },
          "execution_count": 106
        }
      ]
    },
    {
      "cell_type": "markdown",
      "metadata": {
        "id": "cpmk24H4slAA",
        "colab_type": "text"
      },
      "source": [
        "#BernoulliNB"
      ]
    },
    {
      "cell_type": "code",
      "metadata": {
        "id": "GGrHuwafvdmd",
        "colab_type": "code",
        "colab": {}
      },
      "source": [
        "from sklearn.naive_bayes import BernoulliNB\n",
        "from sklearn.model_selection import RandomizedSearchCV"
      ],
      "execution_count": null,
      "outputs": []
    },
    {
      "cell_type": "code",
      "metadata": {
        "id": "9WQVfkDovdel",
        "colab_type": "code",
        "colab": {
          "base_uri": "https://localhost:8080/",
          "height": 54
        },
        "outputId": "d17986eb-5dec-42d1-85b0-b38668cc3620"
      },
      "source": [
        "from sklearn.model_selection import StratifiedKFold\n",
        "from sklearn.model_selection import cross_val_score\n",
        "bnb=BernoulliNB(binarize=0.1,fit_prior=True,alpha=1.0)\n",
        "kfold=StratifiedKFold(n_splits=10,random_state=None)\n",
        "results=cross_val_score(bnb,X_over,y_over,cv=kfold)\n",
        "results"
      ],
      "execution_count": null,
      "outputs": [
        {
          "output_type": "execute_result",
          "data": {
            "text/plain": [
              "array([0.56902985, 0.73227612, 0.88059701, 0.92070896, 0.94123134,\n",
              "       0.91744403, 0.87453358, 0.8255597 , 0.82369403, 0.74906716])"
            ]
          },
          "metadata": {
            "tags": []
          },
          "execution_count": 50
        }
      ]
    },
    {
      "cell_type": "code",
      "metadata": {
        "id": "LIgP1sLUwbKB",
        "colab_type": "code",
        "colab": {
          "base_uri": "https://localhost:8080/",
          "height": 36
        },
        "outputId": "55113d96-e46c-418e-c2c2-52c99c698149"
      },
      "source": [
        "results.mean()"
      ],
      "execution_count": null,
      "outputs": [
        {
          "output_type": "execute_result",
          "data": {
            "text/plain": [
              "0.8234141791044778"
            ]
          },
          "metadata": {
            "tags": []
          },
          "execution_count": 51
        }
      ]
    },
    {
      "cell_type": "markdown",
      "metadata": {
        "id": "9tWomQ_2sqm3",
        "colab_type": "text"
      },
      "source": [
        "#SVC Classifier"
      ]
    },
    {
      "cell_type": "code",
      "metadata": {
        "id": "dfzVo62Wwa_m",
        "colab_type": "code",
        "colab": {}
      },
      "source": [
        "from sklearn.svm import SVC \n",
        "from scipy import stats\n",
        "from sklearn.model_selection import RandomizedSearchCV"
      ],
      "execution_count": null,
      "outputs": []
    },
    {
      "cell_type": "code",
      "metadata": {
        "id": "7mtkgGhoKYCM",
        "colab_type": "code",
        "colab": {}
      },
      "source": [
        "svc=SVC()\n",
        "params = {\"C\": stats.uniform(100, 200),\n",
        "          \"gamma\": stats.uniform(0.1, 0.2)}"
      ],
      "execution_count": null,
      "outputs": []
    },
    {
      "cell_type": "code",
      "metadata": {
        "id": "GwYJxVHZKgxY",
        "colab_type": "code",
        "colab": {}
      },
      "source": [
        "def hypertuning_rscv(rfc, p_distr, nbr_iter,training_x,training_y):\n",
        "  rdmsearch =RandomizedSearchCV(rfc, param_distributions=p_distr,\n",
        "                                n_jobs=-1, n_iter=nbr_iter, cv=5)\n",
        "  rdmsearch.fit(real_x,real_y)\n",
        "  ht_params = rdmsearch.best_params_\n",
        "  return ht_params"
      ],
      "execution_count": null,
      "outputs": []
    },
    {
      "cell_type": "code",
      "metadata": {
        "id": "nJ0Sd9imKuq1",
        "colab_type": "code",
        "colab": {
          "base_uri": "https://localhost:8080/",
          "height": 36
        },
        "outputId": "f5dde5d5-cc0b-4c61-9c41-3ee867603c17"
      },
      "source": [
        "svc_random = hypertuning_rscv(svc,params,50,X_over, y_over)\n",
        "svc_random"
      ],
      "execution_count": null,
      "outputs": [
        {
          "output_type": "execute_result",
          "data": {
            "text/plain": [
              "{'C': 147.69364053903945, 'gamma': 0.25688128005818256}"
            ]
          },
          "metadata": {
            "tags": []
          },
          "execution_count": 57
        }
      ]
    },
    {
      "cell_type": "code",
      "metadata": {
        "id": "M9MTRNfQxM4g",
        "colab_type": "code",
        "colab": {
          "base_uri": "https://localhost:8080/",
          "height": 54
        },
        "outputId": "8eb5a940-0f93-41f6-9874-402c91bb69d7"
      },
      "source": [
        "from sklearn.model_selection import StratifiedKFold\n",
        "from sklearn.model_selection import cross_val_score\n",
        "svc=SVC(C=147.69364053903945,gamma=0.25688128005818256)\n",
        "\n",
        "kfold=StratifiedKFold(n_splits=10,random_state=None)\n",
        "results=cross_val_score(svc,X_over,y_over,cv=kfold)\n",
        "results"
      ],
      "execution_count": null,
      "outputs": [
        {
          "output_type": "execute_result",
          "data": {
            "text/plain": [
              "array([0.65671642, 0.82789179, 0.99440299, 0.99626866, 0.99860075,\n",
              "       0.99533582, 0.9948694 , 0.99766791, 0.99533582, 0.78171642])"
            ]
          },
          "metadata": {
            "tags": []
          },
          "execution_count": 60
        }
      ]
    },
    {
      "cell_type": "code",
      "metadata": {
        "id": "AIm0MlcUxNSj",
        "colab_type": "code",
        "colab": {
          "base_uri": "https://localhost:8080/",
          "height": 36
        },
        "outputId": "970f4952-a08c-41cb-f83e-2a104cc70a96"
      },
      "source": [
        "results.mean()"
      ],
      "execution_count": null,
      "outputs": [
        {
          "output_type": "execute_result",
          "data": {
            "text/plain": [
              "0.9238805970149253"
            ]
          },
          "metadata": {
            "tags": []
          },
          "execution_count": 61
        }
      ]
    },
    {
      "cell_type": "code",
      "metadata": {
        "id": "jGwnuXasQVjn",
        "colab_type": "code",
        "colab": {}
      },
      "source": [
        ""
      ],
      "execution_count": null,
      "outputs": []
    },
    {
      "cell_type": "markdown",
      "metadata": {
        "id": "tgw-aqSBswwp",
        "colab_type": "text"
      },
      "source": [
        "#SGD Classifier"
      ]
    },
    {
      "cell_type": "code",
      "metadata": {
        "id": "7DzAedE2xyM8",
        "colab_type": "code",
        "colab": {}
      },
      "source": [
        "from sklearn.linear_model import SGDClassifier\n",
        "from sklearn.model_selection import RandomizedSearchCV\n",
        "from scipy.stats import randint"
      ],
      "execution_count": null,
      "outputs": []
    },
    {
      "cell_type": "code",
      "metadata": {
        "id": "_c8iRiIhVImn",
        "colab_type": "code",
        "colab": {}
      },
      "source": [
        "sgd = SGDClassifier()\n",
        "params = {\n",
        "    \"loss\" : [\"modified_huber\"],\n",
        "    \"penalty\" : [\"l1\"]\n",
        "}"
      ],
      "execution_count": null,
      "outputs": []
    },
    {
      "cell_type": "code",
      "metadata": {
        "id": "AWVCyeNjQCdA",
        "colab_type": "code",
        "colab": {}
      },
      "source": [
        "def hypertuning_rscv(rfc, p_distr, nbr_iter,training_x,training_y):\n",
        "  rdmsearch =RandomizedSearchCV(rfc, param_distributions=p_distr,\n",
        "                                n_jobs=-1, n_iter=nbr_iter, cv=5)\n",
        "  rdmsearch.fit(real_x,real_y)\n",
        "  ht_params = rdmsearch.best_params_\n",
        "  return ht_params"
      ],
      "execution_count": null,
      "outputs": []
    },
    {
      "cell_type": "code",
      "metadata": {
        "id": "pkr7oo9bQKIs",
        "colab_type": "code",
        "colab": {
          "base_uri": "https://localhost:8080/",
          "height": 36
        },
        "outputId": "683985ff-0a52-432b-a5ca-c05c274912ab"
      },
      "source": [
        "sgd_random = hypertuning_rscv(sgd,params,50,X_over, y_over)\n",
        "sgd_random"
      ],
      "execution_count": null,
      "outputs": [
        {
          "output_type": "execute_result",
          "data": {
            "text/plain": [
              "{'loss': 'modified_huber', 'penalty': 'l1'}"
            ]
          },
          "metadata": {
            "tags": []
          },
          "execution_count": 60
        }
      ]
    },
    {
      "cell_type": "code",
      "metadata": {
        "id": "lxP1uiRl1Svt",
        "colab_type": "code",
        "colab": {
          "base_uri": "https://localhost:8080/",
          "height": 54
        },
        "outputId": "a0ea4a8c-6ba2-49bf-a782-8bbae1c507c2"
      },
      "source": [
        "from sklearn.model_selection import StratifiedKFold\n",
        "from sklearn.model_selection import cross_val_score\n",
        "sgd=SGDClassifier(loss=\"modified_huber\",penalty='l1')\n",
        "\n",
        "kfold=StratifiedKFold(n_splits=10,random_state=0)\n",
        "results=cross_val_score(sgd,X_over,y_over,cv=kfold)\n",
        "results"
      ],
      "execution_count": null,
      "outputs": [
        {
          "output_type": "execute_result",
          "data": {
            "text/plain": [
              "array([0.61567164, 0.58628731, 0.97621269, 0.98041045, 0.98460821,\n",
              "       0.97108209, 0.98554104, 0.98320896, 0.97854478, 0.7551306 ])"
            ]
          },
          "metadata": {
            "tags": []
          },
          "execution_count": 61
        }
      ]
    },
    {
      "cell_type": "code",
      "metadata": {
        "id": "X34o8u0D1TGX",
        "colab_type": "code",
        "colab": {
          "base_uri": "https://localhost:8080/",
          "height": 36
        },
        "outputId": "60739ee0-b6c8-4324-d9b3-821bd705b7f3"
      },
      "source": [
        "results.mean()"
      ],
      "execution_count": null,
      "outputs": [
        {
          "output_type": "execute_result",
          "data": {
            "text/plain": [
              "0.881669776119403"
            ]
          },
          "metadata": {
            "tags": []
          },
          "execution_count": 62
        }
      ]
    },
    {
      "cell_type": "code",
      "metadata": {
        "id": "PwRfeoq0ZAdO",
        "colab_type": "code",
        "colab": {}
      },
      "source": [
        ""
      ],
      "execution_count": null,
      "outputs": []
    },
    {
      "cell_type": "markdown",
      "metadata": {
        "id": "3-U-_aHbs1q6",
        "colab_type": "text"
      },
      "source": [
        "#Random Forest Classifier"
      ]
    },
    {
      "cell_type": "code",
      "metadata": {
        "id": "2ROWUouFxynh",
        "colab_type": "code",
        "colab": {}
      },
      "source": [
        "from sklearn.ensemble import RandomForestClassifier\n",
        "from sklearn.model_selection import RandomizedSearchCV\n",
        "from scipy.stats import uniform, truncnorm, randint"
      ],
      "execution_count": null,
      "outputs": []
    },
    {
      "cell_type": "code",
      "metadata": {
        "id": "RgINkYoooawH",
        "colab_type": "code",
        "colab": {}
      },
      "source": [
        "rfc = RandomForestClassifier()\n",
        "params = {'bootstrap': [True, False],\n",
        "          'max_depth': [10, 20, 30, 40, 50, 60, 70, 80, 90, 100, None],\n",
        "          'max_features': ['auto', 'sqrt'],\n",
        "          'min_samples_leaf': [1, 2, 4],\n",
        "          'min_samples_split': [2, 5, 10],\n",
        "          'n_estimators': [200, 400, 600, 800, 1000, 1200, 1400, 1600, 1800, 2000]}"
      ],
      "execution_count": null,
      "outputs": []
    },
    {
      "cell_type": "code",
      "metadata": {
        "id": "660cAs7KJS0k",
        "colab_type": "code",
        "colab": {}
      },
      "source": [
        "def hypertuning_rscv(rfc, p_distr, nbr_iter,training_x,training_y):\n",
        "  rdmsearch =RandomizedSearchCV(rfc, param_distributions=p_distr,\n",
        "                                n_jobs=-1, n_iter=nbr_iter, cv=5)\n",
        "  rdmsearch.fit(real_x,real_y)\n",
        "  ht_params = rdmsearch.best_params_\n",
        "  return ht_params"
      ],
      "execution_count": null,
      "outputs": []
    },
    {
      "cell_type": "code",
      "metadata": {
        "id": "4_jINGTNJZpd",
        "colab_type": "code",
        "colab": {
          "base_uri": "https://localhost:8080/",
          "height": 129
        },
        "outputId": "ac108acc-e200-4d64-948c-08885ace0216"
      },
      "source": [
        "rfc_random = hypertuning_rscv(rfc,params,50,X_over, y_over)\n",
        "rfc_random"
      ],
      "execution_count": null,
      "outputs": [
        {
          "output_type": "execute_result",
          "data": {
            "text/plain": [
              "{'bootstrap': False,\n",
              " 'max_depth': 70,\n",
              " 'max_features': 'auto',\n",
              " 'min_samples_leaf': 1,\n",
              " 'min_samples_split': 5,\n",
              " 'n_estimators': 200}"
            ]
          },
          "metadata": {
            "tags": []
          },
          "execution_count": 72
        }
      ]
    },
    {
      "cell_type": "code",
      "metadata": {
        "id": "NspSPaMxJfsa",
        "colab_type": "code",
        "colab": {
          "base_uri": "https://localhost:8080/",
          "height": 54
        },
        "outputId": "ced9237d-6e65-46e3-f039-9ba892ebf84a"
      },
      "source": [
        "from sklearn.model_selection import StratifiedKFold\n",
        "from sklearn.model_selection import cross_val_score\n",
        "rfc = RandomForestClassifier(bootstrap=False,max_depth=4,max_features='auto',min_samples_leaf=1,\n",
        "                             min_samples_split=5,n_estimators=200)\n",
        "                            \n",
        "kfold=StratifiedKFold(n_splits=10,random_state=0)\n",
        "results=cross_val_score(rfc,X_over,y_over,cv=kfold)\n",
        "results"
      ],
      "execution_count": null,
      "outputs": [
        {
          "output_type": "execute_result",
          "data": {
            "text/plain": [
              "array([0.7943097 , 0.70102612, 0.99673507, 0.98460821, 0.99347015,\n",
              "       0.9920709 , 0.99160448, 0.99160448, 0.99253731, 0.77238806])"
            ]
          },
          "metadata": {
            "tags": []
          },
          "execution_count": 84
        }
      ]
    },
    {
      "cell_type": "code",
      "metadata": {
        "id": "G6mUe5dNJr51",
        "colab_type": "code",
        "colab": {
          "base_uri": "https://localhost:8080/",
          "height": 36
        },
        "outputId": "c94e234e-5d95-4c17-d2e4-3bc0f506e96c"
      },
      "source": [
        "results.mean()"
      ],
      "execution_count": null,
      "outputs": [
        {
          "output_type": "execute_result",
          "data": {
            "text/plain": [
              "0.9210354477611942"
            ]
          },
          "metadata": {
            "tags": []
          },
          "execution_count": 85
        }
      ]
    },
    {
      "cell_type": "code",
      "metadata": {
        "id": "_SdycByN2od9",
        "colab_type": "code",
        "colab": {}
      },
      "source": [
        ""
      ],
      "execution_count": null,
      "outputs": []
    },
    {
      "cell_type": "markdown",
      "metadata": {
        "id": "9rLxbyZCs7dt",
        "colab_type": "text"
      },
      "source": [
        "#AdaBoost Classifier"
      ]
    },
    {
      "cell_type": "code",
      "metadata": {
        "id": "h8Cbr0fzAkKl",
        "colab_type": "code",
        "colab": {}
      },
      "source": [
        "from sklearn.ensemble import AdaBoostClassifier\n",
        "from sklearn.model_selection import RandomizedSearchCV"
      ],
      "execution_count": null,
      "outputs": []
    },
    {
      "cell_type": "code",
      "metadata": {
        "id": "LOlye1zBZddN",
        "colab_type": "code",
        "colab": {}
      },
      "source": [
        "ada = AdaBoostClassifier()\n",
        "params = {'base_estimator':[None],\n",
        "          'n_estimators':[50,100,150,200,250,300],\n",
        "          'learning_rate':[0.0001,0.001,0.01,0.1],\n",
        "          'algorithm':['SAMME','SAMME.R']}"
      ],
      "execution_count": null,
      "outputs": []
    },
    {
      "cell_type": "code",
      "metadata": {
        "id": "HQuoPsS-Zoen",
        "colab_type": "code",
        "colab": {}
      },
      "source": [
        "def hypertuning_rscv(rfc, p_distr, nbr_iter,training_x,training_y):\n",
        "  rdmsearch =RandomizedSearchCV(rfc, param_distributions=p_distr,\n",
        "                                n_jobs=-1, n_iter=nbr_iter, cv=5)\n",
        "  rdmsearch.fit(real_x,real_y)\n",
        "  ht_params = rdmsearch.best_params_\n",
        "  return ht_params"
      ],
      "execution_count": null,
      "outputs": []
    },
    {
      "cell_type": "code",
      "metadata": {
        "id": "ZSRM9GdKZxny",
        "colab_type": "code",
        "colab": {
          "base_uri": "https://localhost:8080/",
          "height": 111
        },
        "outputId": "54185e8d-9920-4764-b3e6-6ee8d34e9f56"
      },
      "source": [
        "ada_random = hypertuning_rscv(ada,params,50,X_over, y_over)\n",
        "ada_random"
      ],
      "execution_count": null,
      "outputs": [
        {
          "output_type": "execute_result",
          "data": {
            "text/plain": [
              "{'algorithm': 'SAMME',\n",
              " 'base_estimator': None,\n",
              " 'learning_rate': 0.0001,\n",
              " 'n_estimators': 50,\n",
              " 'random_state': None}"
            ]
          },
          "metadata": {
            "tags": []
          },
          "execution_count": 99
        }
      ]
    },
    {
      "cell_type": "code",
      "metadata": {
        "id": "PkvE3tnLA2Py",
        "colab_type": "code",
        "colab": {
          "base_uri": "https://localhost:8080/",
          "height": 54
        },
        "outputId": "68905ada-585a-4d79-b25a-f113c5f2bca3"
      },
      "source": [
        "from sklearn.model_selection import StratifiedKFold\n",
        "from sklearn.model_selection import cross_val_score\n",
        "ada = AdaBoostClassifier(algorithm='SAMME',base_estimator=None,learning_rate=2.0,n_estimators=500,random_state=None)\n",
        "\n",
        "kfold=StratifiedKFold(n_splits=10,random_state=0)\n",
        "results=cross_val_score(ada,X_over,y_over,cv=kfold)\n",
        "results"
      ],
      "execution_count": null,
      "outputs": [
        {
          "output_type": "execute_result",
          "data": {
            "text/plain": [
              "array([0.73460821, 0.73414179, 0.74113806, 0.73880597, 0.71595149,\n",
              "       0.74393657, 0.73320896, 0.76865672, 0.72341418, 0.53358209])"
            ]
          },
          "metadata": {
            "tags": []
          },
          "execution_count": 118
        }
      ]
    },
    {
      "cell_type": "code",
      "metadata": {
        "id": "WsDN4zyEbtAA",
        "colab_type": "code",
        "colab": {
          "base_uri": "https://localhost:8080/",
          "height": 36
        },
        "outputId": "8172bc40-1efc-4a80-9ae3-683d13b8f648"
      },
      "source": [
        "results.mean()"
      ],
      "execution_count": null,
      "outputs": [
        {
          "output_type": "execute_result",
          "data": {
            "text/plain": [
              "0.7167444029850747"
            ]
          },
          "metadata": {
            "tags": []
          },
          "execution_count": 119
        }
      ]
    },
    {
      "cell_type": "markdown",
      "metadata": {
        "id": "XcCrf81otAy6",
        "colab_type": "text"
      },
      "source": [
        "#XGBoost Classifier"
      ]
    },
    {
      "cell_type": "code",
      "metadata": {
        "id": "Nnp-VCne_ump",
        "colab_type": "code",
        "colab": {}
      },
      "source": [
        "import xgboost as xgb\n",
        "from sklearn.model_selection import RandomizedSearchCV"
      ],
      "execution_count": null,
      "outputs": []
    },
    {
      "cell_type": "code",
      "metadata": {
        "id": "I0ivn9UkFpGi",
        "colab_type": "code",
        "colab": {}
      },
      "source": [
        "xg = xgb.XGBClassifier()\n",
        "params = {\"learning_rate\": [0.1, 0.01, 0.001],\n",
        "          \"gamma\" : [0.01, 0.1, 0.3, 0.5, 1, 1.5, 2],\n",
        "          \"max_depth\": [10,20,30,40,50,60,70,80,90,100],\n",
        "          \"colsample_bytree\": [0.3, 0.6, 0.8, 1.0],\n",
        "          \"subsample\": [0.2, 0.4, 0.5, 0.6, 0.7],\n",
        "          \"reg_alpha\": [0, 0.5, 1],\n",
        "          \"reg_lambda\": [1, 1.5, 2, 3, 4.5],\n",
        "          \"min_child_weight\": [1, 3, 5, 7],\n",
        "          \"n_estimators\": [50,100,200,300,400,500,600,700,800]}"
      ],
      "execution_count": null,
      "outputs": []
    },
    {
      "cell_type": "code",
      "metadata": {
        "id": "Dc5mdEWIGHiw",
        "colab_type": "code",
        "colab": {}
      },
      "source": [
        "def hypertuning_rscv(rfc, p_distr, nbr_iter,training_x,training_y):\n",
        "  rdmsearch =RandomizedSearchCV(rfc, param_distributions=p_distr,\n",
        "                                n_jobs=-1, n_iter=nbr_iter, cv=5)\n",
        "  rdmsearch.fit(real_x,real_y)\n",
        "  ht_params = rdmsearch.best_params_\n",
        "  return ht_params"
      ],
      "execution_count": null,
      "outputs": []
    },
    {
      "cell_type": "code",
      "metadata": {
        "id": "T9O13lPZGNL6",
        "colab_type": "code",
        "colab": {
          "base_uri": "https://localhost:8080/",
          "height": 186
        },
        "outputId": "4750649d-64cb-4820-a96f-428b145feefb"
      },
      "source": [
        "xg_random = hypertuning_rscv(xg,params,50,X_over, y_over)\n",
        "xg_random"
      ],
      "execution_count": null,
      "outputs": [
        {
          "output_type": "execute_result",
          "data": {
            "text/plain": [
              "{'colsample_bytree': 0.3,\n",
              " 'gamma': 0.01,\n",
              " 'learning_rate': 0.001,\n",
              " 'max_depth': 80,\n",
              " 'min_child_weight': 7,\n",
              " 'n_estimators': 700,\n",
              " 'reg_alpha': 1,\n",
              " 'reg_lambda': 2,\n",
              " 'subsample': 0.2}"
            ]
          },
          "metadata": {
            "tags": []
          },
          "execution_count": 48
        }
      ]
    },
    {
      "cell_type": "code",
      "metadata": {
        "id": "t1En4_1H_vVd",
        "colab_type": "code",
        "colab": {
          "base_uri": "https://localhost:8080/",
          "height": 54
        },
        "outputId": "a25f7f4a-e051-4350-ea8e-cf92480fbf62"
      },
      "source": [
        "from sklearn.model_selection import StratifiedKFold\n",
        "from sklearn.model_selection import cross_val_score\n",
        "xg = xgb.XGBClassifier(colsample_bytree=0.3,gamma=0.01,learning_rate=0.001,max_depth=80,min_child_weight=7,\n",
        "                       n_estimators=700, reg_alpha=1,reg_lambda=2, subsample=0.2)\n",
        "\n",
        "kfold=StratifiedKFold(n_splits=10,random_state=None)\n",
        "results=cross_val_score(xg,X_over,y_over,cv=kfold)\n",
        "results "
      ],
      "execution_count": null,
      "outputs": [
        {
          "output_type": "execute_result",
          "data": {
            "text/plain": [
              "array([0.58675373, 0.95942164, 0.99860075, 0.99953358, 0.99906716,\n",
              "       0.99860075, 0.99953358, 0.99720149, 0.99720149, 0.61473881])"
            ]
          },
          "metadata": {
            "tags": []
          },
          "execution_count": 49
        }
      ]
    },
    {
      "cell_type": "code",
      "metadata": {
        "id": "GH_EA8QEHCSV",
        "colab_type": "code",
        "colab": {
          "base_uri": "https://localhost:8080/",
          "height": 36
        },
        "outputId": "e0d63d26-bb9b-469d-973d-33c9760c592c"
      },
      "source": [
        "results.mean()"
      ],
      "execution_count": null,
      "outputs": [
        {
          "output_type": "execute_result",
          "data": {
            "text/plain": [
              "0.9150652985074625"
            ]
          },
          "metadata": {
            "tags": []
          },
          "execution_count": 50
        }
      ]
    },
    {
      "cell_type": "markdown",
      "metadata": {
        "id": "attMq3r6FZiA",
        "colab_type": "text"
      },
      "source": [
        "#Build all model in Single Bloack with Binary Class"
      ]
    },
    {
      "cell_type": "code",
      "metadata": {
        "id": "OiMrAS0ym3uJ",
        "colab_type": "code",
        "colab": {}
      },
      "source": [
        "from sklearn.svm import SVC                      \n",
        "svc=SVC(C=107.39744591847008,gamma=0.20645183034398634)\n",
        "\n",
        "from sklearn.linear_model import LogisticRegression\n",
        "lr=LogisticRegression(C=672335.7536499335,max_iter=100,penalty='none',solver='sag')\n",
        "\n",
        "from xgboost import XGBClassifier\n",
        "xg=XGBClassifier(colsample_bytree=0.3,gamma=0.01,learning_rate=0.001,max_depth=80,min_child_weight=7,\n",
        "                       n_estimators=700, reg_alpha=1,reg_lambda=2, subsample=0.2)\n",
        "\n",
        "\n",
        "from sklearn.naive_bayes import MultinomialNB\n",
        "mnb=MultinomialNB(alpha=0.1, class_prior=None, fit_prior=True)\n",
        "\n",
        "from sklearn.naive_bayes import BernoulliNB\n",
        "bnb=BernoulliNB(binarize=0.1,fit_prior=True,alpha=1.0)\n",
        "\n",
        "from sklearn.naive_bayes import GaussianNB\n",
        "gnb=GaussianNB(var_smoothing=0.1)\n",
        "\n",
        "from sklearn.linear_model import SGDClassifier\n",
        "sgd=SGDClassifier(loss=\"modified_huber\",penalty='l1')\n",
        "\n",
        "from sklearn.neighbors import KNeighborsClassifier\n",
        "knn=KNeighborsClassifier(algorithm='kd_tree', leaf_size=10,n_jobs=-1, n_neighbors=20,weights='uniform')\n",
        "\n",
        "from sklearn.ensemble import RandomForestClassifier            \n",
        "rfc=RandomForestClassifier(bootstrap=False,max_depth=4,max_features='auto',min_samples_leaf=1,\n",
        "                             min_samples_split=5,n_estimators=200)\n",
        "\n",
        "from sklearn.tree import DecisionTreeClassifier \n",
        "DT=DecisionTreeClassifier(max_features='log2',min_samples_leaf=15,min_samples_split=5,random_state=10)\n",
        "\n",
        "                                "
      ],
      "execution_count": null,
      "outputs": []
    },
    {
      "cell_type": "markdown",
      "metadata": {
        "id": "AvHHdMSd_3JL",
        "colab_type": "text"
      },
      "source": [
        "#All Model define in Dictnary"
      ]
    },
    {
      "cell_type": "code",
      "metadata": {
        "id": "pdiNJJcqcu-e",
        "colab_type": "code",
        "colab": {
          "base_uri": "https://localhost:8080/",
          "height": 402
        },
        "outputId": "edb8d289-0c85-45a7-8de9-b99cf1f43918"
      },
      "source": [
        "classifiers={'LogisticRegression':lr,'MultinomialNB':mnb,'GaussianNB':gnb,'BernoulliNB':mnb,'RandomForestClassifier':rfc,'SVC': svc,'DecisionTreeClassifier': DT,'KNeighborsClassifier':knn\n",
        "        , 'XGBClassifier':xg,'SGDClassifier':sgd }\n",
        "classifie=sorted(classifiers.keys())\n",
        "print(classifie)\n",
        "df1=pd.DataFrame(classifie,columns=['Classifiers'])\n",
        "df1"
      ],
      "execution_count": null,
      "outputs": [
        {
          "output_type": "stream",
          "text": [
            "['BernoulliNB', 'DecisionTreeClassifier', 'GaussianNB', 'KNeighborsClassifier', 'LogisticRegression', 'MultinomialNB', 'RandomForestClassifier', 'SGDClassifier', 'SVC', 'XGBClassifier']\n"
          ],
          "name": "stdout"
        },
        {
          "output_type": "execute_result",
          "data": {
            "text/html": [
              "<div>\n",
              "<style scoped>\n",
              "    .dataframe tbody tr th:only-of-type {\n",
              "        vertical-align: middle;\n",
              "    }\n",
              "\n",
              "    .dataframe tbody tr th {\n",
              "        vertical-align: top;\n",
              "    }\n",
              "\n",
              "    .dataframe thead th {\n",
              "        text-align: right;\n",
              "    }\n",
              "</style>\n",
              "<table border=\"1\" class=\"dataframe\">\n",
              "  <thead>\n",
              "    <tr style=\"text-align: right;\">\n",
              "      <th></th>\n",
              "      <th>Classifiers</th>\n",
              "    </tr>\n",
              "  </thead>\n",
              "  <tbody>\n",
              "    <tr>\n",
              "      <th>0</th>\n",
              "      <td>BernoulliNB</td>\n",
              "    </tr>\n",
              "    <tr>\n",
              "      <th>1</th>\n",
              "      <td>DecisionTreeClassifier</td>\n",
              "    </tr>\n",
              "    <tr>\n",
              "      <th>2</th>\n",
              "      <td>GaussianNB</td>\n",
              "    </tr>\n",
              "    <tr>\n",
              "      <th>3</th>\n",
              "      <td>KNeighborsClassifier</td>\n",
              "    </tr>\n",
              "    <tr>\n",
              "      <th>4</th>\n",
              "      <td>LogisticRegression</td>\n",
              "    </tr>\n",
              "    <tr>\n",
              "      <th>5</th>\n",
              "      <td>MultinomialNB</td>\n",
              "    </tr>\n",
              "    <tr>\n",
              "      <th>6</th>\n",
              "      <td>RandomForestClassifier</td>\n",
              "    </tr>\n",
              "    <tr>\n",
              "      <th>7</th>\n",
              "      <td>SGDClassifier</td>\n",
              "    </tr>\n",
              "    <tr>\n",
              "      <th>8</th>\n",
              "      <td>SVC</td>\n",
              "    </tr>\n",
              "    <tr>\n",
              "      <th>9</th>\n",
              "      <td>XGBClassifier</td>\n",
              "    </tr>\n",
              "  </tbody>\n",
              "</table>\n",
              "</div>"
            ],
            "text/plain": [
              "              Classifiers\n",
              "0             BernoulliNB\n",
              "1  DecisionTreeClassifier\n",
              "2              GaussianNB\n",
              "3    KNeighborsClassifier\n",
              "4      LogisticRegression\n",
              "5           MultinomialNB\n",
              "6  RandomForestClassifier\n",
              "7           SGDClassifier\n",
              "8                     SVC\n",
              "9           XGBClassifier"
            ]
          },
          "metadata": {
            "tags": []
          },
          "execution_count": 64
        }
      ]
    },
    {
      "cell_type": "markdown",
      "metadata": {
        "id": "alf0YwjgFjFl",
        "colab_type": "text"
      },
      "source": [
        "#Results all classifier"
      ]
    },
    {
      "cell_type": "code",
      "metadata": {
        "id": "3KF_wYc0dAVZ",
        "colab_type": "code",
        "colab": {
          "base_uri": "https://localhost:8080/",
          "height": 383
        },
        "outputId": "4f9f4d90-58ec-4daf-83e8-1ec0d1390941"
      },
      "source": [
        "import warnings\n",
        "warnings.filterwarnings('ignore')\n",
        "from sklearn import model_selection\n",
        "from sklearn.model_selection import KFold\n",
        "from sklearn.model_selection import StratifiedKFold\n",
        "from sklearn.model_selection import cross_val_score\n",
        "parameter=[]\n",
        "res=[]                                 \n",
        "\n",
        "res=pd.DataFrame(res)\n",
        "for n,c in sorted(classifiers.items()):                   \n",
        "    kfold=StratifiedKFold(n_splits=10,random_state=None)  \n",
        "    results=cross_val_score(c,X_over,y_over,cv=kfold)      \n",
        "    parameter.append((n,[results.mean()]))                \n",
        "    result=pd.DataFrame(results)                          \n",
        "    res=pd.concat([res,result],axis=1,ignore_index=True) \n",
        "\n",
        "res.columns=['LogisticRegression','GaussianNB','MultinomialNB','BernoulliNB','RandomForestClassifier','SVC','DecisionTreeClassifier',\n",
        "             'KNeighborsClassifier','XGBClassifier','SGDClassifier']    \n",
        "res  "
      ],
      "execution_count": null,
      "outputs": [
        {
          "output_type": "execute_result",
          "data": {
            "text/html": [
              "<div>\n",
              "<style scoped>\n",
              "    .dataframe tbody tr th:only-of-type {\n",
              "        vertical-align: middle;\n",
              "    }\n",
              "\n",
              "    .dataframe tbody tr th {\n",
              "        vertical-align: top;\n",
              "    }\n",
              "\n",
              "    .dataframe thead th {\n",
              "        text-align: right;\n",
              "    }\n",
              "</style>\n",
              "<table border=\"1\" class=\"dataframe\">\n",
              "  <thead>\n",
              "    <tr style=\"text-align: right;\">\n",
              "      <th></th>\n",
              "      <th>LogisticRegression</th>\n",
              "      <th>GaussianNB</th>\n",
              "      <th>MultinomialNB</th>\n",
              "      <th>BernoulliNB</th>\n",
              "      <th>RandomForestClassifier</th>\n",
              "      <th>SVC</th>\n",
              "      <th>DecisionTreeClassifier</th>\n",
              "      <th>KNeighborsClassifier</th>\n",
              "      <th>XGBClassifier</th>\n",
              "      <th>SGDClassifier</th>\n",
              "    </tr>\n",
              "  </thead>\n",
              "  <tbody>\n",
              "    <tr>\n",
              "      <th>0</th>\n",
              "      <td>0.536847</td>\n",
              "      <td>0.562966</td>\n",
              "      <td>0.475280</td>\n",
              "      <td>0.541045</td>\n",
              "      <td>0.881530</td>\n",
              "      <td>0.536847</td>\n",
              "      <td>0.799440</td>\n",
              "      <td>0.564832</td>\n",
              "      <td>0.658582</td>\n",
              "      <td>0.586287</td>\n",
              "    </tr>\n",
              "    <tr>\n",
              "      <th>1</th>\n",
              "      <td>0.506996</td>\n",
              "      <td>0.948228</td>\n",
              "      <td>0.539646</td>\n",
              "      <td>0.937034</td>\n",
              "      <td>0.700560</td>\n",
              "      <td>0.506996</td>\n",
              "      <td>0.750000</td>\n",
              "      <td>0.581623</td>\n",
              "      <td>0.719216</td>\n",
              "      <td>0.914179</td>\n",
              "    </tr>\n",
              "    <tr>\n",
              "      <th>2</th>\n",
              "      <td>0.932836</td>\n",
              "      <td>0.987407</td>\n",
              "      <td>0.961754</td>\n",
              "      <td>0.999067</td>\n",
              "      <td>0.990672</td>\n",
              "      <td>0.932836</td>\n",
              "      <td>0.994403</td>\n",
              "      <td>0.979944</td>\n",
              "      <td>0.997201</td>\n",
              "      <td>1.000000</td>\n",
              "    </tr>\n",
              "    <tr>\n",
              "      <th>3</th>\n",
              "      <td>0.783116</td>\n",
              "      <td>0.983675</td>\n",
              "      <td>0.958022</td>\n",
              "      <td>0.998134</td>\n",
              "      <td>0.986474</td>\n",
              "      <td>0.783116</td>\n",
              "      <td>0.991604</td>\n",
              "      <td>0.978078</td>\n",
              "      <td>0.995802</td>\n",
              "      <td>1.000000</td>\n",
              "    </tr>\n",
              "    <tr>\n",
              "      <th>4</th>\n",
              "      <td>0.838153</td>\n",
              "      <td>0.981810</td>\n",
              "      <td>0.969216</td>\n",
              "      <td>0.999534</td>\n",
              "      <td>0.983209</td>\n",
              "      <td>0.838153</td>\n",
              "      <td>0.993937</td>\n",
              "      <td>0.968750</td>\n",
              "      <td>0.998601</td>\n",
              "      <td>0.995802</td>\n",
              "    </tr>\n",
              "    <tr>\n",
              "      <th>5</th>\n",
              "      <td>0.917444</td>\n",
              "      <td>0.917444</td>\n",
              "      <td>0.960354</td>\n",
              "      <td>0.995336</td>\n",
              "      <td>0.985541</td>\n",
              "      <td>0.917444</td>\n",
              "      <td>0.993470</td>\n",
              "      <td>0.972015</td>\n",
              "      <td>0.993937</td>\n",
              "      <td>0.998601</td>\n",
              "    </tr>\n",
              "    <tr>\n",
              "      <th>6</th>\n",
              "      <td>0.769590</td>\n",
              "      <td>0.979011</td>\n",
              "      <td>0.866138</td>\n",
              "      <td>0.985541</td>\n",
              "      <td>0.987407</td>\n",
              "      <td>0.769590</td>\n",
              "      <td>0.993937</td>\n",
              "      <td>0.987873</td>\n",
              "      <td>0.987407</td>\n",
              "      <td>0.999534</td>\n",
              "    </tr>\n",
              "    <tr>\n",
              "      <th>7</th>\n",
              "      <td>0.548507</td>\n",
              "      <td>0.996269</td>\n",
              "      <td>0.951026</td>\n",
              "      <td>0.998601</td>\n",
              "      <td>0.987407</td>\n",
              "      <td>0.548507</td>\n",
              "      <td>0.991604</td>\n",
              "      <td>0.982743</td>\n",
              "      <td>0.997201</td>\n",
              "      <td>0.998134</td>\n",
              "    </tr>\n",
              "    <tr>\n",
              "      <th>8</th>\n",
              "      <td>0.852612</td>\n",
              "      <td>0.997668</td>\n",
              "      <td>0.940299</td>\n",
              "      <td>0.998601</td>\n",
              "      <td>0.987407</td>\n",
              "      <td>0.852612</td>\n",
              "      <td>0.988340</td>\n",
              "      <td>0.974347</td>\n",
              "      <td>0.998134</td>\n",
              "      <td>0.997668</td>\n",
              "    </tr>\n",
              "    <tr>\n",
              "      <th>9</th>\n",
              "      <td>0.465951</td>\n",
              "      <td>0.777052</td>\n",
              "      <td>0.514459</td>\n",
              "      <td>0.720149</td>\n",
              "      <td>0.754664</td>\n",
              "      <td>0.465951</td>\n",
              "      <td>0.780317</td>\n",
              "      <td>0.752332</td>\n",
              "      <td>0.780317</td>\n",
              "      <td>0.629198</td>\n",
              "    </tr>\n",
              "  </tbody>\n",
              "</table>\n",
              "</div>"
            ],
            "text/plain": [
              "   LogisticRegression  GaussianNB  ...  XGBClassifier  SGDClassifier\n",
              "0            0.536847    0.562966  ...       0.658582       0.586287\n",
              "1            0.506996    0.948228  ...       0.719216       0.914179\n",
              "2            0.932836    0.987407  ...       0.997201       1.000000\n",
              "3            0.783116    0.983675  ...       0.995802       1.000000\n",
              "4            0.838153    0.981810  ...       0.998601       0.995802\n",
              "5            0.917444    0.917444  ...       0.993937       0.998601\n",
              "6            0.769590    0.979011  ...       0.987407       0.999534\n",
              "7            0.548507    0.996269  ...       0.997201       0.998134\n",
              "8            0.852612    0.997668  ...       0.998134       0.997668\n",
              "9            0.465951    0.777052  ...       0.780317       0.629198\n",
              "\n",
              "[10 rows x 10 columns]"
            ]
          },
          "metadata": {
            "tags": []
          },
          "execution_count": 65
        }
      ]
    },
    {
      "cell_type": "markdown",
      "metadata": {
        "id": "Pze88uARrFE9",
        "colab_type": "text"
      },
      "source": [
        "#Histogram Plot for all model"
      ]
    },
    {
      "cell_type": "code",
      "metadata": {
        "id": "Wg0sbtuyZCJM",
        "colab_type": "code",
        "colab": {
          "base_uri": "https://localhost:8080/",
          "height": 331
        },
        "outputId": "dae7d9a7-e118-4e99-80e9-4fc218349a87"
      },
      "source": [
        "fig, ax = plt.subplots(figsize=(25,8))\n",
        "sns.set(style=\"whitegrid\")\n",
        "boxplot=sns.boxplot(data=res,width=0.3)\n",
        "boxplot.set_ylim([0.4,1.05])\n",
        "fig.suptitle('BoxPlot of Cross validation results',fontsize=20)\n",
        "plt.ylabel('Accuracy',fontsize=25)\n",
        "plt.xlabel('Classifiers',fontsize=25)\n",
        "plt.tick_params(axis='both', which='major', colors='black', labelsize=15)\n",
        "plt.show()"
      ],
      "execution_count": null,
      "outputs": [
        {
          "output_type": "display_data",
          "data": {
            "image/png": "[encoded data removed]",
            "text/plain": [
              "<Figure size 1800x576 with 1 Axes>"
            ]
          },
          "metadata": {
            "tags": []
          }
        }
      ]
    },
    {
      "cell_type": "markdown",
      "metadata": {
        "id": "h1MfKuSbFtXT",
        "colab_type": "text"
      },
      "source": [
        "#Curve Analysis, Precesion, Recall, F1_score, Confusion Matrix"
      ]
    },
    {
      "cell_type": "code",
      "metadata": {
        "id": "VjXI-2uDdYRK",
        "colab_type": "code",
        "colab": {
          "base_uri": "https://localhost:8080/",
          "height": 1000
        },
        "outputId": "ecd99184-5240-4421-800d-7548bb284e94"
      },
      "source": [
        "import time\n",
        "import sklearn.metrics as metrics\n",
        "from sklearn.metrics import confusion_matrix\n",
        "from sklearn.metrics import accuracy_score\n",
        "from sklearn.metrics import roc_curve\n",
        "from sklearn.metrics import auc\n",
        "from sklearn.metrics import roc_auc_score\n",
        "score = []\n",
        "i=1\n",
        "plt.subplots(figsize=(12,5))\n",
        "for n,c in sorted(classifiers.items()):\n",
        "    start=time.time()\n",
        "    c.fit(training_x,training_y)\n",
        "    pred=c.predict(test_x)\n",
        "    end=time.time()\n",
        "\n",
        "    print(\"{}) Classifier is : {}\\n\".format(i,c))\n",
        "    print(\"Total time in : \",end-start)\n",
        "\n",
        "    score.append((n,[accuracy_score(test_y,pred,normalize=True),metrics.precision_score(test_y,pred,average='micro'),\n",
        "                    metrics.recall_score(test_y, pred,average='micro'),metrics.f1_score(test_y,pred,average='micro')]))\n",
        "    \n",
        "    print(\"\\nConfusion_matrix is \\n\",confusion_matrix(test_y,pred))\n",
        "    precision=print(\"\\nPrecision : \",metrics.precision_score(test_y,pred,average='micro'))      \n",
        "    recall=print(\"Recall    : \",metrics.recall_score(test_y,pred,average='micro'))\n",
        "    f1_score=print(\"f1_score  : \",metrics.f1_score(test_y,pred,average='micro'))\n",
        "    \n",
        "    # ROC AND AUC CURVE                                                             \n",
        "    fpr,tpr,thresholds=roc_curve(test_y,pred)\n",
        "    # calculate AUC\n",
        "    auc=roc_auc_score(test_y,pred)\n",
        "    print('AUC: %.3f' % auc)\n",
        "\n",
        "    i=i+1\n",
        "       \n",
        "    plt.plot(fpr,tpr,marker='.',label=n)\n",
        "    \n",
        "plt.plot([0, 1], [0, 1], color='navy', linestyle='--')\n",
        "# plot the roc curve for the model\n",
        "plt.xlim([0.0, 1.0])\n",
        "plt.ylim([0.0, 1.05])\n",
        "plt.xlabel('False Positive Rate')\n",
        "plt.ylabel('True Positive Rate')\n",
        "plt.title('Receiver operating characteristic and Area under the curve')\n",
        "plt.legend()\n",
        "plt.show()                "
      ],
      "execution_count": null,
      "outputs": [
        {
          "output_type": "stream",
          "text": [
            "1) Classifier is : MultinomialNB(alpha=0.1, class_prior=None, fit_prior=True)\n",
            "\n",
            "Total time in :  0.00899052619934082\n",
            "\n",
            "Confusion_matrix is \n",
            " [[2763  481]\n",
            " [ 781 2407]]\n",
            "\n",
            "Precision :  0.8037935323383084\n",
            "Recall    :  0.8037935323383084\n",
            "f1_score  :  0.8037935323383084\n",
            "AUC: 0.803\n",
            "2) Classifier is : DecisionTreeClassifier(ccp_alpha=0.0, class_weight=None, criterion='gini',\n",
            "                       max_depth=None, max_features='log2', max_leaf_nodes=None,\n",
            "                       min_impurity_decrease=0.0, min_impurity_split=None,\n",
            "                       min_samples_leaf=15, min_samples_split=5,\n",
            "                       min_weight_fraction_leaf=0.0, presort='deprecated',\n",
            "                       random_state=10, splitter='best')\n",
            "\n",
            "Total time in :  0.03195905685424805\n",
            "\n",
            "Confusion_matrix is \n",
            " [[3220   24]\n",
            " [  56 3132]]\n",
            "\n",
            "Precision :  0.9875621890547264\n",
            "Recall    :  0.9875621890547264\n",
            "f1_score  :  0.9875621890547264\n",
            "AUC: 0.988\n",
            "3) Classifier is : GaussianNB(priors=None, var_smoothing=0.1)\n",
            "\n",
            "Total time in :  0.019382953643798828\n",
            "\n",
            "Confusion_matrix is \n",
            " [[3001  243]\n",
            " [ 796 2392]]\n",
            "\n",
            "Precision :  0.8384639303482587\n",
            "Recall    :  0.8384639303482587\n",
            "f1_score  :  0.8384639303482587\n",
            "AUC: 0.838\n",
            "4) Classifier is : KNeighborsClassifier(algorithm='kd_tree', leaf_size=10, metric='minkowski',\n",
            "                     metric_params=None, n_jobs=-1, n_neighbors=20, p=2,\n",
            "                     weights='uniform')\n",
            "\n",
            "Total time in :  1.2773029804229736\n",
            "\n",
            "Confusion_matrix is \n",
            " [[3232   12]\n",
            " [  20 3168]]\n",
            "\n",
            "Precision :  0.9950248756218906\n",
            "Recall    :  0.9950248756218906\n",
            "f1_score  :  0.9950248756218906\n",
            "AUC: 0.995\n",
            "5) Classifier is : LogisticRegression(C=672335.7536499335, class_weight=None, dual=False,\n",
            "                   fit_intercept=True, intercept_scaling=1, l1_ratio=None,\n",
            "                   max_iter=100, multi_class='auto', n_jobs=None,\n",
            "                   penalty='none', random_state=None, solver='sag', tol=0.0001,\n",
            "                   verbose=0, warm_start=False)\n",
            "\n",
            "Total time in :  0.8612411022186279\n",
            "\n",
            "Confusion_matrix is \n",
            " [[3146   98]\n",
            " [  30 3158]]\n",
            "\n",
            "Precision :  0.9800995024875622\n",
            "Recall    :  0.9800995024875622\n",
            "f1_score  :  0.9800995024875622\n",
            "AUC: 0.980\n",
            "6) Classifier is : MultinomialNB(alpha=0.1, class_prior=None, fit_prior=True)\n",
            "\n",
            "Total time in :  0.0067331790924072266\n",
            "\n",
            "Confusion_matrix is \n",
            " [[2763  481]\n",
            " [ 781 2407]]\n",
            "\n",
            "Precision :  0.8037935323383084\n",
            "Recall    :  0.8037935323383084\n",
            "f1_score  :  0.8037935323383084\n",
            "AUC: 0.803\n",
            "7) Classifier is : RandomForestClassifier(bootstrap=False, ccp_alpha=0.0, class_weight=None,\n",
            "                       criterion='gini', max_depth=4, max_features='auto',\n",
            "                       max_leaf_nodes=None, max_samples=None,\n",
            "                       min_impurity_decrease=0.0, min_impurity_split=None,\n",
            "                       min_samples_leaf=1, min_samples_split=5,\n",
            "                       min_weight_fraction_leaf=0.0, n_estimators=200,\n",
            "                       n_jobs=None, oob_score=False, random_state=None,\n",
            "                       verbose=0, warm_start=False)\n",
            "\n",
            "Total time in :  2.6157917976379395\n",
            "\n",
            "Confusion_matrix is \n",
            " [[3184   60]\n",
            " [   0 3188]]\n",
            "\n",
            "Precision :  0.9906716417910447\n",
            "Recall    :  0.9906716417910447\n",
            "f1_score  :  0.9906716417910447\n",
            "AUC: 0.991\n",
            "8) Classifier is : SGDClassifier(alpha=0.0001, average=False, class_weight=None,\n",
            "              early_stopping=False, epsilon=0.1, eta0=0.0, fit_intercept=True,\n",
            "              l1_ratio=0.15, learning_rate='optimal', loss='modified_huber',\n",
            "              max_iter=1000, n_iter_no_change=5, n_jobs=None, penalty='l1',\n",
            "              power_t=0.5, random_state=None, shuffle=True, tol=0.001,\n",
            "              validation_fraction=0.1, verbose=0, warm_start=False)\n",
            "\n",
            "Total time in :  0.19448351860046387\n",
            "\n",
            "Confusion_matrix is \n",
            " [[3138  106]\n",
            " [  58 3130]]\n",
            "\n",
            "Precision :  0.974502487562189\n",
            "Recall    :  0.974502487562189\n",
            "f1_score  :  0.9745024875621892\n",
            "AUC: 0.975\n",
            "9) Classifier is : SVC(C=107.39744591847008, break_ties=False, cache_size=200, class_weight=None,\n",
            "    coef0=0.0, decision_function_shape='ovr', degree=3,\n",
            "    gamma=0.20645183034398634, kernel='rbf', max_iter=-1, probability=False,\n",
            "    random_state=None, shrinking=True, tol=0.001, verbose=False)\n",
            "\n",
            "Total time in :  1.3470470905303955\n",
            "\n",
            "Confusion_matrix is \n",
            " [[3223   21]\n",
            " [   6 3182]]\n",
            "\n",
            "Precision :  0.9958022388059702\n",
            "Recall    :  0.9958022388059702\n",
            "f1_score  :  0.9958022388059702\n",
            "AUC: 0.996\n",
            "10) Classifier is : XGBClassifier(base_score=0.5, booster='gbtree', colsample_bylevel=1,\n",
            "              colsample_bynode=1, colsample_bytree=0.3, gamma=0.01,\n",
            "              learning_rate=0.001, max_delta_step=0, max_depth=80,\n",
            "              min_child_weight=7, missing=None, n_estimators=700, n_jobs=1,\n",
            "              nthread=None, objective='binary:logistic', random_state=0,\n",
            "              reg_alpha=1, reg_lambda=2, scale_pos_weight=1, seed=None,\n",
            "              silent=None, subsample=0.2, verbosity=1)\n",
            "\n",
            "Total time in :  9.880249738693237\n",
            "\n",
            "Confusion_matrix is \n",
            " [[3235    9]\n",
            " [   0 3188]]\n",
            "\n",
            "Precision :  0.9986007462686567\n",
            "Recall    :  0.9986007462686567\n",
            "f1_score  :  0.9986007462686567\n",
            "AUC: 0.999\n"
          ],
          "name": "stdout"
        },
        {
          "output_type": "display_data",
          "data": {
            "image/png": "[encoded data removed]",
            "text/plain": [
              "<Figure size 864x360 with 1 Axes>"
            ]
          },
          "metadata": {
            "tags": []
          }
        }
      ]
    },
    {
      "cell_type": "markdown",
      "metadata": {
        "id": "scCSQaPxFzYs",
        "colab_type": "text"
      },
      "source": [
        "#Accuracy all model in single block"
      ]
    },
    {
      "cell_type": "code",
      "metadata": {
        "id": "rYaw3egPd0EC",
        "colab_type": "code",
        "colab": {
          "base_uri": "https://localhost:8080/",
          "height": 363
        },
        "outputId": "013aef29-8821-489d-945e-4a7ee9c298e9"
      },
      "source": [
        "score_df1=pd.DataFrame.from_dict(dict(score),orient='index',columns=['scores','Precision','Recall','f1_score'])\n",
        "score_df1['Accuracy (%)']=score_df1['scores']*100\n",
        "score_df1                   "
      ],
      "execution_count": null,
      "outputs": [
        {
          "output_type": "execute_result",
          "data": {
            "text/html": [
              "<div>\n",
              "<style scoped>\n",
              "    .dataframe tbody tr th:only-of-type {\n",
              "        vertical-align: middle;\n",
              "    }\n",
              "\n",
              "    .dataframe tbody tr th {\n",
              "        vertical-align: top;\n",
              "    }\n",
              "\n",
              "    .dataframe thead th {\n",
              "        text-align: right;\n",
              "    }\n",
              "</style>\n",
              "<table border=\"1\" class=\"dataframe\">\n",
              "  <thead>\n",
              "    <tr style=\"text-align: right;\">\n",
              "      <th></th>\n",
              "      <th>scores</th>\n",
              "      <th>Precision</th>\n",
              "      <th>Recall</th>\n",
              "      <th>f1_score</th>\n",
              "      <th>Accuracy (%)</th>\n",
              "    </tr>\n",
              "  </thead>\n",
              "  <tbody>\n",
              "    <tr>\n",
              "      <th>BernoulliNB</th>\n",
              "      <td>0.803794</td>\n",
              "      <td>0.803794</td>\n",
              "      <td>0.803794</td>\n",
              "      <td>0.803794</td>\n",
              "      <td>80.379353</td>\n",
              "    </tr>\n",
              "    <tr>\n",
              "      <th>DecisionTreeClassifier</th>\n",
              "      <td>0.987562</td>\n",
              "      <td>0.987562</td>\n",
              "      <td>0.987562</td>\n",
              "      <td>0.987562</td>\n",
              "      <td>98.756219</td>\n",
              "    </tr>\n",
              "    <tr>\n",
              "      <th>GaussianNB</th>\n",
              "      <td>0.838464</td>\n",
              "      <td>0.838464</td>\n",
              "      <td>0.838464</td>\n",
              "      <td>0.838464</td>\n",
              "      <td>83.846393</td>\n",
              "    </tr>\n",
              "    <tr>\n",
              "      <th>KNeighborsClassifier</th>\n",
              "      <td>0.995025</td>\n",
              "      <td>0.995025</td>\n",
              "      <td>0.995025</td>\n",
              "      <td>0.995025</td>\n",
              "      <td>99.502488</td>\n",
              "    </tr>\n",
              "    <tr>\n",
              "      <th>LogisticRegression</th>\n",
              "      <td>0.980100</td>\n",
              "      <td>0.980100</td>\n",
              "      <td>0.980100</td>\n",
              "      <td>0.980100</td>\n",
              "      <td>98.009950</td>\n",
              "    </tr>\n",
              "    <tr>\n",
              "      <th>MultinomialNB</th>\n",
              "      <td>0.803794</td>\n",
              "      <td>0.803794</td>\n",
              "      <td>0.803794</td>\n",
              "      <td>0.803794</td>\n",
              "      <td>80.379353</td>\n",
              "    </tr>\n",
              "    <tr>\n",
              "      <th>RandomForestClassifier</th>\n",
              "      <td>0.990672</td>\n",
              "      <td>0.990672</td>\n",
              "      <td>0.990672</td>\n",
              "      <td>0.990672</td>\n",
              "      <td>99.067164</td>\n",
              "    </tr>\n",
              "    <tr>\n",
              "      <th>SGDClassifier</th>\n",
              "      <td>0.974502</td>\n",
              "      <td>0.974502</td>\n",
              "      <td>0.974502</td>\n",
              "      <td>0.974502</td>\n",
              "      <td>97.450249</td>\n",
              "    </tr>\n",
              "    <tr>\n",
              "      <th>SVC</th>\n",
              "      <td>0.995802</td>\n",
              "      <td>0.995802</td>\n",
              "      <td>0.995802</td>\n",
              "      <td>0.995802</td>\n",
              "      <td>99.580224</td>\n",
              "    </tr>\n",
              "    <tr>\n",
              "      <th>XGBClassifier</th>\n",
              "      <td>0.998601</td>\n",
              "      <td>0.998601</td>\n",
              "      <td>0.998601</td>\n",
              "      <td>0.998601</td>\n",
              "      <td>99.860075</td>\n",
              "    </tr>\n",
              "  </tbody>\n",
              "</table>\n",
              "</div>"
            ],
            "text/plain": [
              "                          scores  Precision    Recall  f1_score  Accuracy (%)\n",
              "BernoulliNB             0.803794   0.803794  0.803794  0.803794     80.379353\n",
              "DecisionTreeClassifier  0.987562   0.987562  0.987562  0.987562     98.756219\n",
              "GaussianNB              0.838464   0.838464  0.838464  0.838464     83.846393\n",
              "KNeighborsClassifier    0.995025   0.995025  0.995025  0.995025     99.502488\n",
              "LogisticRegression      0.980100   0.980100  0.980100  0.980100     98.009950\n",
              "MultinomialNB           0.803794   0.803794  0.803794  0.803794     80.379353\n",
              "RandomForestClassifier  0.990672   0.990672  0.990672  0.990672     99.067164\n",
              "SGDClassifier           0.974502   0.974502  0.974502  0.974502     97.450249\n",
              "SVC                     0.995802   0.995802  0.995802  0.995802     99.580224\n",
              "XGBClassifier           0.998601   0.998601  0.998601  0.998601     99.860075"
            ]
          },
          "metadata": {
            "tags": []
          },
          "execution_count": 69
        }
      ]
    },
    {
      "cell_type": "markdown",
      "metadata": {
        "id": "nMEekKP9AYLM",
        "colab_type": "text"
      },
      "source": [
        "#Histogram plot for all Models"
      ]
    },
    {
      "cell_type": "code",
      "metadata": {
        "id": "WpX81RWXa_EC",
        "colab_type": "code",
        "colab": {
          "base_uri": "https://localhost:8080/",
          "height": 420
        },
        "outputId": "c358e5e4-b969-4c27-826b-131479adb239"
      },
      "source": [
        "pos = list(range(len(df1['Classifiers']))) \n",
        "width = 0.10 \n",
        "    \n",
        "# Plotting the bars\n",
        "fig, ax = plt.subplots(figsize=(22,10)) \n",
        "plt.bar(pos,score_df1['scores'],width,alpha=0.9,color='red',label=score_df1['scores'][0]) \n",
        "plt.bar([p + width for p in pos],score_df1['Precision'],width,alpha=0.9,color='turquoise',label=score_df1['Precision'][1]) \n",
        "plt.bar([p + width*2 for p in pos],score_df1['Recall'],width,alpha=0.9, color='orange',label=score_df1['Recall']) \n",
        "plt.bar([p + width*3 for p in pos],score_df1['f1_score'],width,alpha=0.9, color='green',label=score_df1['f1_score']) \n",
        "ax.set_ylabel('Score',fontsize=25)\n",
        "ax.set_xlabel('Classifiers',fontsize=25)\n",
        "ax.set_title('Test Scores ',fontsize=25)\n",
        "ax.set_xticks([p + 1.9 * width for p in pos])\n",
        "ax.set_xticklabels(df1['Classifiers'])\n",
        "plt.legend(['scores', 'Precision', 'recall','f1_score'], loc='upper left')\n",
        "plt.grid()\n",
        "plt.tick_params(axis='both', which='major', colors='black', labelsize=12)\n",
        "plt.show()"
      ],
      "execution_count": null,
      "outputs": [
        {
          "output_type": "display_data",
          "data": {
            "image/png": "[encoded data removed]",
            "text/plain": [
              "<Figure size 1584x720 with 1 Axes>"
            ]
          },
          "metadata": {
            "tags": []
          }
        }
      ]
    },
    {
      "cell_type": "code",
      "metadata": {
        "id": "pkDB_5xk1L7l",
        "colab_type": "code",
        "colab": {}
      },
      "source": [
        ""
      ],
      "execution_count": null,
      "outputs": []
    }
  ]
}