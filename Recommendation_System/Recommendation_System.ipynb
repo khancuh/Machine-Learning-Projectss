{
  "nbformat": 4,
  "nbformat_minor": 0,
  "metadata": {
    "colab": {
      "provenance": [],
      "collapsed_sections": []
    },
    "kernelspec": {
      "name": "python3",
      "display_name": "Python 3"
    },
    "language_info": {
      "name": "python"
    }
  },
  "cells": [
    {
      "cell_type": "code",
      "metadata": {
        "id": "fpk3TqRG3YLn"
      },
      "source": [
        "import pandas as pd\n",
        "import numpy as np"
      ],
      "execution_count": null,
      "outputs": []
    },
    {
      "cell_type": "markdown",
      "metadata": {
        "id": "ZvuWWvHN1ugc"
      },
      "source": [
        "upload the data"
      ]
    },
    {
      "cell_type": "code",
      "metadata": {
        "id": "Djx8Xkfu3nWl"
      },
      "source": [
        "df = pd.read_csv(\"/content/pluscbdoil.com_update.csv\")"
      ],
      "execution_count": null,
      "outputs": []
    },
    {
      "cell_type": "code",
      "metadata": {
        "colab": {
          "base_uri": "https://localhost:8080/",
          "height": 206
        },
        "id": "P7Cqf9w-4M4a",
        "outputId": "2ea9ec96-751e-4ce1-da4f-61244126473f"
      },
      "source": [
        "df.head()"
      ],
      "execution_count": null,
      "outputs": [
        {
          "output_type": "execute_result",
          "data": {
            "text/html": [
              "<div>\n",
              "<style scoped>\n",
              "    .dataframe tbody tr th:only-of-type {\n",
              "        vertical-align: middle;\n",
              "    }\n",
              "\n",
              "    .dataframe tbody tr th {\n",
              "        vertical-align: top;\n",
              "    }\n",
              "\n",
              "    .dataframe thead th {\n",
              "        text-align: right;\n",
              "    }\n",
              "</style>\n",
              "<table border=\"1\" class=\"dataframe\">\n",
              "  <thead>\n",
              "    <tr style=\"text-align: right;\">\n",
              "      <th></th>\n",
              "      <th>Unnamed: 0</th>\n",
              "      <th>Product_Name</th>\n",
              "      <th>Ratings</th>\n",
              "      <th>Cost($)</th>\n",
              "      <th>Review</th>\n",
              "    </tr>\n",
              "  </thead>\n",
              "  <tbody>\n",
              "    <tr>\n",
              "      <th>0</th>\n",
              "      <td>0</td>\n",
              "      <td>CBD Calm Gummies</td>\n",
              "      <td>5.0</td>\n",
              "      <td>29.99</td>\n",
              "      <td>3.0</td>\n",
              "    </tr>\n",
              "    <tr>\n",
              "      <th>1</th>\n",
              "      <td>1</td>\n",
              "      <td>CBD Calm Gummies</td>\n",
              "      <td>4.2</td>\n",
              "      <td>29.99</td>\n",
              "      <td>14.0</td>\n",
              "    </tr>\n",
              "    <tr>\n",
              "      <th>2</th>\n",
              "      <td>2</td>\n",
              "      <td>CBD Sleep Gummies</td>\n",
              "      <td>5.0</td>\n",
              "      <td>29.99</td>\n",
              "      <td>52.0</td>\n",
              "    </tr>\n",
              "    <tr>\n",
              "      <th>3</th>\n",
              "      <td>3</td>\n",
              "      <td>CBD Sleep Gummies</td>\n",
              "      <td>4.8</td>\n",
              "      <td>29.99</td>\n",
              "      <td>41.0</td>\n",
              "    </tr>\n",
              "    <tr>\n",
              "      <th>4</th>\n",
              "      <td>4</td>\n",
              "      <td>CBD BALM</td>\n",
              "      <td>4.7</td>\n",
              "      <td>29.99</td>\n",
              "      <td>68.0</td>\n",
              "    </tr>\n",
              "  </tbody>\n",
              "</table>\n",
              "</div>"
            ],
            "text/plain": [
              "   Unnamed: 0       Product_Name  Ratings  Cost($)  Review\n",
              "0           0   CBD Calm Gummies      5.0    29.99     3.0\n",
              "1           1   CBD Calm Gummies      4.2    29.99    14.0\n",
              "2           2  CBD Sleep Gummies      5.0    29.99    52.0\n",
              "3           3  CBD Sleep Gummies      4.8    29.99    41.0\n",
              "4           4           CBD BALM      4.7    29.99    68.0"
            ]
          },
          "metadata": {},
          "execution_count": 3
        }
      ]
    },
    {
      "cell_type": "code",
      "metadata": {
        "colab": {
          "base_uri": "https://localhost:8080/"
        },
        "id": "TLQcVWJs4Qf7",
        "outputId": "b7069403-1033-46b2-bf2d-52568694a674"
      },
      "source": [
        "df.columns"
      ],
      "execution_count": null,
      "outputs": [
        {
          "output_type": "execute_result",
          "data": {
            "text/plain": [
              "Index(['Unnamed: 0', 'Product_Name', 'Ratings', 'Cost($)', 'Review'], dtype='object')"
            ]
          },
          "metadata": {},
          "execution_count": 4
        }
      ]
    },
    {
      "cell_type": "code",
      "metadata": {
        "id": "nC6xisuyrm8Y"
      },
      "source": [
        "#rename the column\n",
        "df.rename(columns = {'Product_Name':'Name'}, inplace = True)"
      ],
      "execution_count": null,
      "outputs": []
    },
    {
      "cell_type": "code",
      "metadata": {
        "colab": {
          "base_uri": "https://localhost:8080/"
        },
        "id": "4gu_A2dxr4E3",
        "outputId": "4bdc2b42-904e-406a-bf52-6bff1609b3a5"
      },
      "source": [
        "df.columns"
      ],
      "execution_count": null,
      "outputs": [
        {
          "output_type": "execute_result",
          "data": {
            "text/plain": [
              "Index(['Unnamed: 0', 'Name', 'Ratings', 'Cost($)', 'Review'], dtype='object')"
            ]
          },
          "metadata": {},
          "execution_count": 6
        }
      ]
    },
    {
      "cell_type": "code",
      "metadata": {
        "id": "gkEpxUIPQkvs"
      },
      "source": [
        "#remove unused column\n",
        "df.drop('Unnamed: 0', inplace=True, axis=1)"
      ],
      "execution_count": null,
      "outputs": []
    },
    {
      "cell_type": "code",
      "metadata": {
        "colab": {
          "base_uri": "https://localhost:8080/"
        },
        "id": "LnluXeoVgbhN",
        "outputId": "423cfa8d-9f8a-46e6-cb1c-bf12b57409de"
      },
      "source": [
        "df['Ratings'].unique()"
      ],
      "execution_count": null,
      "outputs": [
        {
          "output_type": "execute_result",
          "data": {
            "text/plain": [
              "array([5. , 4.2, 4.8, 4.7, 4.6, 4.9, nan])"
            ]
          },
          "metadata": {},
          "execution_count": 8
        }
      ]
    },
    {
      "cell_type": "code",
      "metadata": {
        "colab": {
          "base_uri": "https://localhost:8080/"
        },
        "id": "og3WEiYYDpcM",
        "outputId": "0b99db67-a79d-4b5e-8336-0246ae49c40f"
      },
      "source": [
        "df['Cost($)'].unique()"
      ],
      "execution_count": null,
      "outputs": [
        {
          "output_type": "execute_result",
          "data": {
            "text/plain": [
              "array([ 29.99,  79.99,  39.99,  27.99, 119.99,  31.99,  47.98, 159.99,\n",
              "       139.99,  24.99,  19.99,  54.99, 107.99,  59.99,  95.98,  14.99,\n",
              "        61.58])"
            ]
          },
          "metadata": {},
          "execution_count": 9
        }
      ]
    },
    {
      "cell_type": "code",
      "metadata": {
        "colab": {
          "base_uri": "https://localhost:8080/"
        },
        "id": "i6f7mXy2DvmJ",
        "outputId": "0be98a55-de0a-4dff-e40c-69e693aa26cc"
      },
      "source": [
        "df['Review'].unique()"
      ],
      "execution_count": null,
      "outputs": [
        {
          "output_type": "execute_result",
          "data": {
            "text/plain": [
              "array([ 3., 14., 52., 41., 68., 76., 10., 61.,  2.,  1., 54., 22.,  8.,\n",
              "        4.,  7., nan])"
            ]
          },
          "metadata": {},
          "execution_count": 10
        }
      ]
    },
    {
      "cell_type": "code",
      "metadata": {
        "id": "OhRjrwCNnjqX"
      },
      "source": [
        "#fill the nan values for whole data set using pandas\n",
        "df1 = df.fillna(0)"
      ],
      "execution_count": null,
      "outputs": []
    },
    {
      "cell_type": "code",
      "metadata": {
        "id": "Q8VdEy8wnq8h"
      },
      "source": [
        "df = pd.DataFrame(df1)"
      ],
      "execution_count": null,
      "outputs": []
    },
    {
      "cell_type": "code",
      "metadata": {
        "colab": {
          "base_uri": "https://localhost:8080/",
          "height": 206
        },
        "id": "Bo7dRCAkQuzx",
        "outputId": "4437cdd5-3c81-4fc0-e275-56c4f9ee4d95"
      },
      "source": [
        "df.head(5)"
      ],
      "execution_count": null,
      "outputs": [
        {
          "output_type": "execute_result",
          "data": {
            "text/html": [
              "<div>\n",
              "<style scoped>\n",
              "    .dataframe tbody tr th:only-of-type {\n",
              "        vertical-align: middle;\n",
              "    }\n",
              "\n",
              "    .dataframe tbody tr th {\n",
              "        vertical-align: top;\n",
              "    }\n",
              "\n",
              "    .dataframe thead th {\n",
              "        text-align: right;\n",
              "    }\n",
              "</style>\n",
              "<table border=\"1\" class=\"dataframe\">\n",
              "  <thead>\n",
              "    <tr style=\"text-align: right;\">\n",
              "      <th></th>\n",
              "      <th>Name</th>\n",
              "      <th>Ratings</th>\n",
              "      <th>Cost($)</th>\n",
              "      <th>Review</th>\n",
              "    </tr>\n",
              "  </thead>\n",
              "  <tbody>\n",
              "    <tr>\n",
              "      <th>0</th>\n",
              "      <td>CBD Calm Gummies</td>\n",
              "      <td>5.0</td>\n",
              "      <td>29.99</td>\n",
              "      <td>3.0</td>\n",
              "    </tr>\n",
              "    <tr>\n",
              "      <th>1</th>\n",
              "      <td>CBD Calm Gummies</td>\n",
              "      <td>4.2</td>\n",
              "      <td>29.99</td>\n",
              "      <td>14.0</td>\n",
              "    </tr>\n",
              "    <tr>\n",
              "      <th>2</th>\n",
              "      <td>CBD Sleep Gummies</td>\n",
              "      <td>5.0</td>\n",
              "      <td>29.99</td>\n",
              "      <td>52.0</td>\n",
              "    </tr>\n",
              "    <tr>\n",
              "      <th>3</th>\n",
              "      <td>CBD Sleep Gummies</td>\n",
              "      <td>4.8</td>\n",
              "      <td>29.99</td>\n",
              "      <td>41.0</td>\n",
              "    </tr>\n",
              "    <tr>\n",
              "      <th>4</th>\n",
              "      <td>CBD BALM</td>\n",
              "      <td>4.7</td>\n",
              "      <td>29.99</td>\n",
              "      <td>68.0</td>\n",
              "    </tr>\n",
              "  </tbody>\n",
              "</table>\n",
              "</div>"
            ],
            "text/plain": [
              "                Name  Ratings  Cost($)  Review\n",
              "0   CBD Calm Gummies      5.0    29.99     3.0\n",
              "1   CBD Calm Gummies      4.2    29.99    14.0\n",
              "2  CBD Sleep Gummies      5.0    29.99    52.0\n",
              "3  CBD Sleep Gummies      4.8    29.99    41.0\n",
              "4           CBD BALM      4.7    29.99    68.0"
            ]
          },
          "metadata": {},
          "execution_count": 13
        }
      ]
    },
    {
      "cell_type": "markdown",
      "metadata": {
        "id": "PM30-TbJ103k"
      },
      "source": [
        "generate new csv file using previous file"
      ]
    },
    {
      "cell_type": "code",
      "metadata": {
        "id": "-yAw6RvtoBzs"
      },
      "source": [
        "df.to_csv(\"pluscbdoil.com_new.csv\")"
      ],
      "execution_count": null,
      "outputs": []
    },
    {
      "cell_type": "code",
      "metadata": {
        "id": "YbmqxxbXoOaR"
      },
      "source": [
        "data = pd.read_csv(\"/content/pluscbdoil.com_new.csv\")"
      ],
      "execution_count": null,
      "outputs": []
    },
    {
      "cell_type": "code",
      "metadata": {
        "id": "-EFGFBRWhz0b",
        "colab": {
          "base_uri": "https://localhost:8080/"
        },
        "outputId": "73999acb-2fc0-4234-a98c-b9689fe1a466"
      },
      "source": [
        "data.columns"
      ],
      "execution_count": null,
      "outputs": [
        {
          "output_type": "execute_result",
          "data": {
            "text/plain": [
              "Index(['Unnamed: 0', 'Name', 'Ratings', 'Cost($)', 'Review'], dtype='object')"
            ]
          },
          "metadata": {},
          "execution_count": 16
        }
      ]
    },
    {
      "cell_type": "code",
      "metadata": {
        "id": "M7Jc454Bfeha"
      },
      "source": [
        "df = pd.DataFrame(data=data)"
      ],
      "execution_count": null,
      "outputs": []
    },
    {
      "cell_type": "code",
      "metadata": {
        "id": "CM1VSp15fE0v",
        "colab": {
          "base_uri": "https://localhost:8080/"
        },
        "outputId": "c255c93c-027c-46ad-af58-7a2cde0d1671"
      },
      "source": [
        "df['Ratings'].unique()"
      ],
      "execution_count": null,
      "outputs": [
        {
          "output_type": "execute_result",
          "data": {
            "text/plain": [
              "array([5. , 4.2, 4.8, 4.7, 4.6, 4.9, 0. ])"
            ]
          },
          "metadata": {},
          "execution_count": 18
        }
      ]
    },
    {
      "cell_type": "code",
      "metadata": {
        "colab": {
          "base_uri": "https://localhost:8080/"
        },
        "id": "ioESujzCENbA",
        "outputId": "a26f6e65-469e-4c23-cd78-63c8d326eeb6"
      },
      "source": [
        "df['Cost($)'].unique()"
      ],
      "execution_count": null,
      "outputs": [
        {
          "output_type": "execute_result",
          "data": {
            "text/plain": [
              "array([ 29.99,  79.99,  39.99,  27.99, 119.99,  31.99,  47.98, 159.99,\n",
              "       139.99,  24.99,  19.99,  54.99, 107.99,  59.99,  95.98,  14.99,\n",
              "        61.58])"
            ]
          },
          "metadata": {},
          "execution_count": 19
        }
      ]
    },
    {
      "cell_type": "code",
      "metadata": {
        "colab": {
          "base_uri": "https://localhost:8080/"
        },
        "id": "8nlElWSXETEP",
        "outputId": "4bb63afb-d88b-4ca0-cda6-76f6604de3ba"
      },
      "source": [
        "df['Review'].unique()"
      ],
      "execution_count": null,
      "outputs": [
        {
          "output_type": "execute_result",
          "data": {
            "text/plain": [
              "array([ 3., 14., 52., 41., 68., 76., 10., 61.,  2.,  1., 54., 22.,  8.,\n",
              "        4.,  7.,  0.])"
            ]
          },
          "metadata": {},
          "execution_count": 20
        }
      ]
    },
    {
      "cell_type": "code",
      "metadata": {
        "colab": {
          "base_uri": "https://localhost:8080/"
        },
        "id": "44StOD33pE_T",
        "outputId": "ced9d18b-5b6a-4327-acaf-6a2938c794bb"
      },
      "source": [
        "df.columns"
      ],
      "execution_count": null,
      "outputs": [
        {
          "output_type": "execute_result",
          "data": {
            "text/plain": [
              "Index(['Unnamed: 0', 'Name', 'Ratings', 'Cost($)', 'Review'], dtype='object')"
            ]
          },
          "metadata": {},
          "execution_count": 21
        }
      ]
    },
    {
      "cell_type": "code",
      "metadata": {
        "id": "baAzdRSoovLd"
      },
      "source": [
        "#remove unused column\n",
        "df.drop('Unnamed: 0', inplace=True, axis=1)"
      ],
      "execution_count": null,
      "outputs": []
    },
    {
      "cell_type": "code",
      "metadata": {
        "colab": {
          "base_uri": "https://localhost:8080/",
          "height": 206
        },
        "id": "OW1ot-erpMjQ",
        "outputId": "16d5334e-6102-4834-f69f-b9e5b879b7c6"
      },
      "source": [
        "df.head()"
      ],
      "execution_count": null,
      "outputs": [
        {
          "output_type": "execute_result",
          "data": {
            "text/html": [
              "<div>\n",
              "<style scoped>\n",
              "    .dataframe tbody tr th:only-of-type {\n",
              "        vertical-align: middle;\n",
              "    }\n",
              "\n",
              "    .dataframe tbody tr th {\n",
              "        vertical-align: top;\n",
              "    }\n",
              "\n",
              "    .dataframe thead th {\n",
              "        text-align: right;\n",
              "    }\n",
              "</style>\n",
              "<table border=\"1\" class=\"dataframe\">\n",
              "  <thead>\n",
              "    <tr style=\"text-align: right;\">\n",
              "      <th></th>\n",
              "      <th>Name</th>\n",
              "      <th>Ratings</th>\n",
              "      <th>Cost($)</th>\n",
              "      <th>Review</th>\n",
              "    </tr>\n",
              "  </thead>\n",
              "  <tbody>\n",
              "    <tr>\n",
              "      <th>0</th>\n",
              "      <td>CBD Calm Gummies</td>\n",
              "      <td>5.0</td>\n",
              "      <td>29.99</td>\n",
              "      <td>3.0</td>\n",
              "    </tr>\n",
              "    <tr>\n",
              "      <th>1</th>\n",
              "      <td>CBD Calm Gummies</td>\n",
              "      <td>4.2</td>\n",
              "      <td>29.99</td>\n",
              "      <td>14.0</td>\n",
              "    </tr>\n",
              "    <tr>\n",
              "      <th>2</th>\n",
              "      <td>CBD Sleep Gummies</td>\n",
              "      <td>5.0</td>\n",
              "      <td>29.99</td>\n",
              "      <td>52.0</td>\n",
              "    </tr>\n",
              "    <tr>\n",
              "      <th>3</th>\n",
              "      <td>CBD Sleep Gummies</td>\n",
              "      <td>4.8</td>\n",
              "      <td>29.99</td>\n",
              "      <td>41.0</td>\n",
              "    </tr>\n",
              "    <tr>\n",
              "      <th>4</th>\n",
              "      <td>CBD BALM</td>\n",
              "      <td>4.7</td>\n",
              "      <td>29.99</td>\n",
              "      <td>68.0</td>\n",
              "    </tr>\n",
              "  </tbody>\n",
              "</table>\n",
              "</div>"
            ],
            "text/plain": [
              "                Name  Ratings  Cost($)  Review\n",
              "0   CBD Calm Gummies      5.0    29.99     3.0\n",
              "1   CBD Calm Gummies      4.2    29.99    14.0\n",
              "2  CBD Sleep Gummies      5.0    29.99    52.0\n",
              "3  CBD Sleep Gummies      4.8    29.99    41.0\n",
              "4           CBD BALM      4.7    29.99    68.0"
            ]
          },
          "metadata": {},
          "execution_count": 23
        }
      ]
    },
    {
      "cell_type": "code",
      "metadata": {
        "colab": {
          "base_uri": "https://localhost:8080/"
        },
        "id": "beSGv2I_7SAi",
        "outputId": "00e42815-1987-42ca-a616-f7f73a605ae1"
      },
      "source": [
        "#how to find max rating\n",
        "df.Ratings.max()"
      ],
      "execution_count": null,
      "outputs": [
        {
          "output_type": "execute_result",
          "data": {
            "text/plain": [
              "5.0"
            ]
          },
          "metadata": {},
          "execution_count": 24
        }
      ]
    },
    {
      "cell_type": "code",
      "metadata": {
        "colab": {
          "base_uri": "https://localhost:8080/"
        },
        "id": "_LsX-mJuIv0I",
        "outputId": "9cafa776-4382-47d3-d719-f395e665b381"
      },
      "source": [
        "df.Review.max()"
      ],
      "execution_count": null,
      "outputs": [
        {
          "output_type": "execute_result",
          "data": {
            "text/plain": [
              "76.0"
            ]
          },
          "metadata": {},
          "execution_count": 25
        }
      ]
    },
    {
      "cell_type": "code",
      "metadata": {
        "colab": {
          "base_uri": "https://localhost:8080/"
        },
        "id": "ijT0Kn8kJV_F",
        "outputId": "1b22c3e2-f097-4d5f-9491-0dfa570b691b"
      },
      "source": [
        "meanvote = df.Ratings.mean()\n",
        "meanvote"
      ],
      "execution_count": null,
      "outputs": [
        {
          "output_type": "execute_result",
          "data": {
            "text/plain": [
              "4.280769230769231"
            ]
          },
          "metadata": {},
          "execution_count": 26
        }
      ]
    },
    {
      "cell_type": "code",
      "metadata": {
        "colab": {
          "base_uri": "https://localhost:8080/"
        },
        "id": "tZAzn_BQJg0i",
        "outputId": "05636b03-8175-4894-fb85-319f629d2370"
      },
      "source": [
        "minimumvote = df.Review.quantile(0.90)\n",
        "minimumvote"
      ],
      "execution_count": null,
      "outputs": [
        {
          "output_type": "execute_result",
          "data": {
            "text/plain": [
              "60.29999999999999"
            ]
          },
          "metadata": {},
          "execution_count": 27
        }
      ]
    },
    {
      "cell_type": "code",
      "metadata": {
        "colab": {
          "base_uri": "https://localhost:8080/"
        },
        "id": "8cnXA4VZJl7i",
        "outputId": "06d7dcfb-30fa-47fc-f7e6-e24d38142014"
      },
      "source": [
        "q_products = df.copy().loc[df['Review'] >= minimumvote]\n",
        "q_products.shape"
      ],
      "execution_count": null,
      "outputs": [
        {
          "output_type": "execute_result",
          "data": {
            "text/plain": [
              "(6, 4)"
            ]
          },
          "metadata": {},
          "execution_count": 28
        }
      ]
    },
    {
      "cell_type": "code",
      "metadata": {
        "id": "jFWZvP2cJqFi"
      },
      "source": [
        "def weighted_ratios(x,minimumvote = minimumvote , meanvote = meanvote):\n",
        "    voter = x['Review']\n",
        "    avg_vote = x['Ratings']\n",
        "    \n",
        "    return (voter/(voter+minimumvote) * avg_vote ) + (minimumvote/(minimumvote + voter)*meanvote)"
      ],
      "execution_count": null,
      "outputs": []
    },
    {
      "cell_type": "code",
      "metadata": {
        "id": "QrQUrPEAJp7m"
      },
      "source": [
        "q_products['score'] = q_products.apply(weighted_ratios,axis=1)"
      ],
      "execution_count": null,
      "outputs": []
    },
    {
      "cell_type": "code",
      "metadata": {
        "id": "5I-Pq4C5Jpu4"
      },
      "source": [
        "#q_products"
      ],
      "execution_count": null,
      "outputs": []
    },
    {
      "cell_type": "code",
      "metadata": {
        "colab": {
          "base_uri": "https://localhost:8080/",
          "height": 237
        },
        "id": "R3uMYICYKJ85",
        "outputId": "171caa36-33f4-4640-e2f6-0f5187d421b8"
      },
      "source": [
        "q_products.sort_values('score',ascending=False)"
      ],
      "execution_count": null,
      "outputs": [
        {
          "output_type": "execute_result",
          "data": {
            "text/html": [
              "<div>\n",
              "<style scoped>\n",
              "    .dataframe tbody tr th:only-of-type {\n",
              "        vertical-align: middle;\n",
              "    }\n",
              "\n",
              "    .dataframe tbody tr th {\n",
              "        vertical-align: top;\n",
              "    }\n",
              "\n",
              "    .dataframe thead th {\n",
              "        text-align: right;\n",
              "    }\n",
              "</style>\n",
              "<table border=\"1\" class=\"dataframe\">\n",
              "  <thead>\n",
              "    <tr style=\"text-align: right;\">\n",
              "      <th></th>\n",
              "      <th>Name</th>\n",
              "      <th>Ratings</th>\n",
              "      <th>Cost($)</th>\n",
              "      <th>Review</th>\n",
              "      <th>score</th>\n",
              "    </tr>\n",
              "  </thead>\n",
              "  <tbody>\n",
              "    <tr>\n",
              "      <th>4</th>\n",
              "      <td>CBD BALM</td>\n",
              "      <td>4.7</td>\n",
              "      <td>29.99</td>\n",
              "      <td>68.0</td>\n",
              "      <td>4.502965</td>\n",
              "    </tr>\n",
              "    <tr>\n",
              "      <th>27</th>\n",
              "      <td>CBD SOFTGEL CAPSULES 5MG RAW FORMULA</td>\n",
              "      <td>4.7</td>\n",
              "      <td>19.99</td>\n",
              "      <td>68.0</td>\n",
              "      <td>4.502965</td>\n",
              "    </tr>\n",
              "    <tr>\n",
              "      <th>7</th>\n",
              "      <td>CBD SOFTGEL CAPSULES 50MG MAXIMUM STRENGTH FOR...</td>\n",
              "      <td>4.7</td>\n",
              "      <td>79.99</td>\n",
              "      <td>61.0</td>\n",
              "      <td>4.491594</td>\n",
              "    </tr>\n",
              "    <tr>\n",
              "      <th>30</th>\n",
              "      <td>CBD ROLL-ONS</td>\n",
              "      <td>4.7</td>\n",
              "      <td>27.99</td>\n",
              "      <td>61.0</td>\n",
              "      <td>4.491594</td>\n",
              "    </tr>\n",
              "    <tr>\n",
              "      <th>5</th>\n",
              "      <td>CBD BALM</td>\n",
              "      <td>4.6</td>\n",
              "      <td>29.99</td>\n",
              "      <td>76.0</td>\n",
              "      <td>4.458770</td>\n",
              "    </tr>\n",
              "    <tr>\n",
              "      <th>28</th>\n",
              "      <td>CBD STARTER BUNDLE</td>\n",
              "      <td>4.6</td>\n",
              "      <td>79.99</td>\n",
              "      <td>76.0</td>\n",
              "      <td>4.458770</td>\n",
              "    </tr>\n",
              "  </tbody>\n",
              "</table>\n",
              "</div>"
            ],
            "text/plain": [
              "                                                 Name  ...     score\n",
              "4                                            CBD BALM  ...  4.502965\n",
              "27               CBD SOFTGEL CAPSULES 5MG RAW FORMULA  ...  4.502965\n",
              "7   CBD SOFTGEL CAPSULES 50MG MAXIMUM STRENGTH FOR...  ...  4.491594\n",
              "30                                       CBD ROLL-ONS  ...  4.491594\n",
              "5                                            CBD BALM  ...  4.458770\n",
              "28                                 CBD STARTER BUNDLE  ...  4.458770\n",
              "\n",
              "[6 rows x 5 columns]"
            ]
          },
          "metadata": {},
          "execution_count": 32
        }
      ]
    },
    {
      "cell_type": "code",
      "metadata": {
        "id": "Q_-MgTPjI3gA"
      },
      "source": [
        "pd.set_option('precision',2)"
      ],
      "execution_count": null,
      "outputs": []
    },
    {
      "cell_type": "code",
      "metadata": {
        "id": "NrfyHCR3JSHJ"
      },
      "source": [
        "def recommendation_table(csv):\n",
        "    df = pd.read_csv(csv)\n",
        "    meanvote = df.Ratings.mean()\n",
        "    minimumvote = df.Review.quantile(.2) \n",
        "    q_products = df.copy().loc[df['Review'] >= minimumvote]\n",
        "    q_products['score'] = q_products.apply(weighted_ratios,axis=1)\n",
        "    print(csv + \" Website\")\n",
        "    q_products = q_products.sort_values('score',ascending=False)\n",
        "    q_products.to_csv(csv + 'Recommended_scores.csv')\n",
        "def weighted_ratios(x,minimumvote = minimumvote , meanvote = meanvote):\n",
        "    voter = x['Review']\n",
        "    avg_vote = x['Ratings']\n",
        "    \n",
        "    return (voter/(voter+minimumvote) * avg_vote ) + (minimumvote/(minimumvote + voter)*meanvote)"
      ],
      "execution_count": null,
      "outputs": []
    },
    {
      "cell_type": "code",
      "metadata": {
        "colab": {
          "base_uri": "https://localhost:8080/"
        },
        "id": "WwlCuqV7KcHR",
        "outputId": "5bcfb0a4-7367-4d7c-f053-d5c404f5de3e"
      },
      "source": [
        "recommendation_table('/content/pluscbdoil.com_new.csv')"
      ],
      "execution_count": null,
      "outputs": [
        {
          "output_type": "stream",
          "name": "stdout",
          "text": [
            "/content/pluscbdoil.com_new.csv Website\n"
          ]
        }
      ]
    },
    {
      "cell_type": "code",
      "metadata": {
        "id": "86uUWp6FKnQS"
      },
      "source": [
        "websites = [\"/content/pluscbdoil.com_new.csv\",\"/content/lordjones.csv\",\"/content/Diamondcbd.csv\",\"/content/cbdfx (2).csv\",\"/content/cbdistillery_new.csv\"]"
      ],
      "execution_count": null,
      "outputs": []
    },
    {
      "cell_type": "code",
      "metadata": {
        "colab": {
          "base_uri": "https://localhost:8080/"
        },
        "id": "G1wwJ6xKWPSq",
        "outputId": "00f890ac-796d-4dc2-97f1-d157714a4793"
      },
      "source": [
        "for website in websites:\n",
        "  recommendation_table(website)"
      ],
      "execution_count": null,
      "outputs": [
        {
          "output_type": "stream",
          "name": "stdout",
          "text": [
            "/content/pluscbdoil.com_new.csv Website\n",
            "/content/lordjones.csv Website\n",
            "/content/Diamondcbd.csv Website\n",
            "/content/cbdfx (2).csv Website\n",
            "/content/cbdistillery_new.csv Website\n"
          ]
        }
      ]
    },
    {
      "cell_type": "code",
      "metadata": {
        "id": "GoQrw7NjWWWw"
      },
      "source": [
        "websites_recom = [\"/content/pluscbdoil.com_new.csvRecommended_scores.csv\",\"/content/lordjones.csvRecommended_scores.csv\",\"/content/Diamondcbd.csvRecommended_scores.csv\",\"/content/cbdfx (2).csvRecommended_scores.csv\",\"/content/cbdistillery_new.csvRecommended_scores.csv\"]"
      ],
      "execution_count": null,
      "outputs": []
    },
    {
      "cell_type": "code",
      "metadata": {
        "colab": {
          "base_uri": "https://localhost:8080/",
          "height": 49
        },
        "id": "yTfITi3BXiCX",
        "outputId": "f5f578d5-77e2-4b07-9e33-9face1104db8"
      },
      "source": [
        "word='oil'\n",
        "q_products[q_products.Name.astype(str).str.contains(word.title())]"
      ],
      "execution_count": null,
      "outputs": [
        {
          "output_type": "execute_result",
          "data": {
            "text/html": [
              "<div>\n",
              "<style scoped>\n",
              "    .dataframe tbody tr th:only-of-type {\n",
              "        vertical-align: middle;\n",
              "    }\n",
              "\n",
              "    .dataframe tbody tr th {\n",
              "        vertical-align: top;\n",
              "    }\n",
              "\n",
              "    .dataframe thead th {\n",
              "        text-align: right;\n",
              "    }\n",
              "</style>\n",
              "<table border=\"1\" class=\"dataframe\">\n",
              "  <thead>\n",
              "    <tr style=\"text-align: right;\">\n",
              "      <th></th>\n",
              "      <th>Name</th>\n",
              "      <th>Ratings</th>\n",
              "      <th>Cost($)</th>\n",
              "      <th>Review</th>\n",
              "      <th>score</th>\n",
              "    </tr>\n",
              "  </thead>\n",
              "  <tbody>\n",
              "  </tbody>\n",
              "</table>\n",
              "</div>"
            ],
            "text/plain": [
              "Empty DataFrame\n",
              "Columns: [Name, Ratings, Cost($), Review, score]\n",
              "Index: []"
            ]
          },
          "metadata": {},
          "execution_count": 39
        }
      ]
    },
    {
      "cell_type": "code",
      "metadata": {
        "id": "U3uomEY3XmJJ"
      },
      "source": [
        "def contains(csv,word):\n",
        "    df = pd.read_csv(csv)\n",
        "    display(df[df.Name.astype(str).str.contains(word.title())])"
      ],
      "execution_count": null,
      "outputs": []
    },
    {
      "cell_type": "code",
      "metadata": {
        "colab": {
          "base_uri": "https://localhost:8080/",
          "height": 1000
        },
        "id": "CNmXfbLZa1h1",
        "outputId": "f1440d82-ca6f-4338-e261-9f54d9f3cd19"
      },
      "source": [
        "word = input(\"Enter your word to search product -> \")\n",
        "for website in websites_recom:\n",
        "    print(website)\n",
        "    print(\"----------------\")\n",
        "    contains(website,word)"
      ],
      "execution_count": null,
      "outputs": [
        {
          "output_type": "stream",
          "name": "stdout",
          "text": [
            "Enter your word to search product -> oil\n",
            "/content/pluscbdoil.com_new.csvRecommended_scores.csv\n",
            "----------------\n"
          ]
        },
        {
          "output_type": "display_data",
          "data": {
            "text/html": [
              "<div>\n",
              "<style scoped>\n",
              "    .dataframe tbody tr th:only-of-type {\n",
              "        vertical-align: middle;\n",
              "    }\n",
              "\n",
              "    .dataframe tbody tr th {\n",
              "        vertical-align: top;\n",
              "    }\n",
              "\n",
              "    .dataframe thead th {\n",
              "        text-align: right;\n",
              "    }\n",
              "</style>\n",
              "<table border=\"1\" class=\"dataframe\">\n",
              "  <thead>\n",
              "    <tr style=\"text-align: right;\">\n",
              "      <th></th>\n",
              "      <th>Unnamed: 0</th>\n",
              "      <th>Unnamed: 0.1</th>\n",
              "      <th>Name</th>\n",
              "      <th>Ratings</th>\n",
              "      <th>Cost($)</th>\n",
              "      <th>Review</th>\n",
              "      <th>score</th>\n",
              "    </tr>\n",
              "  </thead>\n",
              "  <tbody>\n",
              "  </tbody>\n",
              "</table>\n",
              "</div>"
            ],
            "text/plain": [
              "Empty DataFrame\n",
              "Columns: [Unnamed: 0, Unnamed: 0.1, Name, Ratings, Cost($), Review, score]\n",
              "Index: []"
            ]
          },
          "metadata": {}
        },
        {
          "output_type": "stream",
          "name": "stdout",
          "text": [
            "/content/lordjones.csvRecommended_scores.csv\n",
            "----------------\n"
          ]
        },
        {
          "output_type": "display_data",
          "data": {
            "text/html": [
              "<div>\n",
              "<style scoped>\n",
              "    .dataframe tbody tr th:only-of-type {\n",
              "        vertical-align: middle;\n",
              "    }\n",
              "\n",
              "    .dataframe tbody tr th {\n",
              "        vertical-align: top;\n",
              "    }\n",
              "\n",
              "    .dataframe thead th {\n",
              "        text-align: right;\n",
              "    }\n",
              "</style>\n",
              "<table border=\"1\" class=\"dataframe\">\n",
              "  <thead>\n",
              "    <tr style=\"text-align: right;\">\n",
              "      <th></th>\n",
              "      <th>Unnamed: 0</th>\n",
              "      <th>Unnamed: 0.1</th>\n",
              "      <th>Name</th>\n",
              "      <th>Ratings</th>\n",
              "      <th>Cost</th>\n",
              "      <th>Review</th>\n",
              "      <th>score</th>\n",
              "    </tr>\n",
              "  </thead>\n",
              "  <tbody>\n",
              "    <tr>\n",
              "      <th>3</th>\n",
              "      <td>17</td>\n",
              "      <td>17</td>\n",
              "      <td>Royal Oil - 1000mg Hemp-Derived CBD</td>\n",
              "      <td>4.7</td>\n",
              "      <td>95.0</td>\n",
              "      <td>29</td>\n",
              "      <td>4.42</td>\n",
              "    </tr>\n",
              "    <tr>\n",
              "      <th>18</th>\n",
              "      <td>19</td>\n",
              "      <td>19</td>\n",
              "      <td>High CBD Formula Body Oil</td>\n",
              "      <td>4.7</td>\n",
              "      <td>50.0</td>\n",
              "      <td>3</td>\n",
              "      <td>4.30</td>\n",
              "    </tr>\n",
              "    <tr>\n",
              "      <th>26</th>\n",
              "      <td>18</td>\n",
              "      <td>18</td>\n",
              "      <td>Royal Oil - 500mg Hemp-Derived CBD</td>\n",
              "      <td>4.3</td>\n",
              "      <td>50.0</td>\n",
              "      <td>4</td>\n",
              "      <td>4.28</td>\n",
              "    </tr>\n",
              "    <tr>\n",
              "      <th>44</th>\n",
              "      <td>2</td>\n",
              "      <td>2</td>\n",
              "      <td>Pore Detox CBD Face Oil</td>\n",
              "      <td>0.0</td>\n",
              "      <td>68.0</td>\n",
              "      <td>0</td>\n",
              "      <td>4.28</td>\n",
              "    </tr>\n",
              "  </tbody>\n",
              "</table>\n",
              "</div>"
            ],
            "text/plain": [
              "    Unnamed: 0  Unnamed: 0.1  ... Review  score\n",
              "3           17            17  ...     29   4.42\n",
              "18          19            19  ...      3   4.30\n",
              "26          18            18  ...      4   4.28\n",
              "44           2             2  ...      0   4.28\n",
              "\n",
              "[4 rows x 7 columns]"
            ]
          },
          "metadata": {}
        },
        {
          "output_type": "stream",
          "name": "stdout",
          "text": [
            "/content/Diamondcbd.csvRecommended_scores.csv\n",
            "----------------\n"
          ]
        },
        {
          "output_type": "display_data",
          "data": {
            "text/html": [
              "<div>\n",
              "<style scoped>\n",
              "    .dataframe tbody tr th:only-of-type {\n",
              "        vertical-align: middle;\n",
              "    }\n",
              "\n",
              "    .dataframe tbody tr th {\n",
              "        vertical-align: top;\n",
              "    }\n",
              "\n",
              "    .dataframe thead th {\n",
              "        text-align: right;\n",
              "    }\n",
              "</style>\n",
              "<table border=\"1\" class=\"dataframe\">\n",
              "  <thead>\n",
              "    <tr style=\"text-align: right;\">\n",
              "      <th></th>\n",
              "      <th>Unnamed: 0</th>\n",
              "      <th>Unnamed: 0.1</th>\n",
              "      <th>Name</th>\n",
              "      <th>Cost</th>\n",
              "      <th>Ratings</th>\n",
              "      <th>Review</th>\n",
              "      <th>score</th>\n",
              "    </tr>\n",
              "  </thead>\n",
              "  <tbody>\n",
              "    <tr>\n",
              "      <th>3</th>\n",
              "      <td>85</td>\n",
              "      <td>85</td>\n",
              "      <td>CBD Oil Biotech Cream - 1500mg</td>\n",
              "      <td>90.00</td>\n",
              "      <td>4.93</td>\n",
              "      <td>251</td>\n",
              "      <td>4.80</td>\n",
              "    </tr>\n",
              "    <tr>\n",
              "      <th>4</th>\n",
              "      <td>59</td>\n",
              "      <td>59</td>\n",
              "      <td>CBD Oil Biotech Cream - 1000mg</td>\n",
              "      <td>67.50</td>\n",
              "      <td>4.88</td>\n",
              "      <td>384</td>\n",
              "      <td>4.80</td>\n",
              "    </tr>\n",
              "    <tr>\n",
              "      <th>10</th>\n",
              "      <td>19</td>\n",
              "      <td>19</td>\n",
              "      <td>CBD Oil Biotech Cream - 500mg</td>\n",
              "      <td>36.00</td>\n",
              "      <td>4.82</td>\n",
              "      <td>444</td>\n",
              "      <td>4.76</td>\n",
              "    </tr>\n",
              "    <tr>\n",
              "      <th>16</th>\n",
              "      <td>11</td>\n",
              "      <td>11</td>\n",
              "      <td>Chill Plus Full Spectrum Delta-8 CBD Oil - 1000X</td>\n",
              "      <td>30.00</td>\n",
              "      <td>4.87</td>\n",
              "      <td>177</td>\n",
              "      <td>4.72</td>\n",
              "    </tr>\n",
              "    <tr>\n",
              "      <th>19</th>\n",
              "      <td>157</td>\n",
              "      <td>157</td>\n",
              "      <td>CBD Oil Biotech Cream - 250mg</td>\n",
              "      <td>22.50</td>\n",
              "      <td>4.85</td>\n",
              "      <td>180</td>\n",
              "      <td>4.71</td>\n",
              "    </tr>\n",
              "    <tr>\n",
              "      <th>...</th>\n",
              "      <td>...</td>\n",
              "      <td>...</td>\n",
              "      <td>...</td>\n",
              "      <td>...</td>\n",
              "      <td>...</td>\n",
              "      <td>...</td>\n",
              "      <td>...</td>\n",
              "    </tr>\n",
              "    <tr>\n",
              "      <th>580</th>\n",
              "      <td>489</td>\n",
              "      <td>489</td>\n",
              "      <td>Diamond CBD - CBD Isolate Oil - 250mg</td>\n",
              "      <td>27.00</td>\n",
              "      <td>0.00</td>\n",
              "      <td>0</td>\n",
              "      <td>4.28</td>\n",
              "    </tr>\n",
              "    <tr>\n",
              "      <th>587</th>\n",
              "      <td>488</td>\n",
              "      <td>488</td>\n",
              "      <td>Hemp Spa Hemp Oil Massage Candle - Mint</td>\n",
              "      <td>19.24</td>\n",
              "      <td>0.00</td>\n",
              "      <td>0</td>\n",
              "      <td>4.28</td>\n",
              "    </tr>\n",
              "    <tr>\n",
              "      <th>593</th>\n",
              "      <td>494</td>\n",
              "      <td>494</td>\n",
              "      <td>Diamond CBD Affirming Body &amp; Hair Oil - 1000mg</td>\n",
              "      <td>82.49</td>\n",
              "      <td>0.00</td>\n",
              "      <td>0</td>\n",
              "      <td>4.28</td>\n",
              "    </tr>\n",
              "    <tr>\n",
              "      <th>594</th>\n",
              "      <td>495</td>\n",
              "      <td>495</td>\n",
              "      <td>Diamond CBD Beard and Mustache Oil - 500mg</td>\n",
              "      <td>43.99</td>\n",
              "      <td>0.00</td>\n",
              "      <td>0</td>\n",
              "      <td>4.28</td>\n",
              "    </tr>\n",
              "    <tr>\n",
              "      <th>605</th>\n",
              "      <td>538</td>\n",
              "      <td>538</td>\n",
              "      <td>Diamond CBD - CBD Isolate Oil - 3500mg</td>\n",
              "      <td>189.00</td>\n",
              "      <td>4.00</td>\n",
              "      <td>1</td>\n",
              "      <td>4.28</td>\n",
              "    </tr>\n",
              "  </tbody>\n",
              "</table>\n",
              "<p>64 rows × 7 columns</p>\n",
              "</div>"
            ],
            "text/plain": [
              "     Unnamed: 0  Unnamed: 0.1  ... Review  score\n",
              "3            85            85  ...    251   4.80\n",
              "4            59            59  ...    384   4.80\n",
              "10           19            19  ...    444   4.76\n",
              "16           11            11  ...    177   4.72\n",
              "19          157           157  ...    180   4.71\n",
              "..          ...           ...  ...    ...    ...\n",
              "580         489           489  ...      0   4.28\n",
              "587         488           488  ...      0   4.28\n",
              "593         494           494  ...      0   4.28\n",
              "594         495           495  ...      0   4.28\n",
              "605         538           538  ...      1   4.28\n",
              "\n",
              "[64 rows x 7 columns]"
            ]
          },
          "metadata": {}
        },
        {
          "output_type": "stream",
          "name": "stdout",
          "text": [
            "/content/cbdfx (2).csvRecommended_scores.csv\n",
            "----------------\n"
          ]
        },
        {
          "output_type": "display_data",
          "data": {
            "text/html": [
              "<div>\n",
              "<style scoped>\n",
              "    .dataframe tbody tr th:only-of-type {\n",
              "        vertical-align: middle;\n",
              "    }\n",
              "\n",
              "    .dataframe tbody tr th {\n",
              "        vertical-align: top;\n",
              "    }\n",
              "\n",
              "    .dataframe thead th {\n",
              "        text-align: right;\n",
              "    }\n",
              "</style>\n",
              "<table border=\"1\" class=\"dataframe\">\n",
              "  <thead>\n",
              "    <tr style=\"text-align: right;\">\n",
              "      <th></th>\n",
              "      <th>Unnamed: 0</th>\n",
              "      <th>Unnamed: 0.1</th>\n",
              "      <th>Name</th>\n",
              "      <th>Ratings</th>\n",
              "      <th>Cost</th>\n",
              "      <th>Review</th>\n",
              "      <th>Links</th>\n",
              "      <th>score</th>\n",
              "    </tr>\n",
              "  </thead>\n",
              "  <tbody>\n",
              "    <tr>\n",
              "      <th>3</th>\n",
              "      <td>9</td>\n",
              "      <td>9</td>\n",
              "      <td>CBD + CBN Oil Calming Tincture 500-6000mg</td>\n",
              "      <td>4.85</td>\n",
              "      <td>39.99</td>\n",
              "      <td>904</td>\n",
              "      <td>https://cbdfx.com/products/cbd-cbn-oil-tinctur...</td>\n",
              "      <td>4.81</td>\n",
              "    </tr>\n",
              "    <tr>\n",
              "      <th>18</th>\n",
              "      <td>36</td>\n",
              "      <td>36</td>\n",
              "      <td>CBD + CBG Oil Wellness Tincture 500-6000mg</td>\n",
              "      <td>4.84</td>\n",
              "      <td>39.99</td>\n",
              "      <td>264</td>\n",
              "      <td>https://cbdfx.com/products/wellness-tincture-c...</td>\n",
              "      <td>4.74</td>\n",
              "    </tr>\n",
              "    <tr>\n",
              "      <th>23</th>\n",
              "      <td>48</td>\n",
              "      <td>48</td>\n",
              "      <td>CBD Oil For Pets – Small Breeds 250mg</td>\n",
              "      <td>4.87</td>\n",
              "      <td>34.99</td>\n",
              "      <td>167</td>\n",
              "      <td>https://cbdfx.com/products/cbd-pets-hemp-oil-1...</td>\n",
              "      <td>4.71</td>\n",
              "    </tr>\n",
              "    <tr>\n",
              "      <th>25</th>\n",
              "      <td>50</td>\n",
              "      <td>50</td>\n",
              "      <td>CBD Oil For Pets – Large Breeds 1000mg</td>\n",
              "      <td>4.85</td>\n",
              "      <td>79.99</td>\n",
              "      <td>168</td>\n",
              "      <td>https://cbdfx.com/products/cbd-pets-hemp-oil-6...</td>\n",
              "      <td>4.70</td>\n",
              "    </tr>\n",
              "    <tr>\n",
              "      <th>26</th>\n",
              "      <td>51</td>\n",
              "      <td>51</td>\n",
              "      <td>CBD Oil for Pets – Large Breeds 2000mg (Extra ...</td>\n",
              "      <td>4.85</td>\n",
              "      <td>119.99</td>\n",
              "      <td>168</td>\n",
              "      <td>https://cbdfx.com/products/cbd-oil-for-pets-la...</td>\n",
              "      <td>4.70</td>\n",
              "    </tr>\n",
              "    <tr>\n",
              "      <th>29</th>\n",
              "      <td>49</td>\n",
              "      <td>49</td>\n",
              "      <td>CBD Oil For Pets – Medium Breeds 500mg</td>\n",
              "      <td>4.79</td>\n",
              "      <td>49.99</td>\n",
              "      <td>143</td>\n",
              "      <td>https://cbdfx.com/products/cbd-pets-hemp-oil-3...</td>\n",
              "      <td>4.64</td>\n",
              "    </tr>\n",
              "    <tr>\n",
              "      <th>44</th>\n",
              "      <td>52</td>\n",
              "      <td>52</td>\n",
              "      <td>CBD Oil for Cats</td>\n",
              "      <td>5.00</td>\n",
              "      <td>34.99</td>\n",
              "      <td>3</td>\n",
              "      <td>https://cbdfx.com/products/cbd-oil-for-cats/</td>\n",
              "      <td>4.31</td>\n",
              "    </tr>\n",
              "    <tr>\n",
              "      <th>56</th>\n",
              "      <td>6</td>\n",
              "      <td>6</td>\n",
              "      <td>CBD Oil Sleep Tincture 1000-4000mg</td>\n",
              "      <td>4.14</td>\n",
              "      <td>69.99</td>\n",
              "      <td>7</td>\n",
              "      <td>https://cbdfx.com/products/cbd-oil-sleep-tinct...</td>\n",
              "      <td>4.27</td>\n",
              "    </tr>\n",
              "  </tbody>\n",
              "</table>\n",
              "</div>"
            ],
            "text/plain": [
              "    Unnamed: 0  ...  score\n",
              "3            9  ...   4.81\n",
              "18          36  ...   4.74\n",
              "23          48  ...   4.71\n",
              "25          50  ...   4.70\n",
              "26          51  ...   4.70\n",
              "29          49  ...   4.64\n",
              "44          52  ...   4.31\n",
              "56           6  ...   4.27\n",
              "\n",
              "[8 rows x 8 columns]"
            ]
          },
          "metadata": {}
        },
        {
          "output_type": "stream",
          "name": "stdout",
          "text": [
            "/content/cbdistillery_new.csvRecommended_scores.csv\n",
            "----------------\n"
          ]
        },
        {
          "output_type": "display_data",
          "data": {
            "text/html": [
              "<div>\n",
              "<style scoped>\n",
              "    .dataframe tbody tr th:only-of-type {\n",
              "        vertical-align: middle;\n",
              "    }\n",
              "\n",
              "    .dataframe tbody tr th {\n",
              "        vertical-align: top;\n",
              "    }\n",
              "\n",
              "    .dataframe thead th {\n",
              "        text-align: right;\n",
              "    }\n",
              "</style>\n",
              "<table border=\"1\" class=\"dataframe\">\n",
              "  <thead>\n",
              "    <tr style=\"text-align: right;\">\n",
              "      <th></th>\n",
              "      <th>Unnamed: 0</th>\n",
              "      <th>Unnamed: 0.1</th>\n",
              "      <th>Name</th>\n",
              "      <th>Ratings</th>\n",
              "      <th>Cost(in $)</th>\n",
              "      <th>Review</th>\n",
              "      <th>score</th>\n",
              "    </tr>\n",
              "  </thead>\n",
              "  <tbody>\n",
              "    <tr>\n",
              "      <th>0</th>\n",
              "      <td>19</td>\n",
              "      <td>19</td>\n",
              "      <td>THC-Free Pure CBD Oil Tincture - 1000mg - 30ml</td>\n",
              "      <td>4.8</td>\n",
              "      <td>55.0</td>\n",
              "      <td>546</td>\n",
              "      <td>4.75</td>\n",
              "    </tr>\n",
              "    <tr>\n",
              "      <th>4</th>\n",
              "      <td>27</td>\n",
              "      <td>27</td>\n",
              "      <td>THC-Free Pure CBD Oil Tincture - 2500mg - 30ml</td>\n",
              "      <td>4.8</td>\n",
              "      <td>120.0</td>\n",
              "      <td>173</td>\n",
              "      <td>4.67</td>\n",
              "    </tr>\n",
              "    <tr>\n",
              "      <th>10</th>\n",
              "      <td>7</td>\n",
              "      <td>7</td>\n",
              "      <td>CBD Oil Starter Set - 1000mg Full Spectrum Tin...</td>\n",
              "      <td>4.8</td>\n",
              "      <td>95.0</td>\n",
              "      <td>79</td>\n",
              "      <td>4.58</td>\n",
              "    </tr>\n",
              "    <tr>\n",
              "      <th>12</th>\n",
              "      <td>20</td>\n",
              "      <td>20</td>\n",
              "      <td>Broad Spectrum CBD Oil Tincture - 1000mg - 30m...</td>\n",
              "      <td>4.7</td>\n",
              "      <td>55.0</td>\n",
              "      <td>92</td>\n",
              "      <td>4.53</td>\n",
              "    </tr>\n",
              "    <tr>\n",
              "      <th>15</th>\n",
              "      <td>26</td>\n",
              "      <td>26</td>\n",
              "      <td>Broad Spectrum CBD Oil Tincture - 2500mg - 30m...</td>\n",
              "      <td>4.8</td>\n",
              "      <td>120.0</td>\n",
              "      <td>50</td>\n",
              "      <td>4.52</td>\n",
              "    </tr>\n",
              "    <tr>\n",
              "      <th>17</th>\n",
              "      <td>0</td>\n",
              "      <td>0</td>\n",
              "      <td>Full Spectrum CBD Oil Tincture - 1000mg - 30ml</td>\n",
              "      <td>4.5</td>\n",
              "      <td>60.0</td>\n",
              "      <td>3324</td>\n",
              "      <td>4.50</td>\n",
              "    </tr>\n",
              "    <tr>\n",
              "      <th>18</th>\n",
              "      <td>2</td>\n",
              "      <td>2</td>\n",
              "      <td>Full Spectrum CBD Oil Tincture - 2500mg - 30ml</td>\n",
              "      <td>4.5</td>\n",
              "      <td>130.0</td>\n",
              "      <td>1864</td>\n",
              "      <td>4.49</td>\n",
              "    </tr>\n",
              "    <tr>\n",
              "      <th>20</th>\n",
              "      <td>9</td>\n",
              "      <td>9</td>\n",
              "      <td>Full Spectrum CBD Oil Tincture - 5000mg - 30ml</td>\n",
              "      <td>4.5</td>\n",
              "      <td>240.0</td>\n",
              "      <td>375</td>\n",
              "      <td>4.47</td>\n",
              "    </tr>\n",
              "    <tr>\n",
              "      <th>28</th>\n",
              "      <td>30</td>\n",
              "      <td>30</td>\n",
              "      <td>Broad Spectrum CBD Oil Tincture - 500mg - 30ml...</td>\n",
              "      <td>4.6</td>\n",
              "      <td>32.0</td>\n",
              "      <td>41</td>\n",
              "      <td>4.41</td>\n",
              "    </tr>\n",
              "    <tr>\n",
              "      <th>30</th>\n",
              "      <td>1</td>\n",
              "      <td>1</td>\n",
              "      <td>Full Spectrum CBD Oil Tincture - 500mg - 30ml</td>\n",
              "      <td>4.4</td>\n",
              "      <td>35.0</td>\n",
              "      <td>1865</td>\n",
              "      <td>4.40</td>\n",
              "    </tr>\n",
              "    <tr>\n",
              "      <th>35</th>\n",
              "      <td>31</td>\n",
              "      <td>31</td>\n",
              "      <td>THC-Free Pure CBD Oil Tincture - 500mg - 30ml</td>\n",
              "      <td>4.4</td>\n",
              "      <td>32.0</td>\n",
              "      <td>389</td>\n",
              "      <td>4.38</td>\n",
              "    </tr>\n",
              "    <tr>\n",
              "      <th>36</th>\n",
              "      <td>22</td>\n",
              "      <td>22</td>\n",
              "      <td>CBD + CBG Oil Tincture 1:1 - 1000mg - 30ml</td>\n",
              "      <td>4.4</td>\n",
              "      <td>75.0</td>\n",
              "      <td>170</td>\n",
              "      <td>4.37</td>\n",
              "    </tr>\n",
              "    <tr>\n",
              "      <th>38</th>\n",
              "      <td>42</td>\n",
              "      <td>42</td>\n",
              "      <td>Man's Best Friend CBD Oil Pack - 1000mg Tinctu...</td>\n",
              "      <td>4.9</td>\n",
              "      <td>70.0</td>\n",
              "      <td>9</td>\n",
              "      <td>4.36</td>\n",
              "    </tr>\n",
              "    <tr>\n",
              "      <th>39</th>\n",
              "      <td>36</td>\n",
              "      <td>36</td>\n",
              "      <td>Extra Strength Man’s Best Friend CBD Oil Pack ...</td>\n",
              "      <td>4.8</td>\n",
              "      <td>135.0</td>\n",
              "      <td>9</td>\n",
              "      <td>4.35</td>\n",
              "    </tr>\n",
              "    <tr>\n",
              "      <th>40</th>\n",
              "      <td>25</td>\n",
              "      <td>25</td>\n",
              "      <td>CBG + CBD Oil Tincture 1:1 - 2000mg - 30ml</td>\n",
              "      <td>4.4</td>\n",
              "      <td>125.0</td>\n",
              "      <td>67</td>\n",
              "      <td>4.34</td>\n",
              "    </tr>\n",
              "    <tr>\n",
              "      <th>53</th>\n",
              "      <td>53</td>\n",
              "      <td>53</td>\n",
              "      <td>Age Defying Hand Lotion + Apricot Kernel Oil -...</td>\n",
              "      <td>4.2</td>\n",
              "      <td>12.0</td>\n",
              "      <td>2</td>\n",
              "      <td>4.28</td>\n",
              "    </tr>\n",
              "    <tr>\n",
              "      <th>55</th>\n",
              "      <td>45</td>\n",
              "      <td>45</td>\n",
              "      <td>Warming Muscle Melt Crème + Cinnamon Oil - 300...</td>\n",
              "      <td>4.2</td>\n",
              "      <td>22.0</td>\n",
              "      <td>34</td>\n",
              "      <td>4.25</td>\n",
              "    </tr>\n",
              "  </tbody>\n",
              "</table>\n",
              "</div>"
            ],
            "text/plain": [
              "    Unnamed: 0  Unnamed: 0.1  ... Review  score\n",
              "0           19            19  ...    546   4.75\n",
              "4           27            27  ...    173   4.67\n",
              "10           7             7  ...     79   4.58\n",
              "12          20            20  ...     92   4.53\n",
              "15          26            26  ...     50   4.52\n",
              "17           0             0  ...   3324   4.50\n",
              "18           2             2  ...   1864   4.49\n",
              "20           9             9  ...    375   4.47\n",
              "28          30            30  ...     41   4.41\n",
              "30           1             1  ...   1865   4.40\n",
              "35          31            31  ...    389   4.38\n",
              "36          22            22  ...    170   4.37\n",
              "38          42            42  ...      9   4.36\n",
              "39          36            36  ...      9   4.35\n",
              "40          25            25  ...     67   4.34\n",
              "53          53            53  ...      2   4.28\n",
              "55          45            45  ...     34   4.25\n",
              "\n",
              "[17 rows x 7 columns]"
            ]
          },
          "metadata": {}
        }
      ]
    },
    {
      "cell_type": "code",
      "metadata": {
        "id": "q-9mNhx2a88W"
      },
      "source": [],
      "execution_count": null,
      "outputs": []
    }
  ]
}